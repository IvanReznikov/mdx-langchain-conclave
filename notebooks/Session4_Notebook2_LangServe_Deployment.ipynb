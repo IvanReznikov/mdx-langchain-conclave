{
  "cells": [
    {
      "cell_type": "markdown",
      "metadata": {
        "id": "qjm_XvQHaHeL"
      },
      "source": [
        "# Session 4.2 v2: Interacting with a Deployed BakeryAI API\n",
        "\n",
        "[![Open In Colab](https://colab.research.google.com/assets/colab-badge.svg)](https://colab.research.google.com/drive/1VviWwCNNrFHAFCkkLOnLpg60Y0orste7?usp=sharing)\n",
        "\n",
        "## 🎯 Goal: From Notebook to Production API Client\n",
        "\n",
        "This notebook will serve as a client to interact with our deployed `BakeryAI` LangServe application. We will cover:\n",
        "\n",
        "1.  **Local Docker Interaction**: How to call the API running in a local Docker container.\n",
        "2.  **Cloud Deployment Interaction**: How to modify the client to call the API once it's deployed to the cloud.\n",
        "\n"
      ]
    },
    {
      "cell_type": "markdown",
      "metadata": {
        "id": "M3ZQ5J4saHeN"
      },
      "source": [
        "## 1. Setup and Installation\n",
        "\n",
        "First, let's install the necessary libraries to interact with our LangServe API.\n",
        "\n"
      ]
    },
    {
      "cell_type": "code",
      "execution_count": 1,
      "metadata": {
        "id": "cvU-gkcCaHeO",
        "colab": {
          "base_uri": "https://localhost:8080/"
        },
        "outputId": "5a16cebb-d8a4-41fa-e454-6e2db5136098"
      },
      "outputs": [
        {
          "output_type": "stream",
          "name": "stdout",
          "text": [
            "\u001b[2K     \u001b[90m━━━━━━━━━━━━━━━━━━━━━━━━━━━━━━━━━━━━━━━━\u001b[0m \u001b[32m40.3/40.3 kB\u001b[0m \u001b[31m1.2 MB/s\u001b[0m eta \u001b[36m0:00:00\u001b[0m\n",
            "\u001b[2K   \u001b[90m━━━━━━━━━━━━━━━━━━━━━━━━━━━━━━━━━━━━━━━━\u001b[0m \u001b[32m81.9/81.9 kB\u001b[0m \u001b[31m3.6 MB/s\u001b[0m eta \u001b[36m0:00:00\u001b[0m\n",
            "\u001b[2K   \u001b[90m━━━━━━━━━━━━━━━━━━━━━━━━━━━━━━━━━━━━━━━━\u001b[0m \u001b[32m467.1/467.1 kB\u001b[0m \u001b[31m18.7 MB/s\u001b[0m eta \u001b[36m0:00:00\u001b[0m\n",
            "\u001b[2K   \u001b[90m━━━━━━━━━━━━━━━━━━━━━━━━━━━━━━━━━━━━━━━━\u001b[0m \u001b[32m1.2/1.2 MB\u001b[0m \u001b[31m44.5 MB/s\u001b[0m eta \u001b[36m0:00:00\u001b[0m\n",
            "\u001b[?25h\u001b[31mERROR: pip's dependency resolver does not currently take into account all the packages that are installed. This behaviour is the source of the following dependency conflicts.\n",
            "langchain 0.3.27 requires langchain-core<1.0.0,>=0.3.72, but you have langchain-core 1.0.1 which is incompatible.\u001b[0m\u001b[31m\n",
            "\u001b[0m"
          ]
        }
      ],
      "source": [
        "%pip install -q \"langserve[all]\" langchain_openai python-dotenv\n"
      ]
    },
    {
      "cell_type": "markdown",
      "metadata": {
        "id": "bxvnTsUKaHeO"
      },
      "source": [
        "## 2. Running the BakeryAI API with Docker\n",
        "\n",
        "For context, ther repo is https://github.com/IvanReznikov/mdx-langchain-conclave\n",
        "\n",
        "Before we can interact with the API, we need to run it. Open a terminal, navigate to the `deployment` directory, and run the following command:\n",
        "\n",
        "```bash\n",
        "docker-compose up --build\n",
        "```\n",
        "\n",
        "This will build the Docker image and start the BakeryAI API service. The API will be available at `http://localhost:8000`.\n",
        "\n"
      ]
    },
    {
      "cell_type": "markdown",
      "metadata": {
        "id": "iZXPF3sJaHeP"
      },
      "source": [
        "## 3. Interacting with the Local API\n",
        "\n",
        "Now that the API is running, we can interact with it using the `langserve.RemoteRunnable`. This allows us to treat the remote LangChain object as if it were running locally in our notebook.\n",
        "\n"
      ]
    },
    {
      "cell_type": "code",
      "execution_count": 2,
      "metadata": {
        "id": "Iz8LOWuWaHeP"
      },
      "outputs": [],
      "source": [
        "from langserve import RemoteRunnable\n",
        "\n",
        "LOCALHOST = False\n",
        "if LOCALHOST:\n",
        "  # Connect to the local chat endpoint\n",
        "  remote_chain = RemoteRunnable(\"http://localhost:8000/chat/\")\n",
        "\n",
        "  # Invoke the chain\n",
        "  result = remote_chain.invoke({\"question\": \"Do you have any gluten free options?\"})\n",
        "  print(\"Response:\", result)\n",
        "\n",
        "\n"
      ]
    },
    {
      "cell_type": "code",
      "execution_count": 3,
      "metadata": {
        "id": "LvwmwxbQaHeP"
      },
      "outputs": [],
      "source": [
        "if LOCALHOST:\n",
        "  # Stream responses\n",
        "  print(\"Streaming response:\")\n",
        "  for chunk in remote_chain.stream({\"question\": \"Give me a recomendation for a birthday party for my son. He is turning 10. He likes to play soccer and he is a big fan of Spiderman. We expect 7 guests.\"}):\n",
        "      print(chunk, end=\"\", flush=True)\n",
        "\n"
      ]
    },
    {
      "cell_type": "markdown",
      "metadata": {
        "id": "HyacfB1ZaHeP"
      },
      "source": [
        "## 4. Interacting with a Cloud-Deployed API\n",
        "\n",
        "Once you have deployed the `BakeryAI` application to a cloud provider (like AWS, GCP, Azure, etc.), you will get a public URL for your API. To interact with the deployed API, you simply need to replace the local URL (`http://localhost:8000`) with the public URL.\n",
        "\n",
        "For example, if your API is deployed at `https://your-bakery-api.com`, you would connect to it like this:\n",
        "\n"
      ]
    },
    {
      "cell_type": "code",
      "execution_count": 4,
      "metadata": {
        "id": "IF9eliUjaHeP"
      },
      "outputs": [],
      "source": [
        "import os\n",
        "\n",
        "# It's a good practice to store the API URL in an environment variable\n",
        "# You would set this in your environment, or a .env file\n",
        "# For example: BAKERY_API_URL=\"https://your-bakery-api.com\"\n",
        "# For this example, we'll just use a placeholder.\n",
        "# In a real scenario, you would load this from the environment.\n",
        "# from dotenv import load_dotenv\n",
        "# load_dotenv()\n",
        "# cloud_api_url = os.getenv(\"BAKERY_API_URL\")\n",
        "\n",
        "cloud_api_url = \"https://bakery-api-696156688857.us-central1.run.app\" # <--- IMPORTANT: Replace this with your actual URL\n",
        "\n",
        "# you can check if the url is set\n",
        "if \"replace-with-your-deployed-api-url.com\" in cloud_api_url:\n",
        "    print(\"Please replace the placeholder URL with your deployed API URL.\")"
      ]
    },
    {
      "cell_type": "code",
      "source": [
        "# Invoke the chain\n",
        "try:\n",
        "    cloud_chain = RemoteRunnable(f\"{cloud_api_url}/chat/\")\n",
        "    result = cloud_chain.invoke({\"question\": \"What is the most popular cupcake flavor?\"})\n",
        "    print(\"Response from cloud API:\")\n",
        "    print(result)\n",
        "except Exception as e:\n",
        "    print(f\"An error occurred: {e}\")\n",
        "    print(\"Please ensure your API is deployed and the URL is correct.\")"
      ],
      "metadata": {
        "colab": {
          "base_uri": "https://localhost:8080/"
        },
        "id": "wCMIbjj0f7yW",
        "outputId": "a6ba542c-4c38-42d3-8c34-3ac42da94ba4"
      },
      "execution_count": 5,
      "outputs": [
        {
          "output_type": "stream",
          "name": "stdout",
          "text": [
            "Response from cloud API:\n",
            "The most popular cupcake flavor tends to vary by location and personal preference, but some consistently popular flavors include:\n",
            "\n",
            "1. **Chocolate**: A classic favorite, rich and satisfying.\n",
            "2. **Vanilla**: Loved for its simplicity and versatility.\n",
            "3. **Red Velvet**: Known for its subtle cocoa flavor and striking color.\n",
            "4. **Lemon**: Refreshing and tangy, often favored in warmer months.\n",
            "5. **Salted Caramel**: Combines sweet and salty for a decadent treat.\n",
            "\n",
            "These flavors are commonly sought after in bakeries and are considered crowd-pleasers.\n"
          ]
        }
      ]
    },
    {
      "cell_type": "code",
      "source": [
        "# Connect to the RAG endpoint\n",
        "try:\n",
        "    rag_chain = RemoteRunnable(f\"{cloud_api_url}/rag/\")\n",
        "    result = rag_chain.invoke({\"question\": \"does the blast berry bomb cake contain allergens?\"})\n",
        "    print(\"\\n\\nResponse from RAG endpoint:\")\n",
        "    print(result)\n",
        "except Exception as e:\n",
        "    print(f\"\\n\\nError with RAG endpoint: {e}\")\n"
      ],
      "metadata": {
        "colab": {
          "base_uri": "https://localhost:8080/"
        },
        "id": "IibJO0AbevE-",
        "outputId": "83110e3c-1b3c-40f8-ec20-cc1e2cdc0c6f"
      },
      "execution_count": 6,
      "outputs": [
        {
          "output_type": "stream",
          "name": "stdout",
          "text": [
            "\n",
            "\n",
            "Response from RAG endpoint:\n",
            "Yes, the Birthday Blast Berry Bomb cake contains allergens. It includes nuts, milk, wheat, and eggs.\n"
          ]
        }
      ]
    },
    {
      "cell_type": "code",
      "source": [
        "# Connect to the recommend endpoint\n",
        "try:\n",
        "    recommend_chain = RemoteRunnable(f\"{cloud_api_url}/recommend/\")\n",
        "    result = recommend_chain.invoke({\"occasion\": \"birthday\", \"preferences\": \"chocolate\"})\n",
        "    print(\"\\nResponse from recommend endpoint:\")\n",
        "    print(result)\n",
        "except Exception as e:\n",
        "    print(f\"\\nError with recommend endpoint: {e}\")"
      ],
      "metadata": {
        "colab": {
          "base_uri": "https://localhost:8080/"
        },
        "id": "fymd9ktWft0S",
        "outputId": "7c227502-1e8d-4944-ea3a-42c58e29b087"
      },
      "execution_count": 7,
      "outputs": [
        {
          "output_type": "stream",
          "name": "stdout",
          "text": [
            "\n",
            "Response from recommend endpoint:\n",
            "For a chocolate lover's birthday celebration, I recommend a classic Chocolate Ganache Cake. This decadent cake is perfect for the occasion for several reasons:\n",
            "\n",
            "1. **Rich Flavor**: A Chocolate Ganache Cake is deeply rich and indulgent, made with high-quality cocoa and topped with a luscious layer of chocolate ganache. This will satisfy any chocolate enthusiast's craving for a pure, intense chocolate experience.\n",
            "\n",
            "2. **Moist Texture**: The ganache adds a silky, smooth finish to the cake, complementing the moistness of the chocolate sponge layers. This combination makes for a melt-in-your-mouth experience that will delight guests with its texture.\n",
            "\n",
            "3. **Elegant Presentation**: The glossy surface of the ganache creates a sophisticated and elegant look, ideal for a special birthday celebration. It's simple yet stunning, especially if you choose to decorate it with chocolate shavings, berries, or gold leaf for an added touch of luxury.\n",
            "\n",
            "4. **Versatility**: This cake can be easily customized to suit personal preferences. You can add layers of fresh berries, a hint of espresso, or a touch of liqueur to enhance its flavor profile, making it a truly tailored birthday treat.\n",
            "\n",
            "5. **Universal Appeal**: While it's a chocolate-lover's dream, a well-made Chocolate Ganache Cake is likely to be a hit with most guests, regardless of their specific preferences, due to its balanced sweetness and rich chocolatey goodness.\n",
            "\n",
            "Overall, a Chocolate Ganache Cake offers a perfect blend of flavor, texture, and elegance, making it an ideal choice for a chocolate-themed birthday celebration.\n"
          ]
        }
      ]
    },
    {
      "cell_type": "code",
      "source": [],
      "metadata": {
        "id": "UeDFL8NzfwWb"
      },
      "execution_count": 7,
      "outputs": []
    }
  ],
  "metadata": {
    "language_info": {
      "name": "python"
    },
    "colab": {
      "provenance": []
    },
    "kernelspec": {
      "name": "python3",
      "display_name": "Python 3"
    }
  },
  "nbformat": 4,
  "nbformat_minor": 0
}