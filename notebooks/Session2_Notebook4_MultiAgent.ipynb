{
 "cells": [
  {
   "cell_type": "markdown",
   "metadata": {
    "id": "header_cell"
   },
   "source": [
    "# Session 2.4: BakeryAI - Multi-Agent Systems\n",
    "\n",
    "[![Open In Colab](https://colab.research.google.com/assets/colab-badge.svg)](https://colab.research.google.com/drive/1H_gkd8OkBHUjgLdWzhcsdi5AzkEK5dpa?usp=sharing)\n",
    "\n",
    "## 🎯 Building a Multi-Agent Bakery System\n",
    "\n",
    "Real businesses have multiple departments working together. Let's model that!\n",
    "\n",
    "### Our Multi-Agent Architecture:\n",
    "\n",
    "```\n",
    "📊 Architecture:\n",
    "              [Supervisor]\n",
    "                   |\n",
    "      _____________|______________\n",
    "     |              |             |\n",
    "[Customer Service] [Inventory] [Kitchen]\n",
    "     |              |             |\n",
    "      \\_____________|_____________/\n",
    "                   |\n",
    "              [Supervisor]\n",
    "                   |\n",
    "                [FINISH]\n",
    "```\n",
    "\n",
    "### Why Multi-Agent?\n",
    "\n",
    "**Single Agent** problems:\n",
    "- ❌ One agent tries to do everything\n",
    "- ❌ Hard to maintain and debug\n",
    "- ❌ No specialization\n",
    "- ❌ Can't scale\n",
    "\n",
    "**Multi-Agent** benefits:\n",
    "- ✅ Specialized expertise per agent\n",
    "- ✅ Parallel processing\n",
    "- ✅ Easier to maintain\n",
    "- ✅ Better error isolation\n",
    "- ✅ Realistic business modeling\n",
    "\n",
    "### How It Works:\n",
    "\n",
    "1. **Supervisor** receives customer request\n",
    "2. **Supervisor** decides which agent(s) to call\n",
    "3. Specialized agents do their work using tools\n",
    "4. Agents report back to **Supervisor**\n",
    "5. **Supervisor** coordinates final response\n",
    "\n",
    "Let's build it! 🚀"
   ]
  },
  {
   "cell_type": "code",
   "execution_count": 1,
   "metadata": {
    "colab": {
     "base_uri": "https://localhost:8080/"
    },
    "executionInfo": {
     "elapsed": 29115,
     "status": "ok",
     "timestamp": 1761335936021,
     "user": {
      "displayName": "Ivan Reznikov",
      "userId": "03906939862966425294"
     },
     "user_tz": -240
    },
    "id": "install_deps",
    "outputId": "fed1f4dc-418d-4a24-d623-d5cf28f9ad63"
   },
   "outputs": [
    {
     "name": "stdout",
     "output_type": "stream",
     "text": [
      "\u001b[?25l   \u001b[90m━━━━━━━━━━━━━━━━━━━━━━━━━━━━━━━━━━━━━━━━\u001b[0m \u001b[32m0.0/155.4 kB\u001b[0m \u001b[31m?\u001b[0m eta \u001b[36m-:--:--\u001b[0m\r\u001b[2K   \u001b[91m━━━━━━━━━━━━━━━━━━━━━━━━━━━━━━━━━━━━━━━\u001b[0m\u001b[91m╸\u001b[0m \u001b[32m153.6/155.4 kB\u001b[0m \u001b[31m7.2 MB/s\u001b[0m eta \u001b[36m0:00:01\u001b[0m\r\u001b[2K   \u001b[90m━━━━━━━━━━━━━━━━━━━━━━━━━━━━━━━━━━━━━━━━\u001b[0m \u001b[32m155.4/155.4 kB\u001b[0m \u001b[31m3.3 MB/s\u001b[0m eta \u001b[36m0:00:00\u001b[0m\n",
      "\u001b[?25h\u001b[?25l   \u001b[90m━━━━━━━━━━━━━━━━━━━━━━━━━━━━━━━━━━━━━━━━\u001b[0m \u001b[32m0.0/76.0 kB\u001b[0m \u001b[31m?\u001b[0m eta \u001b[36m-:--:--\u001b[0m\r\u001b[2K   \u001b[90m━━━━━━━━━━━━━━━━━━━━━━━━━━━━━━━━━━━━━━━━\u001b[0m \u001b[32m76.0/76.0 kB\u001b[0m \u001b[31m3.0 MB/s\u001b[0m eta \u001b[36m0:00:00\u001b[0m\n",
      "\u001b[2K   \u001b[90m━━━━━━━━━━━━━━━━━━━━━━━━━━━━━━━━━━━━━━━━\u001b[0m \u001b[32m46.1/46.1 kB\u001b[0m \u001b[31m1.8 MB/s\u001b[0m eta \u001b[36m0:00:00\u001b[0m\n",
      "\u001b[2K   \u001b[90m━━━━━━━━━━━━━━━━━━━━━━━━━━━━━━━━━━━━━━━━\u001b[0m \u001b[32m56.8/56.8 kB\u001b[0m \u001b[31m2.1 MB/s\u001b[0m eta \u001b[36m0:00:00\u001b[0m\n",
      "\u001b[2K   \u001b[90m━━━━━━━━━━━━━━━━━━━━━━━━━━━━━━━━━━━━━━━━\u001b[0m \u001b[32m207.6/207.6 kB\u001b[0m \u001b[31m9.2 MB/s\u001b[0m eta \u001b[36m0:00:00\u001b[0m\n",
      "\u001b[?25hCloning into 'mdx-langchain-conclave'...\n",
      "remote: Enumerating objects: 27, done.\u001b[K\n",
      "remote: Counting objects: 100% (27/27), done.\u001b[K\n",
      "remote: Compressing objects: 100% (23/23), done.\u001b[K\n",
      "remote: Total 27 (delta 6), reused 24 (delta 3), pack-reused 0 (from 0)\u001b[K\n",
      "Receiving objects: 100% (27/27), 240.64 KiB | 13.37 MiB/s, done.\n",
      "Resolving deltas: 100% (6/6), done.\n"
     ]
    }
   ],
   "source": [
    "!pip install -q langgraph langchain langchain-openai\n",
    "!pip install -q pandas python-dotenv\n",
    "\n",
    "!git clone https://github.com/IvanReznikov/mdx-langchain-conclave"
   ]
  },
  {
   "cell_type": "code",
   "execution_count": null,
   "metadata": {
    "executionInfo": {
     "elapsed": 707,
     "status": "ok",
     "timestamp": 1761335936734,
     "user": {
      "displayName": "Ivan Reznikov",
      "userId": "03906939862966425294"
     },
     "user_tz": -240
    },
    "id": "setup_api_key"
   },
   "outputs": [],
   "source": [
    "import os\n",
    "from google.colab import userdata\n",
    "\n",
    "# Set OpenAI API key from Google Colab's user environment or default\n",
    "def set_openai_api_key(default_key: str = \"YOUR_API_KEY\") -> None:\n",
    "    \"\"\"Set the OpenAI API key from Google Colab's user environment or use a default value.\"\"\"\n",
    "    #if not (userdata.get(\"OPENAI_API_KEY\") or \"OPENAI_API_KEY\" in os.environ):\n",
    "    try:\n",
    "      os.environ[\"OPENAI_API_KEY\"] = userdata.get(\"MDX_OPENAI_API_KEY\")\n",
    "    except:\n",
    "      os.environ[\"OPENAI_API_KEY\"] = default_key\n",
    "\n",
    "set_openai_api_key()\n",
    "#set_openai_api_key(\"sk-...\")"
   ]
  },
  {
   "cell_type": "code",
   "execution_count": 3,
   "metadata": {
    "executionInfo": {
     "elapsed": 19990,
     "status": "ok",
     "timestamp": 1761335956730,
     "user": {
      "displayName": "Ivan Reznikov",
      "userId": "03906939862966425294"
     },
     "user_tz": -240
    },
    "id": "imports"
   },
   "outputs": [],
   "source": [
    "import os\n",
    "import pandas as pd\n",
    "import random\n",
    "import functools\n",
    "import operator\n",
    "from datetime import datetime, timedelta\n",
    "from typing import TypedDict, Annotated, Sequence, Literal\n",
    "from dotenv import load_dotenv\n",
    "\n",
    "from langchain_openai import ChatOpenAI\n",
    "from langchain_core.tools import tool\n",
    "from langchain_core.messages import HumanMessage, AIMessage, BaseMessage\n",
    "from langchain_core.prompts import ChatPromptTemplate, MessagesPlaceholder\n",
    "from langgraph.graph import StateGraph, END\n",
    "from langgraph.prebuilt import create_react_agent\n",
    "\n",
    "llm = ChatOpenAI(model=\"gpt-4o\", temperature=0)"
   ]
  },
  {
   "cell_type": "code",
   "execution_count": 4,
   "metadata": {
    "colab": {
     "base_uri": "https://localhost:8080/"
    },
    "executionInfo": {
     "elapsed": 46,
     "status": "ok",
     "timestamp": 1761335956784,
     "user": {
      "displayName": "Ivan Reznikov",
      "userId": "03906939862966425294"
     },
     "user_tz": -240
    },
    "id": "load_data",
    "outputId": "813d268c-d329-4d7b-94f1-9714e5701046"
   },
   "outputs": [
    {
     "name": "stdout",
     "output_type": "stream",
     "text": [
      "✅ Loaded: 22 products, 50 customers, 100 orders\n"
     ]
    }
   ],
   "source": [
    "# Load bakery data\n",
    "try:\n",
    "    cakes_df = pd.read_csv('/content/mdx-langchain-conclave/data/cake_descriptions.csv', encoding='cp1252')\n",
    "    customers_df = pd.read_csv('/content/mdx-langchain-conclave/data/customers.csv', encoding='cp1252')\n",
    "    orders_df = pd.read_csv('/content/mdx-langchain-conclave/data/orders.csv', encoding='cp1252')\n",
    "    prices_df = pd.read_csv('/content/mdx-langchain-conclave/data/price_list.csv', encoding='utf-16')\n",
    "    print(f\"✅ Loaded: {len(cakes_df)} products, {len(customers_df)} customers, {len(orders_df)} orders\")\n",
    "except FileNotFoundError:\n",
    "    cakes_df = pd.DataFrame({\n",
    "        'Name': ['Chocolate Truffle Cake', 'Vanilla Bean Cake', 'Red Velvet Cake'],\n",
    "        'Category': ['Chocolate', 'Vanilla', 'Specialty'],\n",
    "        'Available': [True, True, True],\n",
    "        'Weight_grams': [1000, 1000, 1200],\n",
    "        'Delivery_time_hr': [24, 24, 48]\n",
    "    })\n",
    "    customers_df = pd.DataFrame({\n",
    "        'client_id': ['C001', 'C002'],\n",
    "        'client_name': ['Alice Johnson', 'Bob Smith'],\n",
    "        'email': ['alice@example.com', 'bob@example.com'],\n",
    "        'loyalty_points': [100, 50]\n",
    "    })\n",
    "    orders_df = pd.DataFrame({'order_id': ['O001'], 'status': ['delivered']})\n",
    "    prices_df = pd.DataFrame({'Item': ['Chocolate Cake'], 'Unit_Price_AED': [45]})\n",
    "    print(\"⚠️ Using sample data\")"
   ]
  },
  {
   "cell_type": "markdown",
   "metadata": {
    "id": "tools_section"
   },
   "source": [
    "## 1. Import Tools from Previous Notebooks\n",
    "\n",
    "Each agent will have access to domain-specific tools."
   ]
  },
  {
   "cell_type": "code",
   "execution_count": 5,
   "metadata": {
    "colab": {
     "base_uri": "https://localhost:8080/"
    },
    "executionInfo": {
     "elapsed": 33,
     "status": "ok",
     "timestamp": 1761335956822,
     "user": {
      "displayName": "Ivan Reznikov",
      "userId": "03906939862966425294"
     },
     "user_tz": -240
    },
    "id": "customer_service_tools",
    "outputId": "4a74b7d0-7145-4507-ba06-13c32cdf718e"
   },
   "outputs": [
    {
     "name": "stdout",
     "output_type": "stream",
     "text": [
      "✅ Customer Service tools: ['lookup_customer', 'track_order']\n"
     ]
    }
   ],
   "source": [
    "# Customer Service Tools\n",
    "@tool\n",
    "def lookup_customer(query: str) -> str:\n",
    "    \"\"\"Look up customer information by name, email, or ID.\n",
    "    Use this when you need to find customer details.\n",
    "\n",
    "    Args:\n",
    "        query: Customer identifier (name, email, or ID)\n",
    "\n",
    "    Returns:\n",
    "        Customer information as formatted string\n",
    "    \"\"\"\n",
    "    query_lower = query.lower()\n",
    "\n",
    "    if 'client_id' in customers_df.columns:\n",
    "        customer = customers_df[customers_df['client_id'].str.lower() == query_lower]\n",
    "    else:\n",
    "        customer = pd.DataFrame()\n",
    "\n",
    "    if customer.empty and 'client_name' in customers_df.columns:\n",
    "        customer = customers_df[customers_df['client_name'].str.lower().str.contains(query_lower, na=False)]\n",
    "\n",
    "    if customer.empty:\n",
    "        return f\"❌ Customer '{query}' not found in database.\"\n",
    "\n",
    "    cust = customer.iloc[0]\n",
    "    result = f\"\"\"✅ Customer Found:\n",
    "- ID: {cust.get('client_id', 'N/A')}\n",
    "- Name: {cust.get('client_name', 'N/A')}\n",
    "- Email: {cust.get('email', 'N/A')}\n",
    "- Loyalty Points: {cust.get('loyalty_points', 0)}\"\"\"\n",
    "\n",
    "    return result\n",
    "\n",
    "@tool\n",
    "def track_order(order_id: str) -> str:\n",
    "    \"\"\"Track the status of an existing order.\n",
    "\n",
    "    Args:\n",
    "        order_id: The order ID to track\n",
    "\n",
    "    Returns:\n",
    "        Order status information\n",
    "    \"\"\"\n",
    "    order = orders_df[orders_df['order_id'] == order_id]\n",
    "    if order.empty:\n",
    "        return f\"❌ Order {order_id} not found.\"\n",
    "\n",
    "    status = order.iloc[0].get('status', 'unknown')\n",
    "    return f\"✅ Order {order_id} status: {status}\"\n",
    "\n",
    "customer_service_tools = [lookup_customer, track_order]\n",
    "print(f\"✅ Customer Service tools: {[t.name for t in customer_service_tools]}\")"
   ]
  },
  {
   "cell_type": "code",
   "execution_count": 6,
   "metadata": {
    "colab": {
     "base_uri": "https://localhost:8080/"
    },
    "executionInfo": {
     "elapsed": 49,
     "status": "ok",
     "timestamp": 1761335956877,
     "user": {
      "displayName": "Ivan Reznikov",
      "userId": "03906939862966425294"
     },
     "user_tz": -240
    },
    "id": "inventory_tools",
    "outputId": "7dc4f055-4b7c-4c0a-a2a0-31d7161b65b5"
   },
   "outputs": [
    {
     "name": "stdout",
     "output_type": "stream",
     "text": [
      "✅ Inventory tools: ['check_product_availability', 'calculate_order_total', 'update_inventory_levels']\n"
     ]
    }
   ],
   "source": [
    "# Inventory Tools\n",
    "@tool\n",
    "def check_product_availability(product_name: str) -> str:\n",
    "    \"\"\"Check if a product is available in inventory.\n",
    "    Use this to verify stock levels before confirming orders.\n",
    "\n",
    "    Args:\n",
    "        product_name: Name of the cake or product to check\n",
    "\n",
    "    Returns:\n",
    "        Availability status and details\n",
    "    \"\"\"\n",
    "    product = cakes_df[cakes_df['Name'].str.contains(product_name, case=False, na=False)]\n",
    "\n",
    "    if product.empty:\n",
    "        return f\"❌ Product '{product_name}' not found in our catalog.\"\n",
    "\n",
    "    product_info = product.iloc[0]\n",
    "    if product_info['Available']:\n",
    "        return f\"\"\"✅ {product_info['Name']} is IN STOCK\n",
    "- Delivery time: {product_info['Delivery_time_hr']} hours\n",
    "- Category: {product_info['Category']}\n",
    "- Weight: {product_info['Weight_grams']}g\"\"\"\n",
    "    else:\n",
    "        return f\"❌ {product_info['Name']} is OUT OF STOCK\"\n",
    "\n",
    "@tool\n",
    "def calculate_order_total(product_name: str, quantity: int = 1) -> str:\n",
    "    \"\"\"Calculate the total cost including delivery fee.\n",
    "    Use this to provide pricing information to customers.\n",
    "\n",
    "    Args:\n",
    "        product_name: Name of the product\n",
    "        quantity: Number of items (default: 1)\n",
    "\n",
    "    Returns:\n",
    "        Total cost breakdown\n",
    "    \"\"\"\n",
    "    try:\n",
    "        filtered = prices_df[prices_df['Item'].str.lower().str.contains(product_name.lower(), na=False)]\n",
    "        price = filtered['Unit_Price_AED'].iloc[0]\n",
    "    except:\n",
    "        price = 45  # default\n",
    "\n",
    "    subtotal = price * quantity\n",
    "    delivery_fee = 10 if subtotal < 100 else 0\n",
    "    total = subtotal + delivery_fee\n",
    "\n",
    "    return f\"\"\"💰 Order Total:\n",
    "- Product: {product_name} x {quantity}\n",
    "- Subtotal: {subtotal} AED\n",
    "- Delivery Fee: {delivery_fee} AED\n",
    "- TOTAL: {total} AED\"\"\"\n",
    "\n",
    "@tool\n",
    "def update_inventory_levels(product_name: str, quantity_change: int) -> str:\n",
    "    \"\"\"Update inventory levels (increase or decrease stock).\n",
    "    Use negative numbers to decrease stock, positive to add stock.\n",
    "\n",
    "    Args:\n",
    "        product_name: Product to update\n",
    "        quantity_change: Amount to change (+/- units)\n",
    "\n",
    "    Returns:\n",
    "        Confirmation of update\n",
    "    \"\"\"\n",
    "    action = \"decreased\" if quantity_change < 0 else \"increased\"\n",
    "    return f\"✅ Inventory {action} for {product_name} by {abs(quantity_change)} units\"\n",
    "\n",
    "inventory_tools = [check_product_availability, calculate_order_total, update_inventory_levels]\n",
    "print(f\"✅ Inventory tools: {[t.name for t in inventory_tools]}\")"
   ]
  },
  {
   "cell_type": "code",
   "execution_count": 7,
   "metadata": {
    "colab": {
     "base_uri": "https://localhost:8080/"
    },
    "executionInfo": {
     "elapsed": 112,
     "status": "ok",
     "timestamp": 1761335956994,
     "user": {
      "displayName": "Ivan Reznikov",
      "userId": "03906939862966425294"
     },
     "user_tz": -240
    },
    "id": "kitchen_tools",
    "outputId": "f5a96d44-0f7e-4a87-8379-16ac8699665c"
   },
   "outputs": [
    {
     "name": "stdout",
     "output_type": "stream",
     "text": [
      "✅ Kitchen tools: ['schedule_production', 'quality_check']\n"
     ]
    }
   ],
   "source": [
    "# Kitchen Tools\n",
    "@tool\n",
    "def schedule_production(product_name: str, quantity: int, delivery_date: str) -> str:\n",
    "    \"\"\"Schedule production in the kitchen.\n",
    "    Use this to add items to the production queue.\n",
    "\n",
    "    Args:\n",
    "        product_name: Product to produce\n",
    "        quantity: Number of items\n",
    "        delivery_date: Target delivery date\n",
    "\n",
    "    Returns:\n",
    "        Production schedule confirmation\n",
    "    \"\"\"\n",
    "    # Simulate checking kitchen capacity\n",
    "    can_produce = random.random() < 0.9  # 90% success rate\n",
    "\n",
    "    if can_produce:\n",
    "        production_time = datetime.now() + timedelta(hours=12)\n",
    "        return f\"\"\"✅ Production SCHEDULED:\n",
    "- Product: {product_name} x {quantity}\n",
    "- Start Time: {production_time.strftime('%Y-%m-%d %H:%M')}\n",
    "- Ready for delivery: {delivery_date}\n",
    "- Assigned to: Chef Station #2\"\"\"\n",
    "    else:\n",
    "        return f\"❌ Kitchen at FULL CAPACITY. Cannot schedule production for {delivery_date}.\"\n",
    "\n",
    "@tool\n",
    "def quality_check(product_name: str) -> str:\n",
    "    \"\"\"Perform quality control check on a product.\n",
    "\n",
    "    Args:\n",
    "        product_name: Product to check\n",
    "\n",
    "    Returns:\n",
    "        Quality check results\n",
    "    \"\"\"\n",
    "    # Simulate quality check (95% pass rate)\n",
    "    passed = random.random() < 0.95\n",
    "\n",
    "    if passed:\n",
    "        return f\"✅ Quality Check PASSED for {product_name}. Ready for delivery.\"\n",
    "    else:\n",
    "        return f\"⚠️ Quality Check FAILED for {product_name}. Remaking product.\"\n",
    "\n",
    "kitchen_tools = [schedule_production, quality_check]\n",
    "print(f\"✅ Kitchen tools: {[t.name for t in kitchen_tools]}\")"
   ]
  },
  {
   "cell_type": "markdown",
   "metadata": {
    "id": "state_section"
   },
   "source": [
    "## 2. Define Multi-Agent State\n",
    "\n",
    "The state tracks messages and routing decisions."
   ]
  },
  {
   "cell_type": "code",
   "execution_count": 8,
   "metadata": {
    "colab": {
     "base_uri": "https://localhost:8080/"
    },
    "executionInfo": {
     "elapsed": 56,
     "status": "ok",
     "timestamp": 1761335957054,
     "user": {
      "displayName": "Ivan Reznikov",
      "userId": "03906939862966425294"
     },
     "user_tz": -240
    },
    "id": "define_state",
    "outputId": "6c60d201-5ba2-4e9f-89e1-f22a41d8f32f"
   },
   "outputs": [
    {
     "name": "stdout",
     "output_type": "stream",
     "text": [
      "✅ Multi-agent state defined\n",
      "   - messages: Conversation history\n",
      "   - next: Routing decision from supervisor\n"
     ]
    }
   ],
   "source": [
    "class AgentState(TypedDict):\n",
    "    \"\"\"State for multi-agent system with supervisor pattern\"\"\"\n",
    "    # Messages accumulate across agents\n",
    "    messages: Annotated[Sequence[BaseMessage], operator.add]\n",
    "    # Next agent to call (controlled by supervisor)\n",
    "    next: str\n",
    "\n",
    "print(\"✅ Multi-agent state defined\")\n",
    "print(\"   - messages: Conversation history\")\n",
    "print(\"   - next: Routing decision from supervisor\")"
   ]
  },
  {
   "cell_type": "markdown",
   "metadata": {
    "id": "agents_section"
   },
   "source": [
    "## 3. Create Specialized Agent Nodes\n",
    "\n",
    "Each agent is a ReAct agent with domain-specific tools."
   ]
  },
  {
   "cell_type": "code",
   "execution_count": 9,
   "metadata": {
    "colab": {
     "base_uri": "https://localhost:8080/"
    },
    "executionInfo": {
     "elapsed": 21,
     "status": "ok",
     "timestamp": 1761335957071,
     "user": {
      "displayName": "Ivan Reznikov",
      "userId": "03906939862966425294"
     },
     "user_tz": -240
    },
    "id": "create_agents",
    "outputId": "e17c204a-2414-4b9e-ef66-65cb596d420d"
   },
   "outputs": [
    {
     "name": "stdout",
     "output_type": "stream",
     "text": [
      "\n",
      "✅ All specialized agents created!\n",
      "   - Customer Service: lookup_customer, track_order\n",
      "   - Inventory: check_product_availability, calculate_order_total, update_inventory_levels\n",
      "   - Kitchen: schedule_production, quality_check\n"
     ]
    },
    {
     "name": "stderr",
     "output_type": "stream",
     "text": [
      "/tmp/ipython-input-3666517705.py:45: LangGraphDeprecatedSinceV10: create_react_agent has been moved to `langchain.agents`. Please update your import to `from langchain.agents import create_agent`. Deprecated in LangGraph V1.0 to be removed in V2.0.\n",
      "  customer_service_agent = create_react_agent(\n",
      "/tmp/ipython-input-3666517705.py:51: LangGraphDeprecatedSinceV10: create_react_agent has been moved to `langchain.agents`. Please update your import to `from langchain.agents import create_agent`. Deprecated in LangGraph V1.0 to be removed in V2.0.\n",
      "  inventory_agent = create_react_agent(\n",
      "/tmp/ipython-input-3666517705.py:57: LangGraphDeprecatedSinceV10: create_react_agent has been moved to `langchain.agents`. Please update your import to `from langchain.agents import create_agent`. Deprecated in LangGraph V1.0 to be removed in V2.0.\n",
      "  kitchen_agent = create_react_agent(\n"
     ]
    }
   ],
   "source": [
    "# Create system prompts for each agent\n",
    "customer_service_prompt = ChatPromptTemplate.from_messages(\n",
    "    [\n",
    "        (\n",
    "            \"system\",\n",
    "            \"You are the Customer Service agent. Your role is to:\\n\"\n",
    "            \"- Look up customer information\\n\"\n",
    "            \"- Track orders\\n\"\n",
    "            \"- Handle customer inquiries\\n\"\n",
    "            \"Be friendly and helpful. Use the tools available to you.\",\n",
    "        ),\n",
    "        MessagesPlaceholder(variable_name=\"messages\"),\n",
    "    ]\n",
    ")\n",
    "\n",
    "inventory_prompt = ChatPromptTemplate.from_messages(\n",
    "    [\n",
    "        (\n",
    "            \"system\",\n",
    "            \"You are the Inventory agent. Your role is to:\\n\"\n",
    "            \"- Check product availability\\n\"\n",
    "            \"- Calculate pricing and totals\\n\"\n",
    "            \"- Update stock levels\\n\"\n",
    "            \"Provide accurate inventory information. Use the tools available to you.\",\n",
    "        ),\n",
    "        MessagesPlaceholder(variable_name=\"messages\"),\n",
    "    ]\n",
    ")\n",
    "\n",
    "kitchen_prompt = ChatPromptTemplate.from_messages(\n",
    "    [\n",
    "        (\n",
    "            \"system\",\n",
    "            \"You are the Kitchen agent. Your role is to:\\n\"\n",
    "            \"- Schedule production\\n\"\n",
    "            \"- Perform quality checks\\n\"\n",
    "            \"- Manage production capacity\\n\"\n",
    "            \"Ensure quality and timely production. Use the tools available to you.\",\n",
    "        ),\n",
    "        MessagesPlaceholder(variable_name=\"messages\"),\n",
    "    ]\n",
    ")\n",
    "\n",
    "# Create agents with prompts\n",
    "customer_service_agent = create_react_agent(\n",
    "    llm,\n",
    "    tools=customer_service_tools,\n",
    "    prompt=customer_service_prompt\n",
    ")\n",
    "\n",
    "inventory_agent = create_react_agent(\n",
    "    llm,\n",
    "    tools=inventory_tools,\n",
    "    prompt=inventory_prompt\n",
    ")\n",
    "\n",
    "kitchen_agent = create_react_agent(\n",
    "    llm,\n",
    "    tools=kitchen_tools,\n",
    "    prompt=kitchen_prompt\n",
    ")\n",
    "\n",
    "# Create node wrapper functions\n",
    "def customer_service_node(state: AgentState) -> AgentState:\n",
    "    \"\"\"Customer Service Agent Node\"\"\"\n",
    "    print(\"\\n👔 CUSTOMER SERVICE AGENT working...\")\n",
    "    result = customer_service_agent.invoke(state)\n",
    "    return {\"messages\": result[\"messages\"]}\n",
    "\n",
    "def inventory_node(state: AgentState) -> AgentState:\n",
    "    \"\"\"Inventory Agent Node\"\"\"\n",
    "    print(\"\\n📦 INVENTORY AGENT working...\")\n",
    "    result = inventory_agent.invoke(state)\n",
    "    return {\"messages\": result[\"messages\"]}\n",
    "\n",
    "def kitchen_node(state: AgentState) -> AgentState:\n",
    "    \"\"\"Kitchen Agent Node\"\"\"\n",
    "    print(\"\\n👨‍🍳 KITCHEN AGENT working...\")\n",
    "    result = kitchen_agent.invoke(state)\n",
    "    return {\"messages\": result[\"messages\"]}\n",
    "\n",
    "print(\"\\n✅ All specialized agents created!\")\n",
    "print(\"   - Customer Service: lookup_customer, track_order\")\n",
    "print(\"   - Inventory: check_product_availability, calculate_order_total, update_inventory_levels\")\n",
    "print(\"   - Kitchen: schedule_production, quality_check\")"
   ]
  },
  {
   "cell_type": "markdown",
   "metadata": {
    "id": "supervisor_section"
   },
   "source": [
    "## 4. Create the Supervisor Agent\n",
    "\n",
    "The supervisor coordinates which agent should act next."
   ]
  },
  {
   "cell_type": "code",
   "execution_count": 10,
   "metadata": {
    "colab": {
     "base_uri": "https://localhost:8080/"
    },
    "executionInfo": {
     "elapsed": 32,
     "status": "ok",
     "timestamp": 1761335957104,
     "user": {
      "displayName": "Ivan Reznikov",
      "userId": "03906939862966425294"
     },
     "user_tz": -240
    },
    "id": "supervisor_prompt",
    "outputId": "bae089db-c6f6-46a0-f812-da6d808aa6b1"
   },
   "outputs": [
    {
     "name": "stdout",
     "output_type": "stream",
     "text": [
      "✅ Supervisor prompt created\n",
      "   Available agents: ['customer_service', 'inventory', 'kitchen']\n",
      "   Options: ['FINISH', 'customer_service', 'inventory', 'kitchen']\n"
     ]
    }
   ],
   "source": [
    "# Define available agents\n",
    "agents = [\"customer_service\", \"inventory\", \"kitchen\"]\n",
    "options = [\"FINISH\"] + agents\n",
    "\n",
    "# Supervisor prompt\n",
    "system_prompt = (\n",
    "    \"You are the Supervisor managing a bakery with three specialized agents:\\n\\n\"\n",
    "    \"1. **customer_service**: Handles customer lookups, order tracking, and inquiries\\n\"\n",
    "    \"2. **inventory**: Checks stock, calculates pricing, manages inventory levels\\n\"\n",
    "    \"3. **kitchen**: Schedules production, performs quality checks\\n\\n\"\n",
    "    \"Your job is to route tasks to the appropriate agent based on the customer request.\\n\\n\"\n",
    "    \"Do not assign the same agent more than 2 times in a row \\n\"\n",
    "    \"Given the conversation, decide which agent should act next.\\n\"\n",
    "    \"When the task is complete, respond with FINISH.\\n\\n\"\n",
    "    \"**Routing Guidelines:**\\n\"\n",
    "    \"- Customer info/tracking → customer_service\\n\"\n",
    "    \"- Stock/pricing questions → inventory\\n\"\n",
    "    \"- Production/quality → kitchen\\n\"\n",
    "    \"- For orders: customer_service → inventory → kitchen → FINISH\\n\"\n",
    ")\n",
    "\n",
    "# Create supervisor prompt template\n",
    "supervisor_prompt = ChatPromptTemplate.from_messages(\n",
    "    [\n",
    "        (\"system\", system_prompt),\n",
    "        MessagesPlaceholder(variable_name=\"messages\"),\n",
    "        (\n",
    "            \"system\",\n",
    "            \"Given the conversation above, who should act next? \"\n",
    "            f\"Select one of: {options}\",\n",
    "        ),\n",
    "    ]\n",
    ").partial(options=str(options), agents=\", \".join(agents))\n",
    "\n",
    "print(\"✅ Supervisor prompt created\")\n",
    "print(f\"   Available agents: {agents}\")\n",
    "print(f\"   Options: {options}\")"
   ]
  },
  {
   "cell_type": "code",
   "execution_count": 11,
   "metadata": {
    "colab": {
     "base_uri": "https://localhost:8080/"
    },
    "executionInfo": {
     "elapsed": 27,
     "status": "ok",
     "timestamp": 1761335957134,
     "user": {
      "displayName": "Ivan Reznikov",
      "userId": "03906939862966425294"
     },
     "user_tz": -240
    },
    "id": "supervisor_chain",
    "outputId": "1fd9e246-c966-4cba-ac69-eee6f2c4f8db"
   },
   "outputs": [
    {
     "name": "stdout",
     "output_type": "stream",
     "text": [
      "✅ Supervisor node created\n"
     ]
    }
   ],
   "source": [
    "# Supervisor decision function\n",
    "def supervisor_node(state: AgentState) -> AgentState:\n",
    "    \"\"\"Supervisor decides which agent acts next\"\"\"\n",
    "    print(\"\\n🎯 SUPERVISOR making routing decision...\")\n",
    "\n",
    "    # Use LLM with structured output\n",
    "    class RouteResponse(TypedDict):\n",
    "        \"\"\"Route to next agent\"\"\"\n",
    "        next: Literal[\"customer_service\", \"inventory\", \"kitchen\", \"FINISH\"]\n",
    "\n",
    "    supervisor_chain = supervisor_prompt | llm.with_structured_output(RouteResponse)\n",
    "    result = supervisor_chain.invoke(state)\n",
    "\n",
    "    next_agent = result[\"next\"]\n",
    "    print(f\"   → Routing to: {next_agent}\")\n",
    "\n",
    "    return {\"next\": next_agent}\n",
    "\n",
    "print(\"✅ Supervisor node created\")"
   ]
  },
  {
   "cell_type": "markdown",
   "metadata": {
    "id": "graph_section"
   },
   "source": [
    "## 5. Build the Multi-Agent Graph\n",
    "\n",
    "Supervisor routes to agents, agents report back to supervisor."
   ]
  },
  {
   "cell_type": "code",
   "execution_count": 12,
   "metadata": {
    "executionInfo": {
     "elapsed": 15,
     "status": "ok",
     "timestamp": 1761335957152,
     "user": {
      "displayName": "Ivan Reznikov",
      "userId": "03906939862966425294"
     },
     "user_tz": -240
    },
    "id": "build_graph"
   },
   "outputs": [],
   "source": [
    "# Create the graph\n",
    "workflow = StateGraph(AgentState)\n",
    "\n",
    "# Add nodes\n",
    "workflow.add_node(\"supervisor\", supervisor_node)\n",
    "workflow.add_node(\"customer_service\", customer_service_node)\n",
    "workflow.add_node(\"inventory\", inventory_node)\n",
    "workflow.add_node(\"kitchen\", kitchen_node)\n",
    "\n",
    "# Supervisor is the entry point\n",
    "workflow.set_entry_point(\"supervisor\")\n",
    "\n",
    "# Each agent reports back to supervisor\n",
    "for agent in agents:\n",
    "    workflow.add_edge(agent, \"supervisor\")\n",
    "\n",
    "# Supervisor routes to agents or finishes\n",
    "def should_continue(state: AgentState) -> str:\n",
    "    \"\"\"Check if we should continue or finish\"\"\"\n",
    "    if state[\"next\"] == \"FINISH\":\n",
    "        return \"end\"\n",
    "    return state[\"next\"]\n",
    "\n",
    "workflow.add_conditional_edges(\n",
    "    \"supervisor\",\n",
    "    should_continue,\n",
    "    {\n",
    "        \"customer_service\": \"customer_service\",\n",
    "        \"inventory\": \"inventory\",\n",
    "        \"kitchen\": \"kitchen\",\n",
    "        \"end\": END,\n",
    "    },\n",
    ")\n",
    "\n",
    "# Compile the graph\n",
    "multi_agent_app = workflow.compile()"
   ]
  },
  {
   "cell_type": "markdown",
   "metadata": {
    "id": "test_section"
   },
   "source": [
    "## 6. Test the Multi-Agent System"
   ]
  },
  {
   "cell_type": "code",
   "execution_count": 13,
   "metadata": {
    "colab": {
     "base_uri": "https://localhost:8080/"
    },
    "executionInfo": {
     "elapsed": 3143,
     "status": "ok",
     "timestamp": 1761335960300,
     "user": {
      "displayName": "Ivan Reznikov",
      "userId": "03906939862966425294"
     },
     "user_tz": -240
    },
    "id": "test_simple",
    "outputId": "f3b97ee2-0dce-49c2-fe94-46a9be972b05"
   },
   "outputs": [
    {
     "name": "stdout",
     "output_type": "stream",
     "text": [
      "======================================================================\n",
      "🧪 TEST 1: Customer Lookup\n",
      "======================================================================\n",
      "\n",
      "🎯 SUPERVISOR making routing decision...\n",
      "   → Routing to: customer_service\n",
      "\n",
      "👔 CUSTOMER SERVICE AGENT working...\n",
      "\n",
      "🎯 SUPERVISOR making routing decision...\n",
      "   → Routing to: FINISH\n",
      "\n",
      "✅ FINAL RESPONSE:\n",
      "I found the information for Robert Johnson:\n",
      "\n",
      "- **Customer ID:** C027\n",
      "- **Name:** Robert Johnson\n",
      "- **Email:** robert.johnson@email.com\n",
      "- **Loyalty Points:** 232\n",
      "\n",
      "Is there anything else I can assist you with today?\n"
     ]
    }
   ],
   "source": [
    "# Test 1: Simple customer lookup\n",
    "print(\"=\" * 70)\n",
    "print(\"🧪 TEST 1: Customer Lookup\")\n",
    "print(\"=\" * 70)\n",
    "\n",
    "initial_state = {\n",
    "    \"messages\": [\n",
    "        HumanMessage(content=\"Can you look up Robert Johnson?\")\n",
    "    ],\n",
    "}\n",
    "\n",
    "result = multi_agent_app.invoke(initial_state)\n",
    "\n",
    "print(\"\\n✅ FINAL RESPONSE:\")\n",
    "print(result[\"messages\"][-1].content)"
   ]
  },
  {
   "cell_type": "code",
   "execution_count": 14,
   "metadata": {
    "colab": {
     "base_uri": "https://localhost:8080/"
    },
    "executionInfo": {
     "elapsed": 17658,
     "status": "ok",
     "timestamp": 1761335977967,
     "user": {
      "displayName": "Ivan Reznikov",
      "userId": "03906939862966425294"
     },
     "user_tz": -240
    },
    "id": "test_order",
    "outputId": "bf8adf64-3d2d-4b71-ba60-29072233c462"
   },
   "outputs": [
    {
     "name": "stdout",
     "output_type": "stream",
     "text": [
      "\n",
      "======================================================================\n",
      "🧪 TEST 2: Complete Order Workflow\n",
      "======================================================================\n",
      "\n",
      "🎯 SUPERVISOR making routing decision...\n",
      "   → Routing to: customer_service\n",
      "\n",
      "👔 CUSTOMER SERVICE AGENT working...\n",
      "\n",
      "🎯 SUPERVISOR making routing decision...\n",
      "   → Routing to: inventory\n",
      "\n",
      "📦 INVENTORY AGENT working...\n",
      "\n",
      "🎯 SUPERVISOR making routing decision...\n",
      "   → Routing to: kitchen\n",
      "\n",
      "👨‍🍳 KITCHEN AGENT working...\n",
      "\n",
      "🎯 SUPERVISOR making routing decision...\n",
      "   → Routing to: FINISH\n",
      "\n",
      "✅ CONVERSATION:\n",
      "\n",
      "1. Customer:\n",
      "   Order from Ayesha Khan: 2 opera and 1 velvet cakes for delivery tomorrow. Please check availability, calculate the price, and schedule production.\n",
      "\n",
      "2. Customer:\n",
      "   Order from Ayesha Khan: 2 opera and 1 velvet cakes for delivery tomorrow. Please check availability, calculate the price, and schedule production.\n",
      "\n",
      "3. System:\n",
      "   \n",
      "\n",
      "4. System:\n",
      "   ✅ Customer Found:\n",
      "- ID: C024\n",
      "- Name: Ayesha Khan\n",
      "- Email: ayesha.khan@email.com\n",
      "- Loyalty Points: 142\n",
      "\n",
      "5. System:\n",
      "   I found Ayesha Khan's customer information. To proceed with checking the availability, calculating the price, and scheduling production for the order of 2 opera cakes and 1 velvet cake, I will need to...\n",
      "\n",
      "6. Customer:\n",
      "   Order from Ayesha Khan: 2 opera and 1 velvet cakes for delivery tomorrow. Please check availability, calculate the price, and schedule production.\n",
      "\n",
      "7. System:\n",
      "   \n",
      "\n",
      "8. System:\n",
      "   ✅ Customer Found:\n",
      "- ID: C024\n",
      "- Name: Ayesha Khan\n",
      "- Email: ayesha.khan@email.com\n",
      "- Loyalty Points: 142\n",
      "\n",
      "9. System:\n",
      "   I found Ayesha Khan's customer information. To proceed with checking the availability, calculating the price, and scheduling production for the order of 2 opera cakes and 1 velvet cake, I will need to...\n",
      "\n",
      "10. System:\n",
      "   \n",
      "\n",
      "11. System:\n",
      "   ✅ Opera Cake is IN STOCK\n",
      "- Delivery time: 24 hours\n",
      "- Category: R\n",
      "- Weight: 900g\n",
      "\n",
      "12. System:\n",
      "   ✅ Red Velvet Cake is IN STOCK\n",
      "- Delivery time: 12 hours\n",
      "- Category: R\n",
      "- Weight: 1000g\n",
      "\n",
      "13. System:\n",
      "   \n",
      "\n",
      "14. System:\n",
      "   💰 Order Total:\n",
      "- Product: opera cake x 2\n",
      "- Subtotal: 90 AED\n",
      "- Delivery Fee: 10 AED\n",
      "- TOTAL: 100 AED\n",
      "\n",
      "15. System:\n",
      "   💰 Order Total:\n",
      "- Product: velvet cake x 1\n",
      "- Subtotal: 155 AED\n",
      "- Delivery Fee: 0 AED\n",
      "- TOTAL: 155 AED\n",
      "\n",
      "16. System:\n",
      "   \n",
      "\n",
      "17. System:\n",
      "   ✅ Inventory decreased for opera cake by 2 units\n",
      "\n",
      "18. System:\n",
      "   ✅ Inventory decreased for velvet cake by 1 units\n",
      "\n",
      "19. System:\n",
      "   The order for Ayesha Khan has been successfully processed:\n",
      "\n",
      "- **Opera Cakes**: 2 units\n",
      "  - **Availability**: In Stock\n",
      "  - **Total Cost**: 90 AED (Subtotal) + 10 AED (Delivery Fee) = 100 AED\n",
      "\n",
      "- **Velve...\n",
      "\n",
      "20. Customer:\n",
      "   Order from Ayesha Khan: 2 opera and 1 velvet cakes for delivery tomorrow. Please check availability, calculate the price, and schedule production.\n",
      "\n",
      "21. System:\n",
      "   \n",
      "\n",
      "22. System:\n",
      "   ✅ Customer Found:\n",
      "- ID: C024\n",
      "- Name: Ayesha Khan\n",
      "- Email: ayesha.khan@email.com\n",
      "- Loyalty Points: 142\n",
      "\n",
      "23. System:\n",
      "   I found Ayesha Khan's customer information. To proceed with checking the availability, calculating the price, and scheduling production for the order of 2 opera cakes and 1 velvet cake, I will need to...\n",
      "\n",
      "24. System:\n",
      "   \n",
      "\n",
      "25. System:\n",
      "   ✅ Opera Cake is IN STOCK\n",
      "- Delivery time: 24 hours\n",
      "- Category: R\n",
      "- Weight: 900g\n",
      "\n",
      "26. System:\n",
      "   ✅ Red Velvet Cake is IN STOCK\n",
      "- Delivery time: 12 hours\n",
      "- Category: R\n",
      "- Weight: 1000g\n",
      "\n",
      "27. System:\n",
      "   \n",
      "\n",
      "28. System:\n",
      "   💰 Order Total:\n",
      "- Product: opera cake x 2\n",
      "- Subtotal: 90 AED\n",
      "- Delivery Fee: 10 AED\n",
      "- TOTAL: 100 AED\n",
      "\n",
      "29. System:\n",
      "   💰 Order Total:\n",
      "- Product: velvet cake x 1\n",
      "- Subtotal: 155 AED\n",
      "- Delivery Fee: 0 AED\n",
      "- TOTAL: 155 AED\n",
      "\n",
      "30. System:\n",
      "   \n",
      "\n",
      "31. System:\n",
      "   ✅ Inventory decreased for opera cake by 2 units\n",
      "\n",
      "32. System:\n",
      "   ✅ Inventory decreased for velvet cake by 1 units\n",
      "\n",
      "33. System:\n",
      "   The order for Ayesha Khan has been successfully processed:\n",
      "\n",
      "- **Opera Cakes**: 2 units\n",
      "  - **Availability**: In Stock\n",
      "  - **Total Cost**: 90 AED (Subtotal) + 10 AED (Delivery Fee) = 100 AED\n",
      "\n",
      "- **Velve...\n",
      "\n",
      "34. System:\n",
      "   \n",
      "\n",
      "35. System:\n",
      "   ✅ Production SCHEDULED:\n",
      "- Product: opera cake x 2\n",
      "- Start Time: 2025-10-25 07:59\n",
      "- Ready for delivery: 2023-11-25\n",
      "- Assigned to: Chef Station #2\n",
      "\n",
      "36. System:\n",
      "   ✅ Production SCHEDULED:\n",
      "- Product: velvet cake x 1\n",
      "- Start Time: 2025-10-25 07:59\n",
      "- Ready for delivery: 2023-11-25\n",
      "- Assigned to: Chef Station #2\n",
      "\n",
      "37. System:\n",
      "   The production for Ayesha Khan's order has been successfully scheduled:\n",
      "\n",
      "- **Opera Cakes**: 2 units\n",
      "  - **Scheduled Production**: Ready for delivery on 2023-11-25\n",
      "  - **Assigned to**: Chef Station #2\n",
      "...\n"
     ]
    }
   ],
   "source": [
    "# Test 2: Complete order workflow\n",
    "print(\"\\n\" + \"=\" * 70)\n",
    "print(\"🧪 TEST 2: Complete Order Workflow\")\n",
    "print(\"=\" * 70)\n",
    "\n",
    "order_state = {\n",
    "    \"messages\": [\n",
    "        HumanMessage(\n",
    "            content=\"Order from Ayesha Khan: 2 opera and 1 velvet cakes for delivery tomorrow. \"\n",
    "            \"Please check availability, calculate the price, and schedule production.\"\n",
    "        )\n",
    "    ],\n",
    "}\n",
    "\n",
    "result2 = multi_agent_app.invoke(order_state)\n",
    "\n",
    "print(\"\\n✅ CONVERSATION:\")\n",
    "for i, msg in enumerate(result2[\"messages\"], 1):\n",
    "    role = \"Customer\" if isinstance(msg, HumanMessage) else \"System\"\n",
    "    print(f\"\\n{i}. {role}:\")\n",
    "    print(f\"   {msg.content[:200]}...\" if len(msg.content) > 200 else f\"   {msg.content}\")"
   ]
  },
  {
   "cell_type": "code",
   "execution_count": 15,
   "metadata": {
    "colab": {
     "base_uri": "https://localhost:8080/"
    },
    "executionInfo": {
     "elapsed": 2377,
     "status": "ok",
     "timestamp": 1761335980352,
     "user": {
      "displayName": "Ivan Reznikov",
      "userId": "03906939862966425294"
     },
     "user_tz": -240
    },
    "id": "test_inventory",
    "outputId": "b284e0fd-a9cd-409e-f6cf-314f55e6b816"
   },
   "outputs": [
    {
     "name": "stdout",
     "output_type": "stream",
     "text": [
      "\n",
      "======================================================================\n",
      "🧪 TEST 3: Inventory Check\n",
      "======================================================================\n",
      "\n",
      "🎯 SUPERVISOR making routing decision...\n",
      "   → Routing to: inventory\n",
      "\n",
      "📦 INVENTORY AGENT working...\n",
      "\n",
      "🎯 SUPERVISOR making routing decision...\n",
      "   → Routing to: FINISH\n",
      "\n",
      "✅ FINAL RESPONSE:\n",
      "The total price for 5 carrot cakes is 725 AED, with no additional delivery fee.\n"
     ]
    }
   ],
   "source": [
    "# Test 3: Inventory check only\n",
    "print(\"\\n\" + \"=\" * 70)\n",
    "print(\"🧪 TEST 3: Inventory Check\")\n",
    "print(\"=\" * 70)\n",
    "\n",
    "inventory_state = {\n",
    "    \"messages\": [\n",
    "        HumanMessage(content=\"What's the price for 5 carot cakes?\") #misspelling intentional!\n",
    "    ],\n",
    "}\n",
    "\n",
    "result3 = multi_agent_app.invoke(inventory_state)\n",
    "\n",
    "print(\"\\n✅ FINAL RESPONSE:\")\n",
    "print(result3[\"messages\"][-1].content)"
   ]
  },
  {
   "cell_type": "markdown",
   "metadata": {
    "id": "stream_section"
   },
   "source": [
    "## 7. Stream the Workflow\n",
    "\n",
    "Watch agents work in real-time."
   ]
  },
  {
   "cell_type": "code",
   "execution_count": 16,
   "metadata": {
    "colab": {
     "base_uri": "https://localhost:8080/"
    },
    "executionInfo": {
     "elapsed": 9171,
     "status": "ok",
     "timestamp": 1761335989537,
     "user": {
      "displayName": "Ivan Reznikov",
      "userId": "03906939862966425294"
     },
     "user_tz": -240
    },
    "id": "stream_test",
    "outputId": "d1c96b78-c009-442b-9c5f-5abc0f2f3dd4"
   },
   "outputs": [
    {
     "name": "stdout",
     "output_type": "stream",
     "text": [
      "\n",
      "======================================================================\n",
      "🔄 STREAMING: Complete Order with Multiple Agents\n",
      "======================================================================\n",
      "\n",
      "🎯 SUPERVISOR making routing decision...\n",
      "   → Routing to: customer_service\n",
      "\n",
      "📍 Node: SUPERVISOR\n",
      "   Next: customer_service\n",
      "\n",
      "👔 CUSTOMER SERVICE AGENT working...\n",
      "\n",
      "📍 Node: CUSTOMER_SERVICE\n",
      "   Output: I've found Rajesh Kumar's customer information. However, I'm unable to process new orders directly. You can place the order for 2 Dubai pistachio cake...\n",
      "\n",
      "🎯 SUPERVISOR making routing decision...\n",
      "   → Routing to: inventory\n",
      "\n",
      "📍 Node: SUPERVISOR\n",
      "   Next: inventory\n",
      "\n",
      "📦 INVENTORY AGENT working...\n",
      "\n",
      "📍 Node: INVENTORY\n",
      "   Output: It seems that the \"Dubai pistachio cake\" is not currently available in our catalog. However, I was able to calculate the order total for 2 cakes, whic...\n",
      "\n",
      "🎯 SUPERVISOR making routing decision...\n",
      "   → Routing to: inventory\n",
      "\n",
      "📍 Node: SUPERVISOR\n",
      "   Next: inventory\n",
      "\n",
      "📦 INVENTORY AGENT working...\n",
      "\n",
      "📍 Node: INVENTORY\n",
      "   Output: It seems that the \"Dubai pistachio cake\" is not currently available in our catalog. If you have any other requests or need assistance with a different...\n",
      "\n",
      "🎯 SUPERVISOR making routing decision...\n",
      "   → Routing to: FINISH\n",
      "\n",
      "📍 Node: SUPERVISOR\n",
      "   Next: FINISH\n",
      "\n",
      "======================================================================\n",
      "✅ Workflow Complete\n",
      "======================================================================\n"
     ]
    }
   ],
   "source": [
    "print(\"\\n\" + \"=\" * 70)\n",
    "print(\"🔄 STREAMING: Complete Order with Multiple Agents\")\n",
    "print(\"=\" * 70)\n",
    "\n",
    "stream_state = {\n",
    "    \"messages\": [\n",
    "        HumanMessage(\n",
    "            content=\"Process an order for Rajesh Kumar: 2 dubai pistachio cakes, delivery tomorrow\"\n",
    "        )\n",
    "    ],\n",
    "}\n",
    "\n",
    "for step in multi_agent_app.stream(stream_state):\n",
    "    node_name = list(step.keys())[0]\n",
    "    print(f\"\\n📍 Node: {node_name.upper()}\")\n",
    "\n",
    "    if \"messages\" in step[node_name]:\n",
    "        last_msg = step[node_name][\"messages\"][-1]\n",
    "        print(f\"   Output: {last_msg.content[:150]}...\" if len(last_msg.content) > 150 else f\"   Output: {last_msg.content}\")\n",
    "\n",
    "    if \"next\" in step[node_name]:\n",
    "        print(f\"   Next: {step[node_name]['next']}\")\n",
    "\n",
    "print(\"\\n\" + \"=\" * 70)\n",
    "print(\"✅ Workflow Complete\")\n",
    "print(\"=\" * 70)"
   ]
  },
  {
   "cell_type": "markdown",
   "metadata": {
    "id": "visualization_section"
   },
   "source": [
    "## 8. Visualize the Graph"
   ]
  },
  {
   "cell_type": "code",
   "execution_count": 17,
   "metadata": {
    "colab": {
     "base_uri": "https://localhost:8080/",
     "height": 307
    },
    "executionInfo": {
     "elapsed": 466,
     "status": "ok",
     "timestamp": 1761335990015,
     "user": {
      "displayName": "Ivan Reznikov",
      "userId": "03906939862966425294"
     },
     "user_tz": -240
    },
    "id": "visualize",
    "outputId": "2b6f90cf-2fe7-488c-b27c-e234ab9615cd"
   },
   "outputs": [
    {
     "data": {
      "image/png": "[encoded data removed]",
      "text/plain": [
       "<IPython.core.display.Image object>"
      ]
     },
     "metadata": {},
     "output_type": "display_data"
    },
    {
     "name": "stdout",
     "output_type": "stream",
     "text": [
      "✅ Graph visualization displayed above\n"
     ]
    }
   ],
   "source": [
    "try:\n",
    "    from IPython.display import Image, display\n",
    "    display(Image(multi_agent_app.get_graph().draw_mermaid_png()))\n",
    "    print(\"✅ Graph visualization displayed above\")\n",
    "except Exception as e:\n",
    "    print(f\"⚠️ Could not display graph: {e}\")\n",
    "    print(\"\\nGraph structure (text):\")\n",
    "    print(multi_agent_app.get_graph())"
   ]
  },
  {
   "cell_type": "markdown",
   "metadata": {
    "id": "exercises_section"
   },
   "source": [
    "## 🎯 Exercises\n",
    "\n",
    "### Exercise 7: Add a Payment Agent\n",
    "\n",
    "**Task**: Extend the multi-agent system with payment processing:\n",
    "1. Create payment tools (process_payment, send_confirmation_email)\n",
    "2. Add a payment agent to the workflow\n",
    "3. Update supervisor to route payment tasks\n",
    "4. Test the complete flow: customer → inventory → kitchen → payment"
   ]
  },
  {
   "cell_type": "code",
   "execution_count": 18,
   "metadata": {
    "executionInfo": {
     "elapsed": 6,
     "status": "ok",
     "timestamp": 1761335990026,
     "user": {
      "displayName": "Ivan Reznikov",
      "userId": "03906939862966425294"
     },
     "user_tz": -240
    },
    "id": "exercise_7"
   },
   "outputs": [],
   "source": [
    "# TODO: Add payment tools\n",
    "@tool\n",
    "def process_payment(customer_id: str, amount: float) -> str:\n",
    "    \"\"\"Process payment for an order.\"\"\"\n",
    "    # Your implementation here\n",
    "    pass\n",
    "\n",
    "# TODO: Create payment agent\n",
    "# TODO: Add to workflow\n",
    "# TODO: Update supervisor routing"
   ]
  },
  {
   "cell_type": "markdown",
   "metadata": {
    "id": "exercise_8_section"
   },
   "source": [
    "### Exercise 8: Handle Agent Failures\n",
    "\n",
    "**Task**: Add error handling when agents can't complete tasks:\n",
    "1. Detect when inventory is out of stock\n",
    "2. Detect when the item is not in the price_list\n",
    "3. Have supervisor route to customer_service for alternatives\n",
    "4. Log failed attempts\n",
    "5. Provide graceful degradation"
   ]
  },
  {
   "cell_type": "code",
   "execution_count": 19,
   "metadata": {
    "executionInfo": {
     "elapsed": 4,
     "status": "ok",
     "timestamp": 1761335990034,
     "user": {
      "displayName": "Ivan Reznikov",
      "userId": "03906939862966425294"
     },
     "user_tz": -240
    },
    "id": "exercise_8"
   },
   "outputs": [],
   "source": [
    "# TODO: Enhance supervisor with error handling logic\n",
    "# TODO: Add fallback routes\n",
    "# TODO: Test with out-of-stock scenarios"
   ]
  },
  {
   "cell_type": "markdown",
   "metadata": {
    "id": "summary_section"
   },
   "source": [
    "## Summary: What We Built\n",
    "\n",
    "### ✅ Session 2.4 Achievements:\n",
    "\n",
    "1. **Supervisor Architecture**: Central coordinator managing specialized agents\n",
    "2. **Specialized Agents**: Each with domain-specific tools\n",
    "3. **Dynamic Routing**: Supervisor decides workflow based on task\n",
    "4. **Tool Integration**: Real tools from previous notebooks\n",
    "5. **Bidirectional Communication**: Agents report back to supervisor\n",
    "6. **Realistic Workflow**: Mirrors actual business organization\n",
    "\n",
    "### 🏗️ Architecture Pattern:\n",
    "\n",
    "```\n",
    "              [Supervisor Agent]\n",
    "                      |\n",
    "         _____________|______________\n",
    "        |              |             |\n",
    "[Customer Service] [Inventory]  [Kitchen]\n",
    "        |              |             |\n",
    "         \\_____________|_____________/\n",
    "                      |\n",
    "              [Supervisor Agent]\n",
    "                      |\n",
    "                  [FINISH]\n",
    "```\n",
    "\n",
    "### 🤖 Agent Capabilities:\n",
    "\n",
    "**Customer Service Agent:**\n",
    "- lookup_customer: Find customer details\n",
    "- track_order: Check order status\n",
    "\n",
    "**Inventory Agent:**\n",
    "- check_product_availability: Verify stock\n",
    "- calculate_order_total: Pricing calculation\n",
    "- update_inventory_levels: Stock management\n",
    "\n",
    "**Kitchen Agent:**\n",
    "- schedule_production: Add to production queue\n",
    "- quality_check: QC validation\n",
    "\n",
    "**Supervisor Agent:**\n",
    "- Routes tasks to appropriate agents\n",
    "- Coordinates multi-step workflows\n",
    "- Decides when workflow is complete\n",
    "\n",
    "### 🎉 Session 2 Complete!\n",
    "\n",
    "You've built a production-ready multi-agent system that:\n",
    "- Uses real tools and data\n",
    "- Handles complex workflows\n",
    "- Scales with business complexity\n",
    "- Mirrors real-world organization\n",
    "\n",
    "### 🚀 Next: Session 3 - RAG\n",
    "\n",
    "We'll add knowledge retrieval:\n",
    "- Document processing\n",
    "- Semantic search\n",
    "- Policy and procedure lookup\n",
    "- Context-aware responses\n",
    "\n",
    "**Excellent work completing Session 2! 🎊**"
   ]
  }
 ],
 "metadata": {
  "colab": {
   "provenance": []
  },
  "kernelspec": {
   "display_name": "Python 3",
   "name": "python3"
  },
  "language_info": {
   "name": "python"
  }
 },
 "nbformat": 4,
 "nbformat_minor": 0
}
