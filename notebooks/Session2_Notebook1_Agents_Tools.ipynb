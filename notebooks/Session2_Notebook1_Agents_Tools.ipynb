{
 "cells": [
  {
   "cell_type": "markdown",
   "metadata": {
    "id": "nEFRJoNKOWJU"
   },
   "source": [
    "# Session 2.1: BakeryAI - Introduction to Agents & Tools"
   ]
  },
  {
   "cell_type": "markdown",
   "metadata": {
    "id": "IqSoIxEuOXEN"
   },
   "source": [
    "[![Open In Colab](https://colab.research.google.com/assets/colab-badge.svg)](https://colab.research.google.com/drive/1aoazhS3U66qF64jXMTJhzQrguFTtAjX0?usp=sharing)"
   ]
  },
  {
   "cell_type": "markdown",
   "metadata": {
    "id": "SrgqEsFoOXGU"
   },
   "source": [
    "## 🎯 Session 2 Overview\n",
    "\n",
    "Welcome to **Session 2**! Today we'll transform BakeryAI from a chatbot into an **intelligent agent** that can:\n",
    "\n",
    "### What We'll Build Today:\n",
    "\n",
    "✅ **Agents**: LLMs that can use tools to accomplish tasks  \n",
    "✅ **Tool Integration**: Calendar, inventory, calculator, search  \n",
    "✅ **ReAct Pattern**: Reasoning + Acting in loops  \n",
    "✅ **Multi-Step Workflows**: Complex task decomposition  \n",
    "✅ **LangGraph**: Stateful multi-agent systems  \n",
    "\n",
    "### 🚀 BakeryAI Progress: Session 1 Complete → Adding Agency\n",
    "\n",
    "**Session 1 Recap:**\n",
    "- ✅ Basic chatbot with memory\n",
    "- ✅ Semantic search\n",
    "- ✅ Prompt templates\n",
    "- ✅ Conversation management\n",
    "\n",
    "**Day 2 Additions:**\n",
    "- 🔧 Tools: Inventory check, delivery scheduling, payment\n",
    "- 🤖 Agents: Decision-making and tool selection\n",
    "- 🔄 Workflows: Multi-step order processing\n",
    "- 📊 LangGraph: Complex agent coordination\n",
    "\n",
    "## What is an Agent?\n",
    "\n",
    "An **agent** is an LLM that can:\n",
    "1. **Reason** about what needs to be done\n",
    "2. **Choose** appropriate tools\n",
    "3. **Execute** actions using those tools\n",
    "4. **Observe** results\n",
    "5. **Repeat** until task is complete\n",
    "\n",
    "### Example Scenario:\n",
    "\n",
    "**Customer**: \"I want to order a chocolate cake for tomorrow at 2 PM\"\n",
    "\n",
    "**Agent Reasoning**:\n",
    "1. \"I need to check if chocolate cakes are in stock\" → Use `inventory_check` tool\n",
    "2. \"I need to verify delivery availability for tomorrow 2 PM\" → Use `check_delivery_slot` tool\n",
    "3. \"If available, calculate total with delivery fee\" → Use `calculate_total` tool\n",
    "4. \"Confirm the order\" → Use `place_order` tool\n",
    "\n",
    "Let's build this! 🚀"
   ]
  },
  {
   "cell_type": "code",
   "execution_count": 1,
   "metadata": {
    "colab": {
     "base_uri": "https://localhost:8080/"
    },
    "executionInfo": {
     "elapsed": 22371,
     "status": "ok",
     "timestamp": 1761257246269,
     "user": {
      "displayName": "Ivan Reznikov",
      "userId": "03906939862966425294"
     },
     "user_tz": -240
    },
    "id": "LEAu0ZxzOWJb",
    "outputId": "92e91d20-5c43-4b9c-8317-85e6daa2f49e"
   },
   "outputs": [
    {
     "name": "stdout",
     "output_type": "stream",
     "text": [
      "\u001b[?25l   \u001b[90m━━━━━━━━━━━━━━━━━━━━━━━━━━━━━━━━━━━━━━━━\u001b[0m \u001b[32m0.0/76.0 kB\u001b[0m \u001b[31m?\u001b[0m eta \u001b[36m-:--:--\u001b[0m\r\u001b[2K   \u001b[90m━━━━━━━━━━━━━━━━━━━━━━━━━━━━━━━━━━━━━━━━\u001b[0m \u001b[32m76.0/76.0 kB\u001b[0m \u001b[31m4.1 MB/s\u001b[0m eta \u001b[36m0:00:00\u001b[0m\n",
      "\u001b[?25h\u001b[?25l   \u001b[90m━━━━━━━━━━━━━━━━━━━━━━━━━━━━━━━━━━━━━━━━\u001b[0m \u001b[32m0.0/155.4 kB\u001b[0m \u001b[31m?\u001b[0m eta \u001b[36m-:--:--\u001b[0m\r\u001b[2K   \u001b[90m━━━━━━━━━━━━━━━━━━━━━━━━━━━━━━━━━━━━━━━━\u001b[0m \u001b[32m155.4/155.4 kB\u001b[0m \u001b[31m7.4 MB/s\u001b[0m eta \u001b[36m0:00:00\u001b[0m\n",
      "\u001b[?25h\u001b[?25l   \u001b[90m━━━━━━━━━━━━━━━━━━━━━━━━━━━━━━━━━━━━━━━━\u001b[0m \u001b[32m0.0/46.1 kB\u001b[0m \u001b[31m?\u001b[0m eta \u001b[36m-:--:--\u001b[0m\r\u001b[2K   \u001b[90m━━━━━━━━━━━━━━━━━━━━━━━━━━━━━━━━━━━━━━━━\u001b[0m \u001b[32m46.1/46.1 kB\u001b[0m \u001b[31m1.5 MB/s\u001b[0m eta \u001b[36m0:00:00\u001b[0m\n",
      "\u001b[2K   \u001b[90m━━━━━━━━━━━━━━━━━━━━━━━━━━━━━━━━━━━━━━━━\u001b[0m \u001b[32m56.8/56.8 kB\u001b[0m \u001b[31m2.1 MB/s\u001b[0m eta \u001b[36m0:00:00\u001b[0m\n",
      "\u001b[2K   \u001b[90m━━━━━━━━━━━━━━━━━━━━━━━━━━━━━━━━━━━━━━━━\u001b[0m \u001b[32m207.6/207.6 kB\u001b[0m \u001b[31m9.9 MB/s\u001b[0m eta \u001b[36m0:00:00\u001b[0m\n",
      "\u001b[?25h"
     ]
    }
   ],
   "source": [
    "!pip install -q langchain langchain-openai langgraph\n",
    "!pip install -q pandas python-dotenv"
   ]
  },
  {
   "cell_type": "code",
   "execution_count": 2,
   "metadata": {
    "colab": {
     "base_uri": "https://localhost:8080/"
    },
    "executionInfo": {
     "elapsed": 1009,
     "status": "ok",
     "timestamp": 1761257247283,
     "user": {
      "displayName": "Ivan Reznikov",
      "userId": "03906939862966425294"
     },
     "user_tz": -240
    },
    "id": "WbbIIW3SO0HS",
    "outputId": "3a02a3d0-3e80-4e86-ff53-1445a94eace4"
   },
   "outputs": [
    {
     "name": "stdout",
     "output_type": "stream",
     "text": [
      "Cloning into 'mdx-langchain-conclave'...\n",
      "remote: Enumerating objects: 27, done.\u001b[K\n",
      "remote: Counting objects: 100% (27/27), done.\u001b[K\n",
      "remote: Compressing objects: 100% (23/23), done.\u001b[K\n",
      "remote: Total 27 (delta 6), reused 24 (delta 3), pack-reused 0 (from 0)\u001b[K\n",
      "Receiving objects: 100% (27/27), 240.64 KiB | 1.79 MiB/s, done.\n",
      "Resolving deltas: 100% (6/6), done.\n"
     ]
    }
   ],
   "source": [
    "!git clone https://github.com/IvanReznikov/mdx-langchain-conclave"
   ]
  },
  {
   "cell_type": "code",
   "execution_count": 3,
   "metadata": {
    "executionInfo": {
     "elapsed": 635,
     "status": "ok",
     "timestamp": 1761257247931,
     "user": {
      "displayName": "Ivan Reznikov",
      "userId": "03906939862966425294"
     },
     "user_tz": -240
    },
    "id": "9qJ2nGAEPVIs"
   },
   "outputs": [],
   "source": [
    "from google.colab import userdata\n",
    "import os\n",
    "\n",
    "# Set OpenAI API key from Google Colab's user environment or default\n",
    "def set_openai_api_key(default_key: str = \"YOUR_API_KEY\") -> None:\n",
    "    \"\"\"Set the OpenAI API key from Google Colab's user environment or use a default value.\"\"\"\n",
    "    #if not (userdata.get(\"OPENAI_API_KEY\") or \"OPENAI_API_KEY\" in os.environ):\n",
    "    os.environ[\"OPENAI_API_KEY\"] = userdata.get(\"MDX_OPENAI_API_KEY\") or default_key\n",
    "\n",
    "\n",
    "set_openai_api_key()\n",
    "#set_openai_api_key(\"sk-...\")"
   ]
  },
  {
   "cell_type": "code",
   "execution_count": 4,
   "metadata": {
    "colab": {
     "base_uri": "https://localhost:8080/",
     "height": 70
    },
    "executionInfo": {
     "elapsed": 9,
     "status": "ok",
     "timestamp": 1761257247973,
     "user": {
      "displayName": "Ivan Reznikov",
      "userId": "03906939862966425294"
     },
     "user_tz": -240
    },
    "id": "Lb-Tlvag_503",
    "outputId": "40aa8f1e-958c-4e87-b751-ec9e84d4c81d"
   },
   "outputs": [
    {
     "data": {
      "application/vnd.google.colaboratory.intrinsic+json": {
       "type": "string"
      },
      "text/plain": [
       "'\\n# Enable LangSmith tracing\\nos.environ[\"LANGCHAIN_TRACING_V2\"] = \"true\"\\nos.environ[\"LANGCHAIN_ENDPOINT\"] = \"https://api.smith.langchain.com\"\\nos.environ[\"LANGCHAIN_API_KEY\"] = userdata.get(\"MDX_LANGSMITH_API_KEY\")\\nos.environ[\"LANGCHAIN_PROJECT\"] = \"mdx-conclave-agents\"  # Project name\\n\\nprint(\"✅ LangSmith Configuration:\")\\nprint(f\"   Tracing Enabled: {os.getenv(\\'LANGCHAIN_TRACING_V2\\')}\")\\nprint(f\"   Project: {os.getenv(\\'LANGCHAIN_PROJECT\\')}\")\\nprint(\"\\n⚠️  Make sure to set LANGCHAIN_API_KEY in your .env file!\")\\n'"
      ]
     },
     "execution_count": 4,
     "metadata": {},
     "output_type": "execute_result"
    }
   ],
   "source": [
    "\"\"\"\n",
    "# Enable LangSmith tracing\n",
    "os.environ[\"LANGCHAIN_TRACING_V2\"] = \"true\"\n",
    "os.environ[\"LANGCHAIN_ENDPOINT\"] = \"https://api.smith.langchain.com\"\n",
    "os.environ[\"LANGCHAIN_API_KEY\"] = userdata.get(\"MDX_LANGSMITH_API_KEY\")\n",
    "os.environ[\"LANGCHAIN_PROJECT\"] = \"mdx-conclave-agents\"  # Project name\n",
    "\n",
    "print(\"✅ LangSmith Configuration:\")\n",
    "print(f\"   Tracing Enabled: {os.getenv('LANGCHAIN_TRACING_V2')}\")\n",
    "print(f\"   Project: {os.getenv('LANGCHAIN_PROJECT')}\")\n",
    "print(\"\\n⚠️  Make sure to set LANGCHAIN_API_KEY in your .env file!\")\n",
    "\"\"\""
   ]
  },
  {
   "cell_type": "code",
   "execution_count": 5,
   "metadata": {
    "executionInfo": {
     "elapsed": 17350,
     "status": "ok",
     "timestamp": 1761257265327,
     "user": {
      "displayName": "Ivan Reznikov",
      "userId": "03906939862966425294"
     },
     "user_tz": -240
    },
    "id": "CsoyJ3juBPTU"
   },
   "outputs": [],
   "source": [
    "import os\n",
    "import pandas as pd\n",
    "from datetime import datetime, timedelta\n",
    "from dotenv import load_dotenv\n",
    "from langchain_openai import ChatOpenAI\n",
    "from langchain.agents import AgentExecutor, create_react_agent\n",
    "from langchain_core.tools import tool\n",
    "from langchain_core.prompts import PromptTemplate\n",
    "\n",
    "llm = ChatOpenAI(model=\"gpt-4o\") #for agent-use"
   ]
  },
  {
   "cell_type": "code",
   "execution_count": 6,
   "metadata": {
    "colab": {
     "base_uri": "https://localhost:8080/"
    },
    "executionInfo": {
     "elapsed": 18,
     "status": "ok",
     "timestamp": 1761257265350,
     "user": {
      "displayName": "Ivan Reznikov",
      "userId": "03906939862966425294"
     },
     "user_tz": -240
    },
    "id": "fQ527GnDOWJe",
    "outputId": "fd20c86b-0169-4513-e39f-6ff63d8d80fa"
   },
   "outputs": [
    {
     "name": "stdout",
     "output_type": "stream",
     "text": [
      "✅ BakeryAI Agent System Ready!\n"
     ]
    }
   ],
   "source": [
    "# Load bakery data\n",
    "try:\n",
    "    cakes_df = pd.read_csv('/content/mdx-langchain-conclave/data/cake_descriptions.csv', encoding='cp1252')\n",
    "    orders_df = pd.read_csv('/content/mdx-langchain-conclave/data/orders.csv', encoding='cp1252')\n",
    "    prices_df = pd.read_csv('/content/mdx-langchain-conclave/data/price_list.csv', encoding='utf-16')\n",
    "except FileNotFoundError:\n",
    "    cakes_df = pd.DataFrame({\n",
    "        'Name': ['Chocolate Truffle Cake', 'Vanilla Bean Cake', 'Red Velvet Cake'],\n",
    "        'Category': ['Chocolate', 'Vanilla', 'Specialty'],\n",
    "        'Available': [True, True, True],\n",
    "        'Weight_grams': [1000, 1000, 1200],\n",
    "        'Delivery_time_hr': [24, 24, 48]\n",
    "    })\n",
    "\n",
    "print(\"✅ BakeryAI Agent System Ready!\")"
   ]
  },
  {
   "cell_type": "markdown",
   "metadata": {
    "id": "8pTkCjwEOWJf"
   },
   "source": [
    "## 1. Creating Your First Tool\n",
    "\n",
    "Tools are functions that agents can call. Let's create a simple tool to check product availability."
   ]
  },
  {
   "cell_type": "code",
   "execution_count": 7,
   "metadata": {
    "colab": {
     "base_uri": "https://localhost:8080/"
    },
    "executionInfo": {
     "elapsed": 14,
     "status": "ok",
     "timestamp": 1761257265368,
     "user": {
      "displayName": "Ivan Reznikov",
      "userId": "03906939862966425294"
     },
     "user_tz": -240
    },
    "id": "9T6ns49jOWJf",
    "outputId": "13e59f5e-cf5d-4669-94ef-e992fdd8e544"
   },
   "outputs": [
    {
     "name": "stdout",
     "output_type": "stream",
     "text": [
      "Tool Test:\n",
      "✅ Chocolate Truffle Cake is available! Delivery time: 12 hours.\n"
     ]
    }
   ],
   "source": [
    "from langchain_core.tools import tool\n",
    "\n",
    "@tool\n",
    "def check_product_availability(product_name: str) -> str:\n",
    "    \"\"\"Check if a product is available in inventory.\n",
    "\n",
    "    Args:\n",
    "        product_name: Name of the cake or product to check\n",
    "\n",
    "    Returns:\n",
    "        Availability status and details\n",
    "    \"\"\"\n",
    "    # Search for product (case-insensitive)\n",
    "    product = cakes_df[cakes_df['Name'].str.contains(product_name, na=False)]\n",
    "\n",
    "    if product.empty:\n",
    "        return f\"Product '{product_name}' not found in our catalog.\"\n",
    "\n",
    "    product_info = product.iloc[0]\n",
    "    if product_info['Available']:\n",
    "        return f\"✅ {product_info['Name']} is available! Delivery time: {product_info['Delivery_time_hr']} hours.\"\n",
    "    else:\n",
    "        return f\"❌ {product_info['Name']} is currently out of stock.\"\n",
    "\n",
    "# Test the tool directly\n",
    "print(\"Tool Test:\")\n",
    "print(check_product_availability.invoke({\"product_name\": \"Chocolate\"}))"
   ]
  },
  {
   "cell_type": "markdown",
   "metadata": {
    "id": "FsrlXChqOWJg"
   },
   "source": [
    "## 2. Building More Tools for BakeryAI"
   ]
  },
  {
   "cell_type": "code",
   "execution_count": 8,
   "metadata": {
    "colab": {
     "base_uri": "https://localhost:8080/",
     "height": 293
    },
    "executionInfo": {
     "elapsed": 265,
     "status": "ok",
     "timestamp": 1761257265636,
     "user": {
      "displayName": "Ivan Reznikov",
      "userId": "03906939862966425294"
     },
     "user_tz": -240
    },
    "id": "kKYfFOGcPzE3",
    "outputId": "7f1e2ef2-68eb-49c1-85aa-2cafc9efa543"
   },
   "outputs": [
    {
     "data": {
      "application/vnd.google.colaboratory.intrinsic+json": {
       "summary": "{\n  \"name\": \"cakes_df\",\n  \"rows\": 22,\n  \"fields\": [\n    {\n      \"column\": \"Name\",\n      \"properties\": {\n        \"dtype\": \"string\",\n        \"num_unique_values\": 22,\n        \"samples\": [\n          \"Torta della Nonna Amore\",\n          \"Red Velvet Cake\",\n          \"Velvet Dream Cloud\"\n        ],\n        \"semantic_type\": \"\",\n        \"description\": \"\"\n      }\n    },\n    {\n      \"column\": \"Category\",\n      \"properties\": {\n        \"dtype\": \"category\",\n        \"num_unique_values\": 2,\n        \"samples\": [\n          \"R\",\n          \"G\"\n        ],\n        \"semantic_type\": \"\",\n        \"description\": \"\"\n      }\n    },\n    {\n      \"column\": \"Ingredients\",\n      \"properties\": {\n        \"dtype\": \"string\",\n        \"num_unique_values\": 22,\n        \"samples\": [\n          \"Ricotta, pine nuts, lemon zest, vanilla, sugar, flour\",\n          \"Cocoa, buttermilk, red dye, cream cheese\"\n        ],\n        \"semantic_type\": \"\",\n        \"description\": \"\"\n      }\n    },\n    {\n      \"column\": \"Description\",\n      \"properties\": {\n        \"dtype\": \"string\",\n        \"num_unique_values\": 22,\n        \"samples\": [\n          \"A nostalgic Tuscan-inspired cake with creamy ricotta and lemon warmth\",\n          \"Rich red cake with soft crumb and tangy frosting\"\n        ],\n        \"semantic_type\": \"\",\n        \"description\": \"\"\n      }\n    },\n    {\n      \"column\": \"Energy_kcal\",\n      \"properties\": {\n        \"dtype\": \"number\",\n        \"std\": 45,\n        \"min\": 320,\n        \"max\": 480,\n        \"num_unique_values\": 14,\n        \"samples\": [\n          480,\n          370\n        ],\n        \"semantic_type\": \"\",\n        \"description\": \"\"\n      }\n    },\n    {\n      \"column\": \"Weight_grams\",\n      \"properties\": {\n        \"dtype\": \"number\",\n        \"std\": 128,\n        \"min\": 850,\n        \"max\": 1400,\n        \"num_unique_values\": 8,\n        \"samples\": [\n          900,\n          1400\n        ],\n        \"semantic_type\": \"\",\n        \"description\": \"\"\n      }\n    },\n    {\n      \"column\": \"Restrictions\",\n      \"properties\": {\n        \"dtype\": \"string\",\n        \"num_unique_values\": 15,\n        \"samples\": [\n          \"Contains dairy, coconut\",\n          \"Contains dairy, gluten\"\n        ],\n        \"semantic_type\": \"\",\n        \"description\": \"\"\n      }\n    },\n    {\n      \"column\": \"Delivery_time_hr\",\n      \"properties\": {\n        \"dtype\": \"number\",\n        \"std\": 11,\n        \"min\": 12,\n        \"max\": 48,\n        \"num_unique_values\": 4,\n        \"samples\": [\n          36,\n          12\n        ],\n        \"semantic_type\": \"\",\n        \"description\": \"\"\n      }\n    },\n    {\n      \"column\": \"Available\",\n      \"properties\": {\n        \"dtype\": \"category\",\n        \"num_unique_values\": 2,\n        \"samples\": [\n          \"No\",\n          \"Yes\"\n        ],\n        \"semantic_type\": \"\",\n        \"description\": \"\"\n      }\n    }\n  ]\n}",
       "type": "dataframe",
       "variable_name": "cakes_df"
      },
      "text/html": [
       "\n",
       "  <div id=\"df-bd821c7d-c19b-4395-8640-7e343b8595bb\" class=\"colab-df-container\">\n",
       "    <div>\n",
       "<style scoped>\n",
       "    .dataframe tbody tr th:only-of-type {\n",
       "        vertical-align: middle;\n",
       "    }\n",
       "\n",
       "    .dataframe tbody tr th {\n",
       "        vertical-align: top;\n",
       "    }\n",
       "\n",
       "    .dataframe thead th {\n",
       "        text-align: right;\n",
       "    }\n",
       "</style>\n",
       "<table border=\"1\" class=\"dataframe\">\n",
       "  <thead>\n",
       "    <tr style=\"text-align: right;\">\n",
       "      <th></th>\n",
       "      <th>Name</th>\n",
       "      <th>Category</th>\n",
       "      <th>Ingredients</th>\n",
       "      <th>Description</th>\n",
       "      <th>Energy_kcal</th>\n",
       "      <th>Weight_grams</th>\n",
       "      <th>Restrictions</th>\n",
       "      <th>Delivery_time_hr</th>\n",
       "      <th>Available</th>\n",
       "    </tr>\n",
       "  </thead>\n",
       "  <tbody>\n",
       "    <tr>\n",
       "      <th>0</th>\n",
       "      <td>Torta della Nonna Amore</td>\n",
       "      <td>G</td>\n",
       "      <td>Ricotta, pine nuts, lemon zest, vanilla, sugar...</td>\n",
       "      <td>A nostalgic Tuscan-inspired cake with creamy r...</td>\n",
       "      <td>320</td>\n",
       "      <td>850</td>\n",
       "      <td>Contains dairy, gluten, eggs</td>\n",
       "      <td>24</td>\n",
       "      <td>Yes</td>\n",
       "    </tr>\n",
       "    <tr>\n",
       "      <th>1</th>\n",
       "      <td>Festiva della Sicilia</td>\n",
       "      <td>G</td>\n",
       "      <td>Almonds, citrus zest, mascarpone, candied oran...</td>\n",
       "      <td>A zesty almond cake with mascarpone frosting a...</td>\n",
       "      <td>360</td>\n",
       "      <td>900</td>\n",
       "      <td>Contains nuts, dairy, eggs</td>\n",
       "      <td>24</td>\n",
       "      <td>Yes</td>\n",
       "    </tr>\n",
       "    <tr>\n",
       "      <th>2</th>\n",
       "      <td>Dubai Midnight Pistachio Fantasy</td>\n",
       "      <td>G</td>\n",
       "      <td>Pistachios, rose syrup, cardamom, white chocol...</td>\n",
       "      <td>Lush green cake with exotic floral pistachio n...</td>\n",
       "      <td>420</td>\n",
       "      <td>1000</td>\n",
       "      <td>Contains nuts, dairy</td>\n",
       "      <td>36</td>\n",
       "      <td>Yes</td>\n",
       "    </tr>\n",
       "    <tr>\n",
       "      <th>3</th>\n",
       "      <td>Ferrari Redline Fudge</td>\n",
       "      <td>G</td>\n",
       "      <td>Dark chocolate, red glaze, fudge, espresso syrup</td>\n",
       "      <td>Dense chocolate fudge cake with red mirror gla...</td>\n",
       "      <td>450</td>\n",
       "      <td>950</td>\n",
       "      <td>Contains dairy, caffeine</td>\n",
       "      <td>24</td>\n",
       "      <td>Yes</td>\n",
       "    </tr>\n",
       "    <tr>\n",
       "      <th>4</th>\n",
       "      <td>Goalpost Delight - Soccer Fan Cake</td>\n",
       "      <td>G</td>\n",
       "      <td>Vanilla sponge, fondant, jam, whipped cream</td>\n",
       "      <td>Themed cake with stadium design, perfect for f...</td>\n",
       "      <td>390</td>\n",
       "      <td>1200</td>\n",
       "      <td>May contain artificial colors</td>\n",
       "      <td>24</td>\n",
       "      <td>Yes</td>\n",
       "    </tr>\n",
       "  </tbody>\n",
       "</table>\n",
       "</div>\n",
       "    <div class=\"colab-df-buttons\">\n",
       "\n",
       "  <div class=\"colab-df-container\">\n",
       "    <button class=\"colab-df-convert\" onclick=\"convertToInteractive('df-bd821c7d-c19b-4395-8640-7e343b8595bb')\"\n",
       "            title=\"Convert this dataframe to an interactive table.\"\n",
       "            style=\"display:none;\">\n",
       "\n",
       "  <svg xmlns=\"http://www.w3.org/2000/svg\" height=\"24px\" viewBox=\"0 -960 960 960\">\n",
       "    <path d=\"M120-120v-720h720v720H120Zm60-500h600v-160H180v160Zm220 220h160v-160H400v160Zm0 220h160v-160H400v160ZM180-400h160v-160H180v160Zm440 0h160v-160H620v160ZM180-180h160v-160H180v160Zm440 0h160v-160H620v160Z\"/>\n",
       "  </svg>\n",
       "    </button>\n",
       "\n",
       "  <style>\n",
       "    .colab-df-container {\n",
       "      display:flex;\n",
       "      gap: 12px;\n",
       "    }\n",
       "\n",
       "    .colab-df-convert {\n",
       "      background-color: #E8F0FE;\n",
       "      border: none;\n",
       "      border-radius: 50%;\n",
       "      cursor: pointer;\n",
       "      display: none;\n",
       "      fill: #1967D2;\n",
       "      height: 32px;\n",
       "      padding: 0 0 0 0;\n",
       "      width: 32px;\n",
       "    }\n",
       "\n",
       "    .colab-df-convert:hover {\n",
       "      background-color: #E2EBFA;\n",
       "      box-shadow: 0px 1px 2px rgba(60, 64, 67, 0.3), 0px 1px 3px 1px rgba(60, 64, 67, 0.15);\n",
       "      fill: #174EA6;\n",
       "    }\n",
       "\n",
       "    .colab-df-buttons div {\n",
       "      margin-bottom: 4px;\n",
       "    }\n",
       "\n",
       "    [theme=dark] .colab-df-convert {\n",
       "      background-color: #3B4455;\n",
       "      fill: #D2E3FC;\n",
       "    }\n",
       "\n",
       "    [theme=dark] .colab-df-convert:hover {\n",
       "      background-color: #434B5C;\n",
       "      box-shadow: 0px 1px 3px 1px rgba(0, 0, 0, 0.15);\n",
       "      filter: drop-shadow(0px 1px 2px rgba(0, 0, 0, 0.3));\n",
       "      fill: #FFFFFF;\n",
       "    }\n",
       "  </style>\n",
       "\n",
       "    <script>\n",
       "      const buttonEl =\n",
       "        document.querySelector('#df-bd821c7d-c19b-4395-8640-7e343b8595bb button.colab-df-convert');\n",
       "      buttonEl.style.display =\n",
       "        google.colab.kernel.accessAllowed ? 'block' : 'none';\n",
       "\n",
       "      async function convertToInteractive(key) {\n",
       "        const element = document.querySelector('#df-bd821c7d-c19b-4395-8640-7e343b8595bb');\n",
       "        const dataTable =\n",
       "          await google.colab.kernel.invokeFunction('convertToInteractive',\n",
       "                                                    [key], {});\n",
       "        if (!dataTable) return;\n",
       "\n",
       "        const docLinkHtml = 'Like what you see? Visit the ' +\n",
       "          '<a target=\"_blank\" href=https://colab.research.google.com/notebooks/data_table.ipynb>data table notebook</a>'\n",
       "          + ' to learn more about interactive tables.';\n",
       "        element.innerHTML = '';\n",
       "        dataTable['output_type'] = 'display_data';\n",
       "        await google.colab.output.renderOutput(dataTable, element);\n",
       "        const docLink = document.createElement('div');\n",
       "        docLink.innerHTML = docLinkHtml;\n",
       "        element.appendChild(docLink);\n",
       "      }\n",
       "    </script>\n",
       "  </div>\n",
       "\n",
       "\n",
       "    <div id=\"df-05c5c30f-aa3a-4248-a596-1b7fdf669afe\">\n",
       "      <button class=\"colab-df-quickchart\" onclick=\"quickchart('df-05c5c30f-aa3a-4248-a596-1b7fdf669afe')\"\n",
       "                title=\"Suggest charts\"\n",
       "                style=\"display:none;\">\n",
       "\n",
       "<svg xmlns=\"http://www.w3.org/2000/svg\" height=\"24px\"viewBox=\"0 0 24 24\"\n",
       "     width=\"24px\">\n",
       "    <g>\n",
       "        <path d=\"M19 3H5c-1.1 0-2 .9-2 2v14c0 1.1.9 2 2 2h14c1.1 0 2-.9 2-2V5c0-1.1-.9-2-2-2zM9 17H7v-7h2v7zm4 0h-2V7h2v10zm4 0h-2v-4h2v4z\"/>\n",
       "    </g>\n",
       "</svg>\n",
       "      </button>\n",
       "\n",
       "<style>\n",
       "  .colab-df-quickchart {\n",
       "      --bg-color: #E8F0FE;\n",
       "      --fill-color: #1967D2;\n",
       "      --hover-bg-color: #E2EBFA;\n",
       "      --hover-fill-color: #174EA6;\n",
       "      --disabled-fill-color: #AAA;\n",
       "      --disabled-bg-color: #DDD;\n",
       "  }\n",
       "\n",
       "  [theme=dark] .colab-df-quickchart {\n",
       "      --bg-color: #3B4455;\n",
       "      --fill-color: #D2E3FC;\n",
       "      --hover-bg-color: #434B5C;\n",
       "      --hover-fill-color: #FFFFFF;\n",
       "      --disabled-bg-color: #3B4455;\n",
       "      --disabled-fill-color: #666;\n",
       "  }\n",
       "\n",
       "  .colab-df-quickchart {\n",
       "    background-color: var(--bg-color);\n",
       "    border: none;\n",
       "    border-radius: 50%;\n",
       "    cursor: pointer;\n",
       "    display: none;\n",
       "    fill: var(--fill-color);\n",
       "    height: 32px;\n",
       "    padding: 0;\n",
       "    width: 32px;\n",
       "  }\n",
       "\n",
       "  .colab-df-quickchart:hover {\n",
       "    background-color: var(--hover-bg-color);\n",
       "    box-shadow: 0 1px 2px rgba(60, 64, 67, 0.3), 0 1px 3px 1px rgba(60, 64, 67, 0.15);\n",
       "    fill: var(--button-hover-fill-color);\n",
       "  }\n",
       "\n",
       "  .colab-df-quickchart-complete:disabled,\n",
       "  .colab-df-quickchart-complete:disabled:hover {\n",
       "    background-color: var(--disabled-bg-color);\n",
       "    fill: var(--disabled-fill-color);\n",
       "    box-shadow: none;\n",
       "  }\n",
       "\n",
       "  .colab-df-spinner {\n",
       "    border: 2px solid var(--fill-color);\n",
       "    border-color: transparent;\n",
       "    border-bottom-color: var(--fill-color);\n",
       "    animation:\n",
       "      spin 1s steps(1) infinite;\n",
       "  }\n",
       "\n",
       "  @keyframes spin {\n",
       "    0% {\n",
       "      border-color: transparent;\n",
       "      border-bottom-color: var(--fill-color);\n",
       "      border-left-color: var(--fill-color);\n",
       "    }\n",
       "    20% {\n",
       "      border-color: transparent;\n",
       "      border-left-color: var(--fill-color);\n",
       "      border-top-color: var(--fill-color);\n",
       "    }\n",
       "    30% {\n",
       "      border-color: transparent;\n",
       "      border-left-color: var(--fill-color);\n",
       "      border-top-color: var(--fill-color);\n",
       "      border-right-color: var(--fill-color);\n",
       "    }\n",
       "    40% {\n",
       "      border-color: transparent;\n",
       "      border-right-color: var(--fill-color);\n",
       "      border-top-color: var(--fill-color);\n",
       "    }\n",
       "    60% {\n",
       "      border-color: transparent;\n",
       "      border-right-color: var(--fill-color);\n",
       "    }\n",
       "    80% {\n",
       "      border-color: transparent;\n",
       "      border-right-color: var(--fill-color);\n",
       "      border-bottom-color: var(--fill-color);\n",
       "    }\n",
       "    90% {\n",
       "      border-color: transparent;\n",
       "      border-bottom-color: var(--fill-color);\n",
       "    }\n",
       "  }\n",
       "</style>\n",
       "\n",
       "      <script>\n",
       "        async function quickchart(key) {\n",
       "          const quickchartButtonEl =\n",
       "            document.querySelector('#' + key + ' button');\n",
       "          quickchartButtonEl.disabled = true;  // To prevent multiple clicks.\n",
       "          quickchartButtonEl.classList.add('colab-df-spinner');\n",
       "          try {\n",
       "            const charts = await google.colab.kernel.invokeFunction(\n",
       "                'suggestCharts', [key], {});\n",
       "          } catch (error) {\n",
       "            console.error('Error during call to suggestCharts:', error);\n",
       "          }\n",
       "          quickchartButtonEl.classList.remove('colab-df-spinner');\n",
       "          quickchartButtonEl.classList.add('colab-df-quickchart-complete');\n",
       "        }\n",
       "        (() => {\n",
       "          let quickchartButtonEl =\n",
       "            document.querySelector('#df-05c5c30f-aa3a-4248-a596-1b7fdf669afe button');\n",
       "          quickchartButtonEl.style.display =\n",
       "            google.colab.kernel.accessAllowed ? 'block' : 'none';\n",
       "        })();\n",
       "      </script>\n",
       "    </div>\n",
       "\n",
       "    </div>\n",
       "  </div>\n"
      ],
      "text/plain": [
       "                                 Name Category  \\\n",
       "0             Torta della Nonna Amore        G   \n",
       "1               Festiva della Sicilia        G   \n",
       "2    Dubai Midnight Pistachio Fantasy        G   \n",
       "3               Ferrari Redline Fudge        G   \n",
       "4  Goalpost Delight - Soccer Fan Cake        G   \n",
       "\n",
       "                                         Ingredients  \\\n",
       "0  Ricotta, pine nuts, lemon zest, vanilla, sugar...   \n",
       "1  Almonds, citrus zest, mascarpone, candied oran...   \n",
       "2  Pistachios, rose syrup, cardamom, white chocol...   \n",
       "3   Dark chocolate, red glaze, fudge, espresso syrup   \n",
       "4        Vanilla sponge, fondant, jam, whipped cream   \n",
       "\n",
       "                                         Description  Energy_kcal  \\\n",
       "0  A nostalgic Tuscan-inspired cake with creamy r...          320   \n",
       "1  A zesty almond cake with mascarpone frosting a...          360   \n",
       "2  Lush green cake with exotic floral pistachio n...          420   \n",
       "3  Dense chocolate fudge cake with red mirror gla...          450   \n",
       "4  Themed cake with stadium design, perfect for f...          390   \n",
       "\n",
       "   Weight_grams                   Restrictions  Delivery_time_hr Available  \n",
       "0           850   Contains dairy, gluten, eggs                24       Yes  \n",
       "1           900     Contains nuts, dairy, eggs                24       Yes  \n",
       "2          1000           Contains nuts, dairy                36       Yes  \n",
       "3           950       Contains dairy, caffeine                24       Yes  \n",
       "4          1200  May contain artificial colors                24       Yes  "
      ]
     },
     "execution_count": 8,
     "metadata": {},
     "output_type": "execute_result"
    }
   ],
   "source": [
    "cakes_df.head()"
   ]
  },
  {
   "cell_type": "code",
   "execution_count": 9,
   "metadata": {
    "executionInfo": {
     "elapsed": 44,
     "status": "ok",
     "timestamp": 1761257265683,
     "user": {
      "displayName": "Ivan Reznikov",
      "userId": "03906939862966425294"
     },
     "user_tz": -240
    },
    "id": "W5lEWRFuCjs8"
   },
   "outputs": [],
   "source": [
    "import random\n",
    "from pydantic import BaseModel, Field\n",
    "from langchain_core.tools.structured import StructuredTool"
   ]
  },
  {
   "cell_type": "code",
   "execution_count": 10,
   "metadata": {
    "colab": {
     "base_uri": "https://localhost:8080/"
    },
    "executionInfo": {
     "elapsed": 207,
     "status": "ok",
     "timestamp": 1761257265893,
     "user": {
      "displayName": "Ivan Reznikov",
      "userId": "03906939862966425294"
     },
     "user_tz": -240
    },
    "id": "KizCq4ocOWJg",
    "outputId": "6aff1822-c221-423b-fb34-8c9bc826fc96"
   },
   "outputs": [
    {
     "name": "stdout",
     "output_type": "stream",
     "text": [
      "\n",
      "🔧 Testing Tools:\n",
      "\n",
      "Order Summary:\n",
      "    - Product: Carrot Cake x 2\n",
      "    - Subtotal: 290 AED\n",
      "    - Delivery Fee: 0 AED\n",
      "    - Total: 290 AED\n",
      "\n",
      "✅ Delivery slot available for tomorrow at 2 PM. We'll deliver between 2 PM and one hour after.\n",
      "\n",
      "We recommend our best-selling Chocolate Truffle Cake or Vanilla Bean Cake!\n"
     ]
    }
   ],
   "source": [
    "@tool\n",
    "def calculate_order_total(product_name: str, quantity: int = 1) -> str:\n",
    "    \"\"\"Calculate the total cost including delivery fee.\n",
    "\n",
    "    Args:\n",
    "        product_name: Name of the product\n",
    "        quantity: Number of items (default: 1)\n",
    "\n",
    "    Returns:\n",
    "        Total cost breakdown\n",
    "    \"\"\"\n",
    "    try:\n",
    "      filtered = prices_df[prices_df['Item'].str.lower().str.contains(\"carrot cake\".lower(), na=False)]\n",
    "      price = filtered['Unit_Price_AED'].iloc[0]\n",
    "    except:\n",
    "      price = 45  # default\n",
    "\n",
    "    subtotal = price * quantity\n",
    "    delivery_fee = 10 if subtotal < 100 else 0\n",
    "    total = subtotal + delivery_fee\n",
    "\n",
    "    return f\"\"\"Order Summary:\n",
    "    - Product: {product_name} x {quantity}\n",
    "    - Subtotal: {subtotal} AED\n",
    "    - Delivery Fee: {delivery_fee} AED\n",
    "    - Total: {total} AED\"\"\"\n",
    "\n",
    "# Define Pydantic schema for the tool\n",
    "class DeliverySlotInput(BaseModel):\n",
    "    date: str = Field(description=\"Delivery date (e.g., 'tomorrow', '2025-10-23')\")\n",
    "    time: str = Field(description=\"Delivery time (e.g., '2 PM', '14:00')\")\n",
    "\n",
    "# Define the tool with @tool decorator and schema\n",
    "@tool(args_schema=DeliverySlotInput)\n",
    "def check_delivery_slot(date: str, time: str) -> str:\n",
    "    \"\"\"Check if a delivery slot is available.\n",
    "\n",
    "    Args:\n",
    "        date: Delivery date (e.g., 'tomorrow', '2025-10-23')\n",
    "        time: Delivery time (e.g., '2 PM', '14:00')\n",
    "\n",
    "    Returns:\n",
    "        Slot availability status\n",
    "    \"\"\"\n",
    "    # Parse \"tomorrow\"\n",
    "    if date.lower() == 'tomorrow':\n",
    "        delivery_date = datetime.now() + timedelta(days=1)\n",
    "    else:\n",
    "        delivery_date = datetime.now() + timedelta(days=2)\n",
    "\n",
    "    # Simulate availability check\n",
    "    is_available = random.random() < 0.9\n",
    "\n",
    "    if is_available:\n",
    "        return f\"✅ Delivery slot available for {date} at {time}. We'll deliver between {time} and one hour after.\"\n",
    "    else:\n",
    "        return f\"❌ Delivery slot for {date} at {time} is fully booked. Alternative times: 10 AM, 4 PM.\"\n",
    "\n",
    "\n",
    "@tool\n",
    "def get_product_recommendations(occasion: str, preferences: str = \"\") -> str:\n",
    "    \"\"\"Get product recommendations based on occasion and preferences.\n",
    "\n",
    "    Args:\n",
    "        occasion: Type of event (e.g., 'birthday', 'wedding', 'anniversary')\n",
    "        preferences: Customer preferences (e.g., 'chocolate lover', 'vegan')\n",
    "\n",
    "    Returns:\n",
    "        Product recommendations\n",
    "    \"\"\"\n",
    "    recommendations = []\n",
    "\n",
    "    occasion_lower = occasion.lower()\n",
    "    preferences_lower = preferences.lower()\n",
    "\n",
    "    for _, product in cakes_df.iterrows():\n",
    "        score = 0\n",
    "\n",
    "        # Match based on occasion\n",
    "        if 'birthday' in occasion_lower:\n",
    "            if 'chocolate' in product['Category'].lower():\n",
    "                score += 2\n",
    "        elif 'wedding' in occasion_lower or 'anniversary' in occasion_lower:\n",
    "            if 'vanilla' in product['Category'].lower() or 'specialty' in product['Category'].lower():\n",
    "                score += 2\n",
    "\n",
    "        # Match based on preferences\n",
    "        if 'chocolate' in preferences_lower and 'chocolate' in product['Category'].lower():\n",
    "            score += 3\n",
    "\n",
    "        if score > 0:\n",
    "            recommendations.append((product['Name'], score))\n",
    "\n",
    "    # Sort by score\n",
    "    recommendations.sort(key=lambda x: x[1], reverse=True)\n",
    "\n",
    "    if recommendations:\n",
    "        top_3 = recommendations[:3]\n",
    "        result = f\"Top recommendations for {occasion}:\\n\"\n",
    "        for name, _ in top_3:\n",
    "            result += f\"  - {name}\\n\"\n",
    "        return result\n",
    "    else:\n",
    "        return \"We recommend our best-selling Chocolate Truffle Cake or Vanilla Bean Cake!\"\n",
    "\n",
    "# Test all tools\n",
    "print(\"\\n🔧 Testing Tools:\\n\")\n",
    "print(calculate_order_total.invoke({\"product_name\": \"Carrot Cake\", \"quantity\": 2}))\n",
    "print(\"\\n\" + check_delivery_slot.invoke({\"date\": \"tomorrow\", \"time\": \"2 PM\"}))\n",
    "print(\"\\n\" + get_product_recommendations.invoke({\"occasion\": \"birthday\", \"preferences\": \"chocolate lover\"}))"
   ]
  },
  {
   "cell_type": "markdown",
   "metadata": {
    "id": "yz--4hZ4OWJh"
   },
   "source": [
    "## 3. Creating a ReAct Agent\n",
    "\n",
    "**ReAct** = **Rea**soning + **Act**ing\n",
    "\n",
    "The agent will:\n",
    "1. Think about what to do\n",
    "2. Choose a tool\n",
    "3. Execute the tool\n",
    "4. Observe the result\n",
    "5. Repeat until done"
   ]
  },
  {
   "cell_type": "code",
   "execution_count": 11,
   "metadata": {
    "colab": {
     "base_uri": "https://localhost:8080/"
    },
    "executionInfo": {
     "elapsed": 23,
     "status": "ok",
     "timestamp": 1761257265921,
     "user": {
      "displayName": "Ivan Reznikov",
      "userId": "03906939862966425294"
     },
     "user_tz": -240
    },
    "id": "tsf7SlOgOWJi",
    "outputId": "cc7621a1-c83a-48cf-9970-0b49ecaf1552"
   },
   "outputs": [
    {
     "name": "stdout",
     "output_type": "stream",
     "text": [
      "✅ BakeryAI Agent Created!\n"
     ]
    }
   ],
   "source": [
    "from langchain.agents import create_react_agent, AgentExecutor\n",
    "from langchain import hub\n",
    "\n",
    "# Collect all tools\n",
    "tools = [\n",
    "    check_product_availability,\n",
    "    calculate_order_total,\n",
    "    check_delivery_slot,\n",
    "    get_product_recommendations\n",
    "]\n",
    "\n",
    "# Get ReAct prompt template\n",
    "# We'll use a simplified version for clarity\n",
    "react_prompt = PromptTemplate.from_template(\"\"\"\n",
    "You are BakeryAI, an intelligent bakery assistant with access to tools.\n",
    "\n",
    "Answer the customer's question by using tools when needed.\n",
    "You have access to the following tools:\n",
    "\n",
    "{tools}\n",
    "\n",
    "Use this format:\n",
    "\n",
    "Question: the input question you must answer\n",
    "Thought: think about what to do\n",
    "Action: the action to take, should be one of [{tool_names}]\n",
    "Action Input: the input to the action\n",
    "Observation: the result of the action\n",
    "... (this Thought/Action/Action Input/Observation can repeat N times)\n",
    "Thought: I now know the final answer\n",
    "Final Answer: the final answer to the original input question\n",
    "\n",
    "Begin!\n",
    "\n",
    "Question: {input}\n",
    "Thought: {agent_scratchpad}\n",
    "\"\"\")\n",
    "\n",
    "# Create the agent\n",
    "agent = create_react_agent(\n",
    "    llm=llm,\n",
    "    tools=tools,\n",
    "    prompt=react_prompt\n",
    ")\n",
    "\n",
    "# Create agent executor\n",
    "agent_executor = AgentExecutor(\n",
    "    agent=agent,\n",
    "    tools=tools,\n",
    "    verbose=True,\n",
    "    handle_parsing_errors=True,\n",
    "    max_iterations=5\n",
    ")\n",
    "\n",
    "print(\"✅ BakeryAI Agent Created!\")"
   ]
  },
  {
   "cell_type": "markdown",
   "metadata": {
    "id": "c088En1MOWJj"
   },
   "source": [
    "## 4. Testing the Agent"
   ]
  },
  {
   "cell_type": "code",
   "execution_count": 12,
   "metadata": {
    "colab": {
     "base_uri": "https://localhost:8080/"
    },
    "executionInfo": {
     "elapsed": 682,
     "status": "ok",
     "timestamp": 1761257266606,
     "user": {
      "displayName": "Ivan Reznikov",
      "userId": "03906939862966425294"
     },
     "user_tz": -240
    },
    "id": "Zd18tKZuOWJj",
    "outputId": "6f51595d-2689-4577-87f2-86ea01f9f6f9"
   },
   "outputs": [
    {
     "name": "stdout",
     "output_type": "stream",
     "text": [
      "Test 1: Product Availability\n",
      "\n",
      "======================================================================\n",
      "\n",
      "\n",
      "\u001b[1m> Entering new AgentExecutor chain...\u001b[0m\n",
      "\u001b[32;1m\u001b[1;3mAction: check_product_availability\n",
      "Action Input: \"Chocolate Truffle Cake\"\u001b[0m\u001b[36;1m\u001b[1;3m✅ Chocolate Truffle Cake is available! Delivery time: 12 hours.\u001b[0m\u001b[32;1m\u001b[1;3mI now know the final answer.   \n",
      "Final Answer: Yes, the Chocolate Truffle Cake is available. It requires a delivery time of 12 hours.\u001b[0m\n",
      "\n",
      "\u001b[1m> Finished chain.\u001b[0m\n",
      "\n",
      "📝 Final Answer:\n",
      "Yes, the Chocolate Truffle Cake is available. It requires a delivery time of 12 hours.\n"
     ]
    }
   ],
   "source": [
    "# Test 1: Simple availability check\n",
    "print(\"Test 1: Product Availability\\n\")\n",
    "print(\"=\" * 70)\n",
    "\n",
    "result = agent_executor.invoke({\n",
    "    \"input\": \"Is the Chocolate Truffle Cake available?\"\n",
    "})\n",
    "\n",
    "print(\"\\n📝 Final Answer:\")\n",
    "print(result['output'])"
   ]
  },
  {
   "cell_type": "code",
   "execution_count": 13,
   "metadata": {
    "colab": {
     "base_uri": "https://localhost:8080/"
    },
    "executionInfo": {
     "elapsed": 5492,
     "status": "ok",
     "timestamp": 1761257272096,
     "user": {
      "displayName": "Ivan Reznikov",
      "userId": "03906939862966425294"
     },
     "user_tz": -240
    },
    "id": "T6CGlX7KOWJj",
    "outputId": "92374a1f-ee4b-45c4-aee5-f23898fb7c34"
   },
   "outputs": [
    {
     "name": "stdout",
     "output_type": "stream",
     "text": [
      "\n",
      "\n",
      "Test 2: Complex Order Query\n",
      "\n",
      "======================================================================\n",
      "\n",
      "\n",
      "\u001b[1m> Entering new AgentExecutor chain...\u001b[0m\n",
      "\u001b[32;1m\u001b[1;3mTo answer this question, I need to check if the tiramisu cakes are available, calculate the total cost for 2 cakes, and check if there is a delivery slot available for tomorrow at 3 PM.\n",
      "\n",
      "Action: check_product_availability\n",
      "Action Input: \"tiramisu cake\"\u001b[0m\u001b[36;1m\u001b[1;3mProduct 'tiramisu cake' not found in our catalog.\u001b[0m\u001b[32;1m\u001b[1;3mThe tiramisu cake is not available in our inventory. I will check if there are any product recommendations for a similar occasion or based on popular preferences.\n",
      "\n",
      "Action: get_product_recommendations\n",
      "Action Input: \"dessert\", \"tiramisu\"\u001b[0m\u001b[36;1m\u001b[1;3mWe recommend our best-selling Chocolate Truffle Cake or Vanilla Bean Cake!\u001b[0m\u001b[32;1m\u001b[1;3mThe tiramisu cake is currently not available in our inventory. As an alternative, I recommend considering our best-selling Chocolate Truffle Cake or Vanilla Bean Cake. \n",
      "\n",
      "Please let me know if you'd like more information about these options or if you want to proceed with one of them.\u001b[0mInvalid Format: Missing 'Action:' after 'Thought:'\u001b[32;1m\u001b[1;3mAction: I should provide the final answer including the recommendations.\n",
      "\n",
      "Final Answer: The tiramisu cake is not available in our inventory. However, I recommend considering our best-selling Chocolate Truffle Cake or Vanilla Bean Cake as alternatives. Please let me know if you'd like more information about these options or if you want to proceed with one of them!\u001b[0m\n",
      "\n",
      "\u001b[1m> Finished chain.\u001b[0m\n",
      "\n",
      "📝 Final Answer:\n",
      "The tiramisu cake is not available in our inventory. However, I recommend considering our best-selling Chocolate Truffle Cake or Vanilla Bean Cake as alternatives. Please let me know if you'd like more information about these options or if you want to proceed with one of them!\n"
     ]
    }
   ],
   "source": [
    "# Test 2: Multi-step reasoning\n",
    "print(\"\\n\\nTest 2: Complex Order Query\\n\")\n",
    "print(\"=\" * 70)\n",
    "\n",
    "result = agent_executor.invoke({\n",
    "    \"input\": \"I want to order 2 tiramisu cakes for tomorrow at 3 PM. How much will it cost and can you deliver?\"\n",
    "})\n",
    "\n",
    "print(\"\\n📝 Final Answer:\")\n",
    "print(result['output'])"
   ]
  },
  {
   "cell_type": "code",
   "execution_count": 14,
   "metadata": {
    "colab": {
     "base_uri": "https://localhost:8080/"
    },
    "executionInfo": {
     "elapsed": 2037,
     "status": "ok",
     "timestamp": 1761257274138,
     "user": {
      "displayName": "Ivan Reznikov",
      "userId": "03906939862966425294"
     },
     "user_tz": -240
    },
    "id": "4nQMhzBFOWJk",
    "outputId": "3bcdb722-e4fd-4a6a-c637-ab313bab6d93"
   },
   "outputs": [
    {
     "name": "stdout",
     "output_type": "stream",
     "text": [
      "\n",
      "\n",
      "Test 3: Recommendation Request\n",
      "\n",
      "======================================================================\n",
      "\n",
      "\n",
      "\u001b[1m> Entering new AgentExecutor chain...\u001b[0m\n",
      "\u001b[32;1m\u001b[1;3mSince the customer is looking for a cake recommendation for a birthday party and mentioned a preference for chocolate, I should check for product recommendations based on the occasion and preferences.\n",
      "\n",
      "Action: get_product_recommendations\n",
      "Action Input: \"birthday\", \"chocolate lover\"\u001b[0m\u001b[36;1m\u001b[1;3mWe recommend our best-selling Chocolate Truffle Cake or Vanilla Bean Cake!\u001b[0m\u001b[32;1m\u001b[1;3mBoth the Chocolate Truffle Cake and the Vanilla Bean Cake are excellent options for a birthday party, especially for a chocolate enthusiast.\n",
      "\n",
      "Final Answer: For a birthday party, I recommend our best-selling Chocolate Truffle Cake, which is perfect for chocolate lovers! Alternatively, you might also consider the Vanilla Bean Cake if you'd like to try something different.\u001b[0m\n",
      "\n",
      "\u001b[1m> Finished chain.\u001b[0m\n",
      "\n",
      "📝 Final Answer:\n",
      "For a birthday party, I recommend our best-selling Chocolate Truffle Cake, which is perfect for chocolate lovers! Alternatively, you might also consider the Vanilla Bean Cake if you'd like to try something different.\n"
     ]
    }
   ],
   "source": [
    "# Test 3: Recommendation\n",
    "print(\"\\n\\nTest 3: Recommendation Request\\n\")\n",
    "print(\"=\" * 70)\n",
    "\n",
    "result = agent_executor.invoke({\n",
    "    \"input\": \"What cake would you recommend for a birthday party? I love chocolate!\"\n",
    "})\n",
    "\n",
    "print(\"\\n📝 Final Answer:\")\n",
    "print(result['output'])"
   ]
  },
  {
   "cell_type": "markdown",
   "metadata": {
    "id": "aPiwwVUbOWJk"
   },
   "source": [
    "## 5. Understanding the ReAct Loop\n",
    "\n",
    "Let's trace through what happened in the agent's reasoning:"
   ]
  },
  {
   "cell_type": "code",
   "execution_count": 15,
   "metadata": {
    "colab": {
     "base_uri": "https://localhost:8080/"
    },
    "executionInfo": {
     "elapsed": 36,
     "status": "ok",
     "timestamp": 1761257274177,
     "user": {
      "displayName": "Ivan Reznikov",
      "userId": "03906939862966425294"
     },
     "user_tz": -240
    },
    "id": "gPnwYLJeOWJk",
    "outputId": "00812e36-2ef0-42f8-8fa4-c5dae7c455b2"
   },
   "outputs": [
    {
     "name": "stdout",
     "output_type": "stream",
     "text": [
      "\n",
      "📊 ReAct Loop Breakdown:\n",
      "\n",
      "Customer: \"I want to order 2 chocolate cakes for tomorrow at 3 PM. How much will it cost and can you deliver?\"\n",
      "\n",
      "Step 1:\n",
      "  Thought: \"I need to check if chocolate cakes are available\"\n",
      "  Action: check_product_availability\n",
      "  Action Input: \"Chocolate Truffle Cake\"\n",
      "  Observation: \"✅ Chocolate Truffle Cake is available! Delivery time: 24 hours.\"\n",
      "\n",
      "Step 2:\n",
      "  Thought: \"I need to calculate the cost for 2 cakes\"\n",
      "  Action: calculate_order_total\n",
      "  Action Input: {\"product_name\": \"Chocolate Truffle Cake\", \"quantity\": 2}\n",
      "  Observation: \"Subtotal: 90 AED, Delivery Fee: 0 AED, Total: 90 AED\"\n",
      "\n",
      "Step 3:\n",
      "  Thought: \"I need to check if delivery is available tomorrow at 3 PM\"\n",
      "  Action: check_delivery_slot\n",
      "  Action Input: {\"date\": \"tomorrow\", \"time\": \"3 PM\"}\n",
      "  Observation: \"✅ Delivery slot available for tomorrow at 3 PM\"\n",
      "\n",
      "Step 4:\n",
      "  Thought: \"I now have all the information needed\"\n",
      "  Final Answer: \"Yes! We can deliver 2 Chocolate Truffle Cakes tomorrow at 3 PM. Total cost: 90 AED...\"\n",
      "\n",
      "✅ The agent autonomously decided which tools to use and in what order!\n",
      "\n"
     ]
    }
   ],
   "source": [
    "# Detailed trace\n",
    "print(\"\"\"\n",
    "📊 ReAct Loop Breakdown:\n",
    "\n",
    "Customer: \"I want to order 2 chocolate cakes for tomorrow at 3 PM. How much will it cost and can you deliver?\"\n",
    "\n",
    "Step 1:\n",
    "  Thought: \"I need to check if chocolate cakes are available\"\n",
    "  Action: check_product_availability\n",
    "  Action Input: \"Chocolate Truffle Cake\"\n",
    "  Observation: \"✅ Chocolate Truffle Cake is available! Delivery time: 24 hours.\"\n",
    "\n",
    "Step 2:\n",
    "  Thought: \"I need to calculate the cost for 2 cakes\"\n",
    "  Action: calculate_order_total\n",
    "  Action Input: {\"product_name\": \"Chocolate Truffle Cake\", \"quantity\": 2}\n",
    "  Observation: \"Subtotal: 90 AED, Delivery Fee: 0 AED, Total: 90 AED\"\n",
    "\n",
    "Step 3:\n",
    "  Thought: \"I need to check if delivery is available tomorrow at 3 PM\"\n",
    "  Action: check_delivery_slot\n",
    "  Action Input: {\"date\": \"tomorrow\", \"time\": \"3 PM\"}\n",
    "  Observation: \"✅ Delivery slot available for tomorrow at 3 PM\"\n",
    "\n",
    "Step 4:\n",
    "  Thought: \"I now have all the information needed\"\n",
    "  Final Answer: \"Yes! We can deliver 2 Chocolate Truffle Cakes tomorrow at 3 PM. Total cost: 90 AED...\"\n",
    "\n",
    "✅ The agent autonomously decided which tools to use and in what order!\n",
    "\"\"\")"
   ]
  },
  {
   "cell_type": "markdown",
   "metadata": {
    "id": "52FyIZIYOWJl"
   },
   "source": [
    "## 6. Agent with Error Handling"
   ]
  },
  {
   "cell_type": "code",
   "execution_count": 16,
   "metadata": {
    "colab": {
     "base_uri": "https://localhost:8080/"
    },
    "executionInfo": {
     "elapsed": 5399,
     "status": "ok",
     "timestamp": 1761257279580,
     "user": {
      "displayName": "Ivan Reznikov",
      "userId": "03906939862966425294"
     },
     "user_tz": -240
    },
    "id": "bSbedcAXOWJl",
    "outputId": "4cab587f-c927-4190-c78b-19de728d983c"
   },
   "outputs": [
    {
     "name": "stdout",
     "output_type": "stream",
     "text": [
      "Test 4: Handling Unavailable Products\n",
      "\n",
      "======================================================================\n",
      "\n",
      "\n",
      "\u001b[1m> Entering new AgentExecutor chain...\u001b[0m\n",
      "\u001b[32;1m\u001b[1;3mI need to check if the Unicorn Cake is available in our inventory first. \n",
      "\n",
      "Action: check_product_availability\n",
      "Action Input: \"Unicorn Cake\"\n",
      "\u001b[0m\u001b[36;1m\u001b[1;3mProduct 'Unicorn Cake\"\n",
      "' not found in our catalog.\u001b[0m\u001b[32;1m\u001b[1;3mIt seems that there might be a typo or the product isn't listed as \"Unicorn Cake\" in our catalog. Let's try to find an alternative name or get recommendations for cakes suitable for celebrations.\n",
      "\n",
      "Action: get_product_recommendations\n",
      "Action Input: \"birthday\", \"unicorn theme\"\n",
      "\u001b[0m\u001b[36;1m\u001b[1;3mWe recommend our best-selling Chocolate Truffle Cake or Vanilla Bean Cake!\u001b[0m\u001b[32;1m\u001b[1;3mIt seems we don't have a product named \"Unicorn Cake\" in our catalog, but we do recommend our best-selling Chocolate Truffle Cake and Vanilla Bean Cake, which are popular choices for celebrations with a unicorn theme. Would you like to check the availability or the total cost for either of these options?\u001b[0mInvalid Format: Missing 'Action:' after 'Thought:'\u001b[32;1m\u001b[1;3mIt seems we don't have a product listed specifically as \"Unicorn Cake\" in our catalog. However, for a unicorn-themed celebration, we recommend our best-selling Chocolate Truffle Cake or Vanilla Bean Cake. Would you like to check the availability or the total cost for either of these cakes?\u001b[0mInvalid Format: Missing 'Action:' after 'Thought:'\u001b[32;1m\u001b[1;3mI apologize for the trouble. We don't have a product specifically called \"Unicorn Cake\" in our catalog. However, for a unicorn-themed celebration, we recommend our best-selling Chocolate Truffle Cake or Vanilla Bean Cake. Would you like me to check the availability or calculate the total cost for either of these cakes?\u001b[0mInvalid Format: Missing 'Action:' after 'Thought:'\u001b[32;1m\u001b[1;3m\u001b[0m\n",
      "\n",
      "\u001b[1m> Finished chain.\u001b[0m\n",
      "\n",
      "📝 Final Answer:\n",
      "Agent stopped due to iteration limit or time limit.\n",
      "\n",
      "✅ Agent gracefully handled non-existent product!\n"
     ]
    }
   ],
   "source": [
    "# Test with unavailable product\n",
    "print(\"Test 4: Handling Unavailable Products\\n\")\n",
    "print(\"=\" * 70)\n",
    "\n",
    "result = agent_executor.invoke({\n",
    "    \"input\": \"I want to order a Unicorn Cake for tomorrow\"\n",
    "})\n",
    "\n",
    "print(\"\\n📝 Final Answer:\")\n",
    "print(result['output'])\n",
    "\n",
    "print(\"\\n✅ Agent gracefully handled non-existent product!\")"
   ]
  },
  {
   "cell_type": "markdown",
   "metadata": {
    "id": "VJ0BAc8tOWJl"
   },
   "source": [
    "## 7. Streaming Agent Responses\n",
    "\n",
    "Show intermediate steps in real-time."
   ]
  },
  {
   "cell_type": "code",
   "execution_count": 17,
   "metadata": {
    "colab": {
     "base_uri": "https://localhost:8080/"
    },
    "executionInfo": {
     "elapsed": 3689,
     "status": "ok",
     "timestamp": 1761257283272,
     "user": {
      "displayName": "Ivan Reznikov",
      "userId": "03906939862966425294"
     },
     "user_tz": -240
    },
    "id": "_1ab1LqAOWJm",
    "outputId": "e283a8c2-5a95-436f-b744-5d9fa49de7b8"
   },
   "outputs": [
    {
     "name": "stdout",
     "output_type": "stream",
     "text": [
      "Streaming Agent Execution:\n",
      "\n",
      "\n",
      "\n",
      "\u001b[1m> Entering new None chain...\u001b[0m\n",
      "🔧 Tool: check_product_availability\n",
      "📥 Input: chocolate cake\n",
      "\u001b[32;1m\u001b[1;3mTo answer the question, I first need to check if the chocolate cake is available in the inventory. Following that, if it is available, I'll calculate the total cost for 3 cakes. \n",
      "\n",
      "Action: check_product_availability\n",
      "Action Input: \"chocolate cake\"\u001b[0m\u001b[36;1m\u001b[1;3mProduct 'chocolate cake' not found in our catalog.\u001b[0m📤 Output: Product 'chocolate cake' not found in our catalog....\n",
      "\n",
      "🔧 Tool: get_product_recommendations\n",
      "📥 Input: birthday\", \"chocolate lover\n",
      "\u001b[32;1m\u001b[1;3mThe chocolate cake is not available in our catalog. I should provide an alternative recommendation and calculate the price for a similar product instead.\n",
      "\n",
      "Action: get_product_recommendations\n",
      "Action Input: \"birthday\", \"chocolate lover\"\u001b[0m\u001b[36;1m\u001b[1;3mWe recommend our best-selling Chocolate Truffle Cake or Vanilla Bean Cake!\u001b[0m📤 Output: We recommend our best-selling Chocolate Truffle Cake or Vanilla Bean Cake!...\n",
      "\n",
      "🔧 Tool: calculate_order_total\n",
      "📥 Input: Chocolate Truffle Cake\", 3\n",
      "\u001b[32;1m\u001b[1;3mI recommend the Chocolate Truffle Cake as an alternative to the chocolate cake. Now, I'll calculate the price for 3 Chocolate Truffle Cakes.\n",
      "\n",
      "Action: calculate_order_total\n",
      "Action Input: \"Chocolate Truffle Cake\", 3\u001b[0m\u001b[33;1m\u001b[1;3mOrder Summary:\n",
      "    - Product: Chocolate Truffle Cake\", 3 x 1\n",
      "    - Subtotal: 145 AED\n",
      "    - Delivery Fee: 0 AED\n",
      "    - Total: 145 AED\u001b[0m📤 Output: Order Summary:\n",
      "    - Product: Chocolate Truffle Cake\", 3 x 1\n",
      "    - Subtotal: 145 AED\n",
      "    - Delivery ...\n",
      "\n",
      "\u001b[32;1m\u001b[1;3mI now know the final answer.\n",
      "\n",
      "Final Answer: The chocolate cake is not available, but I recommend our best-selling Chocolate Truffle Cake as an alternative. The total cost for 3 Chocolate Truffle Cakes is 145 AED, including free delivery.\u001b[0m\n",
      "\n",
      "\u001b[1m> Finished chain.\u001b[0m\n",
      "\n",
      "✅ Final: The chocolate cake is not available, but I recommend our best-selling Chocolate Truffle Cake as an alternative. The total cost for 3 Chocolate Truffle Cakes is 145 AED, including free delivery.\n"
     ]
    }
   ],
   "source": [
    "# Stream agent responses\n",
    "print(\"Streaming Agent Execution:\\n\")\n",
    "\n",
    "for step in agent_executor.stream(\n",
    "    {\"input\": \"Check if chocolate cake is available and give me the price for 3 cakes\"}\n",
    "):\n",
    "    if 'actions' in step:\n",
    "        for action in step['actions']:\n",
    "            print(f\"🔧 Tool: {action.tool}\")\n",
    "            print(f\"📥 Input: {action.tool_input}\")\n",
    "\n",
    "    if 'steps' in step:\n",
    "        for s in step['steps']:\n",
    "            print(f\"📤 Output: {s.observation[:100]}...\\n\")\n",
    "\n",
    "    if 'output' in step:\n",
    "        print(f\"\\n✅ Final: {step['output']}\")"
   ]
  },
  {
   "cell_type": "markdown",
   "metadata": {
    "id": "lMtx6v9UOWJm"
   },
   "source": [
    "## 🎯 Exercise 1: Add More Tools\n",
    "\n",
    "**Task**: Create these additional tools for BakeryAI:\n",
    "1. `cancel_order(order_id: str)` - Cancel an existing order\n",
    "2. `track_order(order_id: str)` - Get order status\n",
    "3. `apply_discount_code(code: str, total: float)` - Apply promotional codes\n",
    "4. `get_customer_loyalty_points(customer_id: str)` - Check loyalty points"
   ]
  },
  {
   "cell_type": "code",
   "execution_count": 18,
   "metadata": {
    "executionInfo": {
     "elapsed": 4,
     "status": "ok",
     "timestamp": 1761257283280,
     "user": {
      "displayName": "Ivan Reznikov",
      "userId": "03906939862966425294"
     },
     "user_tz": -240
    },
    "id": "jij4taC_OWJm"
   },
   "outputs": [],
   "source": [
    "@tool\n",
    "def cancel_order(order_id: str) -> str:\n",
    "    \"\"\"Cancel an existing order.\n",
    "\n",
    "    Args:\n",
    "        order_id: The order ID to cancel\n",
    "\n",
    "    Returns:\n",
    "        Cancellation status\n",
    "    \"\"\"\n",
    "    # TODO: Implement order cancellation logic\n",
    "    pass\n",
    "\n",
    "@tool\n",
    "def track_order(order_id: str) -> str:\n",
    "    \"\"\"Track the status of an order.\n",
    "\n",
    "    Args:\n",
    "        order_id: The order ID to track\n",
    "\n",
    "    Returns:\n",
    "        Current order status\n",
    "    \"\"\"\n",
    "    # TODO: Implement order tracking\n",
    "    pass\n",
    "\n",
    "# Add more tools here\n",
    "# Then test your agent with the new tools"
   ]
  },
  {
   "cell_type": "markdown",
   "metadata": {
    "id": "X_vO-CcROWJm"
   },
   "source": [
    "## 🎯 Exercise 2: Build a Conversational Agent with Memory\n",
    "\n",
    "**Task**: Enhance the agent to remember previous interactions:\n",
    "1. Keep track of what the customer has asked\n",
    "2. Remember products they've shown interest in\n",
    "3. Don't ask for information already provided"
   ]
  },
  {
   "cell_type": "code",
   "execution_count": 19,
   "metadata": {
    "executionInfo": {
     "elapsed": 14,
     "status": "ok",
     "timestamp": 1761257283297,
     "user": {
      "displayName": "Ivan Reznikov",
      "userId": "03906939862966425294"
     },
     "user_tz": -240
    },
    "id": "LYjV06xIOWJm"
   },
   "outputs": [],
   "source": [
    "from langchain.memory import ConversationBufferMemory\n",
    "\n",
    "# TODO: Create agent with memory\n",
    "# Hint: Use ConversationBufferMemory with AgentExecutor\n",
    "\n",
    "# memory = ConversationBufferMemory(memory_key=\"chat_history\", return_messages=True)\n",
    "# agent_with_memory = AgentExecutor(..., memory=memory)"
   ]
  },
  {
   "cell_type": "markdown",
   "metadata": {
    "id": "spsxr9ElOWJn"
   },
   "source": [
    "## Summary: What We Built\n",
    "\n",
    "### ✅ Session 2.1 Achievements:\n",
    "\n",
    "1. **Understanding Agents**: LLMs that can use tools autonomously\n",
    "2. **Created Tools**: 4 custom tools for BakeryAI\n",
    "3. **ReAct Pattern**: Reasoning + Acting loop\n",
    "4. **Agent Executor**: Orchestrates tool usage\n",
    "5. **Error Handling**: Graceful failures\n",
    "6. **Streaming**: Real-time agent execution\n",
    "\n",
    "### 🔧 BakeryAI Tools Now Available:\n",
    "\n",
    "✨ `check_product_availability` - Inventory checks  \n",
    "✨ `calculate_order_total` - Pricing calculations  \n",
    "✨ `check_delivery_slot` - Scheduling  \n",
    "✨ `get_product_recommendations` - Smart suggestions  \n",
    "\n",
    "### 🚀 Next: Notebook 2.2\n",
    "\n",
    "We'll build **more complex tools** including:\n",
    "- Database integration (customer lookup)\n",
    "- External API calls (payment processing)\n",
    "- File operations (order receipts)\n",
    "- Advanced error handling and retries"
   ]
  }
 ],
 "metadata": {
  "colab": {
   "provenance": []
  },
  "kernelspec": {
   "display_name": "Python 3",
   "language": "python",
   "name": "python3"
  }
 },
 "nbformat": 4,
 "nbformat_minor": 0
}
