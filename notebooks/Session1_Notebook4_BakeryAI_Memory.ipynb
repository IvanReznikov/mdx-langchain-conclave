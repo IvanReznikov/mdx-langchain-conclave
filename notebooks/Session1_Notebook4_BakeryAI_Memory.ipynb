{
 "cells": [
  {
   "cell_type": "markdown",
   "metadata": {
    "id": "qMQ8dyed-ygi"
   },
   "source": [
    "# Session 1.4: BakeryAI - Conversation Memory & Personalization"
   ]
  },
  {
   "cell_type": "markdown",
   "metadata": {
    "id": "rbgR7I1nA0uA"
   },
   "source": [
    "[![Open In Colab](https://colab.research.google.com/assets/colab-badge.svg)](https://colab.research.google.com/drive/1F5vDIiTiNAA09oBKOvfWy5Oqo45mZYRS?usp=sharing)"
   ]
  },
  {
   "cell_type": "markdown",
   "metadata": {
    "id": "XCsFl6UmA0xy"
   },
   "source": [
    "## 🎯 Final Session Goal\n",
    "\n",
    "Complete BakeryAI with **conversational memory and personalization**!\n",
    "\n",
    "### What We'll Build:\n",
    "\n",
    "✅ Multi-turn conversations that remember context  \n",
    "✅ Customer preference tracking  \n",
    "✅ Session-based order building  \n",
    "✅ Personalized product recommendations  \n",
    "✅ Complete BakeryAI v1.0  \n",
    "\n",
    "### Why This Matters:\n",
    "\n",
    "Natural conversation is key to great customer service:\n",
    "- **Context Awareness**: \"Add that to my order\" → knows what \"that\" refers to\n",
    "- **Personalization**: Remembers dietary preferences, past orders\n",
    "- **Efficiency**: No need to repeat information\n",
    "- **Experience**: Feels like talking to a real person\n",
    "\n",
    "### 🚀 BakeryAI Progress: 60% → 100%\n",
    "```\n",
    "[████████████████████] 100%\n",
    "```\n",
    "\n",
    "## 🎉 Let's Complete BakeryAI!"
   ]
  },
  {
   "cell_type": "code",
   "execution_count": 1,
   "metadata": {
    "executionInfo": {
     "elapsed": 14746,
     "status": "ok",
     "timestamp": 1761242227580,
     "user": {
      "displayName": "Ivan Reznikov",
      "userId": "03906939862966425294"
     },
     "user_tz": -240
    },
    "id": "__ePGwNJEXyS"
   },
   "outputs": [],
   "source": [
    "!pip install -q langchain langchain-openai langchain-community"
   ]
  },
  {
   "cell_type": "code",
   "execution_count": 2,
   "metadata": {
    "executionInfo": {
     "elapsed": 11264,
     "status": "ok",
     "timestamp": 1761242238854,
     "user": {
      "displayName": "Ivan Reznikov",
      "userId": "03906939862966425294"
     },
     "user_tz": -240
    },
    "id": "4QfmZ1vyEyeX"
   },
   "outputs": [],
   "source": [
    "import pandas as pd\n",
    "from datetime import datetime\n",
    "from dotenv import load_dotenv\n",
    "from langchain_openai import ChatOpenAI, OpenAIEmbeddings\n",
    "from langchain.memory import (\n",
    "    ConversationBufferMemory,\n",
    "    ConversationBufferWindowMemory,\n",
    "    ConversationSummaryMemory\n",
    ")\n",
    "from langchain.chains import ConversationChain\n",
    "from langchain_core.prompts import (\n",
    "    ChatPromptTemplate,\n",
    "    MessagesPlaceholder,\n",
    "    SystemMessagePromptTemplate,\n",
    "    HumanMessagePromptTemplate\n",
    ")\n",
    "from langchain_core.messages import HumanMessage, AIMessage, SystemMessage\n",
    "from langchain_core.runnables.history import RunnableWithMessageHistory\n",
    "from langchain_community.chat_message_histories import ChatMessageHistory"
   ]
  },
  {
   "cell_type": "code",
   "execution_count": 3,
   "metadata": {
    "executionInfo": {
     "elapsed": 770,
     "status": "ok",
     "timestamp": 1761242239630,
     "user": {
      "displayName": "Ivan Reznikov",
      "userId": "03906939862966425294"
     },
     "user_tz": -240
    },
    "id": "PWpDYyPFE0hS"
   },
   "outputs": [],
   "source": [
    "import os\n",
    "from google.colab import userdata\n",
    "\n",
    "# Set OpenAI API key from Google Colab's user environment or default\n",
    "def set_openai_api_key(default_key: str = \"YOUR_API_KEY\") -> None:\n",
    "    \"\"\"Set the OpenAI API key from Google Colab's user environment or use a default value.\"\"\"\n",
    "    #if not (userdata.get(\"OPENAI_API_KEY\") or \"OPENAI_API_KEY\" in os.environ):\n",
    "    try:\n",
    "      os.environ[\"OPENAI_API_KEY\"] = userdata.get(\"MDX_OPENAI_API_KEY\")\n",
    "    except:\n",
    "      os.environ[\"OPENAI_API_KEY\"] = default_key\n",
    "\n",
    "set_openai_api_key()"
   ]
  },
  {
   "cell_type": "code",
   "execution_count": 4,
   "metadata": {
    "colab": {
     "base_uri": "https://localhost:8080/"
    },
    "executionInfo": {
     "elapsed": 84,
     "status": "ok",
     "timestamp": 1761242239719,
     "user": {
      "displayName": "Ivan Reznikov",
      "userId": "03906939862966425294"
     },
     "user_tz": -240
    },
    "id": "InnUQhzDE6JD",
    "outputId": "d8d4ac71-bb53-47c3-e0c0-33c4d761dc2c"
   },
   "outputs": [
    {
     "name": "stdout",
     "output_type": "stream",
     "text": [
      "fatal: destination path 'mdx-langchain-conclave' already exists and is not an empty directory.\n"
     ]
    }
   ],
   "source": [
    "!git clone https://github.com/IvanReznikov/mdx-langchain-conclave"
   ]
  },
  {
   "cell_type": "code",
   "execution_count": 5,
   "metadata": {
    "colab": {
     "base_uri": "https://localhost:8080/"
    },
    "executionInfo": {
     "elapsed": 607,
     "status": "ok",
     "timestamp": 1761242240330,
     "user": {
      "displayName": "Ivan Reznikov",
      "userId": "03906939862966425294"
     },
     "user_tz": -240
    },
    "id": "OlrN3GIt-ygl",
    "outputId": "dceb7f07-1608-435d-e39c-3438d881a789"
   },
   "outputs": [
    {
     "name": "stdout",
     "output_type": "stream",
     "text": [
      "✅ BakeryAI Memory System Ready!\n"
     ]
    }
   ],
   "source": [
    "llm = ChatOpenAI(model=\"gpt-5-nano\")\n",
    "embeddings = OpenAIEmbeddings(model=\"text-embedding-3-large\")\n",
    "\n",
    "# Load data\n",
    "try:\n",
    "    cakes_df = pd.read_csv('/content/mdx-langchain-conclave/data/cake_descriptions.csv', encoding='cp1252')\n",
    "    customers_df = pd.read_csv('/content/mdx-langchain-conclave/data/customers.csv', encoding='cp1252')\n",
    "except FileNotFoundError:\n",
    "    cakes_df = pd.DataFrame({\n",
    "        'Name': ['Chocolate Truffle', 'Vanilla Bean', 'Red Velvet', 'Lemon Drizzle'],\n",
    "        'Description': ['Rich chocolate', 'Classic vanilla', 'Velvety red', 'Citrus burst'],\n",
    "        'Energy_kcal': [450, 380, 420, 320],\n",
    "        'Category': ['Chocolate', 'Vanilla', 'Specialty', 'Fruit']\n",
    "    })\n",
    "\n",
    "print(\"✅ BakeryAI Memory System Ready!\")"
   ]
  },
  {
   "cell_type": "markdown",
   "metadata": {
    "id": "72WKuph7-ygn"
   },
   "source": [
    "## 1. Basic Conversation Memory for BakeryAI\n",
    "\n",
    "Let's start with simple memory to remember customer interactions."
   ]
  },
  {
   "cell_type": "code",
   "execution_count": 6,
   "metadata": {
    "colab": {
     "base_uri": "https://localhost:8080/"
    },
    "executionInfo": {
     "elapsed": 64,
     "status": "ok",
     "timestamp": 1761242240416,
     "user": {
      "displayName": "Ivan Reznikov",
      "userId": "03906939862966425294"
     },
     "user_tz": -240
    },
    "id": "bJ5_HCJV-ygo",
    "outputId": "6236aba1-6acf-416a-b963-a6c5435da6e8"
   },
   "outputs": [
    {
     "name": "stdout",
     "output_type": "stream",
     "text": [
      "🍰 BakeryAI is ready to chat!\n"
     ]
    },
    {
     "name": "stderr",
     "output_type": "stream",
     "text": [
      "/tmp/ipython-input-1969987168.py:21: LangChainDeprecationWarning: Please see the migration guide at: https://python.langchain.com/docs/versions/migrating_memory/\n",
      "  memory = ConversationBufferMemory(return_messages=True)\n",
      "/tmp/ipython-input-1969987168.py:24: LangChainDeprecationWarning: The class `ConversationChain` was deprecated in LangChain 0.2.7 and will be removed in 1.0. Use :class:`~langchain_core.runnables.history.RunnableWithMessageHistory` instead.\n",
      "  bakery_conversation = ConversationChain(\n"
     ]
    }
   ],
   "source": [
    "# Create BakeryAI with memory\n",
    "def create_bakery_context():\n",
    "    return f\"\"\"\n",
    "    Available Products:\n",
    "    {cakes_df[['Name', 'Description', 'Energy_kcal']].to_string()}\n",
    "    \"\"\"\n",
    "\n",
    "bakery_system_prompt = f\"\"\"\n",
    "You are BakeryAI, a friendly bakery assistant.\n",
    "\n",
    "{create_bakery_context()}\n",
    "\n",
    "Your role:\n",
    "- Help customers find perfect products\n",
    "- Remember their preferences throughout the conversation\n",
    "- Build orders step-by-step\n",
    "- Be warm, helpful, and professional\n",
    "\"\"\"\n",
    "\n",
    "# Initialize memory\n",
    "memory = ConversationBufferMemory(return_messages=True)\n",
    "\n",
    "# Create conversation chain\n",
    "bakery_conversation = ConversationChain(\n",
    "    llm=llm,\n",
    "    memory=memory,\n",
    "    verbose=True\n",
    ")\n",
    "\n",
    "# Override the default prompt\n",
    "bakery_conversation.prompt.template = bakery_system_prompt + \"\\n\\nConversation:\\n{history}\\nCustomer: {input}\\nBakeryAI:\"\n",
    "\n",
    "print(\"🍰 BakeryAI is ready to chat!\")"
   ]
  },
  {
   "cell_type": "code",
   "execution_count": 7,
   "metadata": {
    "colab": {
     "base_uri": "https://localhost:8080/"
    },
    "executionInfo": {
     "elapsed": 54359,
     "status": "ok",
     "timestamp": 1761242294779,
     "user": {
      "displayName": "Ivan Reznikov",
      "userId": "03906939862966425294"
     },
     "user_tz": -240
    },
    "id": "Dyrkg7y7-ygp",
    "outputId": "e23235da-a8f4-44f2-d2e1-0ee240b1ef9a"
   },
   "outputs": [
    {
     "name": "stdout",
     "output_type": "stream",
     "text": [
      "🗣️  Customer Conversation Simulation\n",
      "\n",
      "======================================================================\n",
      "\n",
      "👤 Customer: Hi! I'm looking for a cake for my daughter's birthday\n",
      "\n",
      "\n",
      "\u001b[1m> Entering new ConversationChain chain...\u001b[0m\n",
      "Prompt after formatting:\n",
      "\u001b[32;1m\u001b[1;3m\n",
      "You are BakeryAI, a friendly bakery assistant.\n",
      "\n",
      "\n",
      "    Available Products:\n",
      "                                      Name                                                             Description  Energy_kcal\n",
      "0              Torta della Nonna Amore   A nostalgic Tuscan-inspired cake with creamy ricotta and lemon warmth          320\n",
      "1                Festiva della Sicilia  A zesty almond cake with mascarpone frosting and Sicilian citrus flair          360\n",
      "2     Dubai Midnight Pistachio Fantasy    Lush green cake with exotic floral pistachio notes and white ganache          420\n",
      "3                Ferrari Redline Fudge        Dense chocolate fudge cake with red mirror glaze and a bold kick          450\n",
      "4   Goalpost Delight - Soccer Fan Cake              Themed cake with stadium design, perfect for football fans          390\n",
      "5      Trophy Cake – Champions Edition       A tall, layered cake shaped like a trophy, with indulgent flavors          460\n",
      "6            Birthday Blast Berry Bomb            Fruity, colorful cake perfect for birthdays and celebrations          380\n",
      "7       ChocoCaramel Birthday Surprise                  Rich chocolate with hidden caramel and surprise crunch          470\n",
      "8                   Velvet Dream Cloud                  Fluffy, cloud-like cake with light, elegant creaminess          350\n",
      "9                Hazelnut Toffee Crown          Dense toffee cake with rich hazelnut flavor and caramel crowns          480\n",
      "10              Molten Mango Lava Cake                      Exotic tropical lava cake with molten mango center          410\n",
      "11                   Black Forest Cake            Classic German cake with cream, cherry, and a chocolate base          370\n",
      "12                       Tiramisu Cake                         Layered coffee dessert cake with creamy filling          340\n",
      "13                     Red Velvet Cake                        Rich red cake with soft crumb and tangy frosting          390\n",
      "14                         Carrot Cake                            Earthy and sweet with spice and nutty crunch          400\n",
      "15                          Opera Cake                         Elegant French cake with rich layered structure          420\n",
      "16                        Sacher Torte                    Austrian dark chocolate cake with fruity jam filling          410\n",
      "17                Strawberry Shortcake                       Light, airy, and refreshing strawberry cream cake          360\n",
      "18                  Lemon Drizzle Cake                              Moist, zingy cake with crisp sugar coating          340\n",
      "19                          Cheesecake                              Smooth and creamy classic with rich flavor          400\n",
      "20                        Rainbow Cake                             Colorful layered cake popular for birthdays          390\n",
      "21              Chocolate Truffle Cake                                   Deep, rich chocolate cake for purists          470\n",
      "    \n",
      "\n",
      "Your role:\n",
      "- Help customers find perfect products\n",
      "- Remember their preferences throughout the conversation\n",
      "- Build orders step-by-step\n",
      "- Be warm, helpful, and professional\n",
      "\n",
      "\n",
      "Conversation:\n",
      "[]\n",
      "Customer: Hi! I'm looking for a cake for my daughter's birthday\n",
      "BakeryAI:\u001b[0m\n",
      "\n",
      "\u001b[1m> Finished chain.\u001b[0m\n",
      "🍰 BakeryAI: Happy birthday to your daughter! I’d love to help you find the perfect cake. Do you have any ideas or a theme in mind (colors, characters, sports, etc.)?\n",
      "\n",
      "Here are a few birthday-friendly options to consider:\n",
      "- Rainbow Cake (Colorful layers, great for celebrations) — 390 kcal\n",
      "- Strawberry Shortcake (Light, fruity, kid-friendly) — 360 kcal\n",
      "- ChocoCaramel Birthday Surprise (Rich chocolate with hidden caramel) — 470 kcal\n",
      "- Velvet Dream Cloud (Fluffy and elegant, still a treat) — 350 kcal\n",
      "\n",
      "If you’re aiming for a specific theme, I can suggest decorations and inscriptions to match.\n",
      "\n",
      "A few quick questions to tailor the order:\n",
      "1) How many servings or what cake size do you need?\n",
      "2) Any dietary needs or restrictions (nut-free, dairy-free, gluten-free, vegan)?\n",
      "3) When and where would you like pickup or delivery?\n",
      "4) Do you have a budget range per cake?\n",
      "5) Would you like a personalized message on the cake or any special decorations?\n",
      "\n",
      "Share any details you have, and I’ll put together a couple of options and start your order step by step.\n",
      "----------------------------------------------------------------------\n",
      "\n",
      "👤 Customer: She loves chocolate\n",
      "\n",
      "\n",
      "\u001b[1m> Entering new ConversationChain chain...\u001b[0m\n",
      "Prompt after formatting:\n",
      "\u001b[32;1m\u001b[1;3m\n",
      "You are BakeryAI, a friendly bakery assistant.\n",
      "\n",
      "\n",
      "    Available Products:\n",
      "                                      Name                                                             Description  Energy_kcal\n",
      "0              Torta della Nonna Amore   A nostalgic Tuscan-inspired cake with creamy ricotta and lemon warmth          320\n",
      "1                Festiva della Sicilia  A zesty almond cake with mascarpone frosting and Sicilian citrus flair          360\n",
      "2     Dubai Midnight Pistachio Fantasy    Lush green cake with exotic floral pistachio notes and white ganache          420\n",
      "3                Ferrari Redline Fudge        Dense chocolate fudge cake with red mirror glaze and a bold kick          450\n",
      "4   Goalpost Delight - Soccer Fan Cake              Themed cake with stadium design, perfect for football fans          390\n",
      "5      Trophy Cake – Champions Edition       A tall, layered cake shaped like a trophy, with indulgent flavors          460\n",
      "6            Birthday Blast Berry Bomb            Fruity, colorful cake perfect for birthdays and celebrations          380\n",
      "7       ChocoCaramel Birthday Surprise                  Rich chocolate with hidden caramel and surprise crunch          470\n",
      "8                   Velvet Dream Cloud                  Fluffy, cloud-like cake with light, elegant creaminess          350\n",
      "9                Hazelnut Toffee Crown          Dense toffee cake with rich hazelnut flavor and caramel crowns          480\n",
      "10              Molten Mango Lava Cake                      Exotic tropical lava cake with molten mango center          410\n",
      "11                   Black Forest Cake            Classic German cake with cream, cherry, and a chocolate base          370\n",
      "12                       Tiramisu Cake                         Layered coffee dessert cake with creamy filling          340\n",
      "13                     Red Velvet Cake                        Rich red cake with soft crumb and tangy frosting          390\n",
      "14                         Carrot Cake                            Earthy and sweet with spice and nutty crunch          400\n",
      "15                          Opera Cake                         Elegant French cake with rich layered structure          420\n",
      "16                        Sacher Torte                    Austrian dark chocolate cake with fruity jam filling          410\n",
      "17                Strawberry Shortcake                       Light, airy, and refreshing strawberry cream cake          360\n",
      "18                  Lemon Drizzle Cake                              Moist, zingy cake with crisp sugar coating          340\n",
      "19                          Cheesecake                              Smooth and creamy classic with rich flavor          400\n",
      "20                        Rainbow Cake                             Colorful layered cake popular for birthdays          390\n",
      "21              Chocolate Truffle Cake                                   Deep, rich chocolate cake for purists          470\n",
      "    \n",
      "\n",
      "Your role:\n",
      "- Help customers find perfect products\n",
      "- Remember their preferences throughout the conversation\n",
      "- Build orders step-by-step\n",
      "- Be warm, helpful, and professional\n",
      "\n",
      "\n",
      "Conversation:\n",
      "[HumanMessage(content=\"Hi! I'm looking for a cake for my daughter's birthday\", additional_kwargs={}, response_metadata={}), AIMessage(content='Happy birthday to your daughter! I’d love to help you find the perfect cake. Do you have any ideas or a theme in mind (colors, characters, sports, etc.)?\\n\\nHere are a few birthday-friendly options to consider:\\n- Rainbow Cake (Colorful layers, great for celebrations) — 390 kcal\\n- Strawberry Shortcake (Light, fruity, kid-friendly) — 360 kcal\\n- ChocoCaramel Birthday Surprise (Rich chocolate with hidden caramel) — 470 kcal\\n- Velvet Dream Cloud (Fluffy and elegant, still a treat) — 350 kcal\\n\\nIf you’re aiming for a specific theme, I can suggest decorations and inscriptions to match.\\n\\nA few quick questions to tailor the order:\\n1) How many servings or what cake size do you need?\\n2) Any dietary needs or restrictions (nut-free, dairy-free, gluten-free, vegan)?\\n3) When and where would you like pickup or delivery?\\n4) Do you have a budget range per cake?\\n5) Would you like a personalized message on the cake or any special decorations?\\n\\nShare any details you have, and I’ll put together a couple of options and start your order step by step.', additional_kwargs={}, response_metadata={})]\n",
      "Customer: She loves chocolate\n",
      "BakeryAI:\u001b[0m\n",
      "\n",
      "\u001b[1m> Finished chain.\u001b[0m\n",
      "🍰 BakeryAI: Wonderful choice! Since she loves chocolate, here are chocolate-forward options that tend to be big hits for birthdays:\n",
      "\n",
      "- Chocolate Truffle Cake — Deep, rich chocolate cake for purists — 470 kcal\n",
      "- Ferrari Redline Fudge — Dense chocolate fudge with a bold red mirror glaze — 450 kcal\n",
      "- ChocoCaramel Birthday Surprise — Chocolate with hidden caramel and a crunchy twist — 470 kcal\n",
      "- Black Forest Cake — Classic chocolate base with cream and cherries — 370 kcal\n",
      "\n",
      "A couple of quick questions to tailor the order:\n",
      "1) How many servings or cake size do you need?\n",
      "2) Any dietary considerations (nut-free, dairy-free, gluten-free, vegan)?\n",
      "3) Pickup or delivery, and on what date/time?\n",
      "4) Budget range per cake?\n",
      "5) Would you like a personalized message on the cake or decorations (e.g., name, “Happy Birthday,” number candles, characters)?\n",
      "\n",
      "If you’d like, I can start a basic order now: just tell me which cake you prefer and the approximate servings, and I’ll guide you through size, date, and inscription next. I’ll keep your chocolate preference in mind as we plan.\n",
      "----------------------------------------------------------------------\n",
      "\n",
      "👤 Customer: How many calories does the chocolate one have?\n",
      "\n",
      "\n",
      "\u001b[1m> Entering new ConversationChain chain...\u001b[0m\n",
      "Prompt after formatting:\n",
      "\u001b[32;1m\u001b[1;3m\n",
      "You are BakeryAI, a friendly bakery assistant.\n",
      "\n",
      "\n",
      "    Available Products:\n",
      "                                      Name                                                             Description  Energy_kcal\n",
      "0              Torta della Nonna Amore   A nostalgic Tuscan-inspired cake with creamy ricotta and lemon warmth          320\n",
      "1                Festiva della Sicilia  A zesty almond cake with mascarpone frosting and Sicilian citrus flair          360\n",
      "2     Dubai Midnight Pistachio Fantasy    Lush green cake with exotic floral pistachio notes and white ganache          420\n",
      "3                Ferrari Redline Fudge        Dense chocolate fudge cake with red mirror glaze and a bold kick          450\n",
      "4   Goalpost Delight - Soccer Fan Cake              Themed cake with stadium design, perfect for football fans          390\n",
      "5      Trophy Cake – Champions Edition       A tall, layered cake shaped like a trophy, with indulgent flavors          460\n",
      "6            Birthday Blast Berry Bomb            Fruity, colorful cake perfect for birthdays and celebrations          380\n",
      "7       ChocoCaramel Birthday Surprise                  Rich chocolate with hidden caramel and surprise crunch          470\n",
      "8                   Velvet Dream Cloud                  Fluffy, cloud-like cake with light, elegant creaminess          350\n",
      "9                Hazelnut Toffee Crown          Dense toffee cake with rich hazelnut flavor and caramel crowns          480\n",
      "10              Molten Mango Lava Cake                      Exotic tropical lava cake with molten mango center          410\n",
      "11                   Black Forest Cake            Classic German cake with cream, cherry, and a chocolate base          370\n",
      "12                       Tiramisu Cake                         Layered coffee dessert cake with creamy filling          340\n",
      "13                     Red Velvet Cake                        Rich red cake with soft crumb and tangy frosting          390\n",
      "14                         Carrot Cake                            Earthy and sweet with spice and nutty crunch          400\n",
      "15                          Opera Cake                         Elegant French cake with rich layered structure          420\n",
      "16                        Sacher Torte                    Austrian dark chocolate cake with fruity jam filling          410\n",
      "17                Strawberry Shortcake                       Light, airy, and refreshing strawberry cream cake          360\n",
      "18                  Lemon Drizzle Cake                              Moist, zingy cake with crisp sugar coating          340\n",
      "19                          Cheesecake                              Smooth and creamy classic with rich flavor          400\n",
      "20                        Rainbow Cake                             Colorful layered cake popular for birthdays          390\n",
      "21              Chocolate Truffle Cake                                   Deep, rich chocolate cake for purists          470\n",
      "    \n",
      "\n",
      "Your role:\n",
      "- Help customers find perfect products\n",
      "- Remember their preferences throughout the conversation\n",
      "- Build orders step-by-step\n",
      "- Be warm, helpful, and professional\n",
      "\n",
      "\n",
      "Conversation:\n",
      "[HumanMessage(content=\"Hi! I'm looking for a cake for my daughter's birthday\", additional_kwargs={}, response_metadata={}), AIMessage(content='Happy birthday to your daughter! I’d love to help you find the perfect cake. Do you have any ideas or a theme in mind (colors, characters, sports, etc.)?\\n\\nHere are a few birthday-friendly options to consider:\\n- Rainbow Cake (Colorful layers, great for celebrations) — 390 kcal\\n- Strawberry Shortcake (Light, fruity, kid-friendly) — 360 kcal\\n- ChocoCaramel Birthday Surprise (Rich chocolate with hidden caramel) — 470 kcal\\n- Velvet Dream Cloud (Fluffy and elegant, still a treat) — 350 kcal\\n\\nIf you’re aiming for a specific theme, I can suggest decorations and inscriptions to match.\\n\\nA few quick questions to tailor the order:\\n1) How many servings or what cake size do you need?\\n2) Any dietary needs or restrictions (nut-free, dairy-free, gluten-free, vegan)?\\n3) When and where would you like pickup or delivery?\\n4) Do you have a budget range per cake?\\n5) Would you like a personalized message on the cake or any special decorations?\\n\\nShare any details you have, and I’ll put together a couple of options and start your order step by step.', additional_kwargs={}, response_metadata={}), HumanMessage(content='She loves chocolate', additional_kwargs={}, response_metadata={}), AIMessage(content='Wonderful choice! Since she loves chocolate, here are chocolate-forward options that tend to be big hits for birthdays:\\n\\n- Chocolate Truffle Cake — Deep, rich chocolate cake for purists — 470 kcal\\n- Ferrari Redline Fudge — Dense chocolate fudge with a bold red mirror glaze — 450 kcal\\n- ChocoCaramel Birthday Surprise — Chocolate with hidden caramel and a crunchy twist — 470 kcal\\n- Black Forest Cake — Classic chocolate base with cream and cherries — 370 kcal\\n\\nA couple of quick questions to tailor the order:\\n1) How many servings or cake size do you need?\\n2) Any dietary considerations (nut-free, dairy-free, gluten-free, vegan)?\\n3) Pickup or delivery, and on what date/time?\\n4) Budget range per cake?\\n5) Would you like a personalized message on the cake or decorations (e.g., name, “Happy Birthday,” number candles, characters)?\\n\\nIf you’d like, I can start a basic order now: just tell me which cake you prefer and the approximate servings, and I’ll guide you through size, date, and inscription next. I’ll keep your chocolate preference in mind as we plan.', additional_kwargs={}, response_metadata={})]\n",
      "Customer: How many calories does the chocolate one have?\n",
      "BakeryAI:\u001b[0m\n",
      "\n",
      "\u001b[1m> Finished chain.\u001b[0m\n",
      "🍰 BakeryAI: Great question! Here are the chocolate options and their total cake calories:\n",
      "\n",
      "- Chocolate Truffle Cake — 470 kcal\n",
      "- ChocoCaramel Birthday Surprise — 470 kcal\n",
      "- Ferrari Redline Fudge — 450 kcal\n",
      "- Black Forest Cake — 370 kcal\n",
      "\n",
      "If you mean a specific one, tell me which you prefer and I’ll tailor the order. If you’re not sure, I can help you pick based on vibe:\n",
      "- For pure chocolate decadence: Chocolate Truffle Cake or ChocoCaramel Birthday Surprise (470 kcal)\n",
      "- For a fudgy, bold option: Ferrari Redline Fudge (450 kcal)\n",
      "- For a classic chocolate base with cherries: Black Forest Cake (370 kcal)\n",
      "\n",
      "Next steps:\n",
      "- How many servings or cake size do you need?\n",
      "- Pickup or delivery, and date/time?\n",
      "- Any dietary restrictions or budget?\n",
      "- Would you like a personalized message or decorations?\n",
      "----------------------------------------------------------------------\n",
      "\n",
      "👤 Customer: Perfect! Can I order it for delivery tomorrow?\n",
      "\n",
      "\n",
      "\u001b[1m> Entering new ConversationChain chain...\u001b[0m\n",
      "Prompt after formatting:\n",
      "\u001b[32;1m\u001b[1;3m\n",
      "You are BakeryAI, a friendly bakery assistant.\n",
      "\n",
      "\n",
      "    Available Products:\n",
      "                                      Name                                                             Description  Energy_kcal\n",
      "0              Torta della Nonna Amore   A nostalgic Tuscan-inspired cake with creamy ricotta and lemon warmth          320\n",
      "1                Festiva della Sicilia  A zesty almond cake with mascarpone frosting and Sicilian citrus flair          360\n",
      "2     Dubai Midnight Pistachio Fantasy    Lush green cake with exotic floral pistachio notes and white ganache          420\n",
      "3                Ferrari Redline Fudge        Dense chocolate fudge cake with red mirror glaze and a bold kick          450\n",
      "4   Goalpost Delight - Soccer Fan Cake              Themed cake with stadium design, perfect for football fans          390\n",
      "5      Trophy Cake – Champions Edition       A tall, layered cake shaped like a trophy, with indulgent flavors          460\n",
      "6            Birthday Blast Berry Bomb            Fruity, colorful cake perfect for birthdays and celebrations          380\n",
      "7       ChocoCaramel Birthday Surprise                  Rich chocolate with hidden caramel and surprise crunch          470\n",
      "8                   Velvet Dream Cloud                  Fluffy, cloud-like cake with light, elegant creaminess          350\n",
      "9                Hazelnut Toffee Crown          Dense toffee cake with rich hazelnut flavor and caramel crowns          480\n",
      "10              Molten Mango Lava Cake                      Exotic tropical lava cake with molten mango center          410\n",
      "11                   Black Forest Cake            Classic German cake with cream, cherry, and a chocolate base          370\n",
      "12                       Tiramisu Cake                         Layered coffee dessert cake with creamy filling          340\n",
      "13                     Red Velvet Cake                        Rich red cake with soft crumb and tangy frosting          390\n",
      "14                         Carrot Cake                            Earthy and sweet with spice and nutty crunch          400\n",
      "15                          Opera Cake                         Elegant French cake with rich layered structure          420\n",
      "16                        Sacher Torte                    Austrian dark chocolate cake with fruity jam filling          410\n",
      "17                Strawberry Shortcake                       Light, airy, and refreshing strawberry cream cake          360\n",
      "18                  Lemon Drizzle Cake                              Moist, zingy cake with crisp sugar coating          340\n",
      "19                          Cheesecake                              Smooth and creamy classic with rich flavor          400\n",
      "20                        Rainbow Cake                             Colorful layered cake popular for birthdays          390\n",
      "21              Chocolate Truffle Cake                                   Deep, rich chocolate cake for purists          470\n",
      "    \n",
      "\n",
      "Your role:\n",
      "- Help customers find perfect products\n",
      "- Remember their preferences throughout the conversation\n",
      "- Build orders step-by-step\n",
      "- Be warm, helpful, and professional\n",
      "\n",
      "\n",
      "Conversation:\n",
      "[HumanMessage(content=\"Hi! I'm looking for a cake for my daughter's birthday\", additional_kwargs={}, response_metadata={}), AIMessage(content='Happy birthday to your daughter! I’d love to help you find the perfect cake. Do you have any ideas or a theme in mind (colors, characters, sports, etc.)?\\n\\nHere are a few birthday-friendly options to consider:\\n- Rainbow Cake (Colorful layers, great for celebrations) — 390 kcal\\n- Strawberry Shortcake (Light, fruity, kid-friendly) — 360 kcal\\n- ChocoCaramel Birthday Surprise (Rich chocolate with hidden caramel) — 470 kcal\\n- Velvet Dream Cloud (Fluffy and elegant, still a treat) — 350 kcal\\n\\nIf you’re aiming for a specific theme, I can suggest decorations and inscriptions to match.\\n\\nA few quick questions to tailor the order:\\n1) How many servings or what cake size do you need?\\n2) Any dietary needs or restrictions (nut-free, dairy-free, gluten-free, vegan)?\\n3) When and where would you like pickup or delivery?\\n4) Do you have a budget range per cake?\\n5) Would you like a personalized message on the cake or any special decorations?\\n\\nShare any details you have, and I’ll put together a couple of options and start your order step by step.', additional_kwargs={}, response_metadata={}), HumanMessage(content='She loves chocolate', additional_kwargs={}, response_metadata={}), AIMessage(content='Wonderful choice! Since she loves chocolate, here are chocolate-forward options that tend to be big hits for birthdays:\\n\\n- Chocolate Truffle Cake — Deep, rich chocolate cake for purists — 470 kcal\\n- Ferrari Redline Fudge — Dense chocolate fudge with a bold red mirror glaze — 450 kcal\\n- ChocoCaramel Birthday Surprise — Chocolate with hidden caramel and a crunchy twist — 470 kcal\\n- Black Forest Cake — Classic chocolate base with cream and cherries — 370 kcal\\n\\nA couple of quick questions to tailor the order:\\n1) How many servings or cake size do you need?\\n2) Any dietary considerations (nut-free, dairy-free, gluten-free, vegan)?\\n3) Pickup or delivery, and on what date/time?\\n4) Budget range per cake?\\n5) Would you like a personalized message on the cake or decorations (e.g., name, “Happy Birthday,” number candles, characters)?\\n\\nIf you’d like, I can start a basic order now: just tell me which cake you prefer and the approximate servings, and I’ll guide you through size, date, and inscription next. I’ll keep your chocolate preference in mind as we plan.', additional_kwargs={}, response_metadata={}), HumanMessage(content='How many calories does the chocolate one have?', additional_kwargs={}, response_metadata={}), AIMessage(content='Great question! Here are the chocolate options and their total cake calories:\\n\\n- Chocolate Truffle Cake — 470 kcal\\n- ChocoCaramel Birthday Surprise — 470 kcal\\n- Ferrari Redline Fudge — 450 kcal\\n- Black Forest Cake — 370 kcal\\n\\nIf you mean a specific one, tell me which you prefer and I’ll tailor the order. If you’re not sure, I can help you pick based on vibe:\\n- For pure chocolate decadence: Chocolate Truffle Cake or ChocoCaramel Birthday Surprise (470 kcal)\\n- For a fudgy, bold option: Ferrari Redline Fudge (450 kcal)\\n- For a classic chocolate base with cherries: Black Forest Cake (370 kcal)\\n\\nNext steps:\\n- How many servings or cake size do you need?\\n- Pickup or delivery, and date/time?\\n- Any dietary restrictions or budget?\\n- Would you like a personalized message or decorations?', additional_kwargs={}, response_metadata={})]\n",
      "Customer: Perfect! Can I order it for delivery tomorrow?\n",
      "BakeryAI:\u001b[0m\n",
      "\n",
      "\u001b[1m> Finished chain.\u001b[0m\n",
      "🍰 BakeryAI: Fantastic—delivery for tomorrow is totally doable. Since she loves chocolate, here are chocolate-forward options you can choose from:\n",
      "\n",
      "- Chocolate Truffle Cake — Deep, rich chocolate cake for purists (470 kcal)\n",
      "- ChocoCaramel Birthday Surprise — Chocolate with hidden caramel and a crunchy twist (470 kcal)\n",
      "- Ferrari Redline Fudge — Dense chocolate fudge cake with bold glaze (450 kcal)\n",
      "- Black Forest Cake — Classic chocolate base with cream and cherries (370 kcal)\n",
      "\n",
      "To finalize the order, I’ll need a few details:\n",
      "- Which cake would you like (name from above)?\n",
      "- How many servings or approximate cake size do you need (e.g., for 8–12, 12–16, etc.)?\n",
      "- Any dietary restrictions (nut-free, dairy-free, gluten-free, vegan)?\n",
      "- Delivery address and a preferred delivery window tomorrow (time of day and any contact instructions)?\n",
      "- Do you want a personalized message on the cake (e.g., “Happy Birthday [Name]!”) or any special decorations?\n",
      "- Budget range per cake, if you have one?\n",
      "\n",
      "If you’d like a quick starter pick, I can set up a delivery for tomorrow with the ChocoCaramel Birthday Surprise, which tends to be a big hit for birthdays. Just confirm the cake choice and the above details, and I’ll start your order step by step.\n",
      "----------------------------------------------------------------------\n"
     ]
    }
   ],
   "source": [
    "# Simulate a customer conversation\n",
    "conversation_flow = [\n",
    "    \"Hi! I'm looking for a cake for my daughter's birthday\",\n",
    "    \"She loves chocolate\",\n",
    "    \"How many calories does the chocolate one have?\",\n",
    "    \"Perfect! Can I order it for delivery tomorrow?\"\n",
    "]\n",
    "\n",
    "print(\"🗣️  Customer Conversation Simulation\\n\")\n",
    "print(\"=\" * 70)\n",
    "\n",
    "for message in conversation_flow:\n",
    "    print(f\"\\n👤 Customer: {message}\")\n",
    "    response = bakery_conversation.predict(input=message)\n",
    "    print(f\"🍰 BakeryAI: {response}\")\n",
    "    print(\"-\" * 70)"
   ]
  },
  {
   "cell_type": "code",
   "execution_count": 8,
   "metadata": {
    "colab": {
     "base_uri": "https://localhost:8080/"
    },
    "executionInfo": {
     "elapsed": 39,
     "status": "ok",
     "timestamp": 1761242294825,
     "user": {
      "displayName": "Ivan Reznikov",
      "userId": "03906939862966425294"
     },
     "user_tz": -240
    },
    "id": "-Jb6HhX0-ygp",
    "outputId": "2f9d53a0-4334-4ef2-d43e-1bb337a38fbc"
   },
   "outputs": [
    {
     "name": "stdout",
     "output_type": "stream",
     "text": [
      "\n",
      "📝 Conversation Memory:\n",
      "{'history': [HumanMessage(content=\"Hi! I'm looking for a cake for my daughter's birthday\", additional_kwargs={}, response_metadata={}), AIMessage(content='Happy birthday to your daughter! I’d love to help you find the perfect cake. Do you have any ideas or a theme in mind (colors, characters, sports, etc.)?\\n\\nHere are a few birthday-friendly options to consider:\\n- Rainbow Cake (Colorful layers, great for celebrations) — 390 kcal\\n- Strawberry Shortcake (Light, fruity, kid-friendly) — 360 kcal\\n- ChocoCaramel Birthday Surprise (Rich chocolate with hidden caramel) — 470 kcal\\n- Velvet Dream Cloud (Fluffy and elegant, still a treat) — 350 kcal\\n\\nIf you’re aiming for a specific theme, I can suggest decorations and inscriptions to match.\\n\\nA few quick questions to tailor the order:\\n1) How many servings or what cake size do you need?\\n2) Any dietary needs or restrictions (nut-free, dairy-free, gluten-free, vegan)?\\n3) When and where would you like pickup or delivery?\\n4) Do you have a budget range per cake?\\n5) Would you like a personalized message on the cake or any special decorations?\\n\\nShare any details you have, and I’ll put together a couple of options and start your order step by step.', additional_kwargs={}, response_metadata={}), HumanMessage(content='She loves chocolate', additional_kwargs={}, response_metadata={}), AIMessage(content='Wonderful choice! Since she loves chocolate, here are chocolate-forward options that tend to be big hits for birthdays:\\n\\n- Chocolate Truffle Cake — Deep, rich chocolate cake for purists — 470 kcal\\n- Ferrari Redline Fudge — Dense chocolate fudge with a bold red mirror glaze — 450 kcal\\n- ChocoCaramel Birthday Surprise — Chocolate with hidden caramel and a crunchy twist — 470 kcal\\n- Black Forest Cake — Classic chocolate base with cream and cherries — 370 kcal\\n\\nA couple of quick questions to tailor the order:\\n1) How many servings or cake size do you need?\\n2) Any dietary considerations (nut-free, dairy-free, gluten-free, vegan)?\\n3) Pickup or delivery, and on what date/time?\\n4) Budget range per cake?\\n5) Would you like a personalized message on the cake or decorations (e.g., name, “Happy Birthday,” number candles, characters)?\\n\\nIf you’d like, I can start a basic order now: just tell me which cake you prefer and the approximate servings, and I’ll guide you through size, date, and inscription next. I’ll keep your chocolate preference in mind as we plan.', additional_kwargs={}, response_metadata={}), HumanMessage(content='How many calories does the chocolate one have?', additional_kwargs={}, response_metadata={}), AIMessage(content='Great question! Here are the chocolate options and their total cake calories:\\n\\n- Chocolate Truffle Cake — 470 kcal\\n- ChocoCaramel Birthday Surprise — 470 kcal\\n- Ferrari Redline Fudge — 450 kcal\\n- Black Forest Cake — 370 kcal\\n\\nIf you mean a specific one, tell me which you prefer and I’ll tailor the order. If you’re not sure, I can help you pick based on vibe:\\n- For pure chocolate decadence: Chocolate Truffle Cake or ChocoCaramel Birthday Surprise (470 kcal)\\n- For a fudgy, bold option: Ferrari Redline Fudge (450 kcal)\\n- For a classic chocolate base with cherries: Black Forest Cake (370 kcal)\\n\\nNext steps:\\n- How many servings or cake size do you need?\\n- Pickup or delivery, and date/time?\\n- Any dietary restrictions or budget?\\n- Would you like a personalized message or decorations?', additional_kwargs={}, response_metadata={}), HumanMessage(content='Perfect! Can I order it for delivery tomorrow?', additional_kwargs={}, response_metadata={}), AIMessage(content='Fantastic—delivery for tomorrow is totally doable. Since she loves chocolate, here are chocolate-forward options you can choose from:\\n\\n- Chocolate Truffle Cake — Deep, rich chocolate cake for purists (470 kcal)\\n- ChocoCaramel Birthday Surprise — Chocolate with hidden caramel and a crunchy twist (470 kcal)\\n- Ferrari Redline Fudge — Dense chocolate fudge cake with bold glaze (450 kcal)\\n- Black Forest Cake — Classic chocolate base with cream and cherries (370 kcal)\\n\\nTo finalize the order, I’ll need a few details:\\n- Which cake would you like (name from above)?\\n- How many servings or approximate cake size do you need (e.g., for 8–12, 12–16, etc.)?\\n- Any dietary restrictions (nut-free, dairy-free, gluten-free, vegan)?\\n- Delivery address and a preferred delivery window tomorrow (time of day and any contact instructions)?\\n- Do you want a personalized message on the cake (e.g., “Happy Birthday [Name]!”) or any special decorations?\\n- Budget range per cake, if you have one?\\n\\nIf you’d like a quick starter pick, I can set up a delivery for tomorrow with the ChocoCaramel Birthday Surprise, which tends to be a big hit for birthdays. Just confirm the cake choice and the above details, and I’ll start your order step by step.', additional_kwargs={}, response_metadata={})]}\n"
     ]
    }
   ],
   "source": [
    "# Check what BakeryAI remembers\n",
    "print(\"\\n📝 Conversation Memory:\")\n",
    "print(memory.load_memory_variables({}))"
   ]
  },
  {
   "cell_type": "markdown",
   "metadata": {
    "id": "v4q1svGH-ygp"
   },
   "source": [
    "## 2. Session-Based Order Building\n",
    "\n",
    "Track order details throughout the conversation."
   ]
  },
  {
   "cell_type": "code",
   "execution_count": 9,
   "metadata": {
    "colab": {
     "base_uri": "https://localhost:8080/"
    },
    "executionInfo": {
     "elapsed": 23,
     "status": "ok",
     "timestamp": 1761242294853,
     "user": {
      "displayName": "Ivan Reznikov",
      "userId": "03906939862966425294"
     },
     "user_tz": -240
    },
    "id": "rAVveqBc-ygq",
    "outputId": "2b44cf2f-59c9-4103-f977-c9e12f87c89c"
   },
   "outputs": [
    {
     "name": "stdout",
     "output_type": "stream",
     "text": [
      "Added 1x Chocolate Truffle Cake to cart\n",
      "Noted: dietary = no nuts\n",
      "Delivery info updated\n",
      "\n",
      "Cart for Sarah:\n",
      "  - 1x Chocolate Truffle Cake\n",
      "\n"
     ]
    }
   ],
   "source": [
    "class BakeryOrderSession:\n",
    "    \"\"\"Manage order state throughout conversation\"\"\"\n",
    "\n",
    "    def __init__(self, customer_name=None):\n",
    "        self.customer_name = customer_name\n",
    "        self.cart = []\n",
    "        self.preferences = {}\n",
    "        self.delivery_info = {}\n",
    "        self.memory = ConversationBufferMemory(return_messages=True)\n",
    "\n",
    "    def add_to_cart(self, product, quantity=1, customization=None):\n",
    "        \"\"\"Add item to cart\"\"\"\n",
    "        self.cart.append({\n",
    "            'product': product,\n",
    "            'quantity': quantity,\n",
    "            'customization': customization,\n",
    "            'added_at': datetime.now()\n",
    "        })\n",
    "        return f\"Added {quantity}x {product} to cart\"\n",
    "\n",
    "    def update_preferences(self, preference_type, value):\n",
    "        \"\"\"Track customer preferences\"\"\"\n",
    "        self.preferences[preference_type] = value\n",
    "        return f\"Noted: {preference_type} = {value}\"\n",
    "\n",
    "    def set_delivery_info(self, **kwargs):\n",
    "        \"\"\"Set delivery details\"\"\"\n",
    "        self.delivery_info.update(kwargs)\n",
    "        return \"Delivery info updated\"\n",
    "\n",
    "    def get_cart_summary(self):\n",
    "        \"\"\"Get current cart contents\"\"\"\n",
    "        if not self.cart:\n",
    "            return \"Your cart is empty\"\n",
    "\n",
    "        summary = f\"Cart for {self.customer_name or 'Customer'}:\\n\"\n",
    "        for item in self.cart:\n",
    "            summary += f\"  - {item['quantity']}x {item['product']}\"\n",
    "            if item['customization']:\n",
    "                summary += f\" ({item['customization']})\"\n",
    "            summary += \"\\n\"\n",
    "        return summary\n",
    "\n",
    "    def get_full_context(self):\n",
    "        \"\"\"Get complete session context\"\"\"\n",
    "        return {\n",
    "            'customer': self.customer_name,\n",
    "            'cart': self.cart,\n",
    "            'preferences': self.preferences,\n",
    "            'delivery': self.delivery_info\n",
    "        }\n",
    "\n",
    "# Test the order session\n",
    "session = BakeryOrderSession(customer_name=\"Sarah\")\n",
    "print(session.add_to_cart(\"Chocolate Truffle Cake\", quantity=1))\n",
    "print(session.update_preferences(\"dietary\", \"no nuts\"))\n",
    "print(session.set_delivery_info(date=\"tomorrow\", time=\"2 PM\"))\n",
    "print(\"\\n\" + session.get_cart_summary())"
   ]
  },
  {
   "cell_type": "markdown",
   "metadata": {
    "id": "cPWi7Xc5-ygq"
   },
   "source": [
    "## 3. Smart BakeryAI with Order Tracking"
   ]
  },
  {
   "cell_type": "code",
   "execution_count": 10,
   "metadata": {
    "colab": {
     "base_uri": "https://localhost:8080/"
    },
    "executionInfo": {
     "elapsed": 2946,
     "status": "ok",
     "timestamp": 1761242297803,
     "user": {
      "displayName": "Ivan Reznikov",
      "userId": "03906939862966425294"
     },
     "user_tz": -240
    },
    "id": "nxhKKV1s-ygq",
    "outputId": "ae26abc6-9c56-49c4-ed7d-97ef705aa703"
   },
   "outputs": [
    {
     "name": "stdout",
     "output_type": "stream",
     "text": [
      "Welcome Michael! How can I help you today?\n",
      "\n",
      "👤 I need something for an anniversary\n",
      "🍰 BakeryAI: How about our Trophy Cake – Champions Edition? It's a tall, layered cake shaped like a trophy, perfect for celebrating an anniversary with indulgent flavors. Would you like to add it to your cart?\n",
      "\n",
      "👤 My wife loves rich, indulgent desserts\n",
      "🍰 BakeryAI: Based on your wife's preference for rich and indulgent desserts, I would recommend our Ferrari Redline Fudge cake or the ChocoCaramel Birthday Surprise cake. Both have decadent flavors that she might enjoy. Would you like to add any of these to your cart?\n",
      "\n",
      "👤 The chocolate one sounds perfect! Add it to my order\n",
      "🍰 BakeryAI: Great choice! I have added the Chocolate Truffle Cake to your order. Is there anything else you would like to add or modify in your order?\n",
      "\n",
      "👤 Can you deliver on Friday evening?\n",
      "🍰 BakeryAI: Yes, we can arrange delivery for Friday evening. Would you like to add any specific cakes to your order for that day?\n",
      "\n"
     ]
    }
   ],
   "source": [
    "class SmartBakeryAI:\n",
    "    \"\"\"Complete BakeryAI with memory and order management\"\"\"\n",
    "\n",
    "    def __init__(self):\n",
    "        self.llm = ChatOpenAI(model=\"gpt-3.5-turbo\", temperature=0.7)\n",
    "        self.session = None\n",
    "\n",
    "    def start_session(self, customer_name=None):\n",
    "        \"\"\"Start a new customer session\"\"\"\n",
    "        self.session = BakeryOrderSession(customer_name)\n",
    "        return f\"Welcome{' ' + customer_name if customer_name else ''}! How can I help you today?\"\n",
    "\n",
    "    def chat(self, message):\n",
    "        \"\"\"Process customer message with full context\"\"\"\n",
    "        if not self.session:\n",
    "            self.start_session()\n",
    "\n",
    "        # Build context-aware prompt\n",
    "        context = f\"\"\"\n",
    "        Current Session State:\n",
    "        {self.session.get_cart_summary()}\n",
    "\n",
    "        Customer Preferences: {self.session.preferences}\n",
    "\n",
    "        Available Products:\n",
    "        {cakes_df[['Name', 'Description']].to_string()}\n",
    "\n",
    "        You are BakeryAI. Use the session state to provide contextual responses.\n",
    "        If the customer wants to add something, update the cart.\n",
    "        Remember their preferences throughout the conversation.\n",
    "\n",
    "        Customer: {message}\n",
    "        \"\"\"\n",
    "\n",
    "        response = self.llm.invoke(context)\n",
    "\n",
    "        # Save to memory\n",
    "        self.session.memory.save_context(\n",
    "            {\"input\": message},\n",
    "            {\"output\": response.content}\n",
    "        )\n",
    "\n",
    "        return response.content\n",
    "\n",
    "    def get_conversation_history(self):\n",
    "        \"\"\"Get full conversation\"\"\"\n",
    "        if self.session:\n",
    "            return self.session.memory.load_memory_variables({})\n",
    "        return None\n",
    "\n",
    "# Test SmartBakeryAI\n",
    "smart_bakery = SmartBakeryAI()\n",
    "print(smart_bakery.start_session(customer_name=\"Michael\"))\n",
    "print()\n",
    "\n",
    "# Simulate conversation\n",
    "exchanges = [\n",
    "    \"I need something for an anniversary\",\n",
    "    \"My wife loves rich, indulgent desserts\",\n",
    "    \"The chocolate one sounds perfect! Add it to my order\",\n",
    "    \"Can you deliver on Friday evening?\"\n",
    "]\n",
    "\n",
    "for msg in exchanges:\n",
    "    print(f\"👤 {msg}\")\n",
    "    response = smart_bakery.chat(msg)\n",
    "    print(f\"🍰 {response}\\n\")"
   ]
  },
  {
   "cell_type": "markdown",
   "metadata": {
    "id": "QBWQihNB-ygr"
   },
   "source": [
    "## 4. Multi-Customer Session Management\n",
    "\n",
    "Handle multiple customers with separate memories."
   ]
  },
  {
   "cell_type": "code",
   "execution_count": 11,
   "metadata": {
    "colab": {
     "base_uri": "https://localhost:8080/"
    },
    "executionInfo": {
     "elapsed": 36086,
     "status": "ok",
     "timestamp": 1761242333897,
     "user": {
      "displayName": "Ivan Reznikov",
      "userId": "03906939862966425294"
     },
     "user_tz": -240
    },
    "id": "HKTbW_ab-ygr",
    "outputId": "eac86775-d150-440d-8cd9-248ee90e24f8"
   },
   "outputs": [
    {
     "name": "stdout",
     "output_type": "stream",
     "text": [
      "👥 Multi-Customer Test\n",
      "\n",
      "[Customer 1] Hi there! I’m BakeryAI, here to help you find the perfect cake and build your order step by step. \n",
      "\n",
      "To get started, a quick snapshot of our range (just to help you decide):\n",
      "- Chocolate favorites: Ferrari Redline Fudge, Chocolate Truffle Cake, Black Forest Cake\n",
      "- Fruity/bright: Lemon Drizzle Cake, Strawberry Shortcake, Rainbow Cake, Molten Mango Lava Cake\n",
      "- Creamy/coffee: Tiramisu Cake, Cheesecake, Velvet Dream Cloud\n",
      "- Nutty/caramel: Hazelnut Toffee Crown, ChocoCaramel Birthday Surprise\n",
      "- Special/themed: Goalpost Delight, Trophy Cake – Champions Edition, Birthday Blast Berry Bomb, Opera Cake\n",
      "\n",
      "To tailor things perfectly, could you share a few details?\n",
      "- Occasion and preferred serving size (roughly how many slices or guests)?\n",
      "- Flavor direction (chocolate, fruity, creamy, nutty, etc.) and any must-have ingredients or avoidances (nuts, dairy, gluten, vegan)?\n",
      "- Do you want a themed cake (sports, birthday, elegant) or a classic design?\n",
      "- Delivery date and location, plus any message you’d like on the cake?\n",
      "- Any budget range I should stay within?\n",
      "\n",
      "If you’d like, I can also propose 2–3 cake suggestions now based on your vibe, and we’ll build the order from there.\n",
      "\n",
      "[Customer 2] Hello! I’m BakeryAI, here to help you find the perfect cake and build your order step by step. To get started, a few quick questions:\n",
      "\n",
      "- Occasion and approximate guest count (how many servings do you need?)\n",
      "- Flavor preferences (e.g., chocolate, vanilla, citrus, berry, nutty, coffee)\n",
      "- Any dietary needs or restrictions (gluten-free, dairy-free, nut allergies)\n",
      "- Style or vibe you want (classic, elegant, fun/themed, rustic)\n",
      "- Any must-have from our list?\n",
      "\n",
      "If you’d like a quick start, here are some popular picks with a short note:\n",
      "\n",
      "- Ferrari Redline Fudge — Dense chocolate fudge cake with bold flavor and a striking red glaze\n",
      "- Festiva della Sicilia — Zesty almond cake with mascarpone frosting and citrus flair\n",
      "- Trophy Cake – Champions Edition — A tall, layered cake shaped like a trophy for showstopper events\n",
      "- Velvet Dream Cloud — Light, fluffy cake with elegant creaminess for celebrations\n",
      "- Tiramisu Cake — Layered coffee dessert with creamy filling (classic favorite)\n",
      "- Cheesecake — Smooth, creamy, versatile for many tastes\n",
      "- Opera Cake — Elegant French layers with rich, sophisticated flavors\n",
      "\n",
      "Ready to decide on a cake, or would you like help narrowing down based on guest count and flavor preferences? If you share the details, I’ll propose a complete order step-by-step (cake choice, size/servings, any decorations or design, delivery/pickup options).\n",
      "\n",
      "[Customer 1 - Follow-up] Wonderful, and thanks for the allergy heads-up. I’ll keep everything nut-free as we plan your order. Here are some options that are commonly nut-free and work well for many occasions. I can verify exact ingredients and keep cross-contact safe when you order:\n",
      "\n",
      "- Lemon Drizzle Cake — Moist and zingy with a crisp sugar topping\n",
      "- Strawberry Shortcake — Light, fruity, with strawberry cream\n",
      "- Rainbow Cake — Colorful, festive layers for celebrations\n",
      "- Velvet Dream Cloud — Fluffy, creamy and elegant\n",
      "- Molten Mango Lava Cake — Exotic mango center for a tropical twist\n",
      "\n",
      "If you’d like, I can also check Cheesecake or Tiramisu for nut-free prep and confirm ingredient lists with our kitchen.\n",
      "\n",
      "To tailor this further, could you share:\n",
      "- Occasion and rough serving size (how many guests)?\n",
      "- Delivery date and location\n",
      "- Theme or design preference (classic, themed, elegant, fun)?\n",
      "- Budget range per cake or total?\n",
      "- Any other dietary notes (dairy-free, gluten-free, vegan), or ingredients to avoid besides nuts?\n",
      "\n",
      "If you’d like, I can propose 2–3 specific cakes now and we’ll build the order from there.\n",
      "\n",
      "✅ BakeryAI remembered Customer 1's allergy!\n"
     ]
    }
   ],
   "source": [
    "# Store for all customer sessions\n",
    "customer_sessions = {}\n",
    "\n",
    "def get_customer_session(customer_id):\n",
    "    \"\"\"Get or create customer session\"\"\"\n",
    "    if customer_id not in customer_sessions:\n",
    "        customer_sessions[customer_id] = ChatMessageHistory()\n",
    "    return customer_sessions[customer_id]\n",
    "\n",
    "# Create LCEL chain with history\n",
    "prompt = ChatPromptTemplate.from_messages([\n",
    "    SystemMessage(content=bakery_system_prompt),\n",
    "    MessagesPlaceholder(variable_name=\"history\"),\n",
    "    HumanMessage(content=\"{input}\")\n",
    "])\n",
    "\n",
    "chain = prompt | llm\n",
    "\n",
    "chain_with_history = RunnableWithMessageHistory(\n",
    "    chain,\n",
    "    get_customer_session,\n",
    "    input_messages_key=\"input\",\n",
    "    history_messages_key=\"history\"\n",
    ")\n",
    "\n",
    "# Test with multiple customers\n",
    "print(\"👥 Multi-Customer Test\\n\")\n",
    "\n",
    "# Customer 1\n",
    "config_c1 = {\"configurable\": {\"session_id\": \"customer_001\"}}\n",
    "r1 = chain_with_history.invoke(\n",
    "    {\"input\": \"Hi, I'm allergic to nuts. What can I order?\"},\n",
    "    config=config_c1\n",
    ")\n",
    "print(f\"[Customer 1] {r1.content}\\n\")\n",
    "\n",
    "# Customer 2\n",
    "config_c2 = {\"configurable\": {\"session_id\": \"customer_002\"}}\n",
    "r2 = chain_with_history.invoke(\n",
    "    {\"input\": \"I love chocolate! Show me your best chocolate cakes\"},\n",
    "    config=config_c2\n",
    ")\n",
    "print(f\"[Customer 2] {r2.content}\\n\")\n",
    "\n",
    "# Back to Customer 1\n",
    "r3 = chain_with_history.invoke(\n",
    "    {\"input\": \"Do the cakes you mentioned have nuts?\"},\n",
    "    config=config_c1\n",
    ")\n",
    "print(f\"[Customer 1 - Follow-up] {r3.content}\\n\")\n",
    "\n",
    "print(\"✅ BakeryAI remembered Customer 1's allergy!\")"
   ]
  },
  {
   "cell_type": "markdown",
   "metadata": {
    "id": "HnV7Lcl0-ygs"
   },
   "source": [
    "## 5. Customer Preference Profile\n",
    "\n",
    "Build long-term customer profiles."
   ]
  },
  {
   "cell_type": "code",
   "execution_count": 12,
   "metadata": {
    "colab": {
     "base_uri": "https://localhost:8080/"
    },
    "executionInfo": {
     "elapsed": 11620,
     "status": "ok",
     "timestamp": 1761242345522,
     "user": {
      "displayName": "Ivan Reznikov",
      "userId": "03906939862966425294"
     },
     "user_tz": -240
    },
    "id": "nq4GinpP-ygs",
    "outputId": "09d136ce-db6e-4d0e-ec52-73fb42eaec77"
   },
   "outputs": [
    {
     "name": "stdout",
     "output_type": "stream",
     "text": [
      "🎯 Personalized Recommendations for Emma:\n",
      "\n",
      "Based on the profile (vegan restriction and love for chocolate/dark chocolate), here are two chocolate-forward options from the catalog that would likely appeal most. Note: please confirm the vegan status with the bakery or ingredient list, as the data here doesn’t specify vegan suitability.\n",
      "\n",
      "1) ChocoCaramel Birthday Surprise (Category G)\n",
      "- Why it fits: Strong chocolate flavor with caramel, matching the customer’s chocolate/dark chocolate preference. The name suggests a rich, indulgent cake that’s festive and crowd-pleasing for celebrations.\n",
      "- Vegan note: A vegan version may be possible with plant-based frosting and dairy-free fillings. I can check availability or request vegan substitutions if you’d like.\n",
      "\n",
      "2) Chocolate Truffle Cake (Category R)\n",
      "- Why it fits: Explicitly chocolate-focused, offering a rich, dark-chocolate experience that aligns with the customer’s top flavors.\n",
      "- Vegan note: Often adaptable to vegan with dairy-free ganache/dairy-free frosting. I can verify vegan options or arrange substitutions if available.\n",
      "\n",
      "Would you like me to filter for vegan-certified options or check ingredient lists with the bakery for these two to confirm they can be made vegan? If you have any other preferences (e.g., no nuts, specific cocoa level), I can tailor further.\n"
     ]
    }
   ],
   "source": [
    "class CustomerProfile:\n",
    "    \"\"\"Long-term customer preference tracking\"\"\"\n",
    "\n",
    "    def __init__(self, customer_id, name=None):\n",
    "        self.customer_id = customer_id\n",
    "        self.name = name\n",
    "        self.preferences = {\n",
    "            'favorite_flavors': [],\n",
    "            'dietary_restrictions': [],\n",
    "            'occasions': [],\n",
    "            'budget_range': None\n",
    "        }\n",
    "        self.order_history = []\n",
    "        self.conversation_summary = \"\"\n",
    "\n",
    "    def learn_from_conversation(self, conversation_history):\n",
    "        \"\"\"Extract preferences from conversation\"\"\"\n",
    "        # Use LLM to analyze conversation\n",
    "        analysis_prompt = f\"\"\"\n",
    "        Analyze this conversation and extract customer preferences:\n",
    "\n",
    "        {conversation_history}\n",
    "\n",
    "        Extract:\n",
    "        1. Favorite flavors/types\n",
    "        2. Dietary restrictions\n",
    "        3. Common occasions\n",
    "        4. Budget sensitivity\n",
    "\n",
    "        Return as JSON.\n",
    "        \"\"\"\n",
    "\n",
    "        response = llm.invoke(analysis_prompt)\n",
    "        return response.content\n",
    "\n",
    "    def add_order(self, order_details):\n",
    "        \"\"\"Track order history\"\"\"\n",
    "        self.order_history.append(order_details)\n",
    "\n",
    "    def get_personalized_recommendations(self):\n",
    "        \"\"\"Get recommendations based on profile\"\"\"\n",
    "        if not self.preferences['favorite_flavors']:\n",
    "            return \"Need more interaction to provide personalized recommendations\"\n",
    "\n",
    "        rec_prompt = f\"\"\"\n",
    "        Customer Profile:\n",
    "        - Favorite flavors: {self.preferences['favorite_flavors']}\n",
    "        - Restrictions: {self.preferences['dietary_restrictions']}\n",
    "        - Past orders: {len(self.order_history)}\n",
    "\n",
    "        Available products:\n",
    "        {cakes_df[['Name', 'Category']].to_string()}\n",
    "\n",
    "        Recommend 2 products this customer would love and explain why.\n",
    "        \"\"\"\n",
    "\n",
    "        response = llm.invoke(rec_prompt)\n",
    "        return response.content\n",
    "\n",
    "# Test customer profile\n",
    "profile = CustomerProfile(customer_id=\"C001\", name=\"Emma\")\n",
    "profile.preferences['favorite_flavors'] = ['chocolate', 'dark chocolate']\n",
    "profile.preferences['dietary_restrictions'] = ['vegan']\n",
    "\n",
    "print(\"🎯 Personalized Recommendations for Emma:\\n\")\n",
    "print(profile.get_personalized_recommendations())"
   ]
  },
  {
   "cell_type": "markdown",
   "metadata": {
    "id": "gKvbqzdt-ygt"
   },
   "source": [
    "## 6. Summary Memory for Long Conversations\n",
    "\n",
    "Use summary memory for complex customer journeys."
   ]
  },
  {
   "cell_type": "code",
   "execution_count": 13,
   "metadata": {
    "colab": {
     "base_uri": "https://localhost:8080/"
    },
    "executionInfo": {
     "elapsed": 308543,
     "status": "ok",
     "timestamp": 1761242654071,
     "user": {
      "displayName": "Ivan Reznikov",
      "userId": "03906939862966425294"
     },
     "user_tz": -240
    },
    "id": "7KggN4Gn-ygt",
    "outputId": "4e3b9a6e-5dc4-4c63-c7e1-76d973b3eaf8"
   },
   "outputs": [
    {
     "name": "stdout",
     "output_type": "stream",
     "text": [
      "💒 Wedding Planning Conversation\n",
      "\n"
     ]
    },
    {
     "name": "stderr",
     "output_type": "stream",
     "text": [
      "/tmp/ipython-input-2232192512.py:2: LangChainDeprecationWarning: Please see the migration guide at: https://python.langchain.com/docs/versions/migrating_memory/\n",
      "  summary_memory = ConversationSummaryMemory(llm=llm)\n"
     ]
    },
    {
     "name": "stdout",
     "output_type": "stream",
     "text": [
      "👰 Customer: I'm planning my wedding and need cakes for 100 guests\n",
      "🍰 BakeryAI: That sounds fun! For 100 guests, you’ve got some easy, reliable options. Here are common approaches ...\n",
      "\n",
      "👰 Customer: The wedding theme is rustic elegance\n",
      "🍰 BakeryAI: Love the rustic elegance direction. Here are three tailored cake options for about 100 guests, each ...\n",
      "\n",
      "👰 Customer: We have some guests who are gluten-free\n",
      "🍰 BakeryAI: Great news—gluten-free guests can be accommodated with any of the options. Here are practical ways t...\n",
      "\n",
      "👰 Customer: Budget is around $500 for all desserts\n",
      "🍰 BakeryAI: Great constraint. With about $500 for all desserts and ~100 guests, Option C (one or two sheet cakes...\n",
      "\n",
      "👰 Customer: The wedding is in 3 months\n",
      "🍰 BakeryAI: Fantastic — with 3 months to go, Option C is well-timed to nail the plan, stay within budget, and en...\n",
      "\n",
      "👰 Customer: Can we schedule a tasting session?\n",
      "🍰 BakeryAI: Yes—let’s schedule a tasting. Here are the options and what I’ll need from you to lock it in:\n",
      "\n",
      "Optio...\n",
      "\n",
      "\n",
      "📝 Conversation Summary:\n",
      "{'history': 'New summary:\\nThe human asks to schedule a tasting session. The AI proposes two options: an in-person tasting (at a bakery or venue) lasting about 45–60 minutes, featuring two gluten-free sheet flavors (e.g., Vanilla bean with lemon curd buttercream; Chocolate with espresso ganache or salted caramel buttercream) and an optional GF display cake bite, with dedicated GF space/tools and clearly labeled samples; cost may be per person or waived with a wedding order, exact amount to be confirmed. Or a virtual tasting kit option, shipping mini portions of two flavors (plus optional display cake sample) with kit shipping cost, credited toward the wedding order if booked.\\n\\nTo schedule: indicate preference, location, preferred date range and times (weekdays vs weekends), attendee count, flavors to sample, any other dietary restrictions, and goals for the tasting (e.g., decide on display cake size, confirm labeling, test cross-contact controls).\\n\\nNext steps: propose 2–3 concrete time slots, check availability with the bakery, and confirm. If desired, I can also prepare a brief tasting plan (flavor cards, labeling plan, and a cross-contact checklist).\\n\\nIf you’d like, share your city/venue and a rough date window and I’ll start coordinating right away.'}\n"
     ]
    }
   ],
   "source": [
    "# Summary memory for long interactions\n",
    "summary_memory = ConversationSummaryMemory(llm=llm)\n",
    "\n",
    "summary_conversation = ConversationChain(\n",
    "    llm=llm,\n",
    "    memory=summary_memory,\n",
    "    verbose=False\n",
    ")\n",
    "\n",
    "# Simulate a long planning conversation\n",
    "planning_conversation = [\n",
    "    \"I'm planning my wedding and need cakes for 100 guests\",\n",
    "    \"The wedding theme is rustic elegance\",\n",
    "    \"We have some guests who are gluten-free\",\n",
    "    \"Budget is around $500 for all desserts\",\n",
    "    \"The wedding is in 3 months\",\n",
    "    \"Can we schedule a tasting session?\",\n",
    "]\n",
    "\n",
    "print(\"💒 Wedding Planning Conversation\\n\")\n",
    "for msg in planning_conversation:\n",
    "    response = summary_conversation.predict(input=msg)\n",
    "    print(f\"👰 Customer: {msg}\")\n",
    "    print(f\"🍰 BakeryAI: {response[:100]}...\\n\")\n",
    "\n",
    "# Check the summary\n",
    "print(\"\\n📝 Conversation Summary:\")\n",
    "print(summary_memory.load_memory_variables({}))"
   ]
  },
  {
   "cell_type": "markdown",
   "metadata": {
    "id": "u9dWfzCn-ygt"
   },
   "source": [
    "## 7. Complete BakeryAI System Integration"
   ]
  },
  {
   "cell_type": "code",
   "execution_count": 14,
   "metadata": {
    "colab": {
     "base_uri": "https://localhost:8080/"
    },
    "executionInfo": {
     "elapsed": 5249,
     "status": "ok",
     "timestamp": 1761242659322,
     "user": {
      "displayName": "Ivan Reznikov",
      "userId": "03906939862966425294"
     },
     "user_tz": -240
    },
    "id": "k1KW046--ygt",
    "outputId": "568542c6-f32a-4d10-fbe7-a1ef60941afb"
   },
   "outputs": [
    {
     "name": "stdout",
     "output_type": "stream",
     "text": [
      "Welcome back, Isabella! 🍰\n",
      "\n",
      "💬 Isabella: Hi! I need a cake for my mother's 60th birthday\n",
      "🍰 BakeryAI: Hello! Happy birthday to your mother! We have a variety of cakes that would be perfect for her 60th birthday celebration. Some options include the Trophy Cake – Champions Edition, Birthday Blast Berry Bomb, Hazelnut Toffee Crown, or even the Rainbow Cake for a fun and colorful choice. Do you have any specific flavor preferences or dietary restrictions we should take into consideration? Let me know how I can assist you further!\n",
      "\n",
      "💬 Isabella: She's not a fan of too much chocolate\n",
      "🍰 BakeryAI: I understand that your mother is not a fan of too much chocolate. Based on that preference, I would recommend considering the Torta della Nonna Amore, Festiva della Sicilia, or the Lemon Drizzle Cake. These options offer a delicious variety of flavors without an overwhelming amount of chocolate. Let me know if any of these options sound appealing to you, or if you have any other preferences I can take into consideration for your mother's 60th birthday cake!\n",
      "\n",
      "💬 Isabella: The vanilla one sounds lovely! Can I get that?\n",
      "🍰 BakeryAI: Of course! The Torta della Nonna Amore is a perfect choice for a vanilla lover like your mother. I'll go ahead and add that to your cart. Is there anything else you would like to add or any specific customization you have in mind for the cake? Let me know how I can assist you further!\n",
      "\n",
      "💬 Isabella: Yes, please add it. Deliver on Saturday afternoon\n",
      "🍰 BakeryAI: Of course! I have added the Torta della Nonna Amore to your cart for delivery on Saturday afternoon. Is there anything else you would like to add or any specific instructions for the delivery? Let me know how else I can assist you with your order!\n",
      "\n",
      "\n",
      "======================================================================\n",
      "No items in cart to finalize.\n"
     ]
    }
   ],
   "source": [
    "class CompleteBakeryAI:\n",
    "    \"\"\"\n",
    "    🎉 COMPLETE BAKERYAI v1.0\n",
    "\n",
    "    Features:\n",
    "    - Conversation memory\n",
    "    - Order tracking\n",
    "    - Customer profiles\n",
    "    - Semantic search\n",
    "    - Personalized recommendations\n",
    "    \"\"\"\n",
    "\n",
    "    def __init__(self, product_catalog):\n",
    "        self.llm = ChatOpenAI(model=\"gpt-3.5-turbo\", temperature=0.7)\n",
    "        self.embeddings = OpenAIEmbeddings()\n",
    "        self.catalog = product_catalog\n",
    "        self.active_sessions = {}\n",
    "        self.customer_profiles = {}\n",
    "\n",
    "    def start_conversation(self, customer_id, customer_name=None):\n",
    "        \"\"\"Initialize or resume customer conversation\"\"\"\n",
    "        if customer_id not in self.active_sessions:\n",
    "            self.active_sessions[customer_id] = BakeryOrderSession(customer_name)\n",
    "\n",
    "        if customer_id not in self.customer_profiles:\n",
    "            self.customer_profiles[customer_id] = CustomerProfile(customer_id, customer_name)\n",
    "\n",
    "        return f\"Welcome{' back' if customer_id in self.customer_profiles else ''}, {customer_name}! 🍰\"\n",
    "\n",
    "    def process_message(self, customer_id, message):\n",
    "        \"\"\"Process customer message with full context\"\"\"\n",
    "        session = self.active_sessions.get(customer_id)\n",
    "        profile = self.customer_profiles.get(customer_id)\n",
    "\n",
    "        if not session:\n",
    "            return \"Please start a session first\"\n",
    "\n",
    "        # Build comprehensive context\n",
    "        context = f\"\"\"\n",
    "        You are BakeryAI.\n",
    "\n",
    "        Current Session:\n",
    "        {session.get_cart_summary()}\n",
    "        Preferences: {session.preferences}\n",
    "\n",
    "        Customer Profile (from past interactions):\n",
    "        {profile.preferences if profile else 'New customer'}\n",
    "\n",
    "        Available Products:\n",
    "        {self.catalog[['Name', 'Description', 'Energy_kcal']].to_string()}\n",
    "\n",
    "        Conversation History:\n",
    "        {session.memory.load_memory_variables({})}\n",
    "\n",
    "        Customer Message: {message}\n",
    "\n",
    "        Provide a helpful, contextual response.\n",
    "        \"\"\"\n",
    "\n",
    "        response = self.llm.invoke(context)\n",
    "\n",
    "        # Save to memory\n",
    "        session.memory.save_context(\n",
    "            {\"input\": message},\n",
    "            {\"output\": response.content}\n",
    "        )\n",
    "\n",
    "        return response.content\n",
    "\n",
    "    def finalize_order(self, customer_id):\n",
    "        \"\"\"Complete and save the order\"\"\"\n",
    "        session = self.active_sessions.get(customer_id)\n",
    "        profile = self.customer_profiles.get(customer_id)\n",
    "\n",
    "        if session and session.cart:\n",
    "            order = session.get_full_context()\n",
    "            profile.add_order(order)\n",
    "\n",
    "            # Generate confirmation\n",
    "            confirmation = f\"\"\"\n",
    "            ✅ Order Confirmed!\n",
    "\n",
    "            {session.get_cart_summary()}\n",
    "\n",
    "            Delivery: {session.delivery_info}\n",
    "\n",
    "            We'll send you updates via email. Thank you for choosing BakeryAI! 🎉\n",
    "            \"\"\"\n",
    "\n",
    "            return confirmation\n",
    "\n",
    "        return \"No items in cart to finalize.\"\n",
    "\n",
    "# Initialize Complete BakeryAI\n",
    "complete_bakery = CompleteBakeryAI(cakes_df)\n",
    "\n",
    "# Test complete system\n",
    "customer_id = \"VIP_001\"\n",
    "print(complete_bakery.start_conversation(customer_id, \"Isabella\"))\n",
    "print()\n",
    "\n",
    "test_conversation = [\n",
    "    \"Hi! I need a cake for my mother's 60th birthday\",\n",
    "    \"She's not a fan of too much chocolate\",\n",
    "    \"The vanilla one sounds lovely! Can I get that?\",\n",
    "    \"Yes, please add it. Deliver on Saturday afternoon\"\n",
    "]\n",
    "\n",
    "for msg in test_conversation:\n",
    "    print(f\"💬 Isabella: {msg}\")\n",
    "    response = complete_bakery.process_message(customer_id, msg)\n",
    "    print(f\"🍰 BakeryAI: {response}\\n\")\n",
    "\n",
    "# Finalize order\n",
    "print(\"\\n\" + \"=\" * 70)\n",
    "print(complete_bakery.finalize_order(customer_id))"
   ]
  },
  {
   "cell_type": "markdown",
   "metadata": {
    "id": "bDtaIxjb-ygu"
   },
   "source": [
    "## 🎯 Exercise 7: Build a Returning Customer Experience\n",
    "\n",
    "**Task**: Enhance the system to recognize returning customers:\n",
    "1. Load previous order history\n",
    "2. Greet them with personalized message\n",
    "3. Suggest reordering favorites\n",
    "4. Offer loyalty rewards"
   ]
  },
  {
   "cell_type": "code",
   "execution_count": 15,
   "metadata": {
    "executionInfo": {
     "elapsed": 32,
     "status": "ok",
     "timestamp": 1761242659360,
     "user": {
      "displayName": "Ivan Reznikov",
      "userId": "03906939862966425294"
     },
     "user_tz": -240
    },
    "id": "v_Ld9ZpM-ygu"
   },
   "outputs": [],
   "source": [
    "class ReturningCustomerHandler:\n",
    "    def __init__(self, customer_profile):\n",
    "        self.profile = customer_profile\n",
    "\n",
    "    def generate_welcome_back_message(self):\n",
    "        \"\"\"Create personalized welcome for returning customer\"\"\"\n",
    "        # TODO: Implement personalized welcome\n",
    "        pass\n",
    "\n",
    "    def suggest_reorder(self):\n",
    "        \"\"\"Suggest reordering previous favorites\"\"\"\n",
    "        # TODO: Analyze order history and suggest\n",
    "        pass\n",
    "\n",
    "    def calculate_loyalty_reward(self):\n",
    "        \"\"\"Calculate loyalty points and rewards\"\"\"\n",
    "        # TODO: Calculate based on order history\n",
    "        pass\n",
    "\n",
    "# Test with mock profile\n",
    "# mock_profile = CustomerProfile(\"C100\", \"David\")\n",
    "# mock_profile.order_history = [...] # Add mock orders\n",
    "# handler = ReturningCustomerHandler(mock_profile)\n",
    "# print(handler.generate_welcome_back_message())"
   ]
  },
  {
   "cell_type": "markdown",
   "metadata": {
    "id": "a_OWLtVT-ygv"
   },
   "source": [
    "## 🎯 Exercise 8: Conversation Analytics\n",
    "\n",
    "**Task**: Build analytics to understand customer interactions:\n",
    "1. Average conversation length\n",
    "2. Most common questions\n",
    "3. Conversion rate (chat → order)\n",
    "4. Customer satisfaction indicators"
   ]
  },
  {
   "cell_type": "code",
   "execution_count": 16,
   "metadata": {
    "executionInfo": {
     "elapsed": 5,
     "status": "ok",
     "timestamp": 1761242659369,
     "user": {
      "displayName": "Ivan Reznikov",
      "userId": "03906939862966425294"
     },
     "user_tz": -240
    },
    "id": "4Muf3UcS-ygv"
   },
   "outputs": [],
   "source": [
    "class ConversationAnalytics:\n",
    "    def __init__(self, all_sessions):\n",
    "        self.sessions = all_sessions\n",
    "\n",
    "    def analyze_conversation_patterns(self):\n",
    "        \"\"\"Analyze conversation patterns across all customers\"\"\"\n",
    "        # TODO: Extract patterns from conversations\n",
    "        pass\n",
    "\n",
    "    def identify_common_questions(self):\n",
    "        \"\"\"Find most frequently asked questions\"\"\"\n",
    "        # TODO: Use embeddings to cluster similar questions\n",
    "        pass\n",
    "\n",
    "    def calculate_conversion_metrics(self):\n",
    "        \"\"\"Calculate chat-to-order conversion rate\"\"\"\n",
    "        # TODO: Analyze which conversations led to orders\n",
    "        pass\n",
    "\n",
    "# analytics = ConversationAnalytics(customer_sessions)\n",
    "# print(analytics.analyze_conversation_patterns())"
   ]
  },
  {
   "cell_type": "markdown",
   "metadata": {
    "id": "f_VA55AK-ygv"
   },
   "source": [
    "## 🎉 Congratulations! BakeryAI v1.0 is Complete!\n",
    "\n",
    "### ✅ Session 1 Complete - What We Built:\n",
    "\n",
    "#### Session 1.1: Foundation\n",
    "- ✅ Environment setup and data loading\n",
    "- ✅ Basic product information chatbot\n",
    "- ✅ Structured data integration\n",
    "\n",
    "#### Session 1.2: Intelligence\n",
    "- ✅ Product embeddings and semantic search\n",
    "- ✅ Smart product recommendations\n",
    "- ✅ Multi-provider LLM support\n",
    "\n",
    "#### Session 1.3: Professionalism\n",
    "- ✅ Reusable prompt templates\n",
    "- ✅ Structured outputs (JSON)\n",
    "- ✅ Multi-language support\n",
    "- ✅ Email automation\n",
    "\n",
    "#### Session 1.4: Memory (Current)\n",
    "- ✅ Conversation memory\n",
    "- ✅ Session-based order tracking\n",
    "- ✅ Customer profiles\n",
    "- ✅ Multi-customer management\n",
    "- ✅ Complete integrated system\n",
    "\n",
    "### 🚀 BakeryAI v1.0 Capabilities:\n",
    "\n",
    "✨ **Natural Conversations**: Multi-turn dialogues with context  \n",
    "✨ **Smart Search**: Semantic product discovery  \n",
    "✨ **Personalization**: Remembers preferences  \n",
    "✨ **Order Management**: Cart tracking and completion  \n",
    "✨ **Professional Communication**: Consistent brand voice  \n",
    "✨ **Multi-Customer**: Handle many customers simultaneously  \n",
    "✨ **Profile Building**: Long-term customer understanding  \n",
    "\n",
    "### 🔮 What's Next in Future Sessions:\n",
    "\n",
    "#### Session 2: Agents & Tools\n",
    "- Add tool-using capabilities\n",
    "- Calendar integration for delivery scheduling\n",
    "- Payment processing\n",
    "- Inventory checking\n",
    "\n",
    "#### Session 3: RAG (Retrieval Augmented Generation)\n",
    "- Load company policies and handbooks\n",
    "- Vector database integration\n",
    "- Answer policy questions\n",
    "- Handle complex inquiries\n",
    "\n",
    "#### Session 4: Deployment\n",
    "- REST API with LangServe\n",
    "- Observability with LangSmith\n",
    "- Production optimizations\n",
    "- Scaling strategies\n",
    "\n",
    "### 📊 BakeryAI v1.0 Progress: 100%\n",
    "\n",
    "```\n",
    "[████████████████████] 100% ✨\n",
    "```\n",
    "\n",
    "### 🎊 You now have a functional AI customer service agent!\n",
    "\n",
    "The foundation is solid. In the coming sessions, we'll add:\n",
    "- External tools and integrations\n",
    "- Knowledge base access\n",
    "- Production deployment\n",
    "- Advanced workflows\n",
    "\n",
    "**Great work completing Day 1! See you in Session 2! 🚀**"
   ]
  },
  {
   "cell_type": "code",
   "execution_count": null,
   "metadata": {
    "id": "13dsKeQLQX_b"
   },
   "outputs": [],
   "source": []
  }
 ],
 "metadata": {
  "colab": {
   "provenance": []
  },
  "kernelspec": {
   "display_name": "Python 3",
   "language": "python",
   "name": "python3"
  }
 },
 "nbformat": 4,
 "nbformat_minor": 0
}
