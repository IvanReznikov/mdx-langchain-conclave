{
 "cells": [
  {
   "cell_type": "markdown",
   "metadata": {
    "id": "zLxlERHR3ZJB"
   },
   "source": [
    "# Project Session 1.2: BakeryAI - Semantic Search & Product Discovery"
   ]
  },
  {
   "cell_type": "markdown",
   "metadata": {
    "id": "rOVujLQ_3aYi"
   },
   "source": [
    "[![Open In Colab](https://colab.research.google.com/assets/colab-badge.svg)](https://colab.research.google.com/drive/1dhlxNlW3D_sddj0bqP7op0QAmIky_bFB?usp=sharing)"
   ]
  },
  {
   "cell_type": "markdown",
   "metadata": {
    "id": "Xu5nc24fwcRZ"
   },
   "source": [
    "## 🎯 Today's Goal\n",
    "\n",
    "Add **intelligent product search** to BakeryAI using embeddings!\n",
    "\n",
    "### What We'll Build:\n",
    "\n",
    "✅ Embeddings for all bakery products  \n",
    "✅ Semantic search (\"find something fruity and light\")  \n",
    "✅ Smart product recommendations  \n",
    "✅ Multi-provider comparison for responses  \n",
    "\n",
    "### Why This Matters:\n",
    "\n",
    "Customers don't always know exact product names. With semantic search:\n",
    "- \"I want something chocolatey for kids\" → Finds relevant products\n",
    "- \"Looking for a low-calorie dessert\" → Searches by nutrition\n",
    "- \"Need a cake for a vegan friend\" → Filters by dietary restrictions\n",
    "\n",
    "### 🚀 BakeryAI Progress: 20% → 40%\n",
    "```\n",
    "[████████░░░░░░░░░░░░] 40%\n",
    "```"
   ]
  },
  {
   "cell_type": "code",
   "execution_count": 1,
   "metadata": {
    "colab": {
     "base_uri": "https://localhost:8080/"
    },
    "executionInfo": {
     "elapsed": 26361,
     "status": "ok",
     "timestamp": 1761236692172,
     "user": {
      "displayName": "Ivan Reznikov",
      "userId": "03906939862966425294"
     },
     "user_tz": -240
    },
    "id": "oIjmUlwLwcRg",
    "outputId": "3f8846d0-801b-470e-c557-dcddbc778cc3"
   },
   "outputs": [
    {
     "name": "stdout",
     "output_type": "stream",
     "text": [
      "\u001b[2K   \u001b[90m━━━━━━━━━━━━━━━━━━━━━━━━━━━━━━━━━━━━━━━━\u001b[0m \u001b[32m76.0/76.0 kB\u001b[0m \u001b[31m4.1 MB/s\u001b[0m eta \u001b[36m0:00:00\u001b[0m\n",
      "\u001b[2K   \u001b[90m━━━━━━━━━━━━━━━━━━━━━━━━━━━━━━━━━━━━━━━━\u001b[0m \u001b[32m2.5/2.5 MB\u001b[0m \u001b[31m34.0 MB/s\u001b[0m eta \u001b[36m0:00:00\u001b[0m\n",
      "\u001b[2K   \u001b[90m━━━━━━━━━━━━━━━━━━━━━━━━━━━━━━━━━━━━━━━━\u001b[0m \u001b[32m355.0/355.0 kB\u001b[0m \u001b[31m6.3 MB/s\u001b[0m eta \u001b[36m0:00:00\u001b[0m\n",
      "\u001b[2K   \u001b[90m━━━━━━━━━━━━━━━━━━━━━━━━━━━━━━━━━━━━━━━━\u001b[0m \u001b[32m64.7/64.7 kB\u001b[0m \u001b[31m2.6 MB/s\u001b[0m eta \u001b[36m0:00:00\u001b[0m\n",
      "\u001b[2K   \u001b[90m━━━━━━━━━━━━━━━━━━━━━━━━━━━━━━━━━━━━━━━━\u001b[0m \u001b[32m50.9/50.9 kB\u001b[0m \u001b[31m1.8 MB/s\u001b[0m eta \u001b[36m0:00:00\u001b[0m\n",
      "\u001b[?25h\u001b[31mERROR: pip's dependency resolver does not currently take into account all the packages that are installed. This behaviour is the source of the following dependency conflicts.\n",
      "google-colab 1.0.0 requires requests==2.32.4, but you have requests 2.32.5 which is incompatible.\u001b[0m\u001b[31m\n",
      "\u001b[0m"
     ]
    }
   ],
   "source": [
    "!pip install -q langchain langchain-openai langchain-anthropic langchain-community\n",
    "!pip install -q pandas numpy python-dotenv"
   ]
  },
  {
   "cell_type": "code",
   "execution_count": 2,
   "metadata": {
    "colab": {
     "base_uri": "https://localhost:8080/"
    },
    "executionInfo": {
     "elapsed": 20438,
     "status": "ok",
     "timestamp": 1761236712615,
     "user": {
      "displayName": "Ivan Reznikov",
      "userId": "03906939862966425294"
     },
     "user_tz": -240
    },
    "id": "Yjuf6K_KwlPH",
    "outputId": "aaaee632-a95b-4a15-d5a7-8b756ab43c1f"
   },
   "outputs": [
    {
     "name": "stdout",
     "output_type": "stream",
     "text": [
      "✅ OpenAI API key loaded successfully!\n"
     ]
    }
   ],
   "source": [
    "import pandas as pd\n",
    "import numpy as np\n",
    "from dotenv import load_dotenv\n",
    "from langchain_openai import ChatOpenAI, OpenAIEmbeddings\n",
    "\n",
    "import os\n",
    "from google.colab import userdata\n",
    "\n",
    "# Set OpenAI API key from Google Colab's user environment or default\n",
    "def set_openai_api_key(default_key: str = \"YOUR_API_KEY\") -> None:\n",
    "    \"\"\"Set the OpenAI API key from Google Colab's user environment or use a default value.\"\"\"\n",
    "    #if not (userdata.get(\"OPENAI_API_KEY\") or \"OPENAI_API_KEY\" in os.environ):\n",
    "    try:\n",
    "      os.environ[\"OPENAI_API_KEY\"] = userdata.get(\"MDX_OPENAI_API_KEY\")\n",
    "    except:\n",
    "      os.environ[\"OPENAI_API_KEY\"] = default_key\n",
    "\n",
    "set_openai_api_key()\n",
    "#set_openai_api_key(\"sk-...\")\n",
    "\n",
    "# Verify API key is loaded\n",
    "if os.getenv(\"OPENAI_API_KEY\"):\n",
    "    print(\"✅ OpenAI API key loaded successfully!\")\n",
    "else:\n",
    "    print(\"❌ OpenAI API key not found. Please set it in .env file\")\n",
    "\n",
    "# Initialize models\n",
    "llm = ChatOpenAI(model=\"gpt-5-nano\")\n",
    "embeddings = OpenAIEmbeddings(model=\"text-embedding-3-large\")"
   ]
  },
  {
   "cell_type": "code",
   "execution_count": 3,
   "metadata": {
    "colab": {
     "base_uri": "https://localhost:8080/"
    },
    "executionInfo": {
     "elapsed": 794,
     "status": "ok",
     "timestamp": 1761236713413,
     "user": {
      "displayName": "Ivan Reznikov",
      "userId": "03906939862966425294"
     },
     "user_tz": -240
    },
    "id": "TOzrRC3Vwte1",
    "outputId": "595ec25c-5ca1-4ecd-9409-6fc900cea553"
   },
   "outputs": [
    {
     "name": "stdout",
     "output_type": "stream",
     "text": [
      "Cloning into 'mdx-langchain-conclave'...\n",
      "remote: Enumerating objects: 19, done.\u001b[K\n",
      "remote: Counting objects: 100% (19/19), done.\u001b[K\n",
      "remote: Compressing objects: 100% (17/17), done.\u001b[K\n",
      "remote: Total 19 (delta 1), reused 19 (delta 1), pack-reused 0 (from 0)\u001b[K\n",
      "Receiving objects: 100% (19/19), 239.34 KiB | 3.11 MiB/s, done.\n",
      "Resolving deltas: 100% (1/1), done.\n"
     ]
    }
   ],
   "source": [
    "!git clone https://github.com/IvanReznikov/mdx-langchain-conclave"
   ]
  },
  {
   "cell_type": "code",
   "execution_count": 4,
   "metadata": {
    "colab": {
     "base_uri": "https://localhost:8080/",
     "height": 310
    },
    "executionInfo": {
     "elapsed": 111,
     "status": "ok",
     "timestamp": 1761236713533,
     "user": {
      "displayName": "Ivan Reznikov",
      "userId": "03906939862966425294"
     },
     "user_tz": -240
    },
    "id": "LsOMqI6nwcRj",
    "outputId": "64d2a2b2-3c80-43fe-de6a-40043e7ebda0"
   },
   "outputs": [
    {
     "name": "stdout",
     "output_type": "stream",
     "text": [
      "✅ Loaded 22 cake products\n"
     ]
    },
    {
     "data": {
      "application/vnd.google.colaboratory.intrinsic+json": {
       "summary": "{\n  \"name\": \"cakes_df\",\n  \"rows\": 22,\n  \"fields\": [\n    {\n      \"column\": \"Name\",\n      \"properties\": {\n        \"dtype\": \"string\",\n        \"num_unique_values\": 22,\n        \"samples\": [\n          \"Torta della Nonna Amore\",\n          \"Red Velvet Cake\",\n          \"Velvet Dream Cloud\"\n        ],\n        \"semantic_type\": \"\",\n        \"description\": \"\"\n      }\n    },\n    {\n      \"column\": \"Category\",\n      \"properties\": {\n        \"dtype\": \"category\",\n        \"num_unique_values\": 2,\n        \"samples\": [\n          \"R\",\n          \"G\"\n        ],\n        \"semantic_type\": \"\",\n        \"description\": \"\"\n      }\n    },\n    {\n      \"column\": \"Ingredients\",\n      \"properties\": {\n        \"dtype\": \"string\",\n        \"num_unique_values\": 22,\n        \"samples\": [\n          \"Ricotta, pine nuts, lemon zest, vanilla, sugar, flour\",\n          \"Cocoa, buttermilk, red dye, cream cheese\"\n        ],\n        \"semantic_type\": \"\",\n        \"description\": \"\"\n      }\n    },\n    {\n      \"column\": \"Description\",\n      \"properties\": {\n        \"dtype\": \"string\",\n        \"num_unique_values\": 22,\n        \"samples\": [\n          \"A nostalgic Tuscan-inspired cake with creamy ricotta and lemon warmth\",\n          \"Rich red cake with soft crumb and tangy frosting\"\n        ],\n        \"semantic_type\": \"\",\n        \"description\": \"\"\n      }\n    },\n    {\n      \"column\": \"Energy_kcal\",\n      \"properties\": {\n        \"dtype\": \"number\",\n        \"std\": 45,\n        \"min\": 320,\n        \"max\": 480,\n        \"num_unique_values\": 14,\n        \"samples\": [\n          480,\n          370\n        ],\n        \"semantic_type\": \"\",\n        \"description\": \"\"\n      }\n    },\n    {\n      \"column\": \"Weight_grams\",\n      \"properties\": {\n        \"dtype\": \"number\",\n        \"std\": 128,\n        \"min\": 850,\n        \"max\": 1400,\n        \"num_unique_values\": 8,\n        \"samples\": [\n          900,\n          1400\n        ],\n        \"semantic_type\": \"\",\n        \"description\": \"\"\n      }\n    },\n    {\n      \"column\": \"Restrictions\",\n      \"properties\": {\n        \"dtype\": \"string\",\n        \"num_unique_values\": 15,\n        \"samples\": [\n          \"Contains dairy, coconut\",\n          \"Contains dairy, gluten\"\n        ],\n        \"semantic_type\": \"\",\n        \"description\": \"\"\n      }\n    },\n    {\n      \"column\": \"Delivery_time_hr\",\n      \"properties\": {\n        \"dtype\": \"number\",\n        \"std\": 11,\n        \"min\": 12,\n        \"max\": 48,\n        \"num_unique_values\": 4,\n        \"samples\": [\n          36,\n          12\n        ],\n        \"semantic_type\": \"\",\n        \"description\": \"\"\n      }\n    },\n    {\n      \"column\": \"Available\",\n      \"properties\": {\n        \"dtype\": \"category\",\n        \"num_unique_values\": 2,\n        \"samples\": [\n          \"No\",\n          \"Yes\"\n        ],\n        \"semantic_type\": \"\",\n        \"description\": \"\"\n      }\n    }\n  ]\n}",
       "type": "dataframe",
       "variable_name": "cakes_df"
      },
      "text/html": [
       "\n",
       "  <div id=\"df-125d5909-3854-496f-a3f9-2c0634d236a7\" class=\"colab-df-container\">\n",
       "    <div>\n",
       "<style scoped>\n",
       "    .dataframe tbody tr th:only-of-type {\n",
       "        vertical-align: middle;\n",
       "    }\n",
       "\n",
       "    .dataframe tbody tr th {\n",
       "        vertical-align: top;\n",
       "    }\n",
       "\n",
       "    .dataframe thead th {\n",
       "        text-align: right;\n",
       "    }\n",
       "</style>\n",
       "<table border=\"1\" class=\"dataframe\">\n",
       "  <thead>\n",
       "    <tr style=\"text-align: right;\">\n",
       "      <th></th>\n",
       "      <th>Name</th>\n",
       "      <th>Category</th>\n",
       "      <th>Ingredients</th>\n",
       "      <th>Description</th>\n",
       "      <th>Energy_kcal</th>\n",
       "      <th>Weight_grams</th>\n",
       "      <th>Restrictions</th>\n",
       "      <th>Delivery_time_hr</th>\n",
       "      <th>Available</th>\n",
       "    </tr>\n",
       "  </thead>\n",
       "  <tbody>\n",
       "    <tr>\n",
       "      <th>0</th>\n",
       "      <td>Torta della Nonna Amore</td>\n",
       "      <td>G</td>\n",
       "      <td>Ricotta, pine nuts, lemon zest, vanilla, sugar...</td>\n",
       "      <td>A nostalgic Tuscan-inspired cake with creamy r...</td>\n",
       "      <td>320</td>\n",
       "      <td>850</td>\n",
       "      <td>Contains dairy, gluten, eggs</td>\n",
       "      <td>24</td>\n",
       "      <td>Yes</td>\n",
       "    </tr>\n",
       "    <tr>\n",
       "      <th>1</th>\n",
       "      <td>Festiva della Sicilia</td>\n",
       "      <td>G</td>\n",
       "      <td>Almonds, citrus zest, mascarpone, candied oran...</td>\n",
       "      <td>A zesty almond cake with mascarpone frosting a...</td>\n",
       "      <td>360</td>\n",
       "      <td>900</td>\n",
       "      <td>Contains nuts, dairy, eggs</td>\n",
       "      <td>24</td>\n",
       "      <td>Yes</td>\n",
       "    </tr>\n",
       "    <tr>\n",
       "      <th>2</th>\n",
       "      <td>Dubai Midnight Pistachio Fantasy</td>\n",
       "      <td>G</td>\n",
       "      <td>Pistachios, rose syrup, cardamom, white chocol...</td>\n",
       "      <td>Lush green cake with exotic floral pistachio n...</td>\n",
       "      <td>420</td>\n",
       "      <td>1000</td>\n",
       "      <td>Contains nuts, dairy</td>\n",
       "      <td>36</td>\n",
       "      <td>Yes</td>\n",
       "    </tr>\n",
       "    <tr>\n",
       "      <th>3</th>\n",
       "      <td>Ferrari Redline Fudge</td>\n",
       "      <td>G</td>\n",
       "      <td>Dark chocolate, red glaze, fudge, espresso syrup</td>\n",
       "      <td>Dense chocolate fudge cake with red mirror gla...</td>\n",
       "      <td>450</td>\n",
       "      <td>950</td>\n",
       "      <td>Contains dairy, caffeine</td>\n",
       "      <td>24</td>\n",
       "      <td>Yes</td>\n",
       "    </tr>\n",
       "    <tr>\n",
       "      <th>4</th>\n",
       "      <td>Goalpost Delight - Soccer Fan Cake</td>\n",
       "      <td>G</td>\n",
       "      <td>Vanilla sponge, fondant, jam, whipped cream</td>\n",
       "      <td>Themed cake with stadium design, perfect for f...</td>\n",
       "      <td>390</td>\n",
       "      <td>1200</td>\n",
       "      <td>May contain artificial colors</td>\n",
       "      <td>24</td>\n",
       "      <td>Yes</td>\n",
       "    </tr>\n",
       "  </tbody>\n",
       "</table>\n",
       "</div>\n",
       "    <div class=\"colab-df-buttons\">\n",
       "\n",
       "  <div class=\"colab-df-container\">\n",
       "    <button class=\"colab-df-convert\" onclick=\"convertToInteractive('df-125d5909-3854-496f-a3f9-2c0634d236a7')\"\n",
       "            title=\"Convert this dataframe to an interactive table.\"\n",
       "            style=\"display:none;\">\n",
       "\n",
       "  <svg xmlns=\"http://www.w3.org/2000/svg\" height=\"24px\" viewBox=\"0 -960 960 960\">\n",
       "    <path d=\"M120-120v-720h720v720H120Zm60-500h600v-160H180v160Zm220 220h160v-160H400v160Zm0 220h160v-160H400v160ZM180-400h160v-160H180v160Zm440 0h160v-160H620v160ZM180-180h160v-160H180v160Zm440 0h160v-160H620v160Z\"/>\n",
       "  </svg>\n",
       "    </button>\n",
       "\n",
       "  <style>\n",
       "    .colab-df-container {\n",
       "      display:flex;\n",
       "      gap: 12px;\n",
       "    }\n",
       "\n",
       "    .colab-df-convert {\n",
       "      background-color: #E8F0FE;\n",
       "      border: none;\n",
       "      border-radius: 50%;\n",
       "      cursor: pointer;\n",
       "      display: none;\n",
       "      fill: #1967D2;\n",
       "      height: 32px;\n",
       "      padding: 0 0 0 0;\n",
       "      width: 32px;\n",
       "    }\n",
       "\n",
       "    .colab-df-convert:hover {\n",
       "      background-color: #E2EBFA;\n",
       "      box-shadow: 0px 1px 2px rgba(60, 64, 67, 0.3), 0px 1px 3px 1px rgba(60, 64, 67, 0.15);\n",
       "      fill: #174EA6;\n",
       "    }\n",
       "\n",
       "    .colab-df-buttons div {\n",
       "      margin-bottom: 4px;\n",
       "    }\n",
       "\n",
       "    [theme=dark] .colab-df-convert {\n",
       "      background-color: #3B4455;\n",
       "      fill: #D2E3FC;\n",
       "    }\n",
       "\n",
       "    [theme=dark] .colab-df-convert:hover {\n",
       "      background-color: #434B5C;\n",
       "      box-shadow: 0px 1px 3px 1px rgba(0, 0, 0, 0.15);\n",
       "      filter: drop-shadow(0px 1px 2px rgba(0, 0, 0, 0.3));\n",
       "      fill: #FFFFFF;\n",
       "    }\n",
       "  </style>\n",
       "\n",
       "    <script>\n",
       "      const buttonEl =\n",
       "        document.querySelector('#df-125d5909-3854-496f-a3f9-2c0634d236a7 button.colab-df-convert');\n",
       "      buttonEl.style.display =\n",
       "        google.colab.kernel.accessAllowed ? 'block' : 'none';\n",
       "\n",
       "      async function convertToInteractive(key) {\n",
       "        const element = document.querySelector('#df-125d5909-3854-496f-a3f9-2c0634d236a7');\n",
       "        const dataTable =\n",
       "          await google.colab.kernel.invokeFunction('convertToInteractive',\n",
       "                                                    [key], {});\n",
       "        if (!dataTable) return;\n",
       "\n",
       "        const docLinkHtml = 'Like what you see? Visit the ' +\n",
       "          '<a target=\"_blank\" href=https://colab.research.google.com/notebooks/data_table.ipynb>data table notebook</a>'\n",
       "          + ' to learn more about interactive tables.';\n",
       "        element.innerHTML = '';\n",
       "        dataTable['output_type'] = 'display_data';\n",
       "        await google.colab.output.renderOutput(dataTable, element);\n",
       "        const docLink = document.createElement('div');\n",
       "        docLink.innerHTML = docLinkHtml;\n",
       "        element.appendChild(docLink);\n",
       "      }\n",
       "    </script>\n",
       "  </div>\n",
       "\n",
       "\n",
       "    <div id=\"df-fddc22da-2dee-42d3-8a3d-abd38fe6691f\">\n",
       "      <button class=\"colab-df-quickchart\" onclick=\"quickchart('df-fddc22da-2dee-42d3-8a3d-abd38fe6691f')\"\n",
       "                title=\"Suggest charts\"\n",
       "                style=\"display:none;\">\n",
       "\n",
       "<svg xmlns=\"http://www.w3.org/2000/svg\" height=\"24px\"viewBox=\"0 0 24 24\"\n",
       "     width=\"24px\">\n",
       "    <g>\n",
       "        <path d=\"M19 3H5c-1.1 0-2 .9-2 2v14c0 1.1.9 2 2 2h14c1.1 0 2-.9 2-2V5c0-1.1-.9-2-2-2zM9 17H7v-7h2v7zm4 0h-2V7h2v10zm4 0h-2v-4h2v4z\"/>\n",
       "    </g>\n",
       "</svg>\n",
       "      </button>\n",
       "\n",
       "<style>\n",
       "  .colab-df-quickchart {\n",
       "      --bg-color: #E8F0FE;\n",
       "      --fill-color: #1967D2;\n",
       "      --hover-bg-color: #E2EBFA;\n",
       "      --hover-fill-color: #174EA6;\n",
       "      --disabled-fill-color: #AAA;\n",
       "      --disabled-bg-color: #DDD;\n",
       "  }\n",
       "\n",
       "  [theme=dark] .colab-df-quickchart {\n",
       "      --bg-color: #3B4455;\n",
       "      --fill-color: #D2E3FC;\n",
       "      --hover-bg-color: #434B5C;\n",
       "      --hover-fill-color: #FFFFFF;\n",
       "      --disabled-bg-color: #3B4455;\n",
       "      --disabled-fill-color: #666;\n",
       "  }\n",
       "\n",
       "  .colab-df-quickchart {\n",
       "    background-color: var(--bg-color);\n",
       "    border: none;\n",
       "    border-radius: 50%;\n",
       "    cursor: pointer;\n",
       "    display: none;\n",
       "    fill: var(--fill-color);\n",
       "    height: 32px;\n",
       "    padding: 0;\n",
       "    width: 32px;\n",
       "  }\n",
       "\n",
       "  .colab-df-quickchart:hover {\n",
       "    background-color: var(--hover-bg-color);\n",
       "    box-shadow: 0 1px 2px rgba(60, 64, 67, 0.3), 0 1px 3px 1px rgba(60, 64, 67, 0.15);\n",
       "    fill: var(--button-hover-fill-color);\n",
       "  }\n",
       "\n",
       "  .colab-df-quickchart-complete:disabled,\n",
       "  .colab-df-quickchart-complete:disabled:hover {\n",
       "    background-color: var(--disabled-bg-color);\n",
       "    fill: var(--disabled-fill-color);\n",
       "    box-shadow: none;\n",
       "  }\n",
       "\n",
       "  .colab-df-spinner {\n",
       "    border: 2px solid var(--fill-color);\n",
       "    border-color: transparent;\n",
       "    border-bottom-color: var(--fill-color);\n",
       "    animation:\n",
       "      spin 1s steps(1) infinite;\n",
       "  }\n",
       "\n",
       "  @keyframes spin {\n",
       "    0% {\n",
       "      border-color: transparent;\n",
       "      border-bottom-color: var(--fill-color);\n",
       "      border-left-color: var(--fill-color);\n",
       "    }\n",
       "    20% {\n",
       "      border-color: transparent;\n",
       "      border-left-color: var(--fill-color);\n",
       "      border-top-color: var(--fill-color);\n",
       "    }\n",
       "    30% {\n",
       "      border-color: transparent;\n",
       "      border-left-color: var(--fill-color);\n",
       "      border-top-color: var(--fill-color);\n",
       "      border-right-color: var(--fill-color);\n",
       "    }\n",
       "    40% {\n",
       "      border-color: transparent;\n",
       "      border-right-color: var(--fill-color);\n",
       "      border-top-color: var(--fill-color);\n",
       "    }\n",
       "    60% {\n",
       "      border-color: transparent;\n",
       "      border-right-color: var(--fill-color);\n",
       "    }\n",
       "    80% {\n",
       "      border-color: transparent;\n",
       "      border-right-color: var(--fill-color);\n",
       "      border-bottom-color: var(--fill-color);\n",
       "    }\n",
       "    90% {\n",
       "      border-color: transparent;\n",
       "      border-bottom-color: var(--fill-color);\n",
       "    }\n",
       "  }\n",
       "</style>\n",
       "\n",
       "      <script>\n",
       "        async function quickchart(key) {\n",
       "          const quickchartButtonEl =\n",
       "            document.querySelector('#' + key + ' button');\n",
       "          quickchartButtonEl.disabled = true;  // To prevent multiple clicks.\n",
       "          quickchartButtonEl.classList.add('colab-df-spinner');\n",
       "          try {\n",
       "            const charts = await google.colab.kernel.invokeFunction(\n",
       "                'suggestCharts', [key], {});\n",
       "          } catch (error) {\n",
       "            console.error('Error during call to suggestCharts:', error);\n",
       "          }\n",
       "          quickchartButtonEl.classList.remove('colab-df-spinner');\n",
       "          quickchartButtonEl.classList.add('colab-df-quickchart-complete');\n",
       "        }\n",
       "        (() => {\n",
       "          let quickchartButtonEl =\n",
       "            document.querySelector('#df-fddc22da-2dee-42d3-8a3d-abd38fe6691f button');\n",
       "          quickchartButtonEl.style.display =\n",
       "            google.colab.kernel.accessAllowed ? 'block' : 'none';\n",
       "        })();\n",
       "      </script>\n",
       "    </div>\n",
       "\n",
       "    </div>\n",
       "  </div>\n"
      ],
      "text/plain": [
       "                                 Name Category  \\\n",
       "0             Torta della Nonna Amore        G   \n",
       "1               Festiva della Sicilia        G   \n",
       "2    Dubai Midnight Pistachio Fantasy        G   \n",
       "3               Ferrari Redline Fudge        G   \n",
       "4  Goalpost Delight - Soccer Fan Cake        G   \n",
       "\n",
       "                                         Ingredients  \\\n",
       "0  Ricotta, pine nuts, lemon zest, vanilla, sugar...   \n",
       "1  Almonds, citrus zest, mascarpone, candied oran...   \n",
       "2  Pistachios, rose syrup, cardamom, white chocol...   \n",
       "3   Dark chocolate, red glaze, fudge, espresso syrup   \n",
       "4        Vanilla sponge, fondant, jam, whipped cream   \n",
       "\n",
       "                                         Description  Energy_kcal  \\\n",
       "0  A nostalgic Tuscan-inspired cake with creamy r...          320   \n",
       "1  A zesty almond cake with mascarpone frosting a...          360   \n",
       "2  Lush green cake with exotic floral pistachio n...          420   \n",
       "3  Dense chocolate fudge cake with red mirror gla...          450   \n",
       "4  Themed cake with stadium design, perfect for f...          390   \n",
       "\n",
       "   Weight_grams                   Restrictions  Delivery_time_hr Available  \n",
       "0           850   Contains dairy, gluten, eggs                24       Yes  \n",
       "1           900     Contains nuts, dairy, eggs                24       Yes  \n",
       "2          1000           Contains nuts, dairy                36       Yes  \n",
       "3           950       Contains dairy, caffeine                24       Yes  \n",
       "4          1200  May contain artificial colors                24       Yes  "
      ]
     },
     "execution_count": 4,
     "metadata": {},
     "output_type": "execute_result"
    }
   ],
   "source": [
    "# Load bakery data\n",
    "try:\n",
    "    cakes_df = pd.read_csv('/content/mdx-langchain-conclave/data/cake_descriptions.csv', encoding='cp1252')\n",
    "    print(f\"✅ Loaded {len(cakes_df)} cake products\")\n",
    "except FileNotFoundError:\n",
    "    print(\"⚠️  Using sample data\")\n",
    "    cakes_df = pd.DataFrame({\n",
    "        'Name': ['Chocolate Truffle Cake', 'Vanilla Bean Cake', 'Red Velvet Cake',\n",
    "                 'Lemon Drizzle Cake', 'Strawberry Shortcake'],\n",
    "        'Category': ['Chocolate', 'Vanilla', 'Specialty', 'Fruit', 'Fruit'],\n",
    "        'Description': [\n",
    "            'Rich chocolate cake with truffle filling and dark chocolate ganache',\n",
    "            'Classic vanilla cake with Madagascar vanilla bean specks',\n",
    "            'Velvety red cake with cream cheese frosting',\n",
    "            'Light lemon-flavored sponge with citrus glaze',\n",
    "            'Fresh strawberries with light whipped cream'\n",
    "        ],\n",
    "        'Ingredients': [\n",
    "            'flour, eggs, cocoa, chocolate, butter, sugar',\n",
    "            'flour, eggs, vanilla beans, butter, sugar, milk',\n",
    "            'flour, eggs, cocoa, buttermilk, cream cheese',\n",
    "            'flour, eggs, lemon, butter, sugar',\n",
    "            'flour, eggs, strawberries, cream, sugar'\n",
    "        ],\n",
    "        'Energy_kcal': [450, 380, 420, 320, 290],\n",
    "        'Restrictions': ['none', 'none', 'none', 'none', 'none'],\n",
    "        'Available': [True, True, True, True, True]\n",
    "    })\n",
    "\n",
    "cakes_df.head()"
   ]
  },
  {
   "cell_type": "markdown",
   "metadata": {
    "id": "vbu_qFCHwcRk"
   },
   "source": [
    "## 1. Creating Product Embeddings\n",
    "\n",
    "Transform each product into a vector that captures its semantic meaning."
   ]
  },
  {
   "cell_type": "code",
   "execution_count": 5,
   "metadata": {
    "colab": {
     "base_uri": "https://localhost:8080/"
    },
    "executionInfo": {
     "elapsed": 18,
     "status": "ok",
     "timestamp": 1761236713556,
     "user": {
      "displayName": "Ivan Reznikov",
      "userId": "03906939862966425294"
     },
     "user_tz": -240
    },
    "id": "xTp046wZwcRl",
    "outputId": "f5adec53-444a-43b3-c311-db105c1018b8"
   },
   "outputs": [
    {
     "name": "stdout",
     "output_type": "stream",
     "text": [
      "📝 Sample Product Text:\n",
      "\n",
      "Product: Torta della Nonna Amore\n",
      "    Category: G\n",
      "    Description: A nostalgic Tuscan-inspired cake with creamy ricotta and lemon warmth\n",
      "    Ingredients: Ricotta, pine nuts, lemon zest, vanilla, sugar, flour\n",
      "    Calories: 320 kcal\n",
      "    Dietary Info: Contains dairy, gluten, eggs\n"
     ]
    }
   ],
   "source": [
    "def create_product_text(row):\n",
    "    \"\"\"Create rich text representation of product\"\"\"\n",
    "    return f\"\"\"\n",
    "    Product: {row['Name']}\n",
    "    Category: {row['Category']}\n",
    "    Description: {row['Description']}\n",
    "    Ingredients: {row['Ingredients']}\n",
    "    Calories: {row['Energy_kcal']} kcal\n",
    "    Dietary Info: {row['Restrictions']}\n",
    "    \"\"\".strip()\n",
    "\n",
    "# Create product texts\n",
    "cakes_df['product_text'] = cakes_df.apply(create_product_text, axis=1)\n",
    "\n",
    "print(\"📝 Sample Product Text:\\n\")\n",
    "print(cakes_df['product_text'].iloc[0])"
   ]
  },
  {
   "cell_type": "code",
   "execution_count": 6,
   "metadata": {
    "colab": {
     "base_uri": "https://localhost:8080/"
    },
    "executionInfo": {
     "elapsed": 2026,
     "status": "ok",
     "timestamp": 1761236715586,
     "user": {
      "displayName": "Ivan Reznikov",
      "userId": "03906939862966425294"
     },
     "user_tz": -240
    },
    "id": "hglh1CRKwcRm",
    "outputId": "65e88466-6c1d-4970-9ba1-a537786e34e4"
   },
   "outputs": [
    {
     "name": "stdout",
     "output_type": "stream",
     "text": [
      "🔄 Generating embeddings for all products...\n",
      "\n",
      "✅ Generated 22 embeddings\n",
      "📊 Embedding dimension: 3072\n",
      "💾 Total vectors: 22 products\n"
     ]
    }
   ],
   "source": [
    "# Generate embeddings for all products\n",
    "print(\"🔄 Generating embeddings for all products...\\n\")\n",
    "\n",
    "product_texts = cakes_df['product_text'].tolist()\n",
    "product_embeddings = embeddings.embed_documents(product_texts)\n",
    "\n",
    "print(f\"✅ Generated {len(product_embeddings)} embeddings\")\n",
    "print(f\"📊 Embedding dimension: {len(product_embeddings[0])}\")\n",
    "print(f\"💾 Total vectors: {len(cakes_df)} products\")"
   ]
  },
  {
   "cell_type": "markdown",
   "metadata": {
    "id": "71E87kg0wcRn"
   },
   "source": [
    "## 2. Semantic Product Search\n",
    "\n",
    "Find products based on meaning, not just keywords!"
   ]
  },
  {
   "cell_type": "code",
   "execution_count": 7,
   "metadata": {
    "colab": {
     "base_uri": "https://localhost:8080/"
    },
    "executionInfo": {
     "elapsed": 1085,
     "status": "ok",
     "timestamp": 1761236716680,
     "user": {
      "displayName": "Ivan Reznikov",
      "userId": "03906939862966425294"
     },
     "user_tz": -240
    },
    "id": "kPTIaj5pwcRn",
    "outputId": "b78b7900-2c60-438e-993b-f2967ff4d7be"
   },
   "outputs": [
    {
     "name": "stdout",
     "output_type": "stream",
     "text": [
      "🔍 Semantic Search Test\n",
      "\n",
      "Query: 'Something rich and indulgent'\n",
      "\n",
      "                      Name                                        Description  \\\n",
      "21  Chocolate Truffle Cake              Deep, rich chocolate cake for purists   \n",
      "3    Ferrari Redline Fudge  Dense chocolate fudge cake with red mirror gla...   \n",
      "8       Velvet Dream Cloud  Fluffy, cloud-like cake with light, elegant cr...   \n",
      "\n",
      "    Energy_kcal  similarity  \n",
      "21          470    0.477568  \n",
      "3           450    0.459690  \n",
      "8           350    0.438766  \n"
     ]
    }
   ],
   "source": [
    "from numpy import dot\n",
    "from numpy.linalg import norm\n",
    "\n",
    "def cosine_similarity(vec1, vec2):\n",
    "    \"\"\"Calculate similarity between two vectors\"\"\"\n",
    "    return dot(vec1, vec2) / (norm(vec1) * norm(vec2))\n",
    "\n",
    "def semantic_product_search(query, top_k=3):\n",
    "    \"\"\"\n",
    "    Find products semantically similar to the query\n",
    "\n",
    "    Args:\n",
    "        query: Customer's search query\n",
    "        top_k: Number of results to return\n",
    "\n",
    "    Returns:\n",
    "        DataFrame with top matching products and scores\n",
    "    \"\"\"\n",
    "    # Embed the query\n",
    "    query_embedding = embeddings.embed_query(query)\n",
    "\n",
    "    # Calculate similarities\n",
    "    similarities = []\n",
    "    for prod_embedding in product_embeddings:\n",
    "        sim = cosine_similarity(query_embedding, prod_embedding)\n",
    "        similarities.append(sim)\n",
    "\n",
    "    # Add to dataframe\n",
    "    results_df = cakes_df.copy()\n",
    "    results_df['similarity'] = similarities\n",
    "\n",
    "    # Sort and return top k\n",
    "    top_results = results_df.nlargest(top_k, 'similarity')\n",
    "    return top_results[['Name', 'Description', 'Energy_kcal', 'similarity']]\n",
    "\n",
    "# Test semantic search\n",
    "print(\"🔍 Semantic Search Test\\n\")\n",
    "print(\"Query: 'Something rich and indulgent'\\n\")\n",
    "print(semantic_product_search(\"Something rich and indulgent\", top_k=3))"
   ]
  },
  {
   "cell_type": "code",
   "execution_count": 8,
   "metadata": {
    "colab": {
     "base_uri": "https://localhost:8080/"
    },
    "executionInfo": {
     "elapsed": 3139,
     "status": "ok",
     "timestamp": 1761236719825,
     "user": {
      "displayName": "Ivan Reznikov",
      "userId": "03906939862966425294"
     },
     "user_tz": -240
    },
    "id": "XGd-Y4U6wcRo",
    "outputId": "11bc8afd-7b10-4da1-cc98-39889383af6e"
   },
   "outputs": [
    {
     "name": "stdout",
     "output_type": "stream",
     "text": [
      "\n",
      "🔍 Query: 'light and refreshing dessert'\n",
      "Top Matches:\n",
      "  Strawberry Shortcake (similarity: 0.486)\n",
      "  Velvet Dream Cloud (similarity: 0.455)\n",
      "------------------------------------------------------------\n",
      "\n",
      "🔍 Query: 'something with citrus flavor'\n",
      "Top Matches:\n",
      "  Festiva della Sicilia (similarity: 0.399)\n",
      "  Lemon Drizzle Cake (similarity: 0.374)\n",
      "------------------------------------------------------------\n",
      "\n",
      "🔍 Query: 'low calorie option'\n",
      "Top Matches:\n",
      "  Strawberry Shortcake (similarity: 0.343)\n",
      "  Cheesecake (similarity: 0.342)\n",
      "------------------------------------------------------------\n",
      "\n",
      "🔍 Query: 'best for chocolate lovers'\n",
      "Top Matches:\n",
      "  Chocolate Truffle Cake (similarity: 0.480)\n",
      "  ChocoCaramel Birthday Surprise (similarity: 0.469)\n",
      "------------------------------------------------------------\n"
     ]
    }
   ],
   "source": [
    "# More search examples\n",
    "test_queries = [\n",
    "    \"light and refreshing dessert\",\n",
    "    \"something with citrus flavor\",\n",
    "    \"low calorie option\",\n",
    "    \"best for chocolate lovers\"\n",
    "]\n",
    "\n",
    "for query in test_queries:\n",
    "    print(f\"\\n🔍 Query: '{query}'\")\n",
    "    results = semantic_product_search(query, top_k=2)\n",
    "    print(\"Top Matches:\")\n",
    "    for idx, row in results.iterrows():\n",
    "        print(f\"  {row['Name']} (similarity: {row['similarity']:.3f})\")\n",
    "    print(\"-\" * 60)"
   ]
  },
  {
   "cell_type": "markdown",
   "metadata": {
    "id": "NNyiHplnwcRp"
   },
   "source": [
    "## 3. Integrate Semantic Search with BakeryAI Chatbot"
   ]
  },
  {
   "cell_type": "code",
   "execution_count": 9,
   "metadata": {
    "colab": {
     "base_uri": "https://localhost:8080/"
    },
    "executionInfo": {
     "elapsed": 9343,
     "status": "ok",
     "timestamp": 1761236729174,
     "user": {
      "displayName": "Ivan Reznikov",
      "userId": "03906939862966425294"
     },
     "user_tz": -240
    },
    "id": "W8sFoVLiwcRp",
    "outputId": "9afe31f3-f90b-4188-b30c-dd3df0dd3f6b"
   },
   "outputs": [
    {
     "name": "stdout",
     "output_type": "stream",
     "text": [
      "🙋 Customer: I'm looking for something not too heavy, preferably with fruit\n",
      "\n",
      "🍰 BakeryAI: Strawberry Shortcake. It’s light and airy with a refreshing strawberry cream, so it won’t feel heavy. It also features fruit, and at about 360 kcal it’s the lightest option among your choices.\n",
      "\n",
      "If you want something a bit more festive but still fruit-forward, the Birthday Blast Berry Bomb is another good option (fruity and 380 kcal), just a touch heavier. Want me to place an order or tailor features ( cutters, no nuts, etc.)?\n",
      "\n",
      "📊 Products Considered:\n",
      "                         Name  similarity\n",
      "17       Strawberry Shortcake    0.362519\n",
      "6   Birthday Blast Berry Bomb    0.346719\n",
      "19                 Cheesecake    0.331008\n"
     ]
    }
   ],
   "source": [
    "from langchain_core.messages import SystemMessage, HumanMessage\n",
    "\n",
    "def smart_bakery_assistant(customer_query):\n",
    "    \"\"\"\n",
    "    BakeryAI with semantic search capabilities\n",
    "    \"\"\"\n",
    "    # Find relevant products\n",
    "    relevant_products = semantic_product_search(customer_query, top_k=3)\n",
    "\n",
    "    # Create context with search results\n",
    "    context = \"Based on your request, here are our most relevant products:\\n\\n\"\n",
    "    for idx, row in relevant_products.iterrows():\n",
    "        context += f\"- {row['Name']}: {row['Description']} ({row['Energy_kcal']} kcal)\\n\"\n",
    "\n",
    "    # Create prompt\n",
    "    system_prompt = f\"\"\"\n",
    "    You are BakeryAI, a helpful bakery assistant.\n",
    "\n",
    "    {context}\n",
    "\n",
    "    Use this information to provide a helpful, personalized response.\n",
    "    Recommend the most suitable product and explain why.\n",
    "    \"\"\"\n",
    "\n",
    "    messages = [\n",
    "        SystemMessage(content=system_prompt),\n",
    "        HumanMessage(content=customer_query)\n",
    "    ]\n",
    "\n",
    "    response = llm.invoke(messages)\n",
    "    return response.content, relevant_products\n",
    "\n",
    "# Test the smart assistant\n",
    "query = \"I'm looking for something not too heavy, preferably with fruit\"\n",
    "print(f\"🙋 Customer: {query}\\n\")\n",
    "response, products = smart_bakery_assistant(query)\n",
    "print(f\"🍰 BakeryAI: {response}\\n\")\n",
    "print(\"📊 Products Considered:\")\n",
    "print(products[['Name', 'similarity']])"
   ]
  },
  {
   "cell_type": "markdown",
   "metadata": {
    "id": "tNz9ATzfwcRq"
   },
   "source": [
    "## 4. Multi-Provider Comparison\n",
    "\n",
    "Compare different LLM providers for customer responses."
   ]
  },
  {
   "cell_type": "code",
   "execution_count": 10,
   "metadata": {
    "colab": {
     "base_uri": "https://localhost:8080/"
    },
    "executionInfo": {
     "elapsed": 7397,
     "status": "ok",
     "timestamp": 1761236736577,
     "user": {
      "displayName": "Ivan Reznikov",
      "userId": "03906939862966425294"
     },
     "user_tz": -240
    },
    "id": "vs4uiVxUwcRr",
    "outputId": "032c69f2-38f6-41aa-a3a3-a456a7e04e45"
   },
   "outputs": [
    {
     "name": "stdout",
     "output_type": "stream",
     "text": [
      "🙋 Customer Query: What's your most popular chocolate cake?\n",
      "\n",
      "======================================================================\n",
      "\n",
      "[GPT-3.5-turbo]\n",
      "Our most popular chocolate cake is the Chocolate Truffle Cake. Its intense chocolate flavor and rich texture make it a favorite among chocolate lovers. If you're looking for a decadent treat, this cake is sure to satisfy your cravings.\n",
      "----------------------------------------------------------------------\n",
      "\n",
      "[GPT-4o]\n",
      "Our most popular chocolate cake is the Chocolate Truffle Cake, known for its deep, rich flavor that delights purists. If you prefer a classic twist with cream and cherry, the Black Forest Cake is another excellent choice.\n",
      "----------------------------------------------------------------------\n",
      "\n",
      "[GPT-5-nano]\n",
      "Our Chocolate Truffle Cake is our most popular chocolate cake. It’s a deep, rich chocolate experience for purists.\n",
      "----------------------------------------------------------------------\n"
     ]
    }
   ],
   "source": [
    "# Compare different models\n",
    "models_to_test = {\n",
    "    \"GPT-3.5-turbo\": ChatOpenAI(model=\"gpt-3.5-turbo\", temperature=0.7),\n",
    "    \"GPT-4o\": ChatOpenAI(model=\"gpt-4o\", temperature=0.7),\n",
    "    \"GPT-5-nano\": ChatOpenAI(model=\"gpt-5-nano\")\n",
    "}\n",
    "\n",
    "def compare_model_responses(query):\n",
    "    \"\"\"Compare responses from different models\"\"\"\n",
    "    # Get relevant products\n",
    "    relevant_products = semantic_product_search(query, top_k=2)\n",
    "\n",
    "    context = \"Relevant products:\\n\"\n",
    "    for idx, row in relevant_products.iterrows():\n",
    "        context += f\"- {row['Name']}: {row['Description']}\\n\"\n",
    "\n",
    "    prompt = f\"{context}\\n\\nCustomer question: {query}\\n\\nProvide a brief recommendation (2 sentences max).\"\n",
    "\n",
    "    print(f\"🙋 Customer Query: {query}\\n\")\n",
    "    print(\"=\" * 70)\n",
    "\n",
    "    for model_name, model in models_to_test.items():\n",
    "        response = model.invoke(prompt)\n",
    "        print(f\"\\n[{model_name}]\")\n",
    "        print(response.content)\n",
    "        print(\"-\" * 70)\n",
    "\n",
    "# Test comparison\n",
    "compare_model_responses(\"What's your most popular chocolate cake?\")"
   ]
  },
  {
   "cell_type": "markdown",
   "metadata": {
    "id": "4vXgZmTYwcRr"
   },
   "source": [
    "## 5. Building a Product Similarity Matrix\n",
    "\n",
    "Find which products are most similar to each other."
   ]
  },
  {
   "cell_type": "code",
   "execution_count": 11,
   "metadata": {
    "colab": {
     "base_uri": "https://localhost:8080/"
    },
    "executionInfo": {
     "elapsed": 26,
     "status": "ok",
     "timestamp": 1761236736610,
     "user": {
      "displayName": "Ivan Reznikov",
      "userId": "03906939862966425294"
     },
     "user_tz": -240
    },
    "id": "mrbtUJVowcRr",
    "outputId": "5825b677-e837-4b9c-d541-24e58b3a2a4a"
   },
   "outputs": [
    {
     "name": "stdout",
     "output_type": "stream",
     "text": [
      "🍰 Customers who liked 'Chocolate Truffle Cake' also liked:\n",
      "\n",
      "                 Name                                        Description  \\\n",
      "11  Black Forest Cake  Classic German cake with cream, cherry, and a ...   \n",
      "12      Tiramisu Cake    Layered coffee dessert cake with creamy filling   \n",
      "13    Red Velvet Cake   Rich red cake with soft crumb and tangy frosting   \n",
      "\n",
      "    similarity  \n",
      "11    0.793170  \n",
      "12    0.767687  \n",
      "13    0.748826  \n"
     ]
    }
   ],
   "source": [
    "def find_similar_products(product_name, top_k=3):\n",
    "    \"\"\"\n",
    "    Find products similar to a given product\n",
    "    Useful for 'customers also liked' recommendations\n",
    "    \"\"\"\n",
    "    # Find the product\n",
    "    product_idx = cakes_df[cakes_df['Name'].str.contains(product_name, case=False)].index[0]\n",
    "    product_embedding = product_embeddings[product_idx]\n",
    "\n",
    "    # Calculate similarities\n",
    "    similarities = []\n",
    "    for idx, prod_embedding in enumerate(product_embeddings):\n",
    "        if idx != product_idx:  # Exclude the product itself\n",
    "            sim = cosine_similarity(product_embedding, prod_embedding)\n",
    "            similarities.append((idx, sim))\n",
    "\n",
    "    # Sort and get top k\n",
    "    similarities.sort(key=lambda x: x[1], reverse=True)\n",
    "    top_indices = [idx for idx, _ in similarities[:top_k]]\n",
    "\n",
    "    results = cakes_df.iloc[top_indices][['Name', 'Description']].copy()\n",
    "    results['similarity'] = [sim for _, sim in similarities[:top_k]]\n",
    "\n",
    "    return results\n",
    "\n",
    "# Test similar products\n",
    "print(\"🍰 Customers who liked 'Chocolate Truffle Cake' also liked:\\n\")\n",
    "print(find_similar_products(\"Chocolate Truffle\", top_k=3))"
   ]
  },
  {
   "cell_type": "markdown",
   "metadata": {
    "id": "pYdeMQpAwcRs"
   },
   "source": [
    "## 6. Dietary Restriction Search\n",
    "\n",
    "Help customers find products matching dietary needs."
   ]
  },
  {
   "cell_type": "code",
   "execution_count": 12,
   "metadata": {
    "colab": {
     "base_uri": "https://localhost:8080/"
    },
    "executionInfo": {
     "elapsed": 246,
     "status": "ok",
     "timestamp": 1761236736862,
     "user": {
      "displayName": "Ivan Reznikov",
      "userId": "03906939862966425294"
     },
     "user_tz": -240
    },
    "id": "gC5zD1uewcRs",
    "outputId": "7856dfe8-20ba-4f01-f32d-b05deeab091a"
   },
   "outputs": [
    {
     "name": "stdout",
     "output_type": "stream",
     "text": [
      "🔍 Dietary Search: 'low calorie'\n",
      "\n",
      "                    Name                                        Description  \\\n",
      "18    Lemon Drizzle Cake         Moist, zingy cake with crisp sugar coating   \n",
      "17  Strawberry Shortcake  Light, airy, and refreshing strawberry cream cake   \n",
      "13       Red Velvet Cake   Rich red cake with soft crumb and tangy frosting   \n",
      "\n",
      "    Energy_kcal  similarity  \n",
      "18          340    0.486109  \n",
      "17          360    0.475042  \n",
      "13          390    0.474466  \n"
     ]
    }
   ],
   "source": [
    "def search_by_dietary_needs(dietary_requirement):\n",
    "    \"\"\"\n",
    "    Search products based on dietary restrictions\n",
    "\n",
    "    Args:\n",
    "        dietary_requirement: e.g., 'vegan', 'gluten-free', 'low-calorie'\n",
    "    \"\"\"\n",
    "    # Semantic search with dietary context\n",
    "    query = f\"cakes suitable for {dietary_requirement} diet\"\n",
    "    results = semantic_product_search(query, top_k=3)\n",
    "\n",
    "    # Also filter by restrictions if available\n",
    "    if 'Restrictions' in cakes_df.columns:\n",
    "        # Additional filtering logic here\n",
    "        pass\n",
    "\n",
    "    return results\n",
    "\n",
    "# Test dietary search\n",
    "print(\"🔍 Dietary Search: 'low calorie'\\n\")\n",
    "print(search_by_dietary_needs(\"low calorie\"))"
   ]
  },
  {
   "cell_type": "markdown",
   "metadata": {
    "id": "F43IWF3qwcRt"
   },
   "source": [
    "## 7. Creating a Product Recommendation Engine"
   ]
  },
  {
   "cell_type": "code",
   "execution_count": 13,
   "metadata": {
    "colab": {
     "base_uri": "https://localhost:8080/"
    },
    "executionInfo": {
     "elapsed": 15041,
     "status": "ok",
     "timestamp": 1761236751907,
     "user": {
      "displayName": "Ivan Reznikov",
      "userId": "03906939862966425294"
     },
     "user_tz": -240
    },
    "id": "0xOK-oUewcRt",
    "outputId": "2ec34688-a61a-428c-8b9d-d470dbbd6a1d"
   },
   "outputs": [
    {
     "name": "stdout",
     "output_type": "stream",
     "text": [
      "🎂 BakeryAI Recommendation:\n",
      "\n",
      "Recommendation: Chocolate Truffle Cake\n",
      "\n",
      "Reasoning:\n",
      "- Direct fit with the preference: chocolate-loving kids will be most excited about a deep, rich chocolate cake.\n",
      "- Birthday party appeal: a classic choice that’s widely loved by kids and easy to slice for a moderate-sized group.\n",
      "- Moderate-budget alignment: typically sits well within a reasonable party budget, especially if you choose a standard size and simple decorations.\n",
      "- Customization options: can add a fun birthday message, themed sprinkles, candles, or a chocolatey topper to match the party vibe.\n",
      "\n",
      "Helpful tips:\n",
      "- If some guests aren’t as into chocolate, you can pair the Chocolate Truffle Cake with a lighter option (e.g., a Berry Bomb) or offer chocolate cupcakes alongside for variety.\n",
      "- For a show-stopping look without breaking the budget, consider a coordinated topper (e.g., “Happy 10th Birthday” and a sporty or magical theme) or a chocolate-dusted/ganache finish.\n",
      "- Know your guest count to pick the right size, and consider a small display with a secondary dessert to ensure enough variety.\n",
      "\n",
      "Alternatives if you want different emphasis:\n",
      "- Trophy Cake – Champions Edition: Great as a centerpiece cake with a dramatic, tall presentation. If you want a wow factor and a trophy-shaped design, this could be ideal—just confirm it can be chocolate-flavored or decorate accordingly.\n",
      "- Birthday Blast Berry Bomb: Bright, fruity, and colorful. This is a good option if you want a non-chocolate option or a party-colorful vibe, perhaps for siblings or friends who prefer fruit flavors.\n",
      "\n",
      "If you’d like, I can check current sizes, availability, and pricing for your party date and guest count to help you finalize. How many guests are you planning for, and what date is the party?\n",
      "\n",
      "📊 Products Analyzed:\n",
      "                               Name  similarity\n",
      "6         Birthday Blast Berry Bomb    0.455051\n",
      "21           Chocolate Truffle Cake    0.439107\n",
      "5   Trophy Cake – Champions Edition    0.420486\n"
     ]
    }
   ],
   "source": [
    "def intelligent_recommendation(occasion, preferences, budget=None):\n",
    "    \"\"\"\n",
    "    Comprehensive recommendation based on multiple factors\n",
    "\n",
    "    Args:\n",
    "        occasion: e.g., 'birthday', 'wedding', 'office party'\n",
    "        preferences: e.g., 'chocolate lover', 'health conscious'\n",
    "        budget: Optional budget constraint\n",
    "    \"\"\"\n",
    "    # Combine factors into search query\n",
    "    search_query = f\"{occasion} cake for {preferences}\"\n",
    "\n",
    "    # Get semantic matches\n",
    "    matches = semantic_product_search(search_query, top_k=3)\n",
    "\n",
    "    # Create personalized recommendation\n",
    "    context = f\"\"\"\n",
    "    Customer needs: {occasion} cake\n",
    "    Preferences: {preferences}\n",
    "    Budget: {budget if budget else 'flexible'}\n",
    "\n",
    "    Top matching products:\n",
    "    \"\"\"\n",
    "\n",
    "    for idx, row in matches.iterrows():\n",
    "        context += f\"\\n- {row['Name']}: {row['Description']} ({row['Energy_kcal']} kcal)\"\n",
    "\n",
    "    context += \"\\n\\nProvide a thoughtful recommendation with reasoning.\"\n",
    "\n",
    "    response = llm.invoke(context)\n",
    "    return response.content, matches\n",
    "\n",
    "# Test recommendations\n",
    "recommendation, products = intelligent_recommendation(\n",
    "    occasion=\"birthday party for a 10-year-old\",\n",
    "    preferences=\"kids who love chocolate\",\n",
    "    budget=\"moderate\"\n",
    ")\n",
    "\n",
    "print(\"🎂 BakeryAI Recommendation:\\n\")\n",
    "print(recommendation)\n",
    "print(\"\\n📊 Products Analyzed:\")\n",
    "print(products[['Name', 'similarity']])"
   ]
  },
  {
   "cell_type": "markdown",
   "metadata": {
    "id": "pOHUvQdKwcRt"
   },
   "source": [
    "## 🎯 Exercise 3: Build a Smart Search Interface\n",
    "\n",
    "**Task**: Create a comprehensive search function that:\n",
    "1. Takes natural language query\n",
    "2. Performs semantic search\n",
    "3. Filters by availability and dietary restrictions\n",
    "4. Returns ranked results with explanations"
   ]
  },
  {
   "cell_type": "code",
   "execution_count": 14,
   "metadata": {
    "executionInfo": {
     "elapsed": 8,
     "status": "ok",
     "timestamp": 1761236751919,
     "user": {
      "displayName": "Ivan Reznikov",
      "userId": "03906939862966425294"
     },
     "user_tz": -240
    },
    "id": "qlnxXzgDwcRu"
   },
   "outputs": [],
   "source": [
    "def advanced_product_search(query, filters=None):\n",
    "    \"\"\"\n",
    "    Advanced search with filtering and ranking\n",
    "\n",
    "    Args:\n",
    "        query: Natural language search query\n",
    "        filters: Dict with keys like 'max_calories', 'restrictions', 'category'\n",
    "\n",
    "    Returns:\n",
    "        Ranked list of products with explanations\n",
    "    \"\"\"\n",
    "    # TODO: Implement advanced search\n",
    "    # Hint: Combine semantic search with filtering\n",
    "    pass\n",
    "\n",
    "# Test your function\n",
    "# filters = {'max_calories': 350, 'category': 'Fruit'}\n",
    "# results = advanced_product_search(\"something light and fruity\", filters=filters)\n",
    "# print(results)"
   ]
  },
  {
   "cell_type": "markdown",
   "metadata": {
    "id": "toFYrTc_wcRu"
   },
   "source": [
    "## 🎯 Exercise 4: Customer Preference Learning\n",
    "\n",
    "**Task**: Build a system that:\n",
    "1. Tracks customer queries over time\n",
    "2. Identifies preference patterns using embeddings\n",
    "3. Proactively suggests products they'll like"
   ]
  },
  {
   "cell_type": "code",
   "execution_count": 15,
   "metadata": {
    "executionInfo": {
     "elapsed": 4,
     "status": "ok",
     "timestamp": 1761236751928,
     "user": {
      "displayName": "Ivan Reznikov",
      "userId": "03906939862966425294"
     },
     "user_tz": -240
    },
    "id": "4vDaeCOKwcRu"
   },
   "outputs": [],
   "source": [
    "class CustomerPreferenceTracker:\n",
    "    def __init__(self):\n",
    "        self.query_history = []\n",
    "        self.query_embeddings = []\n",
    "\n",
    "    def add_query(self, query):\n",
    "        \"\"\"Track customer queries\"\"\"\n",
    "        # TODO: Implement query tracking\n",
    "        pass\n",
    "\n",
    "    def get_preference_profile(self):\n",
    "        \"\"\"Analyze queries to understand preferences\"\"\"\n",
    "        # TODO: Analyze query patterns\n",
    "        pass\n",
    "\n",
    "    def suggest_products(self, k=3):\n",
    "        \"\"\"Suggest products based on preference history\"\"\"\n",
    "        # TODO: Use aggregated embeddings to recommend\n",
    "        pass\n",
    "\n",
    "# Test\n",
    "# tracker = CustomerPreferenceTracker()\n",
    "# tracker.add_query(\"chocolate cakes\")\n",
    "# tracker.add_query(\"rich desserts\")\n",
    "# tracker.add_query(\"indulgent treats\")\n",
    "# suggestions = tracker.suggest_products()\n",
    "# print(suggestions)"
   ]
  },
  {
   "cell_type": "markdown",
   "metadata": {
    "id": "MLnwmf7WwcRv"
   },
   "source": [
    "## Summary: What We Built\n",
    "\n",
    "### ✅ Session 1.2 Achievements:\n",
    "\n",
    "1. **Product Embeddings**: Vector representations of all cakes\n",
    "2. **Semantic Search**: Find products by meaning, not just keywords\n",
    "3. **Smart Assistant**: Chatbot with semantic search integration\n",
    "4. **Similar Products**: \"Customers also liked\" recommendations\n",
    "5. **Multi-Provider Support**: Compare different LLM responses\n",
    "6. **Intelligent Recommendations**: Context-aware product suggestions\n",
    "\n",
    "### 🚀 BakeryAI Progress: 40%\n",
    "\n",
    "```\n",
    "[████████░░░░░░░░░░░░] 40%\n",
    "```\n",
    "\n",
    "### Key Capabilities Added:\n",
    "\n",
    "✨ **Natural Language Search**: \"light and fruity\" → relevant products  \n",
    "✨ **Smart Matching**: Understands context and intent  \n",
    "✨ **Personalization**: Can track and learn preferences  \n",
    "✨ **Flexibility**: Works with multiple LLM providers  \n",
    "\n",
    "### Next: Notebook 1.3\n",
    "\n",
    "We'll add **prompt templates** for:\n",
    "- Consistent customer interactions\n",
    "- Order confirmations\n",
    "- Structured product recommendations\n",
    "- Multi-language support"
   ]
  }
 ],
 "metadata": {
  "colab": {
   "provenance": []
  },
  "kernelspec": {
   "display_name": "Python 3",
   "language": "python",
   "name": "python3"
  }
 },
 "nbformat": 4,
 "nbformat_minor": 0
}
