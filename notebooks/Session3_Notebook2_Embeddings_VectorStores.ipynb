{
 "cells": [
  {
   "cell_type": "markdown",
   "metadata": {
    "id": "6wHB2V8834ct"
   },
   "source": [
    "# Session 3.2: BakeryAI - Embeddings & Vector Stores\n",
    "\n"
   ]
  },
  {
   "cell_type": "markdown",
   "metadata": {
    "id": "uXB09zvu4AgP"
   },
   "source": [
    "[![Open In Colab](https://colab.research.google.com/assets/colab-badge.svg)](https://colab.research.google.com/drive/1kYFKkdpVJ5imP048DXe92wZwlpJ1fy3x?usp=sharing)"
   ]
  },
  {
   "cell_type": "markdown",
   "metadata": {
    "id": "fCiIBT124Aj3"
   },
   "source": [
    "## 🎯 Today's Goal\n",
    "\n",
    "Transform our processed documents into **searchable knowledge** using vector embeddings!\n",
    "\n",
    "### What Are Embeddings?\n",
    "\n",
    "Embeddings convert text into numbers (vectors) that capture semantic meaning:\n",
    "\n",
    "```\n",
    "\"chocolate cake\" → [0.23, -0.45, 0.89, ...] (1536 dimensions)\n",
    "\"cocoa dessert\"  → [0.25, -0.43, 0.87, ...] (similar vector!)\n",
    "\"car repair\"     → [-0.67, 0.12, -0.34, ...] (very different)\n",
    "```\n",
    "\n",
    "**Similar meaning = Similar vectors** = Easy to search!\n",
    "\n",
    "### What Are Vector Stores?\n",
    "\n",
    "Databases optimized for storing and searching vectors:\n",
    "\n",
    "- **FAISS**: Facebook's fast similarity search (in-memory)\n",
    "- **Chroma**: Easy persistent storage\n",
    "- **Qdrant**: Production-ready with advanced features\n",
    "- **Pinecone**: Managed cloud service\n",
    "- **Weaviate**: GraphQL + vectors\n",
    "\n",
    "### Today's Pipeline:\n",
    "\n",
    "```\n",
    "Processed Chunks (from 3.1)\n",
    "      ↓\n",
    "[Generate Embeddings]\n",
    "      ↓\n",
    "[Store in Vector DB]\n",
    "      ↓\n",
    "[Semantic Search Ready!]\n",
    "```\n",
    "\n",
    "Let's build it! 🚀"
   ]
  },
  {
   "cell_type": "code",
   "execution_count": 1,
   "metadata": {
    "colab": {
     "base_uri": "https://localhost:8080/"
    },
    "executionInfo": {
     "elapsed": 52313,
     "status": "ok",
     "timestamp": 1761339090001,
     "user": {
      "displayName": "Ivan Reznikov",
      "userId": "03906939862966425294"
     },
     "user_tz": -240
    },
    "id": "qQ1zueVM34c4",
    "outputId": "8a2a7608-7062-4171-acb5-56cca30290e4"
   },
   "outputs": [
    {
     "name": "stdout",
     "output_type": "stream",
     "text": [
      "\u001b[?25l   \u001b[90m━━━━━━━━━━━━━━━━━━━━━━━━━━━━━━━━━━━━━━━━\u001b[0m \u001b[32m0.0/76.0 kB\u001b[0m \u001b[31m?\u001b[0m eta \u001b[36m-:--:--\u001b[0m\r\u001b[2K   \u001b[90m━━━━━━━━━━━━━━━━━━━━━━━━━━━━━━━━━━━━━━━━\u001b[0m \u001b[32m76.0/76.0 kB\u001b[0m \u001b[31m2.1 MB/s\u001b[0m eta \u001b[36m0:00:00\u001b[0m\n",
      "\u001b[?25h\u001b[?25l   \u001b[90m━━━━━━━━━━━━━━━━━━━━━━━━━━━━━━━━━━━━━━━━\u001b[0m \u001b[32m0.0/2.5 MB\u001b[0m \u001b[31m?\u001b[0m eta \u001b[36m-:--:--\u001b[0m\r\u001b[2K   \u001b[91m━━━━━━━━━━━━━━━━━━━━━━━━━━━━━━━━━━━━━━━\u001b[0m\u001b[91m╸\u001b[0m \u001b[32m2.5/2.5 MB\u001b[0m \u001b[31m100.6 MB/s\u001b[0m eta \u001b[36m0:00:01\u001b[0m\r\u001b[2K   \u001b[90m━━━━━━━━━━━━━━━━━━━━━━━━━━━━━━━━━━━━━━━━\u001b[0m \u001b[32m2.5/2.5 MB\u001b[0m \u001b[31m52.5 MB/s\u001b[0m eta \u001b[36m0:00:00\u001b[0m\n",
      "\u001b[?25h\u001b[?25l   \u001b[90m━━━━━━━━━━━━━━━━━━━━━━━━━━━━━━━━━━━━━━━━\u001b[0m \u001b[32m0.0/64.7 kB\u001b[0m \u001b[31m?\u001b[0m eta \u001b[36m-:--:--\u001b[0m\r\u001b[2K   \u001b[90m━━━━━━━━━━━━━━━━━━━━━━━━━━━━━━━━━━━━━━━━\u001b[0m \u001b[32m64.7/64.7 kB\u001b[0m \u001b[31m3.2 MB/s\u001b[0m eta \u001b[36m0:00:00\u001b[0m\n",
      "\u001b[?25h\u001b[?25l   \u001b[90m━━━━━━━━━━━━━━━━━━━━━━━━━━━━━━━━━━━━━━━━\u001b[0m \u001b[32m0.0/50.9 kB\u001b[0m \u001b[31m?\u001b[0m eta \u001b[36m-:--:--\u001b[0m\r\u001b[2K   \u001b[90m━━━━━━━━━━━━━━━━━━━━━━━━━━━━━━━━━━━━━━━━\u001b[0m \u001b[32m50.9/50.9 kB\u001b[0m \u001b[31m2.3 MB/s\u001b[0m eta \u001b[36m0:00:00\u001b[0m\n",
      "\u001b[?25h\u001b[31mERROR: pip's dependency resolver does not currently take into account all the packages that are installed. This behaviour is the source of the following dependency conflicts.\n",
      "google-colab 1.0.0 requires requests==2.32.4, but you have requests 2.32.5 which is incompatible.\u001b[0m\u001b[31m\n",
      "\u001b[2K     \u001b[90m━━━━━━━━━━━━━━━━━━━━━━━━━━━━━━━━━━━━━━━━\u001b[0m \u001b[32m67.3/67.3 kB\u001b[0m \u001b[31m1.9 MB/s\u001b[0m eta \u001b[36m0:00:00\u001b[0m\n",
      "\u001b[?25h  Installing build dependencies ... \u001b[?25l\u001b[?25hdone\n",
      "  Getting requirements to build wheel ... \u001b[?25l\u001b[?25hdone\n",
      "  Preparing metadata (pyproject.toml) ... \u001b[?25l\u001b[?25hdone\n",
      "\u001b[2K   \u001b[90m━━━━━━━━━━━━━━━━━━━━━━━━━━━━━━━━━━━━━━━━\u001b[0m \u001b[32m31.4/31.4 MB\u001b[0m \u001b[31m64.2 MB/s\u001b[0m eta \u001b[36m0:00:00\u001b[0m\n",
      "\u001b[2K   \u001b[90m━━━━━━━━━━━━━━━━━━━━━━━━━━━━━━━━━━━━━━━━\u001b[0m \u001b[32m20.7/20.7 MB\u001b[0m \u001b[31m86.0 MB/s\u001b[0m eta \u001b[36m0:00:00\u001b[0m\n",
      "\u001b[2K   \u001b[90m━━━━━━━━━━━━━━━━━━━━━━━━━━━━━━━━━━━━━━━━\u001b[0m \u001b[32m337.3/337.3 kB\u001b[0m \u001b[31m22.2 MB/s\u001b[0m eta \u001b[36m0:00:00\u001b[0m\n",
      "\u001b[2K   \u001b[90m━━━━━━━━━━━━━━━━━━━━━━━━━━━━━━━━━━━━━━━━\u001b[0m \u001b[32m278.2/278.2 kB\u001b[0m \u001b[31m20.6 MB/s\u001b[0m eta \u001b[36m0:00:00\u001b[0m\n",
      "\u001b[2K   \u001b[90m━━━━━━━━━━━━━━━━━━━━━━━━━━━━━━━━━━━━━━━━\u001b[0m \u001b[32m2.0/2.0 MB\u001b[0m \u001b[31m83.9 MB/s\u001b[0m eta \u001b[36m0:00:00\u001b[0m\n",
      "\u001b[2K   \u001b[90m━━━━━━━━━━━━━━━━━━━━━━━━━━━━━━━━━━━━━━━━\u001b[0m \u001b[32m103.3/103.3 kB\u001b[0m \u001b[31m8.2 MB/s\u001b[0m eta \u001b[36m0:00:00\u001b[0m\n",
      "\u001b[2K   \u001b[90m━━━━━━━━━━━━━━━━━━━━━━━━━━━━━━━━━━━━━━━━\u001b[0m \u001b[32m17.4/17.4 MB\u001b[0m \u001b[31m37.2 MB/s\u001b[0m eta \u001b[36m0:00:00\u001b[0m\n",
      "\u001b[2K   \u001b[90m━━━━━━━━━━━━━━━━━━━━━━━━━━━━━━━━━━━━━━━━\u001b[0m \u001b[32m72.5/72.5 kB\u001b[0m \u001b[31m4.8 MB/s\u001b[0m eta \u001b[36m0:00:00\u001b[0m\n",
      "\u001b[2K   \u001b[90m━━━━━━━━━━━━━━━━━━━━━━━━━━━━━━━━━━━━━━━━\u001b[0m \u001b[32m132.3/132.3 kB\u001b[0m \u001b[31m10.6 MB/s\u001b[0m eta \u001b[36m0:00:00\u001b[0m\n",
      "\u001b[2K   \u001b[90m━━━━━━━━━━━━━━━━━━━━━━━━━━━━━━━━━━━━━━━━\u001b[0m \u001b[32m65.9/65.9 kB\u001b[0m \u001b[31m5.3 MB/s\u001b[0m eta \u001b[36m0:00:00\u001b[0m\n",
      "\u001b[2K   \u001b[90m━━━━━━━━━━━━━━━━━━━━━━━━━━━━━━━━━━━━━━━━\u001b[0m \u001b[32m208.0/208.0 kB\u001b[0m \u001b[31m15.9 MB/s\u001b[0m eta \u001b[36m0:00:00\u001b[0m\n",
      "\u001b[2K   \u001b[90m━━━━━━━━━━━━━━━━━━━━━━━━━━━━━━━━━━━━━━━━\u001b[0m \u001b[32m105.4/105.4 kB\u001b[0m \u001b[31m9.0 MB/s\u001b[0m eta \u001b[36m0:00:00\u001b[0m\n",
      "\u001b[2K   \u001b[90m━━━━━━━━━━━━━━━━━━━━━━━━━━━━━━━━━━━━━━━━\u001b[0m \u001b[32m71.6/71.6 kB\u001b[0m \u001b[31m6.1 MB/s\u001b[0m eta \u001b[36m0:00:00\u001b[0m\n",
      "\u001b[2K   \u001b[90m━━━━━━━━━━━━━━━━━━━━━━━━━━━━━━━━━━━━━━━━\u001b[0m \u001b[32m128.4/128.4 kB\u001b[0m \u001b[31m11.1 MB/s\u001b[0m eta \u001b[36m0:00:00\u001b[0m\n",
      "\u001b[2K   \u001b[90m━━━━━━━━━━━━━━━━━━━━━━━━━━━━━━━━━━━━━━━━\u001b[0m \u001b[32m517.7/517.7 kB\u001b[0m \u001b[31m31.3 MB/s\u001b[0m eta \u001b[36m0:00:00\u001b[0m\n",
      "\u001b[2K   \u001b[90m━━━━━━━━━━━━━━━━━━━━━━━━━━━━━━━━━━━━━━━━\u001b[0m \u001b[32m4.4/4.4 MB\u001b[0m \u001b[31m92.8 MB/s\u001b[0m eta \u001b[36m0:00:00\u001b[0m\n",
      "\u001b[2K   \u001b[90m━━━━━━━━━━━━━━━━━━━━━━━━━━━━━━━━━━━━━━━━\u001b[0m \u001b[32m456.8/456.8 kB\u001b[0m \u001b[31m34.8 MB/s\u001b[0m eta \u001b[36m0:00:00\u001b[0m\n",
      "\u001b[2K   \u001b[90m━━━━━━━━━━━━━━━━━━━━━━━━━━━━━━━━━━━━━━━━\u001b[0m \u001b[32m46.0/46.0 kB\u001b[0m \u001b[31m3.5 MB/s\u001b[0m eta \u001b[36m0:00:00\u001b[0m\n",
      "\u001b[2K   \u001b[90m━━━━━━━━━━━━━━━━━━━━━━━━━━━━━━━━━━━━━━━━\u001b[0m \u001b[32m86.8/86.8 kB\u001b[0m \u001b[31m7.0 MB/s\u001b[0m eta \u001b[36m0:00:00\u001b[0m\n",
      "\u001b[?25h  Building wheel for pypika (pyproject.toml) ... \u001b[?25l\u001b[?25hdone\n",
      "\u001b[31mERROR: pip's dependency resolver does not currently take into account all the packages that are installed. This behaviour is the source of the following dependency conflicts.\n",
      "google-colab 1.0.0 requires requests==2.32.4, but you have requests 2.32.5 which is incompatible.\n",
      "google-adk 1.16.0 requires opentelemetry-api<=1.37.0,>=1.37.0, but you have opentelemetry-api 1.38.0 which is incompatible.\n",
      "google-adk 1.16.0 requires opentelemetry-sdk<=1.37.0,>=1.37.0, but you have opentelemetry-sdk 1.38.0 which is incompatible.\n",
      "opentelemetry-exporter-otlp-proto-http 1.37.0 requires opentelemetry-exporter-otlp-proto-common==1.37.0, but you have opentelemetry-exporter-otlp-proto-common 1.38.0 which is incompatible.\n",
      "opentelemetry-exporter-otlp-proto-http 1.37.0 requires opentelemetry-proto==1.37.0, but you have opentelemetry-proto 1.38.0 which is incompatible.\n",
      "opentelemetry-exporter-otlp-proto-http 1.37.0 requires opentelemetry-sdk~=1.37.0, but you have opentelemetry-sdk 1.38.0 which is incompatible.\u001b[0m\u001b[31m\n",
      "\u001b[0m"
     ]
    }
   ],
   "source": [
    "!pip install -q langchain langchain-openai langchain-community\n",
    "!pip install -q faiss-cpu chromadb qdrant-client\n",
    "!pip install -q tiktoken python-dotenv"
   ]
  },
  {
   "cell_type": "code",
   "execution_count": 2,
   "metadata": {
    "colab": {
     "base_uri": "https://localhost:8080/"
    },
    "executionInfo": {
     "elapsed": 683,
     "status": "ok",
     "timestamp": 1761339090689,
     "user": {
      "displayName": "Ivan Reznikov",
      "userId": "03906939862966425294"
     },
     "user_tz": -240
    },
    "id": "Nnwg78mW4xc2",
    "outputId": "9e146a32-6164-44c0-f34d-8f3e7f01236b"
   },
   "outputs": [
    {
     "name": "stdout",
     "output_type": "stream",
     "text": [
      "Cloning into 'mdx-langchain-conclave'...\n",
      "remote: Enumerating objects: 31, done.\u001b[K\n",
      "remote: Counting objects: 100% (31/31), done.\u001b[K\n",
      "remote: Compressing objects: 100% (27/27), done.\u001b[K\n",
      "remote: Total 31 (delta 7), reused 27 (delta 3), pack-reused 0 (from 0)\u001b[K\n",
      "Receiving objects: 100% (31/31), 261.79 KiB | 16.36 MiB/s, done.\n",
      "Resolving deltas: 100% (7/7), done.\n"
     ]
    }
   ],
   "source": [
    "!git clone https://github.com/IvanReznikov/mdx-langchain-conclave"
   ]
  },
  {
   "cell_type": "code",
   "execution_count": 3,
   "metadata": {
    "colab": {
     "base_uri": "https://localhost:8080/"
    },
    "executionInfo": {
     "elapsed": 17950,
     "status": "ok",
     "timestamp": 1761339108641,
     "user": {
      "displayName": "Ivan Reznikov",
      "userId": "03906939862966425294"
     },
     "user_tz": -240
    },
    "id": "KXik8Uej34c8",
    "outputId": "d04d829b-837a-43a8-9de0-ca7420e238a1"
   },
   "outputs": [
    {
     "name": "stdout",
     "output_type": "stream",
     "text": [
      "✅ Environment ready!\n",
      "Embedding model: text-embedding-3-small (1536 dimensions)\n"
     ]
    }
   ],
   "source": [
    "import pickle\n",
    "\n",
    "from langchain_openai import OpenAIEmbeddings, ChatOpenAI\n",
    "from langchain_community.vectorstores import FAISS, Chroma\n",
    "from langchain_core.documents import Document\n",
    "\n",
    "import os\n",
    "from google.colab import userdata\n",
    "\n",
    "# Set OpenAI API key from Google Colab's user environment or default\n",
    "def set_openai_api_key(default_key: str = \"YOUR_API_KEY\") -> None:\n",
    "    \"\"\"Set the OpenAI API key from Google Colab's user environment or use a default value.\"\"\"\n",
    "    #if not (userdata.get(\"OPENAI_API_KEY\") or \"OPENAI_API_KEY\" in os.environ):\n",
    "    try:\n",
    "      os.environ[\"OPENAI_API_KEY\"] = userdata.get(\"MDX_OPENAI_API_KEY\")\n",
    "    except:\n",
    "      os.environ[\"OPENAI_API_KEY\"] = default_key\n",
    "\n",
    "set_openai_api_key()\n",
    "#set_openai_api_key(\"sk-...\")\n",
    "\n",
    "llm = ChatOpenAI(model=\"gpt-5-nano\")\n",
    "embeddings = OpenAIEmbeddings(model=\"text-embedding-3-large\")\n",
    "\n",
    "print(\"✅ Environment ready!\")\n",
    "print(f\"Embedding model: text-embedding-3-small (1536 dimensions)\")"
   ]
  },
  {
   "cell_type": "markdown",
   "metadata": {
    "id": "UIVQTNnJ34c-"
   },
   "source": [
    "## 1. Load Processed Documents from Session 3.1"
   ]
  },
  {
   "cell_type": "code",
   "execution_count": 4,
   "metadata": {
    "colab": {
     "base_uri": "https://localhost:8080/"
    },
    "executionInfo": {
     "elapsed": 30,
     "status": "ok",
     "timestamp": 1761339108685,
     "user": {
      "displayName": "Ivan Reznikov",
      "userId": "03906939862966425294"
     },
     "user_tz": -240
    },
    "id": "a4Mpbx2m34dA",
    "outputId": "114c0987-26bb-45b9-8d20-c6933a4de897"
   },
   "outputs": [
    {
     "name": "stdout",
     "output_type": "stream",
     "text": [
      "✅ Loaded 101 chunks from previous session\n",
      "\n",
      "📚 Knowledge Base: 101 chunks ready for embedding\n"
     ]
    }
   ],
   "source": [
    "# Load the chunks we processed in Session 3.1\n",
    "try:\n",
    "    with open('/content/mdx-langchain-conclave/rag_artifacts/bakery_knowledge_base.pkl', 'rb') as f:\n",
    "        chunks = pickle.load(f)\n",
    "    print(f\"✅ Loaded {len(chunks)} chunks from previous session\")\n",
    "except FileNotFoundError:\n",
    "    print(\"⚠️  Creating sample chunks for demo...\")\n",
    "    # Create sample documents if file not found\n",
    "    chunks = [\n",
    "        Document(\n",
    "            page_content=\"Our refund policy: Full refunds within 24 hours of order. After that, store credit is offered.\",\n",
    "            metadata={\"source\": \"policy.txt\", \"category\": \"policy\"}\n",
    "        ),\n",
    "        Document(\n",
    "            page_content=\"Chocolate Truffle Cake: Rich chocolate with Belgian truffle filling. Price $45. Serves 8-10. Allergens: dairy, eggs, gluten.\",\n",
    "            metadata={\"source\": \"cakes.pdf\", \"category\": \"product\"}\n",
    "        ),\n",
    "        Document(\n",
    "            page_content=\"Hygiene procedures: Wash hands thoroughly before handling food. Use gloves when appropriate. Clean surfaces regularly.\",\n",
    "            metadata={\"source\": \"sop_hygiene.txt\", \"category\": \"safety\"}\n",
    "        ),\n",
    "        Document(\n",
    "            page_content=\"Customer service standards: Respond within 2 hours during business hours. Always be professional and courteous.\",\n",
    "            metadata={\"source\": \"policy.txt\", \"category\": \"policy\"}\n",
    "        ),\n",
    "        Document(\n",
    "            page_content=\"Red Velvet Cake: Velvety red sponge with cream cheese frosting. Price $50. Serves 10-12. Contains dairy, eggs, gluten.\",\n",
    "            metadata={\"source\": \"cakes.pdf\", \"category\": \"product\"}\n",
    "        )\n",
    "    ]\n",
    "\n",
    "print(f\"\\n📚 Knowledge Base: {len(chunks)} chunks ready for embedding\")"
   ]
  },
  {
   "cell_type": "markdown",
   "metadata": {
    "id": "0KvbdO4a34dB"
   },
   "source": [
    "## 2. Understanding Embeddings\n",
    "\n",
    "Let's see what embeddings look like."
   ]
  },
  {
   "cell_type": "code",
   "execution_count": 5,
   "metadata": {
    "colab": {
     "base_uri": "https://localhost:8080/"
    },
    "executionInfo": {
     "elapsed": 2408,
     "status": "ok",
     "timestamp": 1761339111096,
     "user": {
      "displayName": "Ivan Reznikov",
      "userId": "03906939862966425294"
     },
     "user_tz": -240
    },
    "id": "YnWh-jrN34dC",
    "outputId": "3d91b95f-d3e3-4fa8-b1e9-fcb7f94910f1"
   },
   "outputs": [
    {
     "name": "stdout",
     "output_type": "stream",
     "text": [
      "📊 EMBEDDING ANALYSIS\n",
      "======================================================================\n",
      "Text: 'chocolate cake with rich frosting'\n",
      "\n",
      "Embedding dimensions: 3072\n",
      "First 10 values: [-0.00021281850058585405, -0.0380740761756897, -0.014900933019816875, -0.015393978916108608, -0.0002764821401797235, 0.026994245126843452, -0.0016777245327830315, 0.009361018426716328, -0.03486927971243858, 0.02941838651895523]\n",
      "\n",
      "Vector characteristics:\n",
      "  - Min value: -0.1705\n",
      "  - Max value: 0.0740\n",
      "  - Mean: -0.0005\n"
     ]
    }
   ],
   "source": [
    "# Generate embedding for a sample text\n",
    "sample_text = \"chocolate cake with rich frosting\"\n",
    "sample_embedding = embeddings.embed_query(sample_text)\n",
    "\n",
    "print(f\"📊 EMBEDDING ANALYSIS\")\n",
    "print(\"=\" * 70)\n",
    "print(f\"Text: '{sample_text}'\")\n",
    "print(f\"\\nEmbedding dimensions: {len(sample_embedding)}\")\n",
    "print(f\"First 10 values: {sample_embedding[:10]}\")\n",
    "print(f\"\\nVector characteristics:\")\n",
    "print(f\"  - Min value: {min(sample_embedding):.4f}\")\n",
    "print(f\"  - Max value: {max(sample_embedding):.4f}\")\n",
    "print(f\"  - Mean: {sum(sample_embedding)/len(sample_embedding):.4f}\")"
   ]
  },
  {
   "cell_type": "code",
   "execution_count": 6,
   "metadata": {
    "colab": {
     "base_uri": "https://localhost:8080/"
    },
    "executionInfo": {
     "elapsed": 1471,
     "status": "ok",
     "timestamp": 1761339112572,
     "user": {
      "displayName": "Ivan Reznikov",
      "userId": "03906939862966425294"
     },
     "user_tz": -240
    },
    "id": "-ffsil6I34dD",
    "outputId": "81df0add-eafc-4751-b588-0bd781537d55"
   },
   "outputs": [
    {
     "name": "stdout",
     "output_type": "stream",
     "text": [
      "\n",
      "🔍 SEMANTIC SIMILARITY TEST\n",
      "======================================================================\n",
      "Text 1: 'chocolate cake'\n",
      "Text 2: 'cocoa dessert'\n",
      "Similarity: 0.5879 ✨ (High - similar meaning)\n",
      "\n",
      "Text 1: 'chocolate cake'\n",
      "Text 3: 'car repair'\n",
      "Similarity: 0.1916 (Low - different meaning)\n",
      "\n",
      "✅ Similar meanings = Higher similarity scores!\n"
     ]
    }
   ],
   "source": [
    "# Compare similar vs different texts\n",
    "import numpy as np\n",
    "\n",
    "def cosine_similarity(v1, v2):\n",
    "    \"\"\"Calculate cosine similarity between two vectors\"\"\"\n",
    "    return np.dot(v1, v2) / (np.linalg.norm(v1) * np.linalg.norm(v2))\n",
    "\n",
    "# Test texts\n",
    "text1 = \"chocolate cake\"\n",
    "text2 = \"cocoa dessert\"  # Similar\n",
    "text3 = \"car repair\"      # Different\n",
    "\n",
    "emb1 = embeddings.embed_query(text1)\n",
    "emb2 = embeddings.embed_query(text2)\n",
    "emb3 = embeddings.embed_query(text3)\n",
    "\n",
    "sim_1_2 = cosine_similarity(emb1, emb2)\n",
    "sim_1_3 = cosine_similarity(emb1, emb3)\n",
    "\n",
    "print(\"\\n🔍 SEMANTIC SIMILARITY TEST\")\n",
    "print(\"=\" * 70)\n",
    "print(f\"Text 1: '{text1}'\")\n",
    "print(f\"Text 2: '{text2}'\")\n",
    "print(f\"Similarity: {sim_1_2:.4f} ✨ (High - similar meaning)\\n\")\n",
    "\n",
    "print(f\"Text 1: '{text1}'\")\n",
    "print(f\"Text 3: '{text3}'\")\n",
    "print(f\"Similarity: {sim_1_3:.4f} (Low - different meaning)\")\n",
    "\n",
    "print(\"\\n✅ Similar meanings = Higher similarity scores!\")"
   ]
  },
  {
   "cell_type": "markdown",
   "metadata": {
    "id": "BQJJRF1A34dF"
   },
   "source": [
    "## 3. Building a FAISS Vector Store\n",
    "\n",
    "FAISS is fast and perfect for development/testing."
   ]
  },
  {
   "cell_type": "code",
   "execution_count": 7,
   "metadata": {
    "colab": {
     "base_uri": "https://localhost:8080/"
    },
    "executionInfo": {
     "elapsed": 1557,
     "status": "ok",
     "timestamp": 1761339114131,
     "user": {
      "displayName": "Ivan Reznikov",
      "userId": "03906939862966425294"
     },
     "user_tz": -240
    },
    "id": "D4Rd9iYz34dH",
    "outputId": "51135358-cfdf-472a-d5ed-cf133b640c5c"
   },
   "outputs": [
    {
     "name": "stdout",
     "output_type": "stream",
     "text": [
      "🔧 Building FAISS vector store...\n",
      "\n",
      "Processing 101 chunks...\n",
      "\n",
      "✅ FAISS store created!\n",
      "   Time taken: 1.51 seconds\n",
      "   Documents indexed: 101\n",
      "   Embedding dimensions: 1536\n"
     ]
    }
   ],
   "source": [
    "print(\"🔧 Building FAISS vector store...\\n\")\n",
    "print(f\"Processing {len(chunks)} chunks...\")\n",
    "\n",
    "# Create FAISS vector store\n",
    "import time\n",
    "start_time = time.time()\n",
    "\n",
    "faiss_store = FAISS.from_documents(\n",
    "    documents=chunks,\n",
    "    embedding=embeddings\n",
    ")\n",
    "\n",
    "elapsed = time.time() - start_time\n",
    "\n",
    "print(f\"\\n✅ FAISS store created!\")\n",
    "print(f\"   Time taken: {elapsed:.2f} seconds\")\n",
    "print(f\"   Documents indexed: {len(chunks)}\")\n",
    "print(f\"   Embedding dimensions: 1536\")"
   ]
  },
  {
   "cell_type": "code",
   "execution_count": 8,
   "metadata": {
    "colab": {
     "base_uri": "https://localhost:8080/"
    },
    "executionInfo": {
     "elapsed": 295,
     "status": "ok",
     "timestamp": 1761339114432,
     "user": {
      "displayName": "Ivan Reznikov",
      "userId": "03906939862966425294"
     },
     "user_tz": -240
    },
    "id": "h4mCwHEr34dI",
    "outputId": "fbdd5d15-3545-4993-e6c1-053c5a08acbe"
   },
   "outputs": [
    {
     "name": "stdout",
     "output_type": "stream",
     "text": [
      "\n",
      "🔍 Searching for: 'What is the refund policy?'\n",
      "\n",
      "======================================================================\n",
      "\n",
      "Result 1:\n",
      "Content: Delivery Issues:  Track order status immediately  Communicate transparently about delays  If late 30 minutes: waive delivery fee  If wrong address (ou...\n",
      "Source: /content/mdx-langchain-conclave/data/Customer_Service_Policy.txt\n",
      "Category: policy\n",
      "\n",
      "Result 2:\n",
      "Content: ELIGIBLE FOR REFUND:  Change of mind after custom order production begins  Allergic reactions (if allergens were disclosed)  Products purchased more t...\n",
      "Source: /content/mdx-langchain-conclave/data/Customer_Service_Policy.txt\n",
      "Category: policy\n",
      "\n",
      "Result 3:\n",
      "Content: samples  Apply up to 10 courtesy discount  Waive small fees (AED 25)  Make judgment calls to ensure customer satisfaction REQUIRES MANAGER APPROVAL:  ...\n",
      "Source: /content/mdx-langchain-conclave/data/Customer_Service_Policy.txt\n",
      "Category: policy\n",
      "\n",
      "======================================================================\n",
      "✅ Most relevant chunks retrieved!\n"
     ]
    }
   ],
   "source": [
    "# Test similarity search\n",
    "query = \"What is the refund policy?\"\n",
    "\n",
    "print(f\"\\n🔍 Searching for: '{query}'\\n\")\n",
    "print(\"=\" * 70)\n",
    "\n",
    "# Search for top 3 most similar chunks\n",
    "results = faiss_store.similarity_search(query, k=3)\n",
    "\n",
    "for i, doc in enumerate(results, 1):\n",
    "    print(f\"\\nResult {i}:\")\n",
    "    print(f\"Content: {doc.page_content[:150]}...\")\n",
    "    print(f\"Source: {doc.metadata.get('source', 'unknown')}\")\n",
    "    print(f\"Category: {doc.metadata.get('category', 'unknown')}\")\n",
    "\n",
    "print(\"\\n\" + \"=\" * 70)\n",
    "print(\"✅ Most relevant chunks retrieved!\")"
   ]
  },
  {
   "cell_type": "code",
   "execution_count": 9,
   "metadata": {
    "colab": {
     "base_uri": "https://localhost:8080/"
    },
    "executionInfo": {
     "elapsed": 288,
     "status": "ok",
     "timestamp": 1761339114723,
     "user": {
      "displayName": "Ivan Reznikov",
      "userId": "03906939862966425294"
     },
     "user_tz": -240
    },
    "id": "L2RkLU4Z34dJ",
    "outputId": "ed3540ca-785e-4cfa-ea6e-9aa6345d50bf"
   },
   "outputs": [
    {
     "name": "stdout",
     "output_type": "stream",
     "text": [
      "\n",
      "🔍 Searching with scores: 'Tell me about cakes for kids'\n",
      "\n",
      "======================================================================\n",
      "\n",
      "📊 Result 1 (Score: 0.9135):\n",
      "   . Its shaped like a winners cup and topped with a sugar medal that reads 1. This cake is not just de...\n",
      "   Category: product\n",
      "\n",
      "📊 Result 2 (Score: 0.9213):\n",
      "   . Its shaped like a winners cup and topped with a sugar medal that reads 1.  This cake is not just d...\n",
      "   Category: product\n",
      "\n",
      "📊 Result 3 (Score: 0.9593):\n",
      "   . Its cool, smooth, and indulgenta summer classic and a no-bake marvel. You cant go wrong with chees...\n",
      "   Category: product\n",
      "\n",
      "💡 Lower scores = More similar (FAISS uses L2 distance)\n"
     ]
    }
   ],
   "source": [
    "# Search with similarity scores\n",
    "query = \"Tell me about cakes for kids\"\n",
    "\n",
    "print(f\"\\n🔍 Searching with scores: '{query}'\\n\")\n",
    "print(\"=\" * 70)\n",
    "\n",
    "results_with_scores = faiss_store.similarity_search_with_score(query, k=3)\n",
    "\n",
    "for i, (doc, score) in enumerate(results_with_scores, 1):\n",
    "    print(f\"\\n📊 Result {i} (Score: {score:.4f}):\")\n",
    "    print(f\"   {doc.page_content[:100]}...\")\n",
    "    print(f\"   Category: {doc.metadata.get('category', 'unknown')}\")\n",
    "\n",
    "print(\"\\n💡 Lower scores = More similar (FAISS uses L2 distance)\")"
   ]
  },
  {
   "cell_type": "code",
   "execution_count": 10,
   "metadata": {
    "colab": {
     "base_uri": "https://localhost:8080/"
    },
    "executionInfo": {
     "elapsed": 231,
     "status": "ok",
     "timestamp": 1761339114946,
     "user": {
      "displayName": "Ivan Reznikov",
      "userId": "03906939862966425294"
     },
     "user_tz": -240
    },
    "id": "W4IaboVQ-wGq",
    "outputId": "09b1962f-f4c5-47e5-a2a9-e2b19d5e4e03"
   },
   "outputs": [
    {
     "name": "stdout",
     "output_type": "stream",
     "text": [
      "\n",
      "🔍 Searching with scores: 'Tell me about sport deserts'\n",
      "\n",
      "======================================================================\n",
      "\n",
      "📊 Result 1 (Score: 1.4557):\n",
      "   . This cake delivers a sugar and energy rush fitting for a race day celebration. Its an ideal gift f...\n",
      "   Category: product\n",
      "\n",
      "📊 Result 2 (Score: 1.4562):\n",
      "   . This cake delivers a sugar and energy rush fitting for a race day celebration. Its an ideal gift f...\n",
      "   Category: product\n",
      "\n",
      "📊 Result 3 (Score: 1.4602):\n",
      "   Topped with a tiny chocolate football and piped vanilla frosting shaped like goal nets, its a treat ...\n",
      "   Category: product\n",
      "\n",
      "📊 Result 4 (Score: 1.5032):\n",
      "   . Whether your team wins or loses, youll feel victorious with every bite. This mid-sized cake is gre...\n",
      "   Category: product\n",
      "\n",
      "📊 Result 5 (Score: 1.6053):\n",
      "   . Its shaped like a winners cup and topped with a sugar medal that reads 1.  This cake is not just d...\n",
      "   Category: product\n",
      "\n",
      "💡 Lower scores = More similar (FAISS uses L2 distance)\n"
     ]
    }
   ],
   "source": [
    "# Search with similarity scores\n",
    "query = \"Tell me about sport deserts\"\n",
    "\n",
    "print(f\"\\n🔍 Searching with scores: '{query}'\\n\")\n",
    "print(\"=\" * 70)\n",
    "\n",
    "results_with_scores = faiss_store.similarity_search_with_score(query, k=5)\n",
    "\n",
    "for i, (doc, score) in enumerate(results_with_scores, 1):\n",
    "    print(f\"\\n📊 Result {i} (Score: {score:.4f}):\")\n",
    "    print(f\"   {doc.page_content[:100]}...\")\n",
    "    print(f\"   Category: {doc.metadata.get('category', 'unknown')}\")\n",
    "\n",
    "print(\"\\n💡 Lower scores = More similar (FAISS uses L2 distance)\")"
   ]
  },
  {
   "cell_type": "markdown",
   "metadata": {
    "id": "TtRjqxek34dK"
   },
   "source": [
    "## 4. Saving and Loading FAISS Index"
   ]
  },
  {
   "cell_type": "code",
   "execution_count": 11,
   "metadata": {
    "colab": {
     "base_uri": "https://localhost:8080/"
    },
    "executionInfo": {
     "elapsed": 819,
     "status": "ok",
     "timestamp": 1761339115774,
     "user": {
      "displayName": "Ivan Reznikov",
      "userId": "03906939862966425294"
     },
     "user_tz": -240
    },
    "id": "hZsc84_L34dK",
    "outputId": "5f52b9e3-a3e3-4358-c869-2da082dc31b9"
   },
   "outputs": [
    {
     "name": "stdout",
     "output_type": "stream",
     "text": [
      "✅ FAISS index saved to: bakery_faiss_index/\n",
      "✅ FAISS index loaded successfully!\n",
      "\n",
      "✅ Test search found 2 results\n"
     ]
    }
   ],
   "source": [
    "# Save FAISS index locally\n",
    "faiss_store.save_local(\"bakery_faiss_index\")\n",
    "print(\"✅ FAISS index saved to: bakery_faiss_index/\")\n",
    "\n",
    "# Load it back\n",
    "loaded_faiss = FAISS.load_local(\n",
    "    \"bakery_faiss_index\",\n",
    "    embeddings,\n",
    "    allow_dangerous_deserialization=True\n",
    ")\n",
    "\n",
    "print(\"✅ FAISS index loaded successfully!\")\n",
    "\n",
    "# Test loaded index\n",
    "test_results = loaded_faiss.similarity_search(\"hygiene procedures\", k=2)\n",
    "print(f\"\\n✅ Test search found {len(test_results)} results\")"
   ]
  },
  {
   "cell_type": "markdown",
   "metadata": {
    "id": "do8oVnAi34dL"
   },
   "source": [
    "## 5. Building a Chroma Vector Store\n",
    "\n",
    "Chroma provides persistent storage with a cleaner API."
   ]
  },
  {
   "cell_type": "code",
   "execution_count": 12,
   "metadata": {
    "colab": {
     "base_uri": "https://localhost:8080/"
    },
    "executionInfo": {
     "elapsed": 4263,
     "status": "ok",
     "timestamp": 1761339120031,
     "user": {
      "displayName": "Ivan Reznikov",
      "userId": "03906939862966425294"
     },
     "user_tz": -240
    },
    "id": "YUOlZ0iR34dL",
    "outputId": "496b3650-ec68-4ce9-9bb1-487e62a65ffa"
   },
   "outputs": [
    {
     "name": "stdout",
     "output_type": "stream",
     "text": [
      "🔧 Building Chroma vector store...\n",
      "\n",
      "✅ Chroma store created!\n",
      "   Persisted to: ./bakery_chroma_db\n",
      "   Collection: bakery_knowledge\n"
     ]
    }
   ],
   "source": [
    "from langchain_community.vectorstores.utils import filter_complex_metadata\n",
    "\n",
    "print(\"🔧 Building Chroma vector store...\\n\")\n",
    "\n",
    "# Filter out complex metadata (lists, dicts, etc.) before adding to Chroma\n",
    "filtered_chunks = filter_complex_metadata(\n",
    "    chunks,\n",
    "    allowed_types=(str, bool, int, float)\n",
    ")\n",
    "\n",
    "# Create Chroma with persistence using filtered documents\n",
    "chroma_store = Chroma.from_documents(\n",
    "    documents=filtered_chunks,\n",
    "    embedding=embeddings,\n",
    "    persist_directory=\"./bakery_chroma_db\",\n",
    "    collection_name=\"bakery_knowledge\"\n",
    ")\n",
    "\n",
    "print(\"✅ Chroma store created!\")\n",
    "print(f\"   Persisted to: ./bakery_chroma_db\")\n",
    "print(f\"   Collection: bakery_knowledge\")"
   ]
  },
  {
   "cell_type": "code",
   "execution_count": 13,
   "metadata": {
    "colab": {
     "base_uri": "https://localhost:8080/"
    },
    "executionInfo": {
     "elapsed": 292,
     "status": "ok",
     "timestamp": 1761339120326,
     "user": {
      "displayName": "Ivan Reznikov",
      "userId": "03906939862966425294"
     },
     "user_tz": -240
    },
    "id": "pe6ts4yq34dM",
    "outputId": "746b754f-a8f9-452e-905e-5ac688a4815b"
   },
   "outputs": [
    {
     "name": "stdout",
     "output_type": "stream",
     "text": [
      "\n",
      "🔍 Chroma Search: 'Tell me about cakes for kids'\n",
      "\n",
      "======================================================================\n",
      "\n",
      "Result 1:\n",
      "Content: . Its shaped like a winners cup and topped with a sugar medal that reads 1. This cake is not just deliciousits a showsto...\n",
      "Metadata: {'category': 'product', 'source': '/content/mdx-langchain-conclave/data/cakes.docx', 'chunk_id': 78, 'chunk_size': 744}\n",
      "\n",
      "Result 2:\n",
      "Content: . Its shaped like a winners cup and topped with a sugar medal that reads 1.  This cake is not just deliciousits a showst...\n",
      "Metadata: {'total_pages': 8, 'category': 'product', 'moddate': '2025-10-22T17:26:58+04:00', 'page_label': '3', 'chunk_id': 47, 'author': 'Ivan Reznikov', 'page': 2, 'producer': 'Microsoft® Word for Microsoft 365', 'creator': 'Microsoft® Word for Microsoft 365', 'creationdate': '2025-10-22T17:26:58+04:00', 'chunk_size': 745, 'source': '/content/mdx-langchain-conclave/data/cakes.pdf'}\n",
      "\n",
      "Result 3:\n",
      "Content: . Its cool, smooth, and indulgenta summer classic and a no-bake marvel. You cant go wrong with cheesecakeit pleases ever...\n",
      "Metadata: {'source': '/content/mdx-langchain-conclave/data/cakes.docx', 'chunk_id': 90, 'category': 'product', 'chunk_size': 775}\n"
     ]
    }
   ],
   "source": [
    "# Test Chroma search\n",
    "query = \"Tell me about cakes for kids\"\n",
    "\n",
    "print(f\"\\n🔍 Chroma Search: '{query}'\\n\")\n",
    "print(\"=\" * 70)\n",
    "\n",
    "chroma_results = chroma_store.similarity_search(query, k=3)\n",
    "\n",
    "for i, doc in enumerate(chroma_results, 1):\n",
    "    print(f\"\\nResult {i}:\")\n",
    "    print(f\"Content: {doc.page_content[:120]}...\")\n",
    "    print(f\"Metadata: {doc.metadata}\")"
   ]
  },
  {
   "cell_type": "code",
   "execution_count": 14,
   "metadata": {
    "colab": {
     "base_uri": "https://localhost:8080/"
    },
    "executionInfo": {
     "elapsed": 23,
     "status": "ok",
     "timestamp": 1761339120352,
     "user": {
      "displayName": "Ivan Reznikov",
      "userId": "03906939862966425294"
     },
     "user_tz": -240
    },
    "id": "goiLonyW34dM",
    "outputId": "86bde888-cbfb-4365-a170-1d18fef1d673"
   },
   "outputs": [
    {
     "name": "stdout",
     "output_type": "stream",
     "text": [
      "✅ Loaded existing Chroma database\n",
      "   Documents in collection: 101\n"
     ]
    },
    {
     "name": "stderr",
     "output_type": "stream",
     "text": [
      "/tmp/ipython-input-3932042273.py:2: LangChainDeprecationWarning: The class `Chroma` was deprecated in LangChain 0.2.9 and will be removed in 1.0. An updated version of the class exists in the :class:`~langchain-chroma package and should be used instead. To use it run `pip install -U :class:`~langchain-chroma` and import as `from :class:`~langchain_chroma import Chroma``.\n",
      "  existing_chroma = Chroma(\n"
     ]
    }
   ],
   "source": [
    "# Loading existing Chroma database\n",
    "existing_chroma = Chroma(\n",
    "    persist_directory=\"./bakery_chroma_db\",\n",
    "    embedding_function=embeddings,\n",
    "    collection_name=\"bakery_knowledge\"\n",
    ")\n",
    "\n",
    "print(\"✅ Loaded existing Chroma database\")\n",
    "print(f\"   Documents in collection: {existing_chroma._collection.count()}\")"
   ]
  },
  {
   "cell_type": "markdown",
   "metadata": {
    "id": "5xMhIgo234dM"
   },
   "source": [
    "## 6. Advanced Search: Metadata Filtering"
   ]
  },
  {
   "cell_type": "code",
   "execution_count": 15,
   "metadata": {
    "colab": {
     "base_uri": "https://localhost:8080/"
    },
    "executionInfo": {
     "elapsed": 1282,
     "status": "ok",
     "timestamp": 1761339121638,
     "user": {
      "displayName": "Ivan Reznikov",
      "userId": "03906939862966425294"
     },
     "user_tz": -240
    },
    "id": "zvP3-3Rg34dM",
    "outputId": "c17a3373-d5b1-45ef-c282-f4d41b84f9b2"
   },
   "outputs": [
    {
     "name": "stdout",
     "output_type": "stream",
     "text": [
      "🔍 FILTERED SEARCH DEMO\n",
      "======================================================================\n",
      "\n",
      "1️⃣ Search in POLICY documents only:\n",
      "   - samples  Apply up to 10 courtesy discount  Waive small fees (AED 25)  Make judgm...\n",
      "     Category: policy\n",
      "\n",
      "   - ACCESSIBILITY:  Assist customers with disabilities  Ensure wheelchair access to ...\n",
      "     Category: policy\n",
      "\n",
      "2️⃣ Search in PRODUCT documents only:\n",
      "   - Cupcakes 1. Midnight Mocha Cupcake A decadent dark chocolate cupcake infused wit...\n",
      "     Category: product\n",
      "\n",
      "   - . Allergens: dairy, gluten, eggs. Store chilled.  14. Red Velvet Cake (R) Known ...\n",
      "     Category: product\n",
      "\n",
      "✅ Metadata filtering allows targeted searches!\n"
     ]
    }
   ],
   "source": [
    "# Search only within specific category\n",
    "query = \"What are the requirements?\"\n",
    "\n",
    "print(\"🔍 FILTERED SEARCH DEMO\")\n",
    "print(\"=\" * 70)\n",
    "\n",
    "# Search only policy documents\n",
    "print(\"\\n1️⃣ Search in POLICY documents only:\")\n",
    "policy_results = chroma_store.similarity_search(\n",
    "    query,\n",
    "    k=2,\n",
    "    filter={\"category\": \"policy\"}\n",
    ")\n",
    "\n",
    "for doc in policy_results:\n",
    "    print(f\"   - {doc.page_content[:80]}...\")\n",
    "    print(f\"     Category: {doc.metadata.get('category')}\\n\")\n",
    "\n",
    "# Search only product documents\n",
    "print(\"2️⃣ Search in PRODUCT documents only:\")\n",
    "product_results = chroma_store.similarity_search(\n",
    "    query,\n",
    "    k=2,\n",
    "    filter={\"category\": \"product\"}\n",
    ")\n",
    "\n",
    "for doc in product_results:\n",
    "    print(f\"   - {doc.page_content[:80]}...\")\n",
    "    print(f\"     Category: {doc.metadata.get('category')}\\n\")\n",
    "\n",
    "print(\"✅ Metadata filtering allows targeted searches!\")"
   ]
  },
  {
   "cell_type": "markdown",
   "metadata": {
    "id": "npbBTBpi34dO"
   },
   "source": [
    "## 7. MMR (Maximal Marginal Relevance) Search\n",
    "\n",
    "MMR balances relevance with diversity to avoid returning similar duplicates."
   ]
  },
  {
   "cell_type": "code",
   "execution_count": 16,
   "metadata": {
    "colab": {
     "base_uri": "https://localhost:8080/"
    },
    "executionInfo": {
     "elapsed": 456,
     "status": "ok",
     "timestamp": 1761339122098,
     "user": {
      "displayName": "Ivan Reznikov",
      "userId": "03906939862966425294"
     },
     "user_tz": -240
    },
    "id": "LEPT830A34dO",
    "outputId": "3bc4aedc-77bb-46ab-81dc-1ad90bec30d9"
   },
   "outputs": [
    {
     "name": "stdout",
     "output_type": "stream",
     "text": [
      "🔍 COMPARING: Similarity vs MMR Search\n",
      "\n",
      "======================================================================\n",
      "\n",
      "1️⃣ SIMILARITY SEARCH (may return similar results):\n",
      "   1. . Its shaped like a winners cup and topped with a sugar meda...\n",
      "   2. . Its shaped like a winners cup and topped with a sugar meda...\n",
      "   3. . Its cool, smooth, and indulgenta summer classic and a no-b...\n",
      "\n",
      "2️⃣ MMR SEARCH (diverse results):\n",
      "   1. . Its shaped like a winners cup and topped with a sugar meda...\n",
      "   2. . Simple, airy, and beloved by all age groups. Its popular f...\n",
      "   3. . Layers of vanilla sponge are soaked in strawberry syrup an...\n",
      "\n",
      "💡 MMR ensures diversity in search results!\n"
     ]
    }
   ],
   "source": [
    "query = \"Tell me about cakes for kids\"\n",
    "\n",
    "print(\"🔍 COMPARING: Similarity vs MMR Search\\n\")\n",
    "print(\"=\" * 70)\n",
    "\n",
    "# Regular similarity search\n",
    "print(\"\\n1️⃣ SIMILARITY SEARCH (may return similar results):\")\n",
    "sim_results = faiss_store.similarity_search(query, k=3)\n",
    "for i, doc in enumerate(sim_results, 1):\n",
    "    print(f\"   {i}. {doc.page_content[:60]}...\")\n",
    "\n",
    "# MMR search (diverse results)\n",
    "print(\"\\n2️⃣ MMR SEARCH (diverse results):\")\n",
    "mmr_results = faiss_store.max_marginal_relevance_search(query, k=3, fetch_k=10)\n",
    "for i, doc in enumerate(mmr_results, 1):\n",
    "    print(f\"   {i}. {doc.page_content[:60]}...\")\n",
    "\n",
    "print(\"\\n💡 MMR ensures diversity in search results!\")"
   ]
  },
  {
   "cell_type": "markdown",
   "metadata": {
    "id": "cnvA2pds34dO"
   },
   "source": [
    "## 8. Vector Store Comparison\n",
    "\n",
    "Compare performance of different vector stores."
   ]
  },
  {
   "cell_type": "code",
   "execution_count": 17,
   "metadata": {
    "colab": {
     "base_uri": "https://localhost:8080/"
    },
    "executionInfo": {
     "elapsed": 1677,
     "status": "ok",
     "timestamp": 1761339123780,
     "user": {
      "displayName": "Ivan Reznikov",
      "userId": "03906939862966425294"
     },
     "user_tz": -240
    },
    "id": "mLHdaHx934dP",
    "outputId": "1dfff8ff-aef3-494d-fb7c-e9ee3f7b6846"
   },
   "outputs": [
    {
     "name": "stdout",
     "output_type": "stream",
     "text": [
      "⚡ VECTOR STORE PERFORMANCE COMPARISON\n",
      "======================================================================\n",
      "\n",
      "1️⃣ FAISS Performance:\n",
      "   Query: 'What is our refund policy?...' - 246.44ms\n",
      "   Query: 'Tell me about chocolate cake...' - 311.83ms\n",
      "   Query: 'Hygiene procedures for food ha...' - 301.14ms\n",
      "   Average: 286.47ms\n",
      "\n",
      "2️⃣ Chroma Performance:\n",
      "   Query: 'What is our refund policy?...' - 211.89ms\n",
      "   Query: 'Tell me about chocolate cake...' - 148.68ms\n",
      "   Query: 'Hygiene procedures for food ha...' - 437.89ms\n",
      "   Average: 266.15ms\n",
      "\n",
      "📊 Summary:\n",
      "   FAISS: 286.47ms (in-memory, fast)\n",
      "   Chroma: 266.15ms (persistent, feature-rich)\n"
     ]
    }
   ],
   "source": [
    "import time\n",
    "\n",
    "test_queries = [\n",
    "    \"What is our refund policy?\",\n",
    "    \"Tell me about chocolate cake\",\n",
    "    \"Hygiene procedures for food handling\"\n",
    "]\n",
    "\n",
    "print(\"⚡ VECTOR STORE PERFORMANCE COMPARISON\")\n",
    "print(\"=\" * 70)\n",
    "\n",
    "# Test FAISS\n",
    "print(\"\\n1️⃣ FAISS Performance:\")\n",
    "faiss_times = []\n",
    "for query in test_queries:\n",
    "    start = time.time()\n",
    "    results = faiss_store.similarity_search(query, k=3)\n",
    "    elapsed = time.time() - start\n",
    "    faiss_times.append(elapsed)\n",
    "    print(f\"   Query: '{query[:30]}...' - {elapsed*1000:.2f}ms\")\n",
    "\n",
    "avg_faiss = sum(faiss_times) / len(faiss_times) * 1000\n",
    "print(f\"   Average: {avg_faiss:.2f}ms\")\n",
    "\n",
    "# Test Chroma\n",
    "print(\"\\n2️⃣ Chroma Performance:\")\n",
    "chroma_times = []\n",
    "for query in test_queries:\n",
    "    start = time.time()\n",
    "    results = chroma_store.similarity_search(query, k=3)\n",
    "    elapsed = time.time() - start\n",
    "    chroma_times.append(elapsed)\n",
    "    print(f\"   Query: '{query[:30]}...' - {elapsed*1000:.2f}ms\")\n",
    "\n",
    "avg_chroma = sum(chroma_times) / len(chroma_times) * 1000\n",
    "print(f\"   Average: {avg_chroma:.2f}ms\")\n",
    "\n",
    "print(\"\\n📊 Summary:\")\n",
    "print(f\"   FAISS: {avg_faiss:.2f}ms (in-memory, fast)\")\n",
    "print(f\"   Chroma: {avg_chroma:.2f}ms (persistent, feature-rich)\")"
   ]
  },
  {
   "cell_type": "markdown",
   "metadata": {
    "id": "uhwIUP0K34dP"
   },
   "source": [
    "## 9. Building a BakeryAI Retriever\n",
    "\n",
    "Wrap vector store in a retriever interface."
   ]
  },
  {
   "cell_type": "code",
   "execution_count": 18,
   "metadata": {
    "colab": {
     "base_uri": "https://localhost:8080/"
    },
    "executionInfo": {
     "elapsed": 25,
     "status": "ok",
     "timestamp": 1761339123814,
     "user": {
      "displayName": "Ivan Reznikov",
      "userId": "03906939862966425294"
     },
     "user_tz": -240
    },
    "id": "J869Yj1J34dP",
    "outputId": "c8201349-685b-4d4a-d0e5-79bea437caad"
   },
   "outputs": [
    {
     "name": "stdout",
     "output_type": "stream",
     "text": [
      "✅ BakeryAI Retriever Created!\n",
      "\n",
      "Configuration:\n",
      "   - Search Type: MMR (diverse results)\n",
      "   - Top K: 3\n",
      "   - Fetch K: 10\n"
     ]
    }
   ],
   "source": [
    "# Create retriever from vector store\n",
    "retriever = faiss_store.as_retriever(\n",
    "    search_type=\"mmr\",\n",
    "    search_kwargs={\n",
    "        \"k\": 3,           # Return top 3 results\n",
    "        \"fetch_k\": 10     # Fetch 10 for MMR diversity\n",
    "    }\n",
    ")\n",
    "\n",
    "print(\"✅ BakeryAI Retriever Created!\")\n",
    "print(\"\\nConfiguration:\")\n",
    "print(\"   - Search Type: MMR (diverse results)\")\n",
    "print(\"   - Top K: 3\")\n",
    "print(\"   - Fetch K: 10\")"
   ]
  },
  {
   "cell_type": "code",
   "execution_count": 19,
   "metadata": {
    "colab": {
     "base_uri": "https://localhost:8080/"
    },
    "executionInfo": {
     "elapsed": 391,
     "status": "ok",
     "timestamp": 1761339124209,
     "user": {
      "displayName": "Ivan Reznikov",
      "userId": "03906939862966425294"
     },
     "user_tz": -240
    },
    "id": "yPKirUvU34dP",
    "outputId": "4c92c12d-6ed9-4a5d-f21b-8762cb9fb6df"
   },
   "outputs": [
    {
     "name": "stdout",
     "output_type": "stream",
     "text": [
      "\n",
      "🔍 Retriever Test: 'What allergens are in our products?'\n",
      "\n",
      "======================================================================\n",
      "\n",
      "✅ Retrieved 3 documents:\n",
      "\n",
      "1. . PRODUCT KNOWLEDGE  Know ingredients, allergens, and preparation methods for all items  Provide acc...\n",
      "   Source: /content/mdx-langchain-conclave/data/Customer_Service_Policy.txt\n",
      "\n",
      "2. . Allergens: dairy, gluten, eggs. Store chilled.  14. Red Velvet Cake (R) Known for its stunning red...\n",
      "   Source: /content/mdx-langchain-conclave/data/cakes.docx\n",
      "\n",
      "3. . CROSS-CONTAMINATION PREVENTION  Use separate cutting boards for different allergens  Color-coded s...\n",
      "   Source: /content/mdx-langchain-conclave/data/SOP_Hygiene_Food_Safety.txt\n",
      "\n"
     ]
    }
   ],
   "source": [
    "# Test retriever\n",
    "query = \"What allergens are in our products?\"\n",
    "\n",
    "print(f\"\\n🔍 Retriever Test: '{query}'\\n\")\n",
    "print(\"=\" * 70)\n",
    "\n",
    "retrieved_docs = retriever.invoke(query)\n",
    "\n",
    "print(f\"\\n✅ Retrieved {len(retrieved_docs)} documents:\\n\")\n",
    "for i, doc in enumerate(retrieved_docs, 1):\n",
    "    print(f\"{i}. {doc.page_content[:100]}...\")\n",
    "    print(f\"   Source: {doc.metadata.get('source', 'unknown')}\\n\")"
   ]
  },
  {
   "cell_type": "markdown",
   "metadata": {
    "id": "_SMMvG9Q34dQ"
   },
   "source": [
    "## 10. Category-Specific Retrievers\n",
    "\n",
    "Create specialized retrievers for different types of queries."
   ]
  },
  {
   "cell_type": "code",
   "execution_count": 20,
   "metadata": {
    "colab": {
     "base_uri": "https://localhost:8080/"
    },
    "executionInfo": {
     "elapsed": 622,
     "status": "ok",
     "timestamp": 1761339124824,
     "user": {
      "displayName": "Ivan Reznikov",
      "userId": "03906939862966425294"
     },
     "user_tz": -240
    },
    "id": "XjUO0pbz34dQ",
    "outputId": "494cbd07-9df0-4f3c-f023-0270e2046a14"
   },
   "outputs": [
    {
     "name": "stdout",
     "output_type": "stream",
     "text": [
      "✅ Created specialized retrievers:\n",
      "   - Policy Retriever (customer service policies)\n",
      "   - Product Retriever (cake catalogs)\n",
      "   - Safety Retriever (hygiene & food safety)\n",
      "\n",
      "🧪 Testing specialized retrievers:\n",
      "\n",
      "1️⃣ Policy Query: 'What is our refund policy?'\n",
      "   Found 3 policy documents\n",
      "\n",
      "2️⃣ Product Query: 'Tell me about chocolate cakes'\n",
      "   Found 3 product documents\n",
      "\n",
      "3️⃣ Safety Query: 'What are hygiene procedures?'\n",
      "   Found 3 safety documents\n"
     ]
    }
   ],
   "source": [
    "# Policy retriever\n",
    "policy_retriever = chroma_store.as_retriever(\n",
    "    search_kwargs={\n",
    "        \"k\": 3,\n",
    "        \"filter\": {\"category\": \"policy\"}\n",
    "    }\n",
    ")\n",
    "\n",
    "# Product retriever\n",
    "product_retriever = chroma_store.as_retriever(\n",
    "    search_kwargs={\n",
    "        \"k\": 3,\n",
    "        \"filter\": {\"category\": \"product\"}\n",
    "    }\n",
    ")\n",
    "\n",
    "# Safety retriever\n",
    "safety_retriever = chroma_store.as_retriever(\n",
    "    search_kwargs={\n",
    "        \"k\": 3,\n",
    "        \"filter\": {\"category\": \"safety\"}\n",
    "    }\n",
    ")\n",
    "\n",
    "print(\"✅ Created specialized retrievers:\")\n",
    "print(\"   - Policy Retriever (customer service policies)\")\n",
    "print(\"   - Product Retriever (cake catalogs)\")\n",
    "print(\"   - Safety Retriever (hygiene & food safety)\")\n",
    "\n",
    "# Test each\n",
    "print(\"\\n🧪 Testing specialized retrievers:\\n\")\n",
    "\n",
    "print(\"1️⃣ Policy Query: 'What is our refund policy?'\")\n",
    "policy_docs = policy_retriever.invoke(\"What is our refund policy?\")\n",
    "print(f\"   Found {len(policy_docs)} policy documents\\n\")\n",
    "\n",
    "print(\"2️⃣ Product Query: 'Tell me about chocolate cakes'\")\n",
    "product_docs = product_retriever.invoke(\"Tell me about chocolate cakes\")\n",
    "print(f\"   Found {len(product_docs)} product documents\\n\")\n",
    "\n",
    "print(\"3️⃣ Safety Query: 'What are hygiene procedures?'\")\n",
    "safety_docs = safety_retriever.invoke(\"What are hygiene procedures?\")\n",
    "print(f\"   Found {len(safety_docs)} safety documents\")"
   ]
  },
  {
   "cell_type": "markdown",
   "metadata": {
    "id": "uQitNyte34dQ"
   },
   "source": [
    "## 🎯 Exercise 3: Build a Hybrid Search System\n",
    "\n",
    "**Task**: Implement hybrid search combining:\n",
    "1. Dense retrieval (embeddings)\n",
    "2. Sparse retrieval (BM25/keyword search)\n",
    "3. Combine and rerank results"
   ]
  },
  {
   "cell_type": "code",
   "execution_count": 21,
   "metadata": {
    "executionInfo": {
     "elapsed": 283,
     "status": "ok",
     "timestamp": 1761339125115,
     "user": {
      "displayName": "Ivan Reznikov",
      "userId": "03906939862966425294"
     },
     "user_tz": -240
    },
    "id": "CrnDZXx634dR"
   },
   "outputs": [],
   "source": [
    "from langchain.retrievers import BM25Retriever, EnsembleRetriever\n",
    "\n",
    "# TODO: Create BM25 retriever for keyword search\n",
    "# TODO: Combine with vector retriever\n",
    "# TODO: Test on queries where keywords matter\n",
    "\n",
    "# bm25_retriever = BM25Retriever.from_documents(chunks)\n",
    "# ensemble_retriever = EnsembleRetriever(\n",
    "#     retrievers=[faiss_retriever, bm25_retriever],\n",
    "#     weights=[0.5, 0.5]\n",
    "# )"
   ]
  },
  {
   "cell_type": "markdown",
   "metadata": {
    "id": "4h33wr0834dR"
   },
   "source": [
    "## 🎯 Exercise 4: Implement Custom Similarity Scoring\n",
    "\n",
    "**Task**: Create a custom scoring function that:\n",
    "1. Weights recent documents higher\n",
    "2. Boosts results from specific categories\n",
    "3. Penalizes very short chunks"
   ]
  },
  {
   "cell_type": "code",
   "execution_count": 22,
   "metadata": {
    "executionInfo": {
     "elapsed": 13,
     "status": "ok",
     "timestamp": 1761339125139,
     "user": {
      "displayName": "Ivan Reznikov",
      "userId": "03906939862966425294"
     },
     "user_tz": -240
    },
    "id": "Pl_dqTxk34dS"
   },
   "outputs": [],
   "source": [
    "def custom_score(doc, query_embedding, base_similarity):\n",
    "    \"\"\"Custom scoring with business logic\"\"\"\n",
    "    score = base_similarity\n",
    "\n",
    "    # TODO: Add recency boost\n",
    "    # TODO: Add category boost\n",
    "    # TODO: Add length penalty\n",
    "\n",
    "    return score\n",
    "\n",
    "# Implement and test your custom scorer"
   ]
  },
  {
   "cell_type": "markdown",
   "metadata": {
    "id": "fDgO05Bh34dT"
   },
   "source": [
    "## Summary: What We Built\n",
    "\n",
    "### ✅ Session 3.2 Achievements:\n",
    "\n",
    "1. **Embeddings**: Generated vectors for all knowledge base chunks\n",
    "2. **FAISS**: Fast in-memory vector store\n",
    "3. **Chroma**: Persistent vector database\n",
    "4. **Semantic Search**: Find documents by meaning\n",
    "5. **MMR Search**: Diverse, non-redundant results\n",
    "6. **Metadata Filtering**: Category-specific searches\n",
    "7. **Retrievers**: Easy-to-use retrieval interfaces\n",
    "8. **Specialized Retrievers**: Policy, Product, Safety retrievers\n",
    "\n",
    "### 🎨 BakeryAI Search Capabilities:\n",
    "\n",
    "✨ **Semantic Understanding**: \"refund\" matches \"money back\" and \"return policy\"  \n",
    "✨ **Fast Retrieval**: Millisecond search across thousands of documents  \n",
    "✨ **Persistent Storage**: Knowledge base saved for reuse  \n",
    "✨ **Filtered Search**: Target specific document types  \n",
    "✨ **Diverse Results**: MMR prevents repetitive answers  \n",
    "\n",
    "### 📊 Vector Store Decision Guide:\n",
    "\n",
    "**Use FAISS when:**\n",
    "- Development/testing\n",
    "- Need maximum speed\n",
    "- Data fits in memory\n",
    "\n",
    "**Use Chroma when:**\n",
    "- Need persistence\n",
    "- Want easy setup\n",
    "- Building prototypes\n",
    "\n",
    "**Use Qdrant/Pinecone/Weaviate when:**\n",
    "- Production deployment\n",
    "- Need scalability\n",
    "- Multi-tenant applications\n",
    "\n",
    "### 🚀 Next: Notebook 3.3\n",
    "\n",
    "We'll build complete **RAG pipelines**:\n",
    "- Question-answering chains\n",
    "- Retrieval strategies and optimization\n",
    "- Source citation and attribution\n",
    "- Conversational RAG\n",
    "- Evaluation and testing"
   ]
  }
 ],
 "metadata": {
  "colab": {
   "provenance": []
  },
  "kernelspec": {
   "display_name": "Python 3",
   "language": "python",
   "name": "python3"
  }
 },
 "nbformat": 4,
 "nbformat_minor": 0
}
