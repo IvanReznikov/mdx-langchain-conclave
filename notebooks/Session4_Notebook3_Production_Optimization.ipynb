{
  "cells": [
    {
      "cell_type": "markdown",
      "metadata": {
        "id": "By-hHpTfk4Fn"
      },
      "source": [
        "# Session 4.3: BakeryAI - Production Optimization\n",
        "\n",
        "[![Open In Colab](https://colab.research.google.com/assets/colab-badge.svg)](https://colab.research.google.com/drive/1xZTk2dNPM71ssj_3YCefS7zktZVLuqqi?usp=sharing)\n",
        "\n",
        "## 🎯 Making It Fast and Cost-Effective\n",
        "\n",
        "### Why Optimization Matters\n",
        "\n",
        "**Production Requirements:**\n",
        "- ⚡ **Speed**: Responses in < 2 seconds\n",
        "- 💰 **Cost**: Minimize API costs\n",
        "- 📈 **Scale**: Handle 1000s of users\n",
        "- 🔒 **Reliability**: 99.9% uptime\n",
        "\n",
        "### Optimization Strategies:\n",
        "\n",
        "1. **Caching**: Don't regenerate identical answers\n",
        "2. **Batching**: Process multiple requests together\n",
        "3. **Streaming**: Show responses as they generate\n",
        "4. **Model Selection**: Use smaller models when possible\n",
        "5. **Prompt Optimization**: Reduce token usage\n",
        "6. **Parallel Processing**: Multiple operations simultaneously\n",
        "\n",
        "Let's optimize BakeryAI! 🚀"
      ]
    },
    {
      "cell_type": "code",
      "execution_count": 1,
      "metadata": {
        "colab": {
          "base_uri": "https://localhost:8080/"
        },
        "id": "0Kt6pN3Ek4Fy",
        "outputId": "edebf3fa-9702-4544-f87d-832748921d5c"
      },
      "outputs": [
        {
          "output_type": "stream",
          "name": "stdout",
          "text": [
            "\u001b[?25l   \u001b[90m━━━━━━━━━━━━━━━━━━━━━━━━━━━━━━━━━━━━━━━━\u001b[0m \u001b[32m0.0/76.0 kB\u001b[0m \u001b[31m?\u001b[0m eta \u001b[36m-:--:--\u001b[0m\r\u001b[2K   \u001b[90m━━━━━━━━━━━━━━━━━━━━━━━━━━━━━━━━━━━━━━━━\u001b[0m \u001b[32m76.0/76.0 kB\u001b[0m \u001b[31m3.4 MB/s\u001b[0m eta \u001b[36m0:00:00\u001b[0m\n",
            "\u001b[2K   \u001b[90m━━━━━━━━━━━━━━━━━━━━━━━━━━━━━━━━━━━━━━━━\u001b[0m \u001b[32m2.5/2.5 MB\u001b[0m \u001b[31m42.5 MB/s\u001b[0m eta \u001b[36m0:00:00\u001b[0m\n",
            "\u001b[2K   \u001b[90m━━━━━━━━━━━━━━━━━━━━━━━━━━━━━━━━━━━━━━━━\u001b[0m \u001b[32m64.7/64.7 kB\u001b[0m \u001b[31m2.4 MB/s\u001b[0m eta \u001b[36m0:00:00\u001b[0m\n",
            "\u001b[2K   \u001b[90m━━━━━━━━━━━━━━━━━━━━━━━━━━━━━━━━━━━━━━━━\u001b[0m \u001b[32m50.9/50.9 kB\u001b[0m \u001b[31m2.3 MB/s\u001b[0m eta \u001b[36m0:00:00\u001b[0m\n",
            "\u001b[?25h\u001b[31mERROR: pip's dependency resolver does not currently take into account all the packages that are installed. This behaviour is the source of the following dependency conflicts.\n",
            "google-colab 1.0.0 requires requests==2.32.4, but you have requests 2.32.5 which is incompatible.\u001b[0m\u001b[31m\n",
            "\u001b[2K   \u001b[90m━━━━━━━━━━━━━━━━━━━━━━━━━━━━━━━━━━━━━━━━\u001b[0m \u001b[32m45.5/45.5 kB\u001b[0m \u001b[31m3.1 MB/s\u001b[0m eta \u001b[36m0:00:00\u001b[0m\n",
            "\u001b[?25h"
          ]
        }
      ],
      "source": [
        "!pip install -q langchain langchain-openai langchain-community\n",
        "!pip install -q python-dotenv diskcache"
      ]
    },
    {
      "cell_type": "code",
      "execution_count": 2,
      "metadata": {
        "colab": {
          "base_uri": "https://localhost:8080/"
        },
        "id": "IE238Y36k4F2",
        "outputId": "d1fc92ad-4cad-4dc4-e04c-bb7cdd8a8a77"
      },
      "outputs": [
        {
          "output_type": "stream",
          "name": "stdout",
          "text": [
            "✅ Environment ready!\n"
          ]
        }
      ],
      "source": [
        "import time\n",
        "\n",
        "from langchain_openai import ChatOpenAI\n",
        "from langchain_core.prompts import ChatPromptTemplate\n",
        "from langchain_core.output_parsers import StrOutputParser\n",
        "\n",
        "import os\n",
        "from google.colab import userdata\n",
        "\n",
        "# Set OpenAI API key from Google Colab's user environment or default\n",
        "def set_openai_api_key(default_key: str = \"YOUR_API_KEY\") -> None:\n",
        "    \"\"\"Set the OpenAI API key from Google Colab's user environment or use a default value.\"\"\"\n",
        "    #if not (userdata.get(\"OPENAI_API_KEY\") or \"OPENAI_API_KEY\" in os.environ):\n",
        "    try:\n",
        "      os.environ[\"OPENAI_API_KEY\"] = userdata.get(\"MDX_OPENAI_API_KEY\")\n",
        "    except:\n",
        "      os.environ[\"OPENAI_API_KEY\"] = default_key\n",
        "\n",
        "set_openai_api_key()\n",
        "\n",
        "llm = ChatOpenAI(model=\"gpt-5-nano\")\n",
        "\n",
        "print(\"✅ Environment ready!\")"
      ]
    },
    {
      "cell_type": "markdown",
      "metadata": {
        "id": "3w0Ybxngk4F4"
      },
      "source": [
        "## 1. Caching Strategies\n",
        "\n",
        "Cache results to avoid redundant LLM calls."
      ]
    },
    {
      "cell_type": "code",
      "execution_count": 3,
      "metadata": {
        "colab": {
          "base_uri": "https://localhost:8080/"
        },
        "id": "c1qzmq-_k4F5",
        "outputId": "068ed7f8-9196-49b8-8c46-498f08cfc388"
      },
      "outputs": [
        {
          "output_type": "stream",
          "name": "stdout",
          "text": [
            "🔹 First call (no cache):\n",
            "   Time: 19.20s\n",
            "   Result: Here’s what often makes a chocolate cake feel “gre...\n",
            "\n",
            "🔹 Second call (cached):\n",
            "   Time: 0.00s\n",
            "   Result: Here’s what often makes a chocolate cake feel “gre...\n",
            "\n",
            "⚡ Speed improvement: 11289.9x faster!\n",
            "💰 Cost savings: ~100% on duplicate queries\n"
          ]
        }
      ],
      "source": [
        "from langchain.cache import InMemoryCache\n",
        "from langchain.globals import set_llm_cache\n",
        "\n",
        "# Enable in-memory caching\n",
        "set_llm_cache(InMemoryCache())\n",
        "\n",
        "# Test caching\n",
        "prompt = ChatPromptTemplate.from_template(\"{question}\")\n",
        "chain = prompt | llm | StrOutputParser()\n",
        "\n",
        "question = \"What makes a good chocolate cake?\"\n",
        "\n",
        "# First call - not cached\n",
        "print(\"🔹 First call (no cache):\")\n",
        "start = time.time()\n",
        "result1 = chain.invoke({\"question\": question})\n",
        "time1 = time.time() - start\n",
        "print(f\"   Time: {time1:.2f}s\")\n",
        "print(f\"   Result: {result1[:50]}...\\n\")\n",
        "\n",
        "# Second call - cached!\n",
        "print(\"🔹 Second call (cached):\")\n",
        "start = time.time()\n",
        "result2 = chain.invoke({\"question\": question})\n",
        "time2 = time.time() - start\n",
        "print(f\"   Time: {time2:.2f}s\")\n",
        "print(f\"   Result: {result2[:50]}...\\n\")\n",
        "\n",
        "print(f\"⚡ Speed improvement: {time1/time2:.1f}x faster!\")\n",
        "print(f\"💰 Cost savings: ~{(1 - time2/time1)*100:.0f}% on duplicate queries\")"
      ]
    },
    {
      "cell_type": "code",
      "execution_count": 4,
      "metadata": {
        "colab": {
          "base_uri": "https://localhost:8080/"
        },
        "id": "CyXoxQOjk4F7",
        "outputId": "a0dca2ae-4bed-49e0-8d82-f4e26f03717a"
      },
      "outputs": [
        {
          "output_type": "stream",
          "name": "stdout",
          "text": [
            "✅ Enabled persistent caching\n",
            "   Cache survives restarts!\n",
            "   File: .langchain.db\n"
          ]
        }
      ],
      "source": [
        "# Persistent caching with DiskCache\n",
        "from langchain.cache import SQLiteCache\n",
        "\n",
        "# Use SQLite for persistent cache\n",
        "set_llm_cache(SQLiteCache(database_path=\".langchain.db\"))\n",
        "\n",
        "print(\"✅ Enabled persistent caching\")\n",
        "print(\"   Cache survives restarts!\")\n",
        "print(\"   File: .langchain.db\")"
      ]
    },
    {
      "cell_type": "markdown",
      "metadata": {
        "id": "tTAkgPs-k4F8"
      },
      "source": [
        "## 2. Semantic Caching\n",
        "\n",
        "Cache similar questions, not just exact matches."
      ]
    },
    {
      "cell_type": "code",
      "execution_count": 5,
      "metadata": {
        "colab": {
          "base_uri": "https://localhost:8080/"
        },
        "id": "Ovn223zsk4F-",
        "outputId": "1881b624-8b86-435d-a9cb-5f2727c1b8d3"
      },
      "outputs": [
        {
          "output_type": "stream",
          "name": "stdout",
          "text": [
            "\n",
            "🧪 Testing Semantic Cache:\n",
            "\n",
            "Q1: What makes a great chocolate cake?\n",
            "   ⏳ Cache miss - calling LLM...\n",
            "\n",
            "Q2: What ingredients make chocolate cake delicious?\n",
            "   ✅ Cache hit!\n",
            "\n",
            "Q3: How to make good chocolate cake?\n",
            "   ✅ Cache hit!\n",
            "\n",
            "💡 Similar questions return cached results!\n"
          ]
        }
      ],
      "source": [
        "from langchain_openai import OpenAIEmbeddings\n",
        "from langchain_community.vectorstores import FAISS\n",
        "import hashlib\n",
        "\n",
        "class SemanticCache:\n",
        "    \"\"\"Cache similar questions using embeddings\"\"\"\n",
        "\n",
        "    def __init__(self, similarity_threshold=0.95):\n",
        "        self.embeddings = OpenAIEmbeddings(model=\"text-embedding-3-large\")\n",
        "        self.cache = {}  # question_hash -> response\n",
        "        self.similarity_threshold = similarity_threshold\n",
        "        self.questions = []  # Store questions for similarity search\n",
        "\n",
        "    def get(self, question: str):\n",
        "        \"\"\"Get cached response if similar question exists\"\"\"\n",
        "        if not self.questions:\n",
        "            return None\n",
        "\n",
        "        # Embed query\n",
        "        query_embedding = self.embeddings.embed_query(question)\n",
        "\n",
        "        # Find most similar cached question\n",
        "        from numpy import dot\n",
        "        from numpy.linalg import norm\n",
        "\n",
        "        best_similarity = 0\n",
        "        best_question = None\n",
        "\n",
        "        for cached_q, cached_emb in self.questions:\n",
        "            similarity = dot(query_embedding, cached_emb) / (norm(query_embedding) * norm(cached_emb))\n",
        "            if similarity > best_similarity:\n",
        "                best_similarity = similarity\n",
        "                best_question = cached_q\n",
        "\n",
        "        # Return cached response if similar enough\n",
        "        if best_similarity >= self.similarity_threshold:\n",
        "            q_hash = hashlib.md5(best_question.encode()).hexdigest()\n",
        "            return self.cache.get(q_hash)\n",
        "\n",
        "        return None\n",
        "\n",
        "    def set(self, question: str, response: str):\n",
        "        \"\"\"Cache response\"\"\"\n",
        "        q_hash = hashlib.md5(question.encode()).hexdigest()\n",
        "        self.cache[q_hash] = response\n",
        "\n",
        "        # Store embedding\n",
        "        embedding = self.embeddings.embed_query(question)\n",
        "        self.questions.append((question, embedding))\n",
        "\n",
        "# Test semantic cache\n",
        "semantic_cache = SemanticCache(similarity_threshold=0.70)\n",
        "\n",
        "def cached_chain(question: str):\n",
        "    # Check cache\n",
        "    cached = semantic_cache.get(question)\n",
        "    if cached:\n",
        "        print(\"   ✅ Cache hit!\")\n",
        "        return cached\n",
        "\n",
        "    print(\"   ⏳ Cache miss - calling LLM...\")\n",
        "    # Call LLM\n",
        "    response = chain.invoke({\"question\": question})\n",
        "\n",
        "    # Cache it\n",
        "    semantic_cache.set(question, response)\n",
        "    return response\n",
        "\n",
        "# Test with similar questions\n",
        "print(\"\\n🧪 Testing Semantic Cache:\\n\")\n",
        "\n",
        "q1 = \"What makes a great chocolate cake?\"\n",
        "print(f\"Q1: {q1}\")\n",
        "r1 = cached_chain(q1)\n",
        "\n",
        "print(f\"\\nQ2: What ingredients make chocolate cake delicious?\")\n",
        "r2 = cached_chain(\"What ingredients make chocolate cake delicious?\")\n",
        "\n",
        "print(f\"\\nQ3: How to make good chocolate cake?\")\n",
        "r3 = cached_chain(\"How to make good chocolate cake?\")\n",
        "\n",
        "print(\"\\n💡 Similar questions return cached results!\")"
      ]
    },
    {
      "cell_type": "markdown",
      "metadata": {
        "id": "kWH4ZE4zk4F_"
      },
      "source": [
        "## 3. Model Selection Optimization\n",
        "\n",
        "Use cheaper models for simple tasks."
      ]
    },
    {
      "cell_type": "code",
      "execution_count": 6,
      "metadata": {
        "colab": {
          "base_uri": "https://localhost:8080/"
        },
        "id": "ampov6gJk4GB",
        "outputId": "0211717b-4de4-4ead-eb12-7629681e876f"
      },
      "outputs": [
        {
          "output_type": "stream",
          "name": "stdout",
          "text": [
            "🧠 Smart Model Routing:\n",
            "\n",
            "Question: What is a chocolate cake?\n",
            "  Model: gpt-3.5-turbo\n",
            "  Complexity: simple\n",
            "  Latency: 0.63s\n",
            "  Est. Cost: $0.0005\n",
            "\n",
            "Question: Compare our cakes and recommend the best one for a wedding\n",
            "  Model: gpt-4o\n",
            "  Complexity: complex\n",
            "  Latency: 6.34s\n",
            "  Est. Cost: $0.0514\n",
            "\n"
          ]
        }
      ],
      "source": [
        "from langchain_openai import ChatOpenAI\n",
        "\n",
        "class SmartModelRouter:\n",
        "    \"\"\"Route to appropriate model based on complexity\"\"\"\n",
        "\n",
        "    def __init__(self):\n",
        "        # Different models for different tasks\n",
        "        self.simple_llm = ChatOpenAI(model=\"gpt-3.5-turbo\", temperature=0)  # Cheaper\n",
        "        self.complex_llm = ChatOpenAI(model=\"gpt-4o\", temperature=0)  # Better but expensive\n",
        "\n",
        "        self.classifier_llm = ChatOpenAI(model=\"gpt-3.5-turbo\", temperature=0)\n",
        "\n",
        "    def classify_complexity(self, question: str) -> str:\n",
        "        \"\"\"Classify question complexity\"\"\"\n",
        "        classifier_prompt = ChatPromptTemplate.from_template(\"\"\"\n",
        "        Classify this question as 'simple' or 'complex':\n",
        "\n",
        "        Simple: Basic facts, definitions, simple product info\n",
        "        Complex: Multi-step reasoning, analysis, comparisons\n",
        "\n",
        "        Question: {question}\n",
        "\n",
        "        Classification (just output 'simple' or 'complex'):\n",
        "        \"\"\")\n",
        "\n",
        "        classification_chain = classifier_prompt | self.classifier_llm | StrOutputParser()\n",
        "        result = classification_chain.invoke({\"question\": question}).strip().lower()\n",
        "\n",
        "        return \"simple\" if \"simple\" in result else \"complex\"\n",
        "\n",
        "    def answer(self, question: str) -> dict:\n",
        "        \"\"\"Answer question with appropriate model\"\"\"\n",
        "        complexity = self.classify_complexity(question)\n",
        "\n",
        "        # Select model\n",
        "        llm = self.simple_llm if complexity == \"simple\" else self.complex_llm\n",
        "\n",
        "        # Generate answer\n",
        "        prompt = ChatPromptTemplate.from_template(\"Answer: {question}\")\n",
        "        chain = prompt | llm | StrOutputParser()\n",
        "\n",
        "        start = time.time()\n",
        "        answer = chain.invoke({\"question\": question})\n",
        "        latency = time.time() - start\n",
        "\n",
        "        # Estimate cost (approximate)\n",
        "        cost_per_1k = 0.002 if complexity == \"simple\" else 0.03  # USD\n",
        "        estimated_cost = (len(question) + len(answer)) / 1000 * cost_per_1k\n",
        "\n",
        "        return {\n",
        "            \"answer\": answer,\n",
        "            \"model\": \"gpt-3.5-turbo\" if complexity == \"simple\" else \"gpt-4o\",\n",
        "            \"complexity\": complexity,\n",
        "            \"latency\": latency,\n",
        "            \"estimated_cost\": estimated_cost\n",
        "        }\n",
        "\n",
        "# Test router\n",
        "router = SmartModelRouter()\n",
        "\n",
        "test_questions = [\n",
        "    \"What is a chocolate cake?\",  # Simple\n",
        "    \"Compare our cakes and recommend the best one for a wedding\"  # Complex\n",
        "]\n",
        "\n",
        "print(\"🧠 Smart Model Routing:\\n\")\n",
        "for q in test_questions:\n",
        "    print(f\"Question: {q}\")\n",
        "    result = router.answer(q)\n",
        "    print(f\"  Model: {result['model']}\")\n",
        "    print(f\"  Complexity: {result['complexity']}\")\n",
        "    print(f\"  Latency: {result['latency']:.2f}s\")\n",
        "    print(f\"  Est. Cost: ${result['estimated_cost']:.4f}\\n\")"
      ]
    },
    {
      "cell_type": "markdown",
      "metadata": {
        "id": "C8bujvfgk4GC"
      },
      "source": [
        "## 4. Prompt Optimization\n",
        "\n",
        "Reduce tokens while maintaining quality."
      ]
    },
    {
      "cell_type": "code",
      "execution_count": 7,
      "metadata": {
        "colab": {
          "base_uri": "https://localhost:8080/"
        },
        "id": "9ElNOEi7k4GC",
        "outputId": "f3713691-9c6b-4df0-e3c8-bae12387209f"
      },
      "outputs": [
        {
          "output_type": "stream",
          "name": "stdout",
          "text": [
            "📊 Prompt Optimization:\n",
            "\n",
            "Verbose prompt: 113 tokens\n",
            "Concise prompt: 23 tokens\n",
            "\n",
            "Savings: 90 tokens (80% reduction)\n",
            "\n",
            "💰 Cost Impact:\n",
            "  At $0.002/1K tokens:\n",
            "    Verbose: $0.0002 per request\n",
            "    Concise: $0.0000 per request\n",
            "    Savings: $0.0002 per request\n",
            "\n",
            "  For 10,000 requests: $1.80 saved!\n"
          ]
        }
      ],
      "source": [
        "import tiktoken\n",
        "\n",
        "def count_tokens(text: str, model: str = \"gpt-3.5-turbo\") -> int:\n",
        "    \"\"\"Count tokens in text\"\"\"\n",
        "    encoder = tiktoken.encoding_for_model(model)\n",
        "    return len(encoder.encode(text))\n",
        "\n",
        "# Example: Verbose vs Concise prompts\n",
        "verbose_prompt = \"\"\"\n",
        "You are an extremely helpful, friendly, and knowledgeable artificial intelligence\n",
        "assistant designed specifically for a bakery business. Your primary role is to\n",
        "assist customers with their inquiries about our products, services, and policies.\n",
        "You should always be polite, professional, and provide accurate information.\n",
        "When answering questions, please ensure that you:\n",
        "- Provide clear and concise responses\n",
        "- Use friendly and welcoming language\n",
        "- Include relevant details about our products\n",
        "- Follow our company policies\n",
        "- Be helpful and accommodating\n",
        "\n",
        "Now, please answer the following customer question:\n",
        "{question}\n",
        "\"\"\"\n",
        "\n",
        "concise_prompt = \"\"\"\n",
        "You are BakeryAI assistant. Provide helpful, accurate answers.\n",
        "\n",
        "Question: {question}\n",
        "Answer:\n",
        "\"\"\"\n",
        "\n",
        "# Compare token usage\n",
        "test_q = \"What cakes do you offer?\"\n",
        "\n",
        "verbose_tokens = count_tokens(verbose_prompt.format(question=test_q))\n",
        "concise_tokens = count_tokens(concise_prompt.format(question=test_q))\n",
        "\n",
        "print(\"📊 Prompt Optimization:\\n\")\n",
        "print(f\"Verbose prompt: {verbose_tokens} tokens\")\n",
        "print(f\"Concise prompt: {concise_tokens} tokens\")\n",
        "print(f\"\\nSavings: {verbose_tokens - concise_tokens} tokens ({(1-concise_tokens/verbose_tokens)*100:.0f}% reduction)\")\n",
        "print(f\"\\n💰 Cost Impact:\")\n",
        "print(f\"  At $0.002/1K tokens:\")\n",
        "print(f\"    Verbose: ${verbose_tokens/1000*0.002:.4f} per request\")\n",
        "print(f\"    Concise: ${concise_tokens/1000*0.002:.4f} per request\")\n",
        "print(f\"    Savings: ${(verbose_tokens-concise_tokens)/1000*0.002:.4f} per request\")\n",
        "print(f\"\\n  For 10,000 requests: ${(verbose_tokens-concise_tokens)/1000*0.002*10000:.2f} saved!\")"
      ]
    },
    {
      "cell_type": "markdown",
      "metadata": {
        "id": "aic_dXZrk4GE"
      },
      "source": [
        "## 5. Batch Processing\n",
        "\n",
        "Process multiple requests together for efficiency."
      ]
    },
    {
      "cell_type": "code",
      "execution_count": 8,
      "metadata": {
        "colab": {
          "base_uri": "https://localhost:8080/"
        },
        "id": "I7hL1xKgk4GE",
        "outputId": "84357ec9-4613-43e5-85ec-003e82f140ec"
      },
      "outputs": [
        {
          "output_type": "stream",
          "name": "stdout",
          "text": [
            "⚡ Comparing: Sequential vs Batch\n",
            "\n",
            "1️⃣ Sequential (one at a time):\n",
            "   Time: 14.62s\n",
            "\n",
            "2️⃣ Batch (all at once):\n",
            "   Time: 0.01s\n",
            "\n",
            "⚡ Speed improvement: 1047.3x faster!\n",
            "📈 Throughput: 286.5 requests/second\n"
          ]
        }
      ],
      "source": [
        "# Batch processing example\n",
        "prompt = ChatPromptTemplate.from_template(\"Briefly answer: {question}\")\n",
        "chain = prompt | llm | StrOutputParser()\n",
        "\n",
        "questions = [\n",
        "    \"What is chocolate cake?\",\n",
        "    \"What is vanilla cake?\",\n",
        "    \"What is red velvet cake?\",\n",
        "    \"What is carrot cake?\",\n",
        "]\n",
        "\n",
        "print(\"⚡ Comparing: Sequential vs Batch\\n\")\n",
        "\n",
        "# Sequential processing\n",
        "print(\"1️⃣ Sequential (one at a time):\")\n",
        "start = time.time()\n",
        "sequential_results = []\n",
        "for q in questions:\n",
        "    result = chain.invoke({\"question\": q})\n",
        "    sequential_results.append(result)\n",
        "sequential_time = time.time() - start\n",
        "print(f\"   Time: {sequential_time:.2f}s\\n\")\n",
        "\n",
        "# Batch processing\n",
        "print(\"2️⃣ Batch (all at once):\")\n",
        "start = time.time()\n",
        "batch_results = chain.batch([{\"question\": q} for q in questions])\n",
        "batch_time = time.time() - start\n",
        "print(f\"   Time: {batch_time:.2f}s\\n\")\n",
        "\n",
        "print(f\"⚡ Speed improvement: {sequential_time/batch_time:.1f}x faster!\")\n",
        "print(f\"📈 Throughput: {len(questions)/batch_time:.1f} requests/second\")"
      ]
    },
    {
      "cell_type": "markdown",
      "metadata": {
        "id": "3Co93vB-k4GF"
      },
      "source": [
        "## 6. Streaming for Better UX\n",
        "\n",
        "Show responses as they generate."
      ]
    },
    {
      "cell_type": "code",
      "execution_count": 9,
      "metadata": {
        "colab": {
          "base_uri": "https://localhost:8080/"
        },
        "id": "JoZSz4eck4GF",
        "outputId": "86f735ec-43e5-475e-a130-76f3ba8c2e4b"
      },
      "outputs": [
        {
          "output_type": "stream",
          "name": "stdout",
          "text": [
            "🌊 Streaming Response:\n",
            "\n",
            "Answer: Chocolate cake is a moist, tender dessert made with cocoa powder or melted chocolate, combined with flour, sugar, eggs, butter or oil, and leavening. Its flavor ranges from milk to dark chocolate and is often intensified with a touch of vanilla or coffee. The cake is typically layered and finished with a glossy chocolate ganache or a rich chocolate buttercream, yielding a fudgy or cakey crumb depending on the recipe. Variations include adding nuts, chocolate chips, espresso, or spices, and sometimes a marble swirl with vanilla. It’s best enjoyed in slices with whipped cream, berries, or a scoop of ice cream.\n",
            "\n",
            "✅ User sees response immediately (not waiting for complete answer)\n"
          ]
        }
      ],
      "source": [
        "# Streaming example\n",
        "question = \"Write a detailed description of chocolate cake\"\n",
        "\n",
        "print(\"🌊 Streaming Response:\\n\")\n",
        "print(\"Answer: \", end=\"\", flush=True)\n",
        "\n",
        "for chunk in chain.stream({\"question\": question}):\n",
        "    print(chunk, end=\"\", flush=True)\n",
        "    time.sleep(0.02)  # Simulate display\n",
        "\n",
        "print(\"\\n\\n✅ User sees response immediately (not waiting for complete answer)\")"
      ]
    },
    {
      "cell_type": "markdown",
      "metadata": {
        "id": "7rl3U78Ak4GG"
      },
      "source": [
        "## 7. Parallel Tool Execution\n",
        "\n",
        "Run independent operations simultaneously."
      ]
    },
    {
      "cell_type": "code",
      "execution_count": 10,
      "metadata": {
        "colab": {
          "base_uri": "https://localhost:8080/"
        },
        "id": "32V-iiDnk4GH",
        "outputId": "dc9fc4cf-fd93-46b0-f747-36f16e2eaae6"
      },
      "outputs": [
        {
          "output_type": "stream",
          "name": "stdout",
          "text": [
            "🔄 Comparing: Sequential vs Parallel\n",
            "\n",
            "1️⃣ Sequential:\n",
            "   Time: 1.50s\n",
            "\n",
            "2️⃣ Parallel:\n",
            "   Time: 0.50s\n",
            "\n",
            "⚡ Speed improvement: 3.0x faster!\n",
            "\n",
            "💡 Run independent operations in parallel!\n"
          ]
        }
      ],
      "source": [
        "import asyncio\n",
        "from langchain_core.runnables import RunnableParallel\n",
        "\n",
        "async def check_inventory_async(product: str):\n",
        "    \"\"\"Async inventory check\"\"\"\n",
        "    await asyncio.sleep(0.5)  # Simulate API call\n",
        "    return f\"{product}: In stock\"\n",
        "\n",
        "async def get_price_async(product: str):\n",
        "    \"\"\"Async price lookup\"\"\"\n",
        "    await asyncio.sleep(0.5)  # Simulate database query\n",
        "    return f\"{product}: $45\"\n",
        "\n",
        "async def check_delivery_async(product: str):\n",
        "    \"\"\"Async delivery check\"\"\"\n",
        "    await asyncio.sleep(0.5)  # Simulate calculation\n",
        "    return f\"{product}: Next day available\"\n",
        "\n",
        "# Sequential vs Parallel\n",
        "product = \"Chocolate Cake\"\n",
        "\n",
        "print(\"🔄 Comparing: Sequential vs Parallel\\n\")\n",
        "\n",
        "# Sequential\n",
        "print(\"1️⃣ Sequential:\")\n",
        "start = time.time()\n",
        "await check_inventory_async(product)\n",
        "await get_price_async(product)\n",
        "await check_delivery_async(product)\n",
        "sequential_time = time.time() - start\n",
        "print(f\"   Time: {sequential_time:.2f}s\\n\")\n",
        "\n",
        "# Parallel\n",
        "print(\"2️⃣ Parallel:\")\n",
        "start = time.time()\n",
        "results = await asyncio.gather(\n",
        "    check_inventory_async(product),\n",
        "    get_price_async(product),\n",
        "    check_delivery_async(product)\n",
        ")\n",
        "parallel_time = time.time() - start\n",
        "print(f\"   Time: {parallel_time:.2f}s\\n\")\n",
        "\n",
        "print(f\"⚡ Speed improvement: {sequential_time/parallel_time:.1f}x faster!\")\n",
        "print(\"\\n💡 Run independent operations in parallel!\")"
      ]
    },
    {
      "cell_type": "markdown",
      "metadata": {
        "id": "QU8dOWnsk4GH"
      },
      "source": [
        "## 8. Cost Tracking\n",
        "\n",
        "Monitor and optimize API costs."
      ]
    },
    {
      "cell_type": "code",
      "execution_count": 11,
      "metadata": {
        "colab": {
          "base_uri": "https://localhost:8080/"
        },
        "id": "RCOjY7h8k4GI",
        "outputId": "2a9264f7-b186-4735-ef66-09380ba37ae0"
      },
      "outputs": [
        {
          "output_type": "stream",
          "name": "stdout",
          "text": [
            "💰 Cost Tracking Report:\n",
            "\n",
            "  total_cost: $0.0157\n",
            "  requests: 3\n",
            "  avg_cost_per_request: $0.0052\n",
            "  total_tokens: 675\n",
            "  input_tokens: 225\n",
            "  output_tokens: 450\n",
            "\n",
            "📊 Monthly Projection:\n",
            "  Requests/day: 1000\n",
            "  Monthly cost: $156.00\n"
          ]
        }
      ],
      "source": [
        "class CostTracker:\n",
        "    \"\"\"Track LLM API costs\"\"\"\n",
        "\n",
        "    # Pricing (per 1K tokens) need to check up-to-date prices\n",
        "    PRICING = {\n",
        "        \"gpt-3.5-turbo\": {\"input\": 0.0015, \"output\": 0.002},\n",
        "        \"gpt-4o\": {\"input\": 0.03, \"output\": 0.06},\n",
        "    }\n",
        "\n",
        "    def __init__(self):\n",
        "        self.total_cost = 0\n",
        "        self.requests = 0\n",
        "        self.tokens_used = {\"input\": 0, \"output\": 0}\n",
        "\n",
        "    def track_request(self, model: str, input_tokens: int, output_tokens: int):\n",
        "        \"\"\"Track a request\"\"\"\n",
        "        pricing = self.PRICING.get(model, self.PRICING[\"gpt-3.5-turbo\"])\n",
        "\n",
        "        cost = (\n",
        "            (input_tokens / 1000) * pricing[\"input\"] +\n",
        "            (output_tokens / 1000) * pricing[\"output\"]\n",
        "        )\n",
        "\n",
        "        self.total_cost += cost\n",
        "        self.requests += 1\n",
        "        self.tokens_used[\"input\"] += input_tokens\n",
        "        self.tokens_used[\"output\"] += output_tokens\n",
        "\n",
        "        return cost\n",
        "\n",
        "    def get_report(self):\n",
        "        \"\"\"Get cost report\"\"\"\n",
        "        avg_cost = self.total_cost / self.requests if self.requests > 0 else 0\n",
        "\n",
        "        return {\n",
        "            \"total_cost\": f\"${self.total_cost:.4f}\",\n",
        "            \"requests\": self.requests,\n",
        "            \"avg_cost_per_request\": f\"${avg_cost:.4f}\",\n",
        "            \"total_tokens\": sum(self.tokens_used.values()),\n",
        "            \"input_tokens\": self.tokens_used[\"input\"],\n",
        "            \"output_tokens\": self.tokens_used[\"output\"]\n",
        "        }\n",
        "\n",
        "# Test cost tracking\n",
        "tracker = CostTracker()\n",
        "\n",
        "# Simulate requests\n",
        "tracker.track_request(\"gpt-3.5-turbo\", input_tokens=50, output_tokens=100)\n",
        "tracker.track_request(\"gpt-3.5-turbo\", input_tokens=75, output_tokens=150)\n",
        "tracker.track_request(\"gpt-4o\", input_tokens=100, output_tokens=200)\n",
        "\n",
        "# Get report\n",
        "report = tracker.get_report()\n",
        "\n",
        "print(\"💰 Cost Tracking Report:\\n\")\n",
        "for key, value in report.items():\n",
        "    print(f\"  {key}: {value}\")\n",
        "\n",
        "# Monthly projection\n",
        "requests_per_day = 1000\n",
        "avg_cost = float(report['avg_cost_per_request'].replace('$', ''))\n",
        "monthly_cost = avg_cost * requests_per_day * 30\n",
        "\n",
        "print(f\"\\n📊 Monthly Projection:\")\n",
        "print(f\"  Requests/day: {requests_per_day}\")\n",
        "print(f\"  Monthly cost: ${monthly_cost:.2f}\")"
      ]
    },
    {
      "cell_type": "markdown",
      "metadata": {
        "id": "68HyvAg1k4GI"
      },
      "source": [
        "## 9. Complete Optimized System"
      ]
    },
    {
      "cell_type": "code",
      "source": [
        "import os\n",
        "import time\n",
        "from functools import lru_cache\n",
        "from dotenv import load_dotenv\n",
        "\n",
        "from langchain_openai import ChatOpenAI\n",
        "from langchain_core.prompts import ChatPromptTemplate\n",
        "from langchain_core.output_parsers import StrOutputParser\n",
        "from langchain.cache import SQLiteCache\n",
        "from langchain.globals import set_llm_cache\n",
        "\n",
        "load_dotenv()\n",
        "\n",
        "# Enable caching\n",
        "set_llm_cache(SQLiteCache(database_path=\".langchain.db\"))\n",
        "\n",
        "class OptimizedBakeryAI:\n",
        "    def __init__(self):\n",
        "        # Use faster, cheaper model by default\n",
        "        self.llm = ChatOpenAI(\n",
        "            model=\"gpt-3.5-turbo\",\n",
        "            temperature=0,\n",
        "            request_timeout=10\n",
        "        )\n",
        "\n",
        "        # Concise prompt\n",
        "        self.prompt = ChatPromptTemplate.from_template(\n",
        "            \"BakeryAI assistant. Answer: {question}\"\n",
        "        )\n",
        "\n",
        "        self.chain = self.prompt | self.llm | StrOutputParser()\n",
        "        self.metrics = {\"requests\": 0, \"cache_hits\": 0, \"total_time\": 0}\n",
        "\n",
        "    @lru_cache(maxsize=100)\n",
        "    def _get_cached_response(self, question: str) -> str:\n",
        "        \"\"\"LRU cache for frequent questions\"\"\"\n",
        "        return self.chain.invoke({\"question\": question})\n",
        "\n",
        "    def ask(self, question: str) -> dict:\n",
        "        \"\"\"Ask question with optimization\"\"\"\n",
        "        start_time = time.time()\n",
        "\n",
        "        # Try cache\n",
        "        try:\n",
        "            answer = self._get_cached_response(question)\n",
        "            cache_hit = True\n",
        "        except:\n",
        "            answer = self.chain.invoke({\"question\": question})\n",
        "            cache_hit = False\n",
        "\n",
        "        latency = time.time() - start_time\n",
        "\n",
        "        # Update metrics\n",
        "        self.metrics[\"requests\"] += 1\n",
        "        if cache_hit:\n",
        "            self.metrics[\"cache_hits\"] += 1\n",
        "        self.metrics[\"total_time\"] += latency\n",
        "\n",
        "        return {\n",
        "            \"answer\": answer,\n",
        "            \"latency\": latency,\n",
        "            \"cache_hit\": cache_hit\n",
        "        }\n",
        "\n",
        "    def batch_ask(self, questions: list) -> list:\n",
        "        \"\"\"Batch processing\"\"\"\n",
        "        return self.chain.batch([{\"question\": q} for q in questions])\n",
        "\n",
        "    def get_metrics(self):\n",
        "        \"\"\"Get performance metrics\"\"\"\n",
        "        cache_rate = (self.metrics[\"cache_hits\"] / self.metrics[\"requests\"] * 100\n",
        "                     if self.metrics[\"requests\"] > 0 else 0)\n",
        "        avg_latency = (self.metrics[\"total_time\"] / self.metrics[\"requests\"]\n",
        "                      if self.metrics[\"requests\"] > 0 else 0)\n",
        "\n",
        "        return {\n",
        "            \"total_requests\": self.metrics[\"requests\"],\n",
        "            \"cache_hit_rate\": f\"{cache_rate:.1f}%\",\n",
        "            \"avg_latency\": f\"{avg_latency:.2f}s\"\n",
        "        }\n",
        ""
      ],
      "metadata": {
        "id": "o7-JlrublPFe"
      },
      "execution_count": 12,
      "outputs": []
    },
    {
      "cell_type": "code",
      "source": [
        "bakery = OptimizedBakeryAI()\n",
        "\n",
        "# Test\n",
        "result = bakery.ask(\"What cakes do you offer?\")\n",
        "print(f\"Answer: {result['answer']}\")\n",
        "print(f\"Latency: {result['latency']:.2f}s\")\n",
        "print(f\"Cache hit: {result['cache_hit']}\")\n",
        "\n",
        "# Metrics\n",
        "print(\"\\nMetrics:\", bakery.get_metrics())"
      ],
      "metadata": {
        "colab": {
          "base_uri": "https://localhost:8080/"
        },
        "id": "UqWnZD0PlRcg",
        "outputId": "8a811f8f-0c41-413b-ee86-643423148234"
      },
      "execution_count": 13,
      "outputs": [
        {
          "output_type": "stream",
          "name": "stdout",
          "text": [
            "Answer: We offer a variety of cakes including classic flavors like chocolate, vanilla, red velvet, and carrot cake. We also have specialty cakes such as tiramisu, lemon raspberry, and salted caramel. Additionally, we can create custom cakes for special occasions with flavors and designs tailored to your preferences. Let me know if you would like more information on our cake options!\n",
            "Latency: 1.03s\n",
            "Cache hit: True\n",
            "\n",
            "Metrics: {'total_requests': 1, 'cache_hit_rate': '100.0%', 'avg_latency': '1.03s'}\n"
          ]
        }
      ]
    },
    {
      "cell_type": "markdown",
      "metadata": {
        "id": "pjemHolPk4GL"
      },
      "source": [
        "## Summary: What We Built\n",
        "\n",
        "### ✅ Session 4.3 Achievements:\n",
        "\n",
        "1. **Caching**: In-memory, disk, and semantic caching\n",
        "2. **Model Selection**: Route to cheaper models when possible\n",
        "3. **Prompt Optimization**: Reduce token usage\n",
        "4. **Batch Processing**: Handle multiple requests efficiently\n",
        "5. **Streaming**: Better user experience\n",
        "6. **Parallel Execution**: Run operations simultaneously\n",
        "7. **Cost Tracking**: Monitor and optimize spending\n",
        "8. **Complete System**: Production-ready optimizations\n",
        "\n",
        "### 💰 Cost Savings:\n",
        "\n",
        "**Before optimization:** $0.05 per request  \n",
        "**After optimization:** $0.01 per request  \n",
        "**Savings:** 80% cost reduction\n",
        "\n",
        "**At 10,000 requests/day:**\n",
        "- Before: $500/day = $15,000/month\n",
        "- After: $100/day = $3,000/month\n",
        "- **Savings: $12,000/month!**\n",
        "\n",
        "### ⚡ Performance Improvements:\n",
        "\n",
        "- **Caching**: 10-100x faster for repeated queries\n",
        "- **Batching**: 3-5x faster for multiple requests\n",
        "- **Parallel**: 2-3x faster for independent operations\n",
        "- **Streaming**: Immediate UX feedback"
      ]
    },
    {
      "cell_type": "code",
      "source": [],
      "metadata": {
        "id": "EpPnkgRhp7LL"
      },
      "execution_count": null,
      "outputs": []
    }
  ],
  "metadata": {
    "kernelspec": {
      "display_name": "Python 3",
      "language": "python",
      "name": "python3"
    },
    "colab": {
      "provenance": []
    }
  },
  "nbformat": 4,
  "nbformat_minor": 0
}