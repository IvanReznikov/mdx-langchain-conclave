{
 "cells": [
  {
   "cell_type": "markdown",
   "metadata": {
    "id": "header_cell"
   },
   "source": [
    "# Session 2.3: BakeryAI - Introduction to LangGraph\n",
    "\n",
    "[![Open In Colab](https://colab.research.google.com/assets/colab-badge.svg)](https://colab.research.google.com/drive/1mVK3kITwpKL2pfAZKwAknlexl2TegHAD?usp=sharing)\n",
    "\n",
    "## 🎯 What is LangGraph?\n",
    "\n",
    "**LangGraph** is a framework for building **stateful, multi-actor applications** with LLMs.\n",
    "\n",
    "### Why LangGraph?\n",
    "\n",
    "Traditional agents have limitations:\n",
    "- ❌ Hard to control flow\n",
    "- ❌ Limited state management\n",
    "- ❌ Difficult to debug\n",
    "- ❌ Can't handle complex workflows\n",
    "\n",
    "**LangGraph solves this** by:\n",
    "- ✅ Explicit state management\n",
    "- ✅ Visual workflow graphs\n",
    "- ✅ Conditional routing\n",
    "- ✅ Human-in-the-loop\n",
    "- ✅ Parallel execution\n",
    "- ✅ Easy debugging\n",
    "\n",
    "### Core Concepts:\n",
    "1. **Nodes**: Units of work (functions that process state)\n",
    "2. **Edges**: Connections between nodes\n",
    "3. **State**: Shared data that flows through the graph\n",
    "4. **Conditional Edges**: Dynamic routing based on state\n",
    "\n",
    "## BakeryAI with LangGraph\n",
    "\n",
    "We'll build a sophisticated order processing workflow using the tools from previous notebooks:\n",
    "\n",
    "```\n",
    "Customer Request\n",
    "    ↓\n",
    "[Understand Intent]\n",
    "    ↓\n",
    "[Lookup Customer] → Human Review if not found\n",
    "    ↓\n",
    "[Check Product Availability] → Recommend Alternatives if unavailable\n",
    "    ↓\n",
    "[Calculate Price]\n",
    "    ↓\n",
    "[Check Delivery Slot] → Suggest Alternative Times if unavailable\n",
    "    ↓\n",
    "[Process Payment] → Retry or Human Review if failed\n",
    "    ↓\n",
    "[Send Confirmation Email]\n",
    "```\n",
    "\n",
    "Let's build it! 🚀"
   ]
  },
  {
   "cell_type": "code",
   "execution_count": 3,
   "metadata": {
    "colab": {
     "base_uri": "https://localhost:8080/"
    },
    "executionInfo": {
     "elapsed": 11876,
     "status": "ok",
     "timestamp": 1761326446508,
     "user": {
      "displayName": "Ivan Reznikov",
      "userId": "03906939862966425294"
     },
     "user_tz": -240
    },
    "id": "install_deps",
    "outputId": "8683f2cf-fe2f-4a93-95f4-993afcef0138"
   },
   "outputs": [
    {
     "name": "stdout",
     "output_type": "stream",
     "text": [
      "fatal: destination path 'mdx-langchain-conclave' already exists and is not an empty directory.\n"
     ]
    }
   ],
   "source": [
    "!pip install -q langgraph langchain langchain-openai\n",
    "!pip install -q pandas python-dotenv\n",
    "\n",
    "!git clone https://github.com/IvanReznikov/mdx-langchain-conclave"
   ]
  },
  {
   "cell_type": "code",
   "execution_count": null,
   "metadata": {
    "executionInfo": {
     "elapsed": 606,
     "status": "ok",
     "timestamp": 1761326447111,
     "user": {
      "displayName": "Ivan Reznikov",
      "userId": "03906939862966425294"
     },
     "user_tz": -240
    },
    "id": "setup_api_key"
   },
   "outputs": [],
   "source": [
    "import os\n",
    "from google.colab import userdata\n",
    "\n",
    "# Set OpenAI API key from Google Colab's user environment or default\n",
    "def set_openai_api_key(default_key: str = \"YOUR_API_KEY\") -> None:\n",
    "    \"\"\"Set the OpenAI API key from Google Colab's user environment or use a default value.\"\"\"\n",
    "    #if not (userdata.get(\"OPENAI_API_KEY\") or \"OPENAI_API_KEY\" in os.environ):\n",
    "    try:\n",
    "      os.environ[\"OPENAI_API_KEY\"] = userdata.get(\"MDX_OPENAI_API_KEY\")\n",
    "    except:\n",
    "      os.environ[\"OPENAI_API_KEY\"] = default_key\n",
    "\n",
    "set_openai_api_key()\n",
    "#set_openai_api_key(\"sk-...\")"
   ]
  },
  {
   "cell_type": "code",
   "execution_count": 5,
   "metadata": {
    "executionInfo": {
     "elapsed": 19730,
     "status": "ok",
     "timestamp": 1761326466851,
     "user": {
      "displayName": "Ivan Reznikov",
      "userId": "03906939862966425294"
     },
     "user_tz": -240
    },
    "id": "imports"
   },
   "outputs": [],
   "source": [
    "import os\n",
    "import pandas as pd\n",
    "import random\n",
    "from datetime import datetime, timedelta\n",
    "from typing import TypedDict, Annotated, List\n",
    "from dotenv import load_dotenv\n",
    "\n",
    "from langchain_openai import ChatOpenAI\n",
    "from langchain_core.tools import tool\n",
    "from langchain_core.messages import HumanMessage, AIMessage, BaseMessage\n",
    "from langgraph.graph import StateGraph, END\n",
    "from langgraph.graph.message import add_messages\n",
    "from langgraph.prebuilt import ToolNode\n",
    "\n",
    "llm = ChatOpenAI(model=\"gpt-4o\", temperature=0)"
   ]
  },
  {
   "cell_type": "code",
   "execution_count": 6,
   "metadata": {
    "colab": {
     "base_uri": "https://localhost:8080/"
    },
    "executionInfo": {
     "elapsed": 12,
     "status": "ok",
     "timestamp": 1761326466890,
     "user": {
      "displayName": "Ivan Reznikov",
      "userId": "03906939862966425294"
     },
     "user_tz": -240
    },
    "id": "load_data",
    "outputId": "268cb37f-6034-4652-dadf-21e5dd117b01"
   },
   "outputs": [
    {
     "name": "stdout",
     "output_type": "stream",
     "text": [
      "✅ Loaded: 22 products, 50 customers, 100 orders\n"
     ]
    }
   ],
   "source": [
    "# Load bakery data\n",
    "try:\n",
    "    cakes_df = pd.read_csv('/content/mdx-langchain-conclave/data/cake_descriptions.csv', encoding='cp1252')\n",
    "    customers_df = pd.read_csv('/content/mdx-langchain-conclave/data/customers.csv', encoding='cp1252')\n",
    "    orders_df = pd.read_csv('/content/mdx-langchain-conclave/data/orders.csv', encoding='cp1252')\n",
    "    prices_df = pd.read_csv('/content/mdx-langchain-conclave/data/price_list.csv', encoding='utf-16')\n",
    "    print(f\"✅ Loaded: {len(cakes_df)} products, {len(customers_df)} customers, {len(orders_df)} orders\")\n",
    "except FileNotFoundError:\n",
    "    cakes_df = pd.DataFrame({\n",
    "        'Name': ['Chocolate Truffle Cake', 'Vanilla Bean Cake', 'Red Velvet Cake'],\n",
    "        'Category': ['Chocolate', 'Vanilla', 'Specialty'],\n",
    "        'Available': [True, True, True],\n",
    "        'Weight_grams': [1000, 1000, 1200],\n",
    "        'Delivery_time_hr': [24, 24, 48]\n",
    "    })\n",
    "    customers_df = pd.DataFrame({\n",
    "        'client_id': ['C001'],\n",
    "        'client_name': ['Alice Johnson'],\n",
    "        'email': ['alice@example.com'],\n",
    "        'loyalty_points': [100]\n",
    "    })\n",
    "    orders_df = pd.DataFrame({'order_id': ['O001'], 'status': ['delivered']})\n",
    "    prices_df = pd.DataFrame({'Item': ['Chocolate Cake'], 'Unit_Price_AED': [45]})\n",
    "    print(\"⚠️ Using sample data\")"
   ]
  },
  {
   "cell_type": "markdown",
   "metadata": {
    "id": "tools_section"
   },
   "source": [
    "## 1. Import Tools from Previous Notebooks\n",
    "\n",
    "We'll reuse the tools we built in Notebooks 1 and 2."
   ]
  },
  {
   "cell_type": "code",
   "execution_count": 7,
   "metadata": {
    "executionInfo": {
     "elapsed": 32,
     "status": "ok",
     "timestamp": 1761326466926,
     "user": {
      "displayName": "Ivan Reznikov",
      "userId": "03906939862966425294"
     },
     "user_tz": -240
    },
    "id": "tools_from_notebook1"
   },
   "outputs": [],
   "source": [
    "# Tools from Notebook 1: Basic agent tools\n",
    "@tool\n",
    "def check_product_availability(product_name: str) -> str:\n",
    "    \"\"\"Check if a product is available in inventory.\n",
    "\n",
    "    Args:\n",
    "        product_name: Name of the cake or product to check\n",
    "\n",
    "    Returns:\n",
    "        Availability status and details\n",
    "    \"\"\"\n",
    "    product = cakes_df[cakes_df['Name'].str.contains(product_name, case=False, na=False)]\n",
    "\n",
    "    if product.empty:\n",
    "        return f\"Product '{product_name}' not found in our catalog.\"\n",
    "\n",
    "    product_info = product.iloc[0]\n",
    "    if product_info['Available']:\n",
    "        return f\"✅ {product_info['Name']} is available! Delivery time: {product_info['Delivery_time_hr']} hours.\"\n",
    "    else:\n",
    "        return f\"❌ {product_info['Name']} is currently out of stock.\"\n",
    "\n",
    "@tool\n",
    "def calculate_order_total(product_name: str, quantity: int = 1) -> str:\n",
    "    \"\"\"Calculate the total cost including delivery fee.\n",
    "\n",
    "    Args:\n",
    "        product_name: Name of the product\n",
    "        quantity: Number of items (default: 1)\n",
    "\n",
    "    Returns:\n",
    "        Total cost breakdown\n",
    "    \"\"\"\n",
    "    try:\n",
    "        filtered = prices_df[prices_df['Item'].str.lower().str.contains(product_name.lower(), na=False)]\n",
    "        price = filtered['Unit_Price_AED'].iloc[0]\n",
    "    except:\n",
    "        price = 45  # default\n",
    "\n",
    "    subtotal = price * quantity\n",
    "    delivery_fee = 10 if subtotal < 100 else 0\n",
    "    total = subtotal + delivery_fee\n",
    "\n",
    "    return f\"\"\"Order Summary:\n",
    "- Product: {product_name} x {quantity}\n",
    "- Subtotal: {subtotal} AED\n",
    "- Delivery Fee: {delivery_fee} AED\n",
    "- Total: {total} AED\"\"\"\n",
    "\n",
    "@tool\n",
    "def check_delivery_slot(date: str, time: str) -> str:\n",
    "    \"\"\"Check if a delivery slot is available.\n",
    "\n",
    "    Args:\n",
    "        date: Delivery date (e.g., 'tomorrow', '2025-10-23')\n",
    "        time: Delivery time (e.g., '2 PM', '14:00')\n",
    "\n",
    "    Returns:\n",
    "        Slot availability status\n",
    "    \"\"\"\n",
    "    # Simulate availability check (90% success rate)\n",
    "    is_available = random.random() < 0.9\n",
    "\n",
    "    if is_available:\n",
    "        return f\"✅ Delivery slot available for {date} at {time}. We'll deliver between {time} and one hour after.\"\n",
    "    else:\n",
    "        return f\"❌ Delivery slot for {date} at {time} is fully booked. Alternative times: 10 AM, 4 PM.\""
   ]
  },
  {
   "cell_type": "code",
   "execution_count": 8,
   "metadata": {
    "colab": {
     "base_uri": "https://localhost:8080/"
    },
    "executionInfo": {
     "elapsed": 29,
     "status": "ok",
     "timestamp": 1761326466962,
     "user": {
      "displayName": "Ivan Reznikov",
      "userId": "03906939862966425294"
     },
     "user_tz": -240
    },
    "id": "tools_from_notebook2",
    "outputId": "d8d3038a-30f6-43d2-df4f-72bcf498d20a"
   },
   "outputs": [
    {
     "name": "stdout",
     "output_type": "stream",
     "text": [
      "✅ All tools imported from previous notebooks\n",
      "Available tools: ['check_product_availability', 'calculate_order_total', 'check_delivery_slot', 'lookup_customer', 'process_payment', 'send_confirmation_email']\n"
     ]
    }
   ],
   "source": [
    "# Tools from Notebook 2: Advanced tools\n",
    "@tool\n",
    "def lookup_customer(query: str) -> str:\n",
    "    \"\"\"Look up customer information by name, email, or ID.\n",
    "\n",
    "    Args:\n",
    "        query: Customer identifier (name, email, or ID)\n",
    "\n",
    "    Returns:\n",
    "        Customer information as formatted string\n",
    "    \"\"\"\n",
    "    query_lower = query.lower()\n",
    "\n",
    "    # Try matching by ID\n",
    "    if 'client_id' in customers_df.columns:\n",
    "        customer = customers_df[customers_df['client_id'].str.lower() == query_lower]\n",
    "    else:\n",
    "        customer = pd.DataFrame()\n",
    "\n",
    "    # Try matching by name if ID search failed\n",
    "    if customer.empty and 'client_name' in customers_df.columns:\n",
    "        customer = customers_df[customers_df['client_name'].str.lower().str.contains(query_lower, na=False)]\n",
    "\n",
    "    if customer.empty:\n",
    "        return f\"❌ Customer '{query}' not found in database.\"\n",
    "\n",
    "    cust = customer.iloc[0]\n",
    "    result = f\"\"\"✅ Customer Found:\n",
    "- ID: {cust.get('client_id', 'N/A')}\n",
    "- Name: {cust.get('client_name', 'N/A')}\n",
    "- Email: {cust.get('email', 'N/A')}\n",
    "- Loyalty Points: {cust.get('loyalty_points', 0)}\"\"\"\n",
    "\n",
    "    return result\n",
    "\n",
    "@tool\n",
    "def process_payment(customer_id: str, amount: float, payment_method: str = \"card\") -> str:\n",
    "    \"\"\"Process payment for an order.\n",
    "\n",
    "    Args:\n",
    "        customer_id: Customer ID\n",
    "        amount: Payment amount\n",
    "        payment_method: Payment method (card, cash, wallet)\n",
    "\n",
    "    Returns:\n",
    "        Payment confirmation\n",
    "    \"\"\"\n",
    "    import time\n",
    "    time.sleep(0.5)  # Simulate API delay\n",
    "\n",
    "    # 95% success rate\n",
    "    success = random.random() < 0.95\n",
    "\n",
    "    if success:\n",
    "        transaction_id = f\"TXN{random.randint(100000, 999999)}\"\n",
    "        return f\"\"\"✅ Payment Successful!\n",
    "Transaction ID: {transaction_id}\n",
    "Customer: {customer_id}\n",
    "Amount: ${amount:.2f}\n",
    "Method: {payment_method}\n",
    "Status: Approved\"\"\"\n",
    "    else:\n",
    "        return f\"\"\"❌ Payment Failed\n",
    "Reason: Insufficient funds / Card declined\n",
    "Please try a different payment method.\"\"\"\n",
    "\n",
    "@tool\n",
    "def send_confirmation_email(customer_email: str, order_id: str, order_details: str) -> str:\n",
    "    \"\"\"Send order confirmation email to customer.\n",
    "\n",
    "    Args:\n",
    "        customer_email: Customer's email address\n",
    "        order_id: Order ID\n",
    "        order_details: Order details to include\n",
    "\n",
    "    Returns:\n",
    "        Email send status\n",
    "    \"\"\"\n",
    "    import time\n",
    "    time.sleep(0.3)\n",
    "\n",
    "    return f\"\"\"📧 Email Sent Successfully!\n",
    "To: {customer_email}\n",
    "Subject: Order Confirmation - #{order_id}\n",
    "Status: Delivered to inbox\"\"\"\n",
    "\n",
    "# Collect all tools\n",
    "bakery_tools = [\n",
    "    check_product_availability,\n",
    "    calculate_order_total,\n",
    "    check_delivery_slot,\n",
    "    lookup_customer,\n",
    "    process_payment,\n",
    "    send_confirmation_email\n",
    "]\n",
    "\n",
    "print(\"✅ All tools imported from previous notebooks\")\n",
    "print(f\"Available tools: {[tool.name for tool in bakery_tools]}\")"
   ]
  },
  {
   "cell_type": "markdown",
   "metadata": {
    "id": "state_section"
   },
   "source": [
    "## 2. Defining the State\n",
    "\n",
    "State is the core of LangGraph - it flows through all nodes."
   ]
  },
  {
   "cell_type": "code",
   "execution_count": 9,
   "metadata": {
    "colab": {
     "base_uri": "https://localhost:8080/"
    },
    "executionInfo": {
     "elapsed": 10,
     "status": "ok",
     "timestamp": 1761326466974,
     "user": {
      "displayName": "Ivan Reznikov",
      "userId": "03906939862966425294"
     },
     "user_tz": -240
    },
    "id": "define_state",
    "outputId": "0463e23e-46f8-4ae9-e535-3f9263dc78e2"
   },
   "outputs": [
    {
     "name": "stdout",
     "output_type": "stream",
     "text": [
      "✅ State schema defined\n"
     ]
    }
   ],
   "source": [
    "class BakeryOrderState(TypedDict):\n",
    "    \"\"\"State for the bakery order workflow\"\"\"\n",
    "    # Customer info\n",
    "    customer_query: str\n",
    "    customer_id: str\n",
    "    customer_name: str\n",
    "    customer_email: str\n",
    "\n",
    "    # Order details\n",
    "    requested_product: str\n",
    "    quantity: int\n",
    "    delivery_date: str\n",
    "    delivery_time: str\n",
    "\n",
    "    # Workflow state\n",
    "    intent: str  # 'order', 'inquiry', 'complaint'\n",
    "    customer_found: bool\n",
    "    product_available: bool\n",
    "    delivery_available: bool\n",
    "    price: float\n",
    "    payment_status: str  # 'pending', 'paid', 'failed'\n",
    "    order_id: str\n",
    "\n",
    "    # Messages for conversation\n",
    "    messages: Annotated[List[BaseMessage], add_messages]\n",
    "\n",
    "    # Flags\n",
    "    requires_human_review: bool\n",
    "    workflow_complete: bool\n",
    "    error_message: str\n",
    "\n",
    "print(\"✅ State schema defined\")"
   ]
  },
  {
   "cell_type": "markdown",
   "metadata": {
    "id": "nodes_section"
   },
   "source": [
    "## 3. Creating Agent-Powered Nodes\n",
    "\n",
    "Instead of simple functions, we'll create nodes that use the LLM with tools."
   ]
  },
  {
   "cell_type": "code",
   "execution_count": 10,
   "metadata": {
    "executionInfo": {
     "elapsed": 31,
     "status": "ok",
     "timestamp": 1761326467009,
     "user": {
      "displayName": "Ivan Reznikov",
      "userId": "03906939862966425294"
     },
     "user_tz": -240
    },
    "id": "bind_tools"
   },
   "outputs": [],
   "source": [
    "# Bind tools to LLM\n",
    "llm_with_tools = llm.bind_tools(bakery_tools)"
   ]
  },
  {
   "cell_type": "code",
   "execution_count": 11,
   "metadata": {
    "colab": {
     "base_uri": "https://localhost:8080/"
    },
    "executionInfo": {
     "elapsed": 42,
     "status": "ok",
     "timestamp": 1761326467055,
     "user": {
      "displayName": "Ivan Reznikov",
      "userId": "03906939862966425294"
     },
     "user_tz": -240
    },
    "id": "node_functions",
    "outputId": "a1f4e637-f7ad-48c1-998e-fd7e67ccec54"
   },
   "outputs": [
    {
     "name": "stdout",
     "output_type": "stream",
     "text": [
      "\n",
      "✅ All agent-powered node functions created\n"
     ]
    }
   ],
   "source": [
    "def understand_intent_node(state: BakeryOrderState) -> BakeryOrderState:\n",
    "    \"\"\"Analyze customer intent using LLM\"\"\"\n",
    "    print(\"🧠 NODE: Understanding Intent...\")\n",
    "\n",
    "    last_message = state['messages'][-1].content if state['messages'] else \"\"\n",
    "\n",
    "    # Use LLM to understand intent\n",
    "    intent_prompt = f\"\"\"Analyze this customer message and determine the intent.\n",
    "\n",
    "Message: \"{last_message}\"\n",
    "\n",
    "Classify as one of: 'order', 'inquiry', 'complaint', 'tracking'\n",
    "Respond with just the intent word.\"\"\"\n",
    "\n",
    "    response = llm.invoke([HumanMessage(content=intent_prompt)])\n",
    "    intent = response.content.lower().strip()\n",
    "\n",
    "    # Default to order if unclear\n",
    "    if intent not in ['order', 'inquiry', 'complaint', 'tracking']:\n",
    "        intent = 'order'\n",
    "\n",
    "    state['intent'] = intent\n",
    "    print(f\"   Intent detected: {intent}\")\n",
    "\n",
    "    return state\n",
    "\n",
    "def lookup_customer_node(state: BakeryOrderState) -> BakeryOrderState:\n",
    "    \"\"\"Look up customer using the tool\"\"\"\n",
    "    print(\"👤 NODE: Looking up customer...\")\n",
    "\n",
    "    # Extract customer identifier from messages\n",
    "    customer_query = state.get('customer_query', state.get('customer_name', ''))\n",
    "\n",
    "    if not customer_query:\n",
    "        # Try to extract from last message\n",
    "        last_message = state['messages'][-1].content if state['messages'] else \"\"\n",
    "        # Simple extraction (in production, use LLM)\n",
    "        words = last_message.split()\n",
    "        customer_query = ' '.join(words[:2])  # Take first two words as name\n",
    "\n",
    "    result = lookup_customer.invoke({\"query\": customer_query})\n",
    "\n",
    "    if \"✅\" in result:\n",
    "        state['customer_found'] = True\n",
    "        # Extract customer details from result\n",
    "        lines = result.split('\\n')\n",
    "        for line in lines:\n",
    "            if 'ID:' in line:\n",
    "                state['customer_id'] = line.split(':')[1].strip()\n",
    "            elif 'Name:' in line:\n",
    "                state['customer_name'] = line.split(':')[1].strip()\n",
    "            elif 'Email:' in line:\n",
    "                state['customer_email'] = line.split(':')[1].strip()\n",
    "        print(f\"   ✅ Customer found: {state.get('customer_name', 'Unknown')}\")\n",
    "    else:\n",
    "        state['customer_found'] = False\n",
    "        state['requires_human_review'] = True\n",
    "        print(\"   ❌ Customer not found\")\n",
    "\n",
    "    return state\n",
    "\n",
    "def check_inventory_node(state: BakeryOrderState) -> BakeryOrderState:\n",
    "    \"\"\"Check if requested product is available using tool\"\"\"\n",
    "    print(\"📦 NODE: Checking Inventory...\")\n",
    "\n",
    "    product = state['requested_product']\n",
    "    result = check_product_availability.invoke({\"product_name\": product})\n",
    "\n",
    "    if \"✅\" in result:\n",
    "        state['product_available'] = True\n",
    "        print(f\"   ✅ {product} is in stock\")\n",
    "    else:\n",
    "        state['product_available'] = False\n",
    "        state['requires_human_review'] = True\n",
    "        print(f\"   ❌ {product} is out of stock\")\n",
    "\n",
    "    return state\n",
    "\n",
    "def calculate_price_node(state: BakeryOrderState) -> BakeryOrderState:\n",
    "    \"\"\"Calculate order total using tool\"\"\"\n",
    "    print(\"💰 NODE: Calculating Price...\")\n",
    "\n",
    "    result = calculate_order_total.invoke({\n",
    "        \"product_name\": state['requested_product'],\n",
    "        \"quantity\": state['quantity']\n",
    "    })\n",
    "\n",
    "    # Extract total from result\n",
    "    for line in result.split('\\n'):\n",
    "        if 'Total:' in line:\n",
    "            try:\n",
    "                total_str = line.split(':')[1].strip().split()[0]\n",
    "                state['price'] = float(total_str)\n",
    "                print(f\"   Total: {total_str} AED\")\n",
    "            except:\n",
    "                state['price'] = 0.0\n",
    "\n",
    "    return state\n",
    "\n",
    "def check_delivery_node(state: BakeryOrderState) -> BakeryOrderState:\n",
    "    \"\"\"Check delivery slot availability using tool\"\"\"\n",
    "    print(\"🚚 NODE: Checking Delivery...\")\n",
    "\n",
    "    result = check_delivery_slot.invoke({\n",
    "        \"date\": state['delivery_date'],\n",
    "        \"time\": state['delivery_time']\n",
    "    })\n",
    "\n",
    "    if \"✅\" in result:\n",
    "        state['delivery_available'] = True\n",
    "        print(f\"   ✅ Delivery available for {state['delivery_date']} at {state['delivery_time']}\")\n",
    "    else:\n",
    "        state['delivery_available'] = False\n",
    "        state['requires_human_review'] = True\n",
    "        print(f\"   ❌ Delivery slot not available\")\n",
    "\n",
    "    return state\n",
    "\n",
    "def process_payment_node(state: BakeryOrderState) -> BakeryOrderState:\n",
    "    \"\"\"Process payment using tool\"\"\"\n",
    "    print(\"💳 NODE: Processing Payment...\")\n",
    "\n",
    "    result = process_payment.invoke({\n",
    "        \"customer_id\": state['customer_id'],\n",
    "        \"amount\": state['price'],\n",
    "        \"payment_method\": \"card\"\n",
    "    })\n",
    "\n",
    "    if \"✅\" in result:\n",
    "        state['payment_status'] = 'paid'\n",
    "        # Extract transaction ID\n",
    "        for line in result.split('\\n'):\n",
    "            if 'Transaction ID:' in line:\n",
    "                state['order_id'] = line.split(':')[1].strip()\n",
    "        print(f\"   ✅ Payment successful\")\n",
    "    else:\n",
    "        state['payment_status'] = 'failed'\n",
    "        state['requires_human_review'] = True\n",
    "        print(f\"   ❌ Payment failed\")\n",
    "\n",
    "    return state\n",
    "\n",
    "def send_confirmation_node(state: BakeryOrderState) -> BakeryOrderState:\n",
    "    \"\"\"Send order confirmation using tool\"\"\"\n",
    "    print(\"📧 NODE: Sending Confirmation...\")\n",
    "\n",
    "    order_details = f\"\"\"\n",
    "Order ID: {state['order_id']}\n",
    "Customer: {state['customer_name']}\n",
    "Product: {state['requested_product']} x {state['quantity']}\n",
    "Total: {state['price']} AED\n",
    "Delivery: {state['delivery_date']} at {state['delivery_time']}\n",
    "\"\"\"\n",
    "\n",
    "    result = send_confirmation_email.invoke({\n",
    "        \"customer_email\": state.get('customer_email', 'customer@example.com'),\n",
    "        \"order_id\": state['order_id'],\n",
    "        \"order_details\": order_details\n",
    "    })\n",
    "\n",
    "    confirmation = f\"\"\"\n",
    "✅ Order Confirmed!\n",
    "\n",
    "Customer: {state['customer_name']}\n",
    "Product: {state['requested_product']} x {state['quantity']}\n",
    "Total: {state['price']} AED\n",
    "Delivery: {state['delivery_date']} at {state['delivery_time']}\n",
    "\n",
    "{result}\n",
    "\n",
    "Thank you for your order! 🍰\n",
    "\"\"\"\n",
    "\n",
    "    state['messages'].append(AIMessage(content=confirmation))\n",
    "    state['workflow_complete'] = True\n",
    "    print(\"   ✅ Confirmation sent\")\n",
    "\n",
    "    return state\n",
    "\n",
    "def human_review_node(state: BakeryOrderState) -> BakeryOrderState:\n",
    "    \"\"\"Flag for human review\"\"\"\n",
    "    print(\"👤 NODE: Flagging for Human Review...\")\n",
    "\n",
    "    reason = \"\"\n",
    "    if not state.get('customer_found', True):\n",
    "        reason = \"Customer not found in database.\"\n",
    "    elif not state.get('product_available', True):\n",
    "        reason = \"Requested product is out of stock.\"\n",
    "    elif not state.get('delivery_available', True):\n",
    "        reason = \"Delivery slot unavailable.\"\n",
    "    elif state.get('payment_status') == 'failed':\n",
    "        reason = \"Payment processing failed.\"\n",
    "\n",
    "    state['messages'].append(AIMessage(\n",
    "        content=f\"This order requires human review. Reason: {reason}\\nA team member will contact you shortly.\"\n",
    "    ))\n",
    "    state['workflow_complete'] = True\n",
    "    print(f\"   Reason: {reason}\")\n",
    "\n",
    "    return state\n",
    "\n",
    "print(\"\\n✅ All agent-powered node functions created\")"
   ]
  },
  {
   "cell_type": "markdown",
   "metadata": {
    "id": "graph_section"
   },
   "source": [
    "## 4. Building the Graph\n",
    "\n",
    "Connect nodes with edges to create the workflow."
   ]
  },
  {
   "cell_type": "code",
   "execution_count": 12,
   "metadata": {
    "colab": {
     "base_uri": "https://localhost:8080/"
    },
    "executionInfo": {
     "elapsed": 10,
     "status": "ok",
     "timestamp": 1761326467071,
     "user": {
      "displayName": "Ivan Reznikov",
      "userId": "03906939862966425294"
     },
     "user_tz": -240
    },
    "id": "build_graph",
    "outputId": "83393fe8-e21d-4dfb-c750-ff07e67cd9b7"
   },
   "outputs": [
    {
     "name": "stdout",
     "output_type": "stream",
     "text": [
      "✅ Graph structure created\n"
     ]
    }
   ],
   "source": [
    "# Create the graph\n",
    "workflow = StateGraph(BakeryOrderState)\n",
    "\n",
    "# Add nodes\n",
    "workflow.add_node(\"understand_intent\", understand_intent_node)\n",
    "workflow.add_node(\"lookup_customer\", lookup_customer_node)\n",
    "workflow.add_node(\"check_inventory\", check_inventory_node)\n",
    "workflow.add_node(\"calculate_price\", calculate_price_node)\n",
    "workflow.add_node(\"check_delivery\", check_delivery_node)\n",
    "workflow.add_node(\"process_payment\", process_payment_node)\n",
    "workflow.add_node(\"send_confirmation\", send_confirmation_node)\n",
    "workflow.add_node(\"human_review\", human_review_node)\n",
    "\n",
    "# Set entry point\n",
    "workflow.set_entry_point(\"understand_intent\")\n",
    "\n",
    "# Add edges\n",
    "workflow.add_edge(\"understand_intent\", \"lookup_customer\")\n",
    "workflow.add_edge(\"calculate_price\", \"check_delivery\")\n",
    "\n",
    "print(\"✅ Graph structure created\")"
   ]
  },
  {
   "cell_type": "markdown",
   "metadata": {
    "id": "routing_section"
   },
   "source": [
    "## 5. Adding Conditional Edges\n",
    "\n",
    "Route based on state conditions."
   ]
  },
  {
   "cell_type": "code",
   "execution_count": 13,
   "metadata": {
    "colab": {
     "base_uri": "https://localhost:8080/"
    },
    "executionInfo": {
     "elapsed": 15,
     "status": "ok",
     "timestamp": 1761326467088,
     "user": {
      "displayName": "Ivan Reznikov",
      "userId": "03906939862966425294"
     },
     "user_tz": -240
    },
    "id": "conditional_routing",
    "outputId": "9e068f17-2107-4723-bcba-3a739be6a0b5"
   },
   "outputs": [
    {
     "name": "stdout",
     "output_type": "stream",
     "text": [
      "✅ Conditional routing added\n"
     ]
    }
   ],
   "source": [
    "def route_after_customer_lookup(state: BakeryOrderState) -> str:\n",
    "    \"\"\"Decide next step after customer lookup\"\"\"\n",
    "    if not state.get('customer_found', False):\n",
    "        return \"human_review\"\n",
    "    return \"check_inventory\"\n",
    "\n",
    "def route_after_inventory(state: BakeryOrderState) -> str:\n",
    "    \"\"\"Decide next step after inventory check\"\"\"\n",
    "    if not state['product_available']:\n",
    "        return \"human_review\"\n",
    "    return \"calculate_price\"\n",
    "\n",
    "def route_after_delivery(state: BakeryOrderState) -> str:\n",
    "    \"\"\"Decide next step after delivery check\"\"\"\n",
    "    if not state['delivery_available']:\n",
    "        return \"human_review\"\n",
    "    return \"process_payment\"\n",
    "\n",
    "def route_after_payment(state: BakeryOrderState) -> str:\n",
    "    \"\"\"Decide next step after payment\"\"\"\n",
    "    if state['payment_status'] == 'failed':\n",
    "        return \"human_review\"\n",
    "    return \"send_confirmation\"\n",
    "\n",
    "# Add conditional edges\n",
    "workflow.add_conditional_edges(\n",
    "    \"lookup_customer\",\n",
    "    route_after_customer_lookup,\n",
    "    {\n",
    "        \"check_inventory\": \"check_inventory\",\n",
    "        \"human_review\": \"human_review\"\n",
    "    }\n",
    ")\n",
    "\n",
    "workflow.add_conditional_edges(\n",
    "    \"check_inventory\",\n",
    "    route_after_inventory,\n",
    "    {\n",
    "        \"calculate_price\": \"calculate_price\",\n",
    "        \"human_review\": \"human_review\"\n",
    "    }\n",
    ")\n",
    "\n",
    "workflow.add_conditional_edges(\n",
    "    \"check_delivery\",\n",
    "    route_after_delivery,\n",
    "    {\n",
    "        \"process_payment\": \"process_payment\",\n",
    "        \"human_review\": \"human_review\"\n",
    "    }\n",
    ")\n",
    "\n",
    "workflow.add_conditional_edges(\n",
    "    \"process_payment\",\n",
    "    route_after_payment,\n",
    "    {\n",
    "        \"send_confirmation\": \"send_confirmation\",\n",
    "        \"human_review\": \"human_review\"\n",
    "    }\n",
    ")\n",
    "\n",
    "# Add end edges\n",
    "workflow.add_edge(\"send_confirmation\", END)\n",
    "workflow.add_edge(\"human_review\", END)\n",
    "\n",
    "print(\"✅ Conditional routing added\")"
   ]
  },
  {
   "cell_type": "markdown",
   "metadata": {
    "id": "compile_section"
   },
   "source": [
    "## 6. Compile and Test the Graph"
   ]
  },
  {
   "cell_type": "code",
   "execution_count": 14,
   "metadata": {
    "colab": {
     "base_uri": "https://localhost:8080/"
    },
    "executionInfo": {
     "elapsed": 27,
     "status": "ok",
     "timestamp": 1761326467118,
     "user": {
      "displayName": "Ivan Reznikov",
      "userId": "03906939862966425294"
     },
     "user_tz": -240
    },
    "id": "compile_graph",
    "outputId": "419729bd-590a-4a21-ac7d-e69f320557e5"
   },
   "outputs": [
    {
     "name": "stdout",
     "output_type": "stream",
     "text": [
      "✅ Graph compiled and ready!\n",
      "\n",
      "📊 Workflow Summary:\n",
      "   1. Understand Intent\n",
      "   2. Lookup Customer → Human Review if not found\n",
      "   3. Check Inventory → Human Review if unavailable\n",
      "   4. Calculate Price\n",
      "   5. Check Delivery → Human Review if unavailable\n",
      "   6. Process Payment → Human Review if failed\n",
      "   7. Send Confirmation\n"
     ]
    }
   ],
   "source": [
    "# Compile the graph\n",
    "app = workflow.compile()\n",
    "\n",
    "print(\"✅ Graph compiled and ready!\")\n",
    "print(\"\\n📊 Workflow Summary:\")\n",
    "print(\"   1. Understand Intent\")\n",
    "print(\"   2. Lookup Customer → Human Review if not found\")\n",
    "print(\"   3. Check Inventory → Human Review if unavailable\")\n",
    "print(\"   4. Calculate Price\")\n",
    "print(\"   5. Check Delivery → Human Review if unavailable\")\n",
    "print(\"   6. Process Payment → Human Review if failed\")\n",
    "print(\"   7. Send Confirmation\")"
   ]
  },
  {
   "cell_type": "code",
   "execution_count": 15,
   "metadata": {
    "colab": {
     "base_uri": "https://localhost:8080/"
    },
    "executionInfo": {
     "elapsed": 1396,
     "status": "ok",
     "timestamp": 1761326468518,
     "user": {
      "displayName": "Ivan Reznikov",
      "userId": "03906939862966425294"
     },
     "user_tz": -240
    },
    "id": "test_workflow",
    "outputId": "4a2ccab6-b361-4953-ee44-37992147294d"
   },
   "outputs": [
    {
     "name": "stdout",
     "output_type": "stream",
     "text": [
      "\n",
      "======================================================================\n",
      "🚀 RUNNING WORKFLOW\n",
      "======================================================================\n",
      "\n",
      "🧠 NODE: Understanding Intent...\n",
      "   Intent detected: order\n",
      "👤 NODE: Looking up customer...\n",
      "   ✅ Customer found: Fatima Al Mazrouei\n",
      "📦 NODE: Checking Inventory...\n",
      "   ✅ Chocolate is in stock\n",
      "💰 NODE: Calculating Price...\n",
      "   Total: 66 AED\n",
      "🚚 NODE: Checking Delivery...\n",
      "   ❌ Delivery slot not available\n",
      "👤 NODE: Flagging for Human Review...\n",
      "   Reason: Delivery slot unavailable.\n",
      "\n",
      "======================================================================\n",
      "📝 FINAL STATE\n",
      "======================================================================\n",
      "Intent: order\n",
      "Customer Found: True\n",
      "Customer Name: Fatima Al Mazrouei\n",
      "Product Available: True\n",
      "Delivery Available: False\n",
      "Price: 66.0 AED\n",
      "Payment Status: pending\n",
      "Order ID: \n",
      "Requires Human Review: True\n",
      "Workflow Complete: True\n",
      "\n",
      "📧 Final Message to Customer:\n",
      "This order requires human review. Reason: Delivery slot unavailable.\n",
      "A team member will contact you shortly.\n"
     ]
    }
   ],
   "source": [
    "# Test the workflow with real data\n",
    "if not customers_df.empty:\n",
    "    first_customer = customers_df.iloc[0]['client_name'] if 'client_name' in customers_df.columns else \"Alice\"\n",
    "else:\n",
    "    first_customer = \"Alice Johnson\"\n",
    "\n",
    "initial_state = {\n",
    "    \"customer_query\": first_customer,\n",
    "    \"customer_id\": \"\",\n",
    "    \"customer_name\": first_customer,\n",
    "    \"customer_email\": \"\",\n",
    "    \"requested_product\": \"Chocolate\",\n",
    "    \"quantity\": 2,\n",
    "    \"delivery_date\": \"tomorrow\",\n",
    "    \"delivery_time\": \"2 PM\",\n",
    "    \"messages\": [HumanMessage(content=f\"I want to order 2 chocolate cakes for tomorrow at 2 PM. My name is {first_customer}\")],\n",
    "    \"intent\": \"\",\n",
    "    \"customer_found\": False,\n",
    "    \"product_available\": False,\n",
    "    \"delivery_available\": False,\n",
    "    \"price\": 0.0,\n",
    "    \"payment_status\": \"pending\",\n",
    "    \"order_id\": \"\",\n",
    "    \"requires_human_review\": False,\n",
    "    \"workflow_complete\": False,\n",
    "    \"error_message\": \"\"\n",
    "}\n",
    "\n",
    "print(\"\\n\" + \"=\"*70)\n",
    "print(\"🚀 RUNNING WORKFLOW\")\n",
    "print(\"=\"*70 + \"\\n\")\n",
    "\n",
    "# Run the workflow\n",
    "result = app.invoke(initial_state)\n",
    "\n",
    "print(\"\\n\" + \"=\"*70)\n",
    "print(\"📝 FINAL STATE\")\n",
    "print(\"=\"*70)\n",
    "print(f\"Intent: {result['intent']}\")\n",
    "print(f\"Customer Found: {result.get('customer_found', False)}\")\n",
    "print(f\"Customer Name: {result.get('customer_name', 'N/A')}\")\n",
    "print(f\"Product Available: {result.get('product_available', False)}\")\n",
    "print(f\"Delivery Available: {result.get('delivery_available', False)}\")\n",
    "print(f\"Price: {result['price']} AED\")\n",
    "print(f\"Payment Status: {result['payment_status']}\")\n",
    "print(f\"Order ID: {result.get('order_id', 'N/A')}\")\n",
    "print(f\"Requires Human Review: {result['requires_human_review']}\")\n",
    "print(f\"Workflow Complete: {result['workflow_complete']}\")\n",
    "\n",
    "print(\"\\n📧 Final Message to Customer:\")\n",
    "if result['messages']:\n",
    "    print(result['messages'][-1].content)"
   ]
  },
  {
   "cell_type": "markdown",
   "metadata": {
    "id": "streaming_section"
   },
   "source": [
    "## 7. Streaming the Workflow\n",
    "\n",
    "Watch the state evolve in real-time."
   ]
  },
  {
   "cell_type": "code",
   "execution_count": 16,
   "metadata": {
    "colab": {
     "base_uri": "https://localhost:8080/"
    },
    "executionInfo": {
     "elapsed": 1980,
     "status": "ok",
     "timestamp": 1761326470501,
     "user": {
      "displayName": "Ivan Reznikov",
      "userId": "03906939862966425294"
     },
     "user_tz": -240
    },
    "id": "stream_workflow",
    "outputId": "94fa24ff-62c1-4735-8d45-5ff9eac6938a"
   },
   "outputs": [
    {
     "name": "stdout",
     "output_type": "stream",
     "text": [
      "\n",
      "======================================================================\n",
      "🔄 STREAMING WORKFLOW EXECUTION\n",
      "======================================================================\n",
      "\n",
      "🧠 NODE: Understanding Intent...\n",
      "   Intent detected: order\n",
      "\n",
      "📍 Node: understand_intent\n",
      "   State updates:\n",
      "   - Intent: order\n",
      "   - Customer Found: False\n",
      "   - Product Available: False\n",
      "👤 NODE: Looking up customer...\n",
      "   ✅ Customer found: Fatima Al Mazrouei\n",
      "\n",
      "📍 Node: lookup_customer\n",
      "   State updates:\n",
      "   - Intent: order\n",
      "   - Customer Found: True\n",
      "   - Product Available: False\n",
      "📦 NODE: Checking Inventory...\n",
      "   ✅ Chocolate is in stock\n",
      "\n",
      "📍 Node: check_inventory\n",
      "   State updates:\n",
      "   - Intent: order\n",
      "   - Customer Found: True\n",
      "   - Product Available: True\n",
      "💰 NODE: Calculating Price...\n",
      "   Total: 66 AED\n",
      "\n",
      "📍 Node: calculate_price\n",
      "   State updates:\n",
      "   - Intent: order\n",
      "   - Customer Found: True\n",
      "   - Product Available: True\n",
      "   - Price: 66.0 AED\n",
      "🚚 NODE: Checking Delivery...\n",
      "   ✅ Delivery available for tomorrow at 2 PM\n",
      "\n",
      "📍 Node: check_delivery\n",
      "   State updates:\n",
      "   - Intent: order\n",
      "   - Customer Found: True\n",
      "   - Product Available: True\n",
      "   - Price: 66.0 AED\n",
      "💳 NODE: Processing Payment...\n",
      "   ✅ Payment successful\n",
      "\n",
      "📍 Node: process_payment\n",
      "   State updates:\n",
      "   - Intent: order\n",
      "   - Customer Found: True\n",
      "   - Product Available: True\n",
      "   - Price: 66.0 AED\n",
      "   - Payment: paid\n",
      "📧 NODE: Sending Confirmation...\n",
      "   ✅ Confirmation sent\n",
      "\n",
      "📍 Node: send_confirmation\n",
      "   State updates:\n",
      "   - Intent: order\n",
      "   - Customer Found: True\n",
      "   - Product Available: True\n",
      "   - Price: 66.0 AED\n",
      "   - Payment: paid\n",
      "\n",
      "======================================================================\n",
      "✅ WORKFLOW COMPLETE\n",
      "======================================================================\n"
     ]
    }
   ],
   "source": [
    "print(\"\\n\" + \"=\"*70)\n",
    "print(\"🔄 STREAMING WORKFLOW EXECUTION\")\n",
    "print(\"=\"*70 + \"\\n\")\n",
    "\n",
    "for step in app.stream(initial_state):\n",
    "    node_name = list(step.keys())[0]\n",
    "    node_output = step[node_name]\n",
    "\n",
    "    print(f\"\\n📍 Node: {node_name}\")\n",
    "    print(f\"   State updates:\")\n",
    "\n",
    "    # Show key state changes\n",
    "    if 'intent' in node_output and node_output.get('intent'):\n",
    "        print(f\"   - Intent: {node_output['intent']}\")\n",
    "    if 'customer_found' in node_output:\n",
    "        print(f\"   - Customer Found: {node_output['customer_found']}\")\n",
    "    if 'product_available' in node_output:\n",
    "        print(f\"   - Product Available: {node_output['product_available']}\")\n",
    "    if 'price' in node_output and node_output.get('price', 0) > 0:\n",
    "        print(f\"   - Price: {node_output['price']} AED\")\n",
    "    if 'payment_status' in node_output and node_output.get('payment_status') != 'pending':\n",
    "        print(f\"   - Payment: {node_output['payment_status']}\")\n",
    "\n",
    "print(\"\\n\" + \"=\"*70)\n",
    "print(\"✅ WORKFLOW COMPLETE\")\n",
    "print(\"=\"*70)"
   ]
  },
  {
   "cell_type": "markdown",
   "metadata": {
    "id": "visualization_section"
   },
   "source": [
    "## 8. Visualizing the Graph (if graphviz installed)"
   ]
  },
  {
   "cell_type": "code",
   "execution_count": 17,
   "metadata": {
    "colab": {
     "base_uri": "https://localhost:8080/",
     "height": 863
    },
    "executionInfo": {
     "elapsed": 902,
     "status": "ok",
     "timestamp": 1761326471408,
     "user": {
      "displayName": "Ivan Reznikov",
      "userId": "03906939862966425294"
     },
     "user_tz": -240
    },
    "id": "visualize_graph",
    "outputId": "1f99ff16-3c56-45c0-c1c1-c42134e34fb7"
   },
   "outputs": [
    {
     "data": {
      "image/png": "[encoded data removed]",
      "text/plain": [
       "<IPython.core.display.Image object>"
      ]
     },
     "metadata": {},
     "output_type": "display_data"
    },
    {
     "name": "stdout",
     "output_type": "stream",
     "text": [
      "✅ Graph visualization displayed above\n"
     ]
    }
   ],
   "source": [
    "try:\n",
    "    from IPython.display import Image, display\n",
    "    # Generate graph visualization\n",
    "    display(Image(app.get_graph().draw_mermaid_png()))\n",
    "    print(\"✅ Graph visualization displayed above\")\n",
    "except Exception as e:\n",
    "    print(f\"⚠️ Could not display graph: {e}\")\n",
    "    print(\"\\nGraph structure (text):\")\n",
    "    print(app.get_graph())"
   ]
  },
  {
   "cell_type": "markdown",
   "metadata": {
    "id": "exercise_section"
   },
   "source": [
    "## 🎯 Exercises\n",
    "\n",
    "### Exercise 5: Add a Recommendation Node\n",
    "\n",
    "**Task**: Enhance the workflow with a recommendation system:\n",
    "\n",
    "1. Add a `recommend_alternatives` node that uses the `get_product_recommendations` tool\n",
    "2. When product is unavailable, suggest similar items\n",
    "3. Route to human review only if customer rejects alternatives"
   ]
  },
  {
   "cell_type": "code",
   "execution_count": 18,
   "metadata": {
    "executionInfo": {
     "elapsed": 34,
     "status": "ok",
     "timestamp": 1761326471447,
     "user": {
      "displayName": "Ivan Reznikov",
      "userId": "03906939862966425294"
     },
     "user_tz": -240
    },
    "id": "exercise_5"
   },
   "outputs": [],
   "source": [
    "@tool\n",
    "def get_product_recommendations(occasion: str, preferences: str = \"\") -> str:\n",
    "    \"\"\"Get product recommendations based on occasion and preferences.\n",
    "\n",
    "    Args:\n",
    "        occasion: Type of event (e.g., 'birthday', 'wedding', 'anniversary')\n",
    "        preferences: Customer preferences (e.g., 'chocolate lover', 'vegan')\n",
    "\n",
    "    Returns:\n",
    "        Product recommendations\n",
    "    \"\"\"\n",
    "    recommendations = []\n",
    "    occasion_lower = occasion.lower()\n",
    "    preferences_lower = preferences.lower()\n",
    "\n",
    "    for _, product in cakes_df.iterrows():\n",
    "        score = 0\n",
    "\n",
    "        if 'birthday' in occasion_lower:\n",
    "            if 'chocolate' in product['Category'].lower():\n",
    "                score += 2\n",
    "        elif 'wedding' in occasion_lower or 'anniversary' in occasion_lower:\n",
    "            if 'vanilla' in product['Category'].lower() or 'specialty' in product['Category'].lower():\n",
    "                score += 2\n",
    "\n",
    "        if 'chocolate' in preferences_lower and 'chocolate' in product['Category'].lower():\n",
    "            score += 3\n",
    "\n",
    "        if score > 0:\n",
    "            recommendations.append((product['Name'], score))\n",
    "\n",
    "    recommendations.sort(key=lambda x: x[1], reverse=True)\n",
    "\n",
    "    if recommendations:\n",
    "        top_3 = recommendations[:3]\n",
    "        result = f\"Top recommendations for {occasion}:\\n\"\n",
    "        for name, _ in top_3:\n",
    "            result += f\"  - {name}\\n\"\n",
    "        return result\n",
    "    else:\n",
    "        return \"We recommend our best-selling Chocolate Truffle Cake or Vanilla Bean Cake!\"\n",
    "\n",
    "def recommend_alternatives_node(state: BakeryOrderState) -> BakeryOrderState:\n",
    "    \"\"\"Recommend alternative products when requested item unavailable\"\"\"\n",
    "    print(\"💡 NODE: Recommending Alternatives...\")\n",
    "\n",
    "    # TODO: Implement recommendation logic\n",
    "    # 1. Use get_product_recommendations tool\n",
    "    # 2. Update state with alternatives\n",
    "    # 3. Ask customer if they want an alternative\n",
    "\n",
    "    # For now, just mark for human review\n",
    "    state['requires_human_review'] = True\n",
    "    state['messages'].append(AIMessage(\n",
    "        content=\"The requested product is unavailable. Let me suggest some alternatives!\"\n",
    "    ))\n",
    "\n",
    "    return state\n",
    "\n",
    "# TODO: Add this node to the workflow\n",
    "# TODO: Update conditional routing after inventory check"
   ]
  },
  {
   "cell_type": "markdown",
   "metadata": {
    "id": "exercise_6_section"
   },
   "source": [
    "### Exercise 6: Add Agent-Powered Decision Node\n",
    "\n",
    "**Task**: Create a node that uses the LLM with tools to make complex decisions:\n",
    "\n",
    "1. Create an `agent_decision` node that has access to all tools\n",
    "2. Let the LLM decide which tools to call based on the situation\n",
    "3. Handle complex customer requests that require multiple tool calls"
   ]
  },
  {
   "cell_type": "code",
   "execution_count": 19,
   "metadata": {
    "executionInfo": {
     "elapsed": 3,
     "status": "ok",
     "timestamp": 1761326471453,
     "user": {
      "displayName": "Ivan Reznikov",
      "userId": "03906939862966425294"
     },
     "user_tz": -240
    },
    "id": "exercise_6"
   },
   "outputs": [],
   "source": [
    "# TODO: Create agent node that can call multiple tools\n",
    "# Hint: Use create_react_agent or create_openai_functions_agent"
   ]
  },
  {
   "cell_type": "markdown",
   "metadata": {
    "id": "summary_section"
   },
   "source": [
    "## Summary: What We Built\n",
    "\n",
    "### ✅ Session 2.3 Achievements:\n",
    "\n",
    "1. **LangGraph Basics**: Nodes, edges, and state\n",
    "2. **Tool Integration**: Used actual tools from Notebooks 1 & 2\n",
    "3. **Agent-Powered Nodes**: LLM-based decision making\n",
    "4. **Stateful Workflow**: Complete order processing pipeline\n",
    "5. **Conditional Routing**: Dynamic flow based on conditions\n",
    "6. **Error Handling**: Human review for edge cases\n",
    "7. **Streaming**: Real-time workflow execution\n",
    "8. **Visualization**: Graph structure display\n",
    "\n",
    "### 🎨 BakeryAI Workflow Features:\n",
    "\n",
    "✨ **Intent Understanding**: LLM-powered intent detection\n",
    "✨ **Customer Lookup**: Database integration\n",
    "✨ **Inventory Checks**: Real-time availability\n",
    "✨ **Price Calculation**: Dynamic pricing\n",
    "✨ **Delivery Verification**: Slot availability\n",
    "✨ **Payment Processing**: Secure transactions\n",
    "✨ **Email Notifications**: Automated confirmations\n",
    "✨ **Smart Routing**: Conditional flow control\n",
    "✨ **Human Oversight**: Escalation when needed\n",
    "\n",
    "### 🚀 Next: Notebook 2.4\n",
    "\n",
    "We'll build **multi-agent systems** with:\n",
    "- Multiple specialized agents (customer service, inventory, kitchen)\n",
    "- Agent coordination and communication\n",
    "- Supervisor patterns\n",
    "- Complex real-world scenarios"
   ]
  }
 ],
 "metadata": {
  "colab": {
   "provenance": []
  },
  "kernelspec": {
   "display_name": "Python 3",
   "name": "python3"
  },
  "language_info": {
   "name": "python"
  }
 },
 "nbformat": 4,
 "nbformat_minor": 0
}
